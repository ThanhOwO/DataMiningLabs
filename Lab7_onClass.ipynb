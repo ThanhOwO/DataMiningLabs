{
  "nbformat": 4,
  "nbformat_minor": 0,
  "metadata": {
    "colab": {
      "provenance": [],
      "authorship_tag": "ABX9TyP69U9So7fQGZ8Ft4zo6ule",
      "include_colab_link": true
    },
    "kernelspec": {
      "name": "python3",
      "display_name": "Python 3"
    },
    "language_info": {
      "name": "python"
    }
  },
  "cells": [
    {
      "cell_type": "markdown",
      "metadata": {
        "id": "view-in-github",
        "colab_type": "text"
      },
      "source": [
        "<a href=\"https://colab.research.google.com/github/ThanhOwO/DataMiningLabs/blob/main/Lab7_onClass.ipynb\" target=\"_parent\"><img src=\"https://colab.research.google.com/assets/colab-badge.svg\" alt=\"Open In Colab\"/></a>"
      ]
    },
    {
      "cell_type": "markdown",
      "source": [
        "Lê Sỹ Thanh - 19555230"
      ],
      "metadata": {
        "id": "sDUTjxCGnizs"
      }
    },
    {
      "cell_type": "markdown",
      "source": [
        "GitHub link: https://github.com/ThanhOwO/DataMiningLabs"
      ],
      "metadata": {
        "id": "R8Xu_518npgR"
      }
    },
    {
      "cell_type": "markdown",
      "source": [
        "#Lab7\n"
      ],
      "metadata": {
        "id": "c1uJZMENnma0"
      }
    },
    {
      "cell_type": "markdown",
      "source": [
        "##I. Feature Engineering "
      ],
      "metadata": {
        "id": "NFHgMsZTnv7E"
      }
    },
    {
      "cell_type": "markdown",
      "source": [
        "1. Test Normalization"
      ],
      "metadata": {
        "id": "7RRDUvM_n63c"
      }
    },
    {
      "cell_type": "code",
      "source": [
        "import nltk\n",
        "import numpy as np\n",
        "import pandas as pd"
      ],
      "metadata": {
        "id": "cTRPg_HkniUM"
      },
      "execution_count": 1,
      "outputs": []
    },
    {
      "cell_type": "code",
      "source": [
        "import re\n",
        "import nltk\n",
        "from nltk.corpus import stopwords\n",
        "from nltk.tokenize import word_tokenize\n",
        "from nltk.stem import PorterStemmer\n",
        "import string"
      ],
      "metadata": {
        "id": "I-0AupH0odb1"
      },
      "execution_count": 6,
      "outputs": []
    },
    {
      "cell_type": "code",
      "source": [
        "df=pd.read_csv(\"/content/drive/MyDrive/Colab Notebooks/Data Mining/Dataset/lab7data/elonmusk_tweets.csv\")"
      ],
      "metadata": {
        "id": "_g5BnqFtoGt8"
      },
      "execution_count": 2,
      "outputs": []
    },
    {
      "cell_type": "code",
      "source": [
        "df.shape"
      ],
      "metadata": {
        "colab": {
          "base_uri": "https://localhost:8080/"
        },
        "id": "dx4sQ75poXBH",
        "outputId": "00020d63-47f4-4a00-fb72-ccb9bfd8ef84"
      },
      "execution_count": 3,
      "outputs": [
        {
          "output_type": "execute_result",
          "data": {
            "text/plain": [
              "(2819, 3)"
            ]
          },
          "metadata": {},
          "execution_count": 3
        }
      ]
    },
    {
      "cell_type": "code",
      "source": [
        "df.info()"
      ],
      "metadata": {
        "colab": {
          "base_uri": "https://localhost:8080/"
        },
        "id": "NPMBJUoboXUG",
        "outputId": "8af67517-7a93-4a32-8f3e-e25a3bea255a"
      },
      "execution_count": 4,
      "outputs": [
        {
          "output_type": "stream",
          "name": "stdout",
          "text": [
            "<class 'pandas.core.frame.DataFrame'>\n",
            "RangeIndex: 2819 entries, 0 to 2818\n",
            "Data columns (total 3 columns):\n",
            " #   Column      Non-Null Count  Dtype \n",
            "---  ------      --------------  ----- \n",
            " 0   id          2819 non-null   int64 \n",
            " 1   created_at  2819 non-null   object\n",
            " 2   text        2819 non-null   object\n",
            "dtypes: int64(1), object(2)\n",
            "memory usage: 66.2+ KB\n"
          ]
        }
      ]
    },
    {
      "cell_type": "code",
      "source": [
        "df.describe()\n"
      ],
      "metadata": {
        "colab": {
          "base_uri": "https://localhost:8080/",
          "height": 300
        },
        "id": "ckxUcSWAoaVp",
        "outputId": "0e905842-b5a5-4af0-a28e-c10d452b9b9d"
      },
      "execution_count": 5,
      "outputs": [
        {
          "output_type": "execute_result",
          "data": {
            "text/plain": [
              "                 id\n",
              "count  2.819000e+03\n",
              "mean   5.804848e+17\n",
              "std    2.186404e+17\n",
              "min    1.543473e+10\n",
              "25%    3.506818e+17\n",
              "50%    6.569719e+17\n",
              "75%    7.704732e+17\n",
              "max    8.496369e+17"
            ],
            "text/html": [
              "\n",
              "  <div id=\"df-e5993687-e2b3-43e5-b2c3-b6a810853834\">\n",
              "    <div class=\"colab-df-container\">\n",
              "      <div>\n",
              "<style scoped>\n",
              "    .dataframe tbody tr th:only-of-type {\n",
              "        vertical-align: middle;\n",
              "    }\n",
              "\n",
              "    .dataframe tbody tr th {\n",
              "        vertical-align: top;\n",
              "    }\n",
              "\n",
              "    .dataframe thead th {\n",
              "        text-align: right;\n",
              "    }\n",
              "</style>\n",
              "<table border=\"1\" class=\"dataframe\">\n",
              "  <thead>\n",
              "    <tr style=\"text-align: right;\">\n",
              "      <th></th>\n",
              "      <th>id</th>\n",
              "    </tr>\n",
              "  </thead>\n",
              "  <tbody>\n",
              "    <tr>\n",
              "      <th>count</th>\n",
              "      <td>2.819000e+03</td>\n",
              "    </tr>\n",
              "    <tr>\n",
              "      <th>mean</th>\n",
              "      <td>5.804848e+17</td>\n",
              "    </tr>\n",
              "    <tr>\n",
              "      <th>std</th>\n",
              "      <td>2.186404e+17</td>\n",
              "    </tr>\n",
              "    <tr>\n",
              "      <th>min</th>\n",
              "      <td>1.543473e+10</td>\n",
              "    </tr>\n",
              "    <tr>\n",
              "      <th>25%</th>\n",
              "      <td>3.506818e+17</td>\n",
              "    </tr>\n",
              "    <tr>\n",
              "      <th>50%</th>\n",
              "      <td>6.569719e+17</td>\n",
              "    </tr>\n",
              "    <tr>\n",
              "      <th>75%</th>\n",
              "      <td>7.704732e+17</td>\n",
              "    </tr>\n",
              "    <tr>\n",
              "      <th>max</th>\n",
              "      <td>8.496369e+17</td>\n",
              "    </tr>\n",
              "  </tbody>\n",
              "</table>\n",
              "</div>\n",
              "      <button class=\"colab-df-convert\" onclick=\"convertToInteractive('df-e5993687-e2b3-43e5-b2c3-b6a810853834')\"\n",
              "              title=\"Convert this dataframe to an interactive table.\"\n",
              "              style=\"display:none;\">\n",
              "        \n",
              "  <svg xmlns=\"http://www.w3.org/2000/svg\" height=\"24px\"viewBox=\"0 0 24 24\"\n",
              "       width=\"24px\">\n",
              "    <path d=\"M0 0h24v24H0V0z\" fill=\"none\"/>\n",
              "    <path d=\"M18.56 5.44l.94 2.06.94-2.06 2.06-.94-2.06-.94-.94-2.06-.94 2.06-2.06.94zm-11 1L8.5 8.5l.94-2.06 2.06-.94-2.06-.94L8.5 2.5l-.94 2.06-2.06.94zm10 10l.94 2.06.94-2.06 2.06-.94-2.06-.94-.94-2.06-.94 2.06-2.06.94z\"/><path d=\"M17.41 7.96l-1.37-1.37c-.4-.4-.92-.59-1.43-.59-.52 0-1.04.2-1.43.59L10.3 9.45l-7.72 7.72c-.78.78-.78 2.05 0 2.83L4 21.41c.39.39.9.59 1.41.59.51 0 1.02-.2 1.41-.59l7.78-7.78 2.81-2.81c.8-.78.8-2.07 0-2.86zM5.41 20L4 18.59l7.72-7.72 1.47 1.35L5.41 20z\"/>\n",
              "  </svg>\n",
              "      </button>\n",
              "      \n",
              "  <style>\n",
              "    .colab-df-container {\n",
              "      display:flex;\n",
              "      flex-wrap:wrap;\n",
              "      gap: 12px;\n",
              "    }\n",
              "\n",
              "    .colab-df-convert {\n",
              "      background-color: #E8F0FE;\n",
              "      border: none;\n",
              "      border-radius: 50%;\n",
              "      cursor: pointer;\n",
              "      display: none;\n",
              "      fill: #1967D2;\n",
              "      height: 32px;\n",
              "      padding: 0 0 0 0;\n",
              "      width: 32px;\n",
              "    }\n",
              "\n",
              "    .colab-df-convert:hover {\n",
              "      background-color: #E2EBFA;\n",
              "      box-shadow: 0px 1px 2px rgba(60, 64, 67, 0.3), 0px 1px 3px 1px rgba(60, 64, 67, 0.15);\n",
              "      fill: #174EA6;\n",
              "    }\n",
              "\n",
              "    [theme=dark] .colab-df-convert {\n",
              "      background-color: #3B4455;\n",
              "      fill: #D2E3FC;\n",
              "    }\n",
              "\n",
              "    [theme=dark] .colab-df-convert:hover {\n",
              "      background-color: #434B5C;\n",
              "      box-shadow: 0px 1px 3px 1px rgba(0, 0, 0, 0.15);\n",
              "      filter: drop-shadow(0px 1px 2px rgba(0, 0, 0, 0.3));\n",
              "      fill: #FFFFFF;\n",
              "    }\n",
              "  </style>\n",
              "\n",
              "      <script>\n",
              "        const buttonEl =\n",
              "          document.querySelector('#df-e5993687-e2b3-43e5-b2c3-b6a810853834 button.colab-df-convert');\n",
              "        buttonEl.style.display =\n",
              "          google.colab.kernel.accessAllowed ? 'block' : 'none';\n",
              "\n",
              "        async function convertToInteractive(key) {\n",
              "          const element = document.querySelector('#df-e5993687-e2b3-43e5-b2c3-b6a810853834');\n",
              "          const dataTable =\n",
              "            await google.colab.kernel.invokeFunction('convertToInteractive',\n",
              "                                                     [key], {});\n",
              "          if (!dataTable) return;\n",
              "\n",
              "          const docLinkHtml = 'Like what you see? Visit the ' +\n",
              "            '<a target=\"_blank\" href=https://colab.research.google.com/notebooks/data_table.ipynb>data table notebook</a>'\n",
              "            + ' to learn more about interactive tables.';\n",
              "          element.innerHTML = '';\n",
              "          dataTable['output_type'] = 'display_data';\n",
              "          await google.colab.output.renderOutput(dataTable, element);\n",
              "          const docLink = document.createElement('div');\n",
              "          docLink.innerHTML = docLinkHtml;\n",
              "          element.appendChild(docLink);\n",
              "        }\n",
              "      </script>\n",
              "    </div>\n",
              "  </div>\n",
              "  "
            ]
          },
          "metadata": {},
          "execution_count": 5
        }
      ]
    },
    {
      "cell_type": "code",
      "source": [
        "nltk.download('punkt')"
      ],
      "metadata": {
        "colab": {
          "base_uri": "https://localhost:8080/"
        },
        "id": "U_fL4TSHowhj",
        "outputId": "ef1e458e-22a0-420a-ede3-279bcfdba185"
      },
      "execution_count": 9,
      "outputs": [
        {
          "output_type": "stream",
          "name": "stderr",
          "text": [
            "[nltk_data] Downloading package punkt to /root/nltk_data...\n",
            "[nltk_data]   Unzipping tokenizers/punkt.zip.\n"
          ]
        },
        {
          "output_type": "execute_result",
          "data": {
            "text/plain": [
              "True"
            ]
          },
          "metadata": {},
          "execution_count": 9
        }
      ]
    },
    {
      "cell_type": "code",
      "source": [
        "def normalize(document):\n",
        "    text = \"\".join([ch for ch in document if ch not in string.punctuation])\n",
        "    \n",
        "    tokens = word_tokenize(text)\n",
        "    \n",
        "    stemmer = PorterStemmer()\n",
        "    ret = \" \".join([stemmer.stem(word.lower()) for word in tokens])\n",
        "    \n",
        "    return ret\n",
        "\n",
        "original_documents = [x.strip() for x in df['text']]\n",
        "documents = [normalize(d).split() for d in original_documents]\n",
        "documents[0]"
      ],
      "metadata": {
        "colab": {
          "base_uri": "https://localhost:8080/"
        },
        "id": "HcPpneKEof_3",
        "outputId": "c1048d28-730d-4ade-b544-c0918c3feb4d"
      },
      "execution_count": 10,
      "outputs": [
        {
          "output_type": "execute_result",
          "data": {
            "text/plain": [
              "['band', 'so', 'the', 'robot', 'spare', 'human', 'httpstcov7jujqwfcv']"
            ]
          },
          "metadata": {},
          "execution_count": 10
        }
      ]
    },
    {
      "cell_type": "code",
      "source": [
        "import re\n",
        " \n",
        "emoticons_str = r\"\"\"\n",
        "    (?:\n",
        "        [:=;] # Eyes\n",
        "        [oO\\-]? # Nose (optional)\n",
        "        [D\\)\\]\\(\\]/\\\\OpP] # Mouth\n",
        "    )\"\"\"\n",
        " \n",
        "regex_str = [\n",
        "    emoticons_str,\n",
        "    r'<[^>]+>',\n",
        "    r'(?:@[\\w_]+)',\n",
        "    r\"(?:\\#+[\\w_]+[\\w\\'_\\-]*[\\w_]+)\",\n",
        "    r'http[s]?://(?:[a-z]|[0-9]|[$-_@.&amp;+]|[!*\\(\\),]|(?:%[0-9a-f][0-9a-f]))+',\n",
        " \n",
        "    r'(?:(?:\\d+,?)+(?:\\.?\\d+)?)',\n",
        "    r\"(?:[a-z][a-z'\\-_]+[a-z])\", \n",
        "    r'(?:[\\w_]+)',\n",
        "    r'(?:\\S)'\n",
        "]\n",
        "    \n",
        "tokens_re = re.compile(r'('+'|'.join(regex_str)+')', re.VERBOSE | re.IGNORECASE)\n",
        "emoticon_re = re.compile(r'^'+emoticons_str+'$', re.VERBOSE | re.IGNORECASE)\n",
        " \n",
        "def tokenize(s):\n",
        "    return tokens_re.findall(s)\n",
        " \n",
        "def preprocess(s, lowercase=False):\n",
        "    tokens = tokenize(s)\n",
        "    if lowercase:\n",
        "        tokens = [token if emoticon_re.search(token) else token.lower() for token in tokens]\n",
        "    return tokens  \n",
        "original_documents = [x.strip() for x in df['text']]\n",
        "documents = [preprocess(d) for d in original_documents]\n",
        "\n",
        "documents[1]"
      ],
      "metadata": {
        "colab": {
          "base_uri": "https://localhost:8080/"
        },
        "id": "qF-mUeCfo2qO",
        "outputId": "072de7a9-3bba-4903-cd6c-3814b95cdef7"
      },
      "execution_count": 11,
      "outputs": [
        {
          "output_type": "execute_result",
          "data": {
            "text/plain": [
              "['b',\n",
              " '\"',\n",
              " '@ForIn2020',\n",
              " '@waltmossberg',\n",
              " '@mims',\n",
              " '@defcon_5',\n",
              " 'Exactly',\n",
              " '.',\n",
              " 'Tesla',\n",
              " 'is',\n",
              " 'absurdly',\n",
              " 'overvalued',\n",
              " 'if',\n",
              " 'based',\n",
              " 'on',\n",
              " 'the',\n",
              " 'past',\n",
              " ',',\n",
              " 'but',\n",
              " \"that's\",\n",
              " 'irr',\n",
              " '\\\\',\n",
              " 'xe2',\n",
              " '\\\\',\n",
              " 'x80',\n",
              " '\\\\',\n",
              " 'xa6',\n",
              " 'https://t.co/qQcTqkzgMl',\n",
              " '\"']"
            ]
          },
          "metadata": {},
          "execution_count": 11
        }
      ]
    },
    {
      "cell_type": "markdown",
      "source": [
        "2. Implement TF-IDF "
      ],
      "metadata": {
        "id": "CbMJMWdMpC6c"
      }
    },
    {
      "cell_type": "code",
      "source": [
        "import pandas as pd\n",
        "from collections import Counter\n",
        "from nltk.corpus import stopwords\n",
        "from sklearn.feature_extraction.text import CountVectorizer\n",
        "import math"
      ],
      "metadata": {
        "id": "0hVzQ1jDo_mA"
      },
      "execution_count": 12,
      "outputs": []
    },
    {
      "cell_type": "code",
      "source": [
        "nltk.download('stopwords')"
      ],
      "metadata": {
        "colab": {
          "base_uri": "https://localhost:8080/"
        },
        "id": "dixW9XSEpKyJ",
        "outputId": "62709204-582c-4b6e-bbd1-7403d6bc360f"
      },
      "execution_count": 14,
      "outputs": [
        {
          "output_type": "stream",
          "name": "stderr",
          "text": [
            "[nltk_data] Downloading package stopwords to /root/nltk_data...\n",
            "[nltk_data]   Unzipping corpora/stopwords.zip.\n"
          ]
        },
        {
          "output_type": "execute_result",
          "data": {
            "text/plain": [
              "True"
            ]
          },
          "metadata": {},
          "execution_count": 14
        }
      ]
    },
    {
      "cell_type": "code",
      "source": [
        "\n",
        "flat_list = [word for doc in documents for word in doc]\n",
        "#TODO: remove stop words from the vocabulary\n",
        "words = [word for word in flat_list if word not in stopwords.words('english')]\n",
        "# TODO: we take the 500 most common words only\n",
        "counts = Counter (words)\n",
        "vocabulary = counts.most_common (500)\n",
        "print([x for x in vocabulary if x[0] == 'Tesla']) \n",
        "vocabulary =  [x[0] for x in vocabulary]\n",
        "assert len (vocabulary) == 500\n",
        "#vocabulary.sort() \n",
        "vocabulary[:5]\n"
      ],
      "metadata": {
        "colab": {
          "base_uri": "https://localhost:8080/"
        },
        "id": "azcLMrdEpEt2",
        "outputId": "63a776d9-822c-4c0b-bb23-faf4f9304828"
      },
      "execution_count": 15,
      "outputs": [
        {
          "output_type": "stream",
          "name": "stdout",
          "text": [
            "[('Tesla', 272)]\n"
          ]
        },
        {
          "output_type": "execute_result",
          "data": {
            "text/plain": [
              "['.', \"'\", 'b', '\\\\', '\"']"
            ]
          },
          "metadata": {},
          "execution_count": 15
        }
      ]
    },
    {
      "cell_type": "code",
      "source": [
        "def idf(vocabulary, documents):\n",
        "    idf_values = {}\n",
        "    num_documents = len(documents)\n",
        "    for term in vocabulary:\n",
        "        count = sum(term in document for document in documents)\n",
        "        idf_values[term] = math.log(num_documents / count, 2) \n",
        "    return idf_values\n",
        "\n",
        "idf_values = idf(vocabulary, documents)\n",
        "[idf_values[key] for key in vocabulary[:5]]"
      ],
      "metadata": {
        "colab": {
          "base_uri": "https://localhost:8080/"
        },
        "id": "vY0nrGyUpHP5",
        "outputId": "b7faf99e-6b29-45c8-e1a5-357155b72f28"
      },
      "execution_count": 16,
      "outputs": [
        {
          "output_type": "execute_result",
          "data": {
            "text/plain": [
              "[0.959130577668125,\n",
              " 0.7493007890060756,\n",
              " 1.1177820471225408,\n",
              " 3.1034157579523383,\n",
              " 2.384152165519591]"
            ]
          },
          "metadata": {},
          "execution_count": 16
        }
      ]
    },
    {
      "cell_type": "markdown",
      "source": [
        "3. Compare the results with the reference implementation of scikit-learn library. "
      ],
      "metadata": {
        "id": "2S6VvXkTpWfj"
      }
    },
    {
      "cell_type": "code",
      "source": [
        "from sklearn.feature_extraction.text import CountVectorizer\n",
        "from nltk.stem.snowball import FrenchStemmer\n",
        "\n",
        "stemmer = FrenchStemmer()\n",
        "analyzer = CountVectorizer().build_analyzer()\n",
        "\n",
        "def stemmed_words(doc):\n",
        "    return (stemmer.stem(w) for w in analyzer(doc))\n",
        "\n",
        "# Convert the list of documents into a single string\n",
        "corpus = [' '.join(doc) for doc in documents]\n",
        "\n",
        "stem_vectorizer = CountVectorizer(analyzer=stemmed_words)\n",
        "print(stem_vectorizer.fit_transform(corpus))\n",
        "print(stem_vectorizer.get_feature_names_out())"
      ],
      "metadata": {
        "colab": {
          "base_uri": "https://localhost:8080/"
        },
        "id": "5xrye_xVpTgC",
        "outputId": "6e4ecfe2-a76c-42f5-9fca-1b6dc066503f"
      },
      "execution_count": 17,
      "outputs": [
        {
          "output_type": "stream",
          "name": "stdout",
          "text": [
            "  (0, 617)\t1\n",
            "  (0, 6120)\t1\n",
            "  (0, 6614)\t1\n",
            "  (0, 5674)\t1\n",
            "  (0, 6187)\t1\n",
            "  (0, 3209)\t1\n",
            "  (0, 3203)\t1\n",
            "  (0, 1462)\t1\n",
            "  (0, 7107)\t1\n",
            "  (1, 6614)\t1\n",
            "  (1, 3203)\t1\n",
            "  (1, 1462)\t1\n",
            "  (1, 2667)\t1\n",
            "  (1, 7259)\t1\n",
            "  (1, 4285)\t1\n",
            "  (1, 1881)\t1\n",
            "  (1, 2392)\t1\n",
            "  (1, 6575)\t1\n",
            "  (1, 3489)\t1\n",
            "  (1, 403)\t1\n",
            "  (1, 4846)\t1\n",
            "  (1, 3278)\t1\n",
            "  (1, 897)\t1\n",
            "  (1, 4751)\t1\n",
            "  (1, 4936)\t1\n",
            "  :\t:\n",
            "  (2817, 2740)\t1\n",
            "  (2817, 3257)\t1\n",
            "  (2817, 5817)\t1\n",
            "  (2817, 3258)\t1\n",
            "  (2817, 1162)\t1\n",
            "  (2817, 7201)\t1\n",
            "  (2817, 5655)\t1\n",
            "  (2817, 7123)\t1\n",
            "  (2817, 4655)\t1\n",
            "  (2817, 5409)\t1\n",
            "  (2818, 3489)\t1\n",
            "  (2818, 6612)\t1\n",
            "  (2818, 6740)\t1\n",
            "  (2818, 6658)\t1\n",
            "  (2818, 441)\t1\n",
            "  (2818, 7272)\t1\n",
            "  (2818, 733)\t1\n",
            "  (2818, 4192)\t2\n",
            "  (2818, 924)\t1\n",
            "  (2818, 5190)\t1\n",
            "  (2818, 6907)\t1\n",
            "  (2818, 5056)\t1\n",
            "  (2818, 6144)\t1\n",
            "  (2818, 3282)\t1\n",
            "  (2818, 5168)\t1\n",
            "['00' '000' '01' ... 'zyfazr2bb2' 'zyv4h85o' 'zzijxxyy']\n"
          ]
        }
      ]
    },
    {
      "cell_type": "code",
      "source": [
        "from sklearn.feature_extraction.text import CountVectorizer, TfidfVectorizer \n",
        "from sklearn.metrics.pairwise import linear_kernel\n",
        "tfidf = TfidfVectorizer (analyzer='word', ngram_range=(1,1), min_df = 1, stop_words = 'english', max_features=500)\n",
        "\n",
        "features=tfidf.fit(original_documents)\n",
        "corpus_tf_idf = tfidf.transform (original_documents)\n",
        "\n",
        "sum_words = corpus_tf_idf.sum(axis=0)\n",
        "words_freq = [(word, sum_words [0, idx]) for word, idx in tfidf.vocabulary_.items()]\n",
        "print (sorted (words_freq, key = lambda x: x[1], reverse=True)[:5])\n",
        "print('testla', corpus_tf_idf [1, features.vocabulary_['tesla']])"
      ],
      "metadata": {
        "colab": {
          "base_uri": "https://localhost:8080/"
        },
        "id": "anZo4eDIpZXh",
        "outputId": "9d5ad28c-6241-4eae-f042-bb8fcb6e2da6"
      },
      "execution_count": 18,
      "outputs": [
        {
          "output_type": "stream",
          "name": "stdout",
          "text": [
            "[('http', 163.54366542841234), ('https', 151.85039944652075), ('rt', 112.61998731390989), ('tesla', 95.96401470715628), ('xe2', 88.20944486346477)]\n",
            "testla 0.3495243100660956\n"
          ]
        }
      ]
    },
    {
      "cell_type": "markdown",
      "source": [
        "4. Apply TF-IDF for information retrieval"
      ],
      "metadata": {
        "id": "csuu6_XRpf-Q"
      }
    },
    {
      "cell_type": "code",
      "source": [
        "import math\n",
        "from nltk.stem import PorterStemmer\n",
        "\n",
        "def cosine_similarity(v1, v2):\n",
        "    sumxx, sumxy, sumyy = 0, 0, 0\n",
        "    for i in range(len(v1)):\n",
        "        x = v1[i]\n",
        "        y = v2[i]\n",
        "        sumxx += x * x\n",
        "        sumyy += y * y\n",
        "        sumxy += x * y\n",
        "    if sumxy == 0:\n",
        "        result = 0\n",
        "    else:\n",
        "        result = sumxy / math.sqrt(sumxx * sumyy)\n",
        "    return result\n",
        "\n",
        "def search_vec(query, k, vocabulary, stemmer, document_vectors, original_documents):\n",
        "    q = query.split()\n",
        "    q = [stemmer.stem(w) for w in q]\n",
        "    query_vector = vectorize(q, vocabulary, idf)\n",
        "\n",
        "    # Rank the documents by cosine similarity\n",
        "    scores = [[cosine_similarity(query_vector, document_vectors[d]), d] for d in range(len(document_vectors))]\n",
        "    scores.sort(key=lambda x: -x[0])\n",
        "\n",
        "    print('Top-{0} documents'.format(k))\n",
        "    for i in range(k):\n",
        "        print(i, original_documents[scores[i][1]])\n",
        "\n",
        "query = \"tesla nasa\"\n",
        "stemmer = PorterStemmer()\n",
        "document_vectors = words_freq  # Assuming words_freq is defined elsewhere\n",
        "vocabulary = ...  # Define your vocabulary\n",
        "idf = ...  # Define your idf values\n",
        "original_documents = ...  # Define your original documents\n",
        "\n",
        "search_vec(query, 5, vocabulary, stemmer, document_vectors, original_documents)"
      ],
      "metadata": {
        "id": "qh56_wzVphv4"
      },
      "execution_count": null,
      "outputs": []
    },
    {
      "cell_type": "markdown",
      "source": [
        "##II. Text Processing"
      ],
      "metadata": {
        "id": "zrBAdioWq3ga"
      }
    },
    {
      "cell_type": "markdown",
      "source": [
        "1. Preprocessing"
      ],
      "metadata": {
        "id": "1vkWs_YCrEAB"
      }
    },
    {
      "cell_type": "code",
      "source": [
        "import nltk\n",
        "import numpy as np\n",
        "import pandas as pd"
      ],
      "metadata": {
        "id": "fGmncKY-qzzs"
      },
      "execution_count": 35,
      "outputs": []
    },
    {
      "cell_type": "code",
      "source": [
        "nltk.download('punkt') "
      ],
      "metadata": {
        "colab": {
          "base_uri": "https://localhost:8080/"
        },
        "id": "r24XX2SmrvzZ",
        "outputId": "8318ba00-1f2d-4bee-b224-d46ad7d0acd5"
      },
      "execution_count": 36,
      "outputs": [
        {
          "output_type": "stream",
          "name": "stderr",
          "text": [
            "[nltk_data] Downloading package punkt to /root/nltk_data...\n",
            "[nltk_data]   Package punkt is already up-to-date!\n"
          ]
        },
        {
          "output_type": "execute_result",
          "data": {
            "text/plain": [
              "True"
            ]
          },
          "metadata": {},
          "execution_count": 36
        }
      ]
    },
    {
      "cell_type": "code",
      "source": [
        "nltk.download('stopwords') "
      ],
      "metadata": {
        "colab": {
          "base_uri": "https://localhost:8080/"
        },
        "id": "zLusAHVirwvt",
        "outputId": "52985fa5-f90a-438a-dd81-a74ef52a973e"
      },
      "execution_count": 37,
      "outputs": [
        {
          "output_type": "stream",
          "name": "stderr",
          "text": [
            "[nltk_data] Downloading package stopwords to /root/nltk_data...\n",
            "[nltk_data]   Package stopwords is already up-to-date!\n"
          ]
        },
        {
          "output_type": "execute_result",
          "data": {
            "text/plain": [
              "True"
            ]
          },
          "metadata": {},
          "execution_count": 37
        }
      ]
    },
    {
      "cell_type": "code",
      "source": [
        "nltk.download('wordnet') "
      ],
      "metadata": {
        "colab": {
          "base_uri": "https://localhost:8080/"
        },
        "id": "x497NQv0rxhp",
        "outputId": "649d2d86-9ba4-412e-e69e-46b9c53590ef"
      },
      "execution_count": 38,
      "outputs": [
        {
          "output_type": "stream",
          "name": "stderr",
          "text": [
            "[nltk_data] Downloading package wordnet to /root/nltk_data...\n",
            "[nltk_data]   Package wordnet is already up-to-date!\n"
          ]
        },
        {
          "output_type": "execute_result",
          "data": {
            "text/plain": [
              "True"
            ]
          },
          "metadata": {},
          "execution_count": 38
        }
      ]
    },
    {
      "cell_type": "code",
      "source": [
        "nltk.download('averaged_perceptron_tagger') "
      ],
      "metadata": {
        "colab": {
          "base_uri": "https://localhost:8080/"
        },
        "id": "BaZ4EpKxryzi",
        "outputId": "680bb046-8482-4064-e42b-19f3d8abb95a"
      },
      "execution_count": 39,
      "outputs": [
        {
          "output_type": "stream",
          "name": "stderr",
          "text": [
            "[nltk_data] Downloading package averaged_perceptron_tagger to\n",
            "[nltk_data]     /root/nltk_data...\n",
            "[nltk_data]   Package averaged_perceptron_tagger is already up-to-\n",
            "[nltk_data]       date!\n"
          ]
        },
        {
          "output_type": "execute_result",
          "data": {
            "text/plain": [
              "True"
            ]
          },
          "metadata": {},
          "execution_count": 39
        }
      ]
    },
    {
      "cell_type": "code",
      "source": [
        "df=pd.read_csv(\"/content/drive/MyDrive/Colab Notebooks/Data Mining/Dataset/lab7data/coldplay.csv\")"
      ],
      "metadata": {
        "id": "EilYihmHrHWZ"
      },
      "execution_count": 29,
      "outputs": []
    },
    {
      "cell_type": "code",
      "source": [
        "df.info()"
      ],
      "metadata": {
        "colab": {
          "base_uri": "https://localhost:8080/"
        },
        "id": "5KI58fv_rRqR",
        "outputId": "b618dcef-3c09-423e-c925-95531b737bc9"
      },
      "execution_count": 30,
      "outputs": [
        {
          "output_type": "stream",
          "name": "stdout",
          "text": [
            "<class 'pandas.core.frame.DataFrame'>\n",
            "RangeIndex: 120 entries, 0 to 119\n",
            "Data columns (total 4 columns):\n",
            " #   Column  Non-Null Count  Dtype \n",
            "---  ------  --------------  ----- \n",
            " 0   Artist  120 non-null    object\n",
            " 1   Song    120 non-null    object\n",
            " 2   Link    120 non-null    object\n",
            " 3   Lyrics  120 non-null    object\n",
            "dtypes: object(4)\n",
            "memory usage: 3.9+ KB\n"
          ]
        }
      ]
    },
    {
      "cell_type": "code",
      "source": [
        "song_title = 'Every Teardrop Is A Waterfall'\n",
        "lyrics = df.loc[df['Song'] == song_title, 'Lyrics'].values[0]\n",
        "print(lyrics)"
      ],
      "metadata": {
        "colab": {
          "base_uri": "https://localhost:8080/"
        },
        "id": "zROW5JSurSk2",
        "outputId": "35f98711-18f5-4630-ee81-f68985778577"
      },
      "execution_count": 52,
      "outputs": [
        {
          "output_type": "stream",
          "name": "stdout",
          "text": [
            "I turn the music up, I got my records on  \n",
            "I shut the world outside until the lights come on  \n",
            "Maybe the streets alight, maybe the trees are gone  \n",
            "I feel my heart start beating to my favourite song  \n",
            "  \n",
            "And all the kids they dance, all the kids all night  \n",
            "Until Monday morning feels another life  \n",
            "I turn the music up  \n",
            "I'm on a roll this time  \n",
            "And heaven is in sight  \n",
            "  \n",
            "I turn the music up, I got my records on  \n",
            "From underneath the rubble sing a rebel song  \n",
            "Don't want to see another generation drop  \n",
            "I'd rather be a comma than a full stop  \n",
            "  \n",
            "Maybe I'm in the black, maybe I'm on my knees  \n",
            "Maybe I'm in the gap between the two trapezes  \n",
            "But my heart is beating and my pulses start  \n",
            "Cathedrals in my heart  \n",
            "  \n",
            "As we saw oh this light I swear you, emerge blinking into  \n",
            "To tell me it's alright  \n",
            "As we soar walls, every siren is a symphony  \n",
            "And every tear's a waterfall  \n",
            "Is a waterfall  \n",
            "Oh  \n",
            "Is a waterfall  \n",
            "Oh oh oh  \n",
            "Is a is a waterfall  \n",
            "Every tear  \n",
            "Is a waterfall  \n",
            "Oh oh oh  \n",
            "  \n",
            "So you can hurt, hurt me bad  \n",
            "But still I'll raise the flag  \n",
            "  \n",
            "Oh  \n",
            "It was a wa wa wa wa wa-aterfall  \n",
            "A wa wa wa wa wa-aterfall  \n",
            "  \n",
            "Every tear  \n",
            "Every tear  \n",
            "Every teardrop is a waterfall  \n",
            "  \n",
            "Every tear  \n",
            "Every tear  \n",
            "Every teardrop is a waterfall  \n",
            "  \n",
            "Every tear  \n",
            "Every tear  \n",
            "Every teardrop is a waterfall\n",
            "\n",
            "\n"
          ]
        }
      ]
    },
    {
      "cell_type": "code",
      "source": [
        "import nltk\n",
        "import string\n",
        "\n",
        "\n",
        "# Tokenize the lyrics\n",
        "from nltk import word_tokenize\n",
        "words = word_tokenize(lyrics)\n",
        "print(words)"
      ],
      "metadata": {
        "colab": {
          "base_uri": "https://localhost:8080/"
        },
        "id": "ZaWCo0F6rUUN",
        "outputId": "ef5dc6ab-ea05-41b6-b248-658b175f3b11"
      },
      "execution_count": 53,
      "outputs": [
        {
          "output_type": "stream",
          "name": "stdout",
          "text": [
            "['I', 'turn', 'the', 'music', 'up', ',', 'I', 'got', 'my', 'records', 'on', 'I', 'shut', 'the', 'world', 'outside', 'until', 'the', 'lights', 'come', 'on', 'Maybe', 'the', 'streets', 'alight', ',', 'maybe', 'the', 'trees', 'are', 'gone', 'I', 'feel', 'my', 'heart', 'start', 'beating', 'to', 'my', 'favourite', 'song', 'And', 'all', 'the', 'kids', 'they', 'dance', ',', 'all', 'the', 'kids', 'all', 'night', 'Until', 'Monday', 'morning', 'feels', 'another', 'life', 'I', 'turn', 'the', 'music', 'up', 'I', \"'m\", 'on', 'a', 'roll', 'this', 'time', 'And', 'heaven', 'is', 'in', 'sight', 'I', 'turn', 'the', 'music', 'up', ',', 'I', 'got', 'my', 'records', 'on', 'From', 'underneath', 'the', 'rubble', 'sing', 'a', 'rebel', 'song', 'Do', \"n't\", 'want', 'to', 'see', 'another', 'generation', 'drop', 'I', \"'d\", 'rather', 'be', 'a', 'comma', 'than', 'a', 'full', 'stop', 'Maybe', 'I', \"'m\", 'in', 'the', 'black', ',', 'maybe', 'I', \"'m\", 'on', 'my', 'knees', 'Maybe', 'I', \"'m\", 'in', 'the', 'gap', 'between', 'the', 'two', 'trapezes', 'But', 'my', 'heart', 'is', 'beating', 'and', 'my', 'pulses', 'start', 'Cathedrals', 'in', 'my', 'heart', 'As', 'we', 'saw', 'oh', 'this', 'light', 'I', 'swear', 'you', ',', 'emerge', 'blinking', 'into', 'To', 'tell', 'me', 'it', \"'s\", 'alright', 'As', 'we', 'soar', 'walls', ',', 'every', 'siren', 'is', 'a', 'symphony', 'And', 'every', 'tear', \"'s\", 'a', 'waterfall', 'Is', 'a', 'waterfall', 'Oh', 'Is', 'a', 'waterfall', 'Oh', 'oh', 'oh', 'Is', 'a', 'is', 'a', 'waterfall', 'Every', 'tear', 'Is', 'a', 'waterfall', 'Oh', 'oh', 'oh', 'So', 'you', 'can', 'hurt', ',', 'hurt', 'me', 'bad', 'But', 'still', 'I', \"'ll\", 'raise', 'the', 'flag', 'Oh', 'It', 'was', 'a', 'wa', 'wa', 'wa', 'wa', 'wa-aterfall', 'A', 'wa', 'wa', 'wa', 'wa', 'wa-aterfall', 'Every', 'tear', 'Every', 'tear', 'Every', 'teardrop', 'is', 'a', 'waterfall', 'Every', 'tear', 'Every', 'tear', 'Every', 'teardrop', 'is', 'a', 'waterfall', 'Every', 'tear', 'Every', 'tear', 'Every', 'teardrop', 'is', 'a', 'waterfall']\n"
          ]
        }
      ]
    },
    {
      "cell_type": "code",
      "source": [
        "tokens_without_punctuation = [token for token in words if token not in string.punctuation]\n",
        "\n",
        "print(tokens_without_punctuation)"
      ],
      "metadata": {
        "colab": {
          "base_uri": "https://localhost:8080/"
        },
        "id": "qsBUegzRrWM4",
        "outputId": "72499204-50ce-4741-b130-3ba095c60a06"
      },
      "execution_count": 54,
      "outputs": [
        {
          "output_type": "stream",
          "name": "stdout",
          "text": [
            "['I', 'turn', 'the', 'music', 'up', 'I', 'got', 'my', 'records', 'on', 'I', 'shut', 'the', 'world', 'outside', 'until', 'the', 'lights', 'come', 'on', 'Maybe', 'the', 'streets', 'alight', 'maybe', 'the', 'trees', 'are', 'gone', 'I', 'feel', 'my', 'heart', 'start', 'beating', 'to', 'my', 'favourite', 'song', 'And', 'all', 'the', 'kids', 'they', 'dance', 'all', 'the', 'kids', 'all', 'night', 'Until', 'Monday', 'morning', 'feels', 'another', 'life', 'I', 'turn', 'the', 'music', 'up', 'I', \"'m\", 'on', 'a', 'roll', 'this', 'time', 'And', 'heaven', 'is', 'in', 'sight', 'I', 'turn', 'the', 'music', 'up', 'I', 'got', 'my', 'records', 'on', 'From', 'underneath', 'the', 'rubble', 'sing', 'a', 'rebel', 'song', 'Do', \"n't\", 'want', 'to', 'see', 'another', 'generation', 'drop', 'I', \"'d\", 'rather', 'be', 'a', 'comma', 'than', 'a', 'full', 'stop', 'Maybe', 'I', \"'m\", 'in', 'the', 'black', 'maybe', 'I', \"'m\", 'on', 'my', 'knees', 'Maybe', 'I', \"'m\", 'in', 'the', 'gap', 'between', 'the', 'two', 'trapezes', 'But', 'my', 'heart', 'is', 'beating', 'and', 'my', 'pulses', 'start', 'Cathedrals', 'in', 'my', 'heart', 'As', 'we', 'saw', 'oh', 'this', 'light', 'I', 'swear', 'you', 'emerge', 'blinking', 'into', 'To', 'tell', 'me', 'it', \"'s\", 'alright', 'As', 'we', 'soar', 'walls', 'every', 'siren', 'is', 'a', 'symphony', 'And', 'every', 'tear', \"'s\", 'a', 'waterfall', 'Is', 'a', 'waterfall', 'Oh', 'Is', 'a', 'waterfall', 'Oh', 'oh', 'oh', 'Is', 'a', 'is', 'a', 'waterfall', 'Every', 'tear', 'Is', 'a', 'waterfall', 'Oh', 'oh', 'oh', 'So', 'you', 'can', 'hurt', 'hurt', 'me', 'bad', 'But', 'still', 'I', \"'ll\", 'raise', 'the', 'flag', 'Oh', 'It', 'was', 'a', 'wa', 'wa', 'wa', 'wa', 'wa-aterfall', 'A', 'wa', 'wa', 'wa', 'wa', 'wa-aterfall', 'Every', 'tear', 'Every', 'tear', 'Every', 'teardrop', 'is', 'a', 'waterfall', 'Every', 'tear', 'Every', 'tear', 'Every', 'teardrop', 'is', 'a', 'waterfall', 'Every', 'tear', 'Every', 'tear', 'Every', 'teardrop', 'is', 'a', 'waterfall']\n"
          ]
        }
      ]
    },
    {
      "cell_type": "code",
      "source": [
        "from nltk.tokenize import word_tokenize\n",
        "from nltk.corpus import stopwords\n",
        "from nltk.stem import WordNetLemmatizer\n",
        " \n",
        "word_tokens = word_tokenize(lyrics)\n",
        "# converts the words in word_tokens to lower case and then checks whether\n",
        "#they are present in stop_words or not\n",
        "filtered_sentence = [w for w in words if not w.lower() in stop_words]\n",
        "#with no lower case conversion\n",
        "filtered_sentence = []\n",
        " \n",
        "for w in word_tokens:\n",
        "    if w not in stop_words:\n",
        "        filtered_sentence.append(w)\n",
        " \n",
        "print(filtered_sentence)"
      ],
      "metadata": {
        "colab": {
          "base_uri": "https://localhost:8080/"
        },
        "id": "PQjDylPOrcO6",
        "outputId": "b061282e-4798-44c0-ad2c-5e794c95f38a"
      },
      "execution_count": 55,
      "outputs": [
        {
          "output_type": "stream",
          "name": "stdout",
          "text": [
            "['I', 'turn', 'music', ',', 'I', 'got', 'records', 'I', 'shut', 'world', 'outside', 'lights', 'come', 'Maybe', 'streets', 'alight', ',', 'maybe', 'trees', 'gone', 'I', 'feel', 'heart', 'start', 'beating', 'favourite', 'song', 'And', 'kids', 'dance', ',', 'kids', 'night', 'Until', 'Monday', 'morning', 'feels', 'another', 'life', 'I', 'turn', 'music', 'I', \"'m\", 'roll', 'time', 'And', 'heaven', 'sight', 'I', 'turn', 'music', ',', 'I', 'got', 'records', 'From', 'underneath', 'rubble', 'sing', 'rebel', 'song', 'Do', \"n't\", 'want', 'see', 'another', 'generation', 'drop', 'I', \"'d\", 'rather', 'comma', 'full', 'stop', 'Maybe', 'I', \"'m\", 'black', ',', 'maybe', 'I', \"'m\", 'knees', 'Maybe', 'I', \"'m\", 'gap', 'two', 'trapezes', 'But', 'heart', 'beating', 'pulses', 'start', 'Cathedrals', 'heart', 'As', 'saw', 'oh', 'light', 'I', 'swear', ',', 'emerge', 'blinking', 'To', 'tell', \"'s\", 'alright', 'As', 'soar', 'walls', ',', 'every', 'siren', 'symphony', 'And', 'every', 'tear', \"'s\", 'waterfall', 'Is', 'waterfall', 'Oh', 'Is', 'waterfall', 'Oh', 'oh', 'oh', 'Is', 'waterfall', 'Every', 'tear', 'Is', 'waterfall', 'Oh', 'oh', 'oh', 'So', 'hurt', ',', 'hurt', 'bad', 'But', 'still', 'I', \"'ll\", 'raise', 'flag', 'Oh', 'It', 'wa', 'wa', 'wa', 'wa', 'wa-aterfall', 'A', 'wa', 'wa', 'wa', 'wa', 'wa-aterfall', 'Every', 'tear', 'Every', 'tear', 'Every', 'teardrop', 'waterfall', 'Every', 'tear', 'Every', 'tear', 'Every', 'teardrop', 'waterfall', 'Every', 'tear', 'Every', 'tear', 'Every', 'teardrop', 'waterfall']\n"
          ]
        }
      ]
    },
    {
      "cell_type": "code",
      "source": [
        "lemmatizer = WordNetLemmatizer()\n",
        "lemmatized_tokens = [lemmatizer.lemmatize(token) for token in filtered_sentence]\n",
        "print(lemmatized_tokens)"
      ],
      "metadata": {
        "colab": {
          "base_uri": "https://localhost:8080/"
        },
        "id": "XbabR9huremY",
        "outputId": "4790d0ed-2478-4dca-bce7-b2500e4b96ed"
      },
      "execution_count": 56,
      "outputs": [
        {
          "output_type": "stream",
          "name": "stdout",
          "text": [
            "['I', 'turn', 'music', ',', 'I', 'got', 'record', 'I', 'shut', 'world', 'outside', 'light', 'come', 'Maybe', 'street', 'alight', ',', 'maybe', 'tree', 'gone', 'I', 'feel', 'heart', 'start', 'beating', 'favourite', 'song', 'And', 'kid', 'dance', ',', 'kid', 'night', 'Until', 'Monday', 'morning', 'feel', 'another', 'life', 'I', 'turn', 'music', 'I', \"'m\", 'roll', 'time', 'And', 'heaven', 'sight', 'I', 'turn', 'music', ',', 'I', 'got', 'record', 'From', 'underneath', 'rubble', 'sing', 'rebel', 'song', 'Do', \"n't\", 'want', 'see', 'another', 'generation', 'drop', 'I', \"'d\", 'rather', 'comma', 'full', 'stop', 'Maybe', 'I', \"'m\", 'black', ',', 'maybe', 'I', \"'m\", 'knee', 'Maybe', 'I', \"'m\", 'gap', 'two', 'trapeze', 'But', 'heart', 'beating', 'pulse', 'start', 'Cathedrals', 'heart', 'As', 'saw', 'oh', 'light', 'I', 'swear', ',', 'emerge', 'blinking', 'To', 'tell', \"'s\", 'alright', 'As', 'soar', 'wall', ',', 'every', 'siren', 'symphony', 'And', 'every', 'tear', \"'s\", 'waterfall', 'Is', 'waterfall', 'Oh', 'Is', 'waterfall', 'Oh', 'oh', 'oh', 'Is', 'waterfall', 'Every', 'tear', 'Is', 'waterfall', 'Oh', 'oh', 'oh', 'So', 'hurt', ',', 'hurt', 'bad', 'But', 'still', 'I', \"'ll\", 'raise', 'flag', 'Oh', 'It', 'wa', 'wa', 'wa', 'wa', 'wa-aterfall', 'A', 'wa', 'wa', 'wa', 'wa', 'wa-aterfall', 'Every', 'tear', 'Every', 'tear', 'Every', 'teardrop', 'waterfall', 'Every', 'tear', 'Every', 'tear', 'Every', 'teardrop', 'waterfall', 'Every', 'tear', 'Every', 'tear', 'Every', 'teardrop', 'waterfall']\n"
          ]
        }
      ]
    },
    {
      "cell_type": "code",
      "source": [
        "from nltk import pos_tag\n",
        "pos_tags = nltk.pos_tag(lemmatized_tokens)\n",
        "\n",
        "print(pos_tags)"
      ],
      "metadata": {
        "colab": {
          "base_uri": "https://localhost:8080/"
        },
        "id": "r5zGBxresk4c",
        "outputId": "72a2f723-8047-43e2-82a1-d0ec601a2840"
      },
      "execution_count": 57,
      "outputs": [
        {
          "output_type": "stream",
          "name": "stdout",
          "text": [
            "[('I', 'PRP'), ('turn', 'VBP'), ('music', 'NN'), (',', ','), ('I', 'PRP'), ('got', 'VBD'), ('record', 'NN'), ('I', 'PRP'), ('shut', 'VBP'), ('world', 'NN'), ('outside', 'IN'), ('light', 'JJ'), ('come', 'VBP'), ('Maybe', 'NNP'), ('street', 'NN'), ('alight', 'NN'), (',', ','), ('maybe', 'RB'), ('tree', 'IN'), ('gone', 'VBN'), ('I', 'PRP'), ('feel', 'VBP'), ('heart', 'NN'), ('start', 'NN'), ('beating', 'VBG'), ('favourite', 'NN'), ('song', 'NN'), ('And', 'CC'), ('kid', 'NN'), ('dance', 'NN'), (',', ','), ('kid', 'VB'), ('night', 'NN'), ('Until', 'IN'), ('Monday', 'NNP'), ('morning', 'NN'), ('feel', 'NN'), ('another', 'DT'), ('life', 'NN'), ('I', 'PRP'), ('turn', 'VBP'), ('music', 'NN'), ('I', 'PRP'), (\"'m\", 'VBP'), ('roll', 'JJ'), ('time', 'NN'), ('And', 'CC'), ('heaven', 'JJ'), ('sight', 'NN'), ('I', 'PRP'), ('turn', 'VBP'), ('music', 'NN'), (',', ','), ('I', 'PRP'), ('got', 'VBD'), ('record', 'NN'), ('From', 'IN'), ('underneath', 'JJ'), ('rubble', 'JJ'), ('sing', 'VBG'), ('rebel', 'NN'), ('song', 'NN'), ('Do', 'VBP'), (\"n't\", 'RB'), ('want', 'VB'), ('see', 'VB'), ('another', 'DT'), ('generation', 'NN'), ('drop', 'NN'), ('I', 'PRP'), (\"'d\", 'MD'), ('rather', 'RB'), ('comma', 'VB'), ('full', 'JJ'), ('stop', 'NN'), ('Maybe', 'NNP'), ('I', 'PRP'), (\"'m\", 'VBP'), ('black', 'JJ'), (',', ','), ('maybe', 'RB'), ('I', 'PRP'), (\"'m\", 'VBP'), ('knee', 'JJ'), ('Maybe', 'NNP'), ('I', 'PRP'), (\"'m\", 'VBP'), ('gap', 'JJ'), ('two', 'CD'), ('trapeze', 'NN'), ('But', 'CC'), ('heart', 'NN'), ('beating', 'NN'), ('pulse', 'JJ'), ('start', 'NN'), ('Cathedrals', 'NNP'), ('heart', 'NN'), ('As', 'IN'), ('saw', 'JJ'), ('oh', 'IN'), ('light', 'JJ'), ('I', 'PRP'), ('swear', 'VBP'), (',', ','), ('emerge', 'VBP'), ('blinking', 'VBG'), ('To', 'TO'), ('tell', 'VB'), (\"'s\", 'POS'), ('alright', 'NN'), ('As', 'IN'), ('soar', 'NN'), ('wall', 'NN'), (',', ','), ('every', 'DT'), ('siren', 'NN'), ('symphony', 'NN'), ('And', 'CC'), ('every', 'DT'), ('tear', 'NN'), (\"'s\", 'POS'), ('waterfall', 'NN'), ('Is', 'VBZ'), ('waterfall', 'JJ'), ('Oh', 'NNP'), ('Is', 'NNP'), ('waterfall', 'JJ'), ('Oh', 'NNP'), ('oh', 'MD'), ('oh', 'VB'), ('Is', 'NNP'), ('waterfall', 'JJ'), ('Every', 'NNP'), ('tear', 'NN'), ('Is', 'VBZ'), ('waterfall', 'JJ'), ('Oh', 'NNP'), ('oh', 'MD'), ('oh', 'VB'), ('So', 'NNP'), ('hurt', 'FW'), (',', ','), ('hurt', 'VBN'), ('bad', 'JJ'), ('But', 'CC'), ('still', 'RB'), ('I', 'PRP'), (\"'ll\", 'MD'), ('raise', 'VB'), ('flag', 'NN'), ('Oh', 'IN'), ('It', 'PRP'), ('wa', 'VBZ'), ('wa', 'JJ'), ('wa', 'JJ'), ('wa', 'NN'), ('wa-aterfall', 'NN'), ('A', 'NNP'), ('wa', 'NN'), ('wa', 'NN'), ('wa', 'NN'), ('wa', 'VBD'), ('wa-aterfall', 'JJ'), ('Every', 'NNP'), ('tear', 'NN'), ('Every', 'NNP'), ('tear', 'NN'), ('Every', 'NNP'), ('teardrop', 'NN'), ('waterfall', 'NN'), ('Every', 'NNP'), ('tear', 'NN'), ('Every', 'NNP'), ('tear', 'NN'), ('Every', 'NNP'), ('teardrop', 'NN'), ('waterfall', 'NN'), ('Every', 'NNP'), ('tear', 'NN'), ('Every', 'NNP'), ('tear', 'NN'), ('Every', 'NNP'), ('teardrop', 'NN'), ('waterfall', 'NN')]\n"
          ]
        }
      ]
    },
    {
      "cell_type": "code",
      "source": [
        "from nltk.corpus import wordnet\n",
        "\n",
        "def get_wordnet_pos(pos_tag):\n",
        "    output = np.asarray(pos_tag)\n",
        "    for i in range(len(pos_tag)):\n",
        "        if pos_tag[i][1].startswith('J'):\n",
        "            output[i][1] = wordnet.ADJ\n",
        "        elif pos_tag[i][1].startswith('V'):\n",
        "            output[i][1] = wordnet.VERB\n",
        "        elif pos_tag[i][1].startswith('R'):\n",
        "            output[i][1] = wordnet.ADV\n",
        "        else:\n",
        "            output[i][1] = wordnet.NOUN\n",
        "    return output"
      ],
      "metadata": {
        "id": "34vrts8hsm2F"
      },
      "execution_count": 58,
      "outputs": []
    },
    {
      "cell_type": "markdown",
      "source": [
        "2. Bag-of-words "
      ],
      "metadata": {
        "id": "L9nfIEFUsqkS"
      }
    },
    {
      "cell_type": "code",
      "source": [
        "import nltk\n",
        "import numpy as np\n",
        "import pandas as pd\n",
        "from sklearn.feature_extraction.text import CountVectorizer"
      ],
      "metadata": {
        "id": "GMmvaJYYsoiq"
      },
      "execution_count": 59,
      "outputs": []
    },
    {
      "cell_type": "code",
      "source": [
        "df=pd.read_csv(\"/content/drive/MyDrive/Colab Notebooks/Data Mining/Dataset/lab7data/coldplay.csv\")"
      ],
      "metadata": {
        "id": "lTanG1l3s3Kp"
      },
      "execution_count": 60,
      "outputs": []
    },
    {
      "cell_type": "code",
      "source": [
        "from sklearn.feature_extraction.text import CountVectorizer\n",
        "\n",
        "\n",
        "vectorizer = CountVectorizer()\n",
        "\n",
        "bow = vectorizer.fit_transform(df['Lyrics'])\n",
        "\n",
        "print( bow.shape)"
      ],
      "metadata": {
        "colab": {
          "base_uri": "https://localhost:8080/"
        },
        "id": "hkT67LlWszgR",
        "outputId": "4bda4657-3cab-4d2a-cbb2-d8bc1c6b0c72"
      },
      "execution_count": 61,
      "outputs": [
        {
          "output_type": "stream",
          "name": "stdout",
          "text": [
            "(120, 1776)\n"
          ]
        }
      ]
    },
    {
      "cell_type": "code",
      "source": [
        "import pandas as pd\n",
        "from sklearn.feature_extraction.text import CountVectorizer\n",
        "\n",
        "\n",
        "\n",
        "# Get the feature names (words) from the vectorizer\n",
        "feature_names = vectorizer.get_feature_names_out()\n",
        "\n",
        "# Create a dataframe from the BOW matrix and feature names\n",
        "bow_df = pd.DataFrame(bow.toarray(), columns=feature_names)\n",
        "\n",
        "bow_df"
      ],
      "metadata": {
        "colab": {
          "base_uri": "https://localhost:8080/",
          "height": 424
        },
        "id": "3nI366FHs7H8",
        "outputId": "0a8d4041-aa37-4473-8ba5-fc658b1040fd"
      },
      "execution_count": 62,
      "outputs": [
        {
          "output_type": "execute_result",
          "data": {
            "text/plain": [
              "     10  2000  2gether  76543  aaaaaah  aaaaah  aaaah  about  above  achin  \\\n",
              "0     0     0        0      0        0       0      0      0      0      0   \n",
              "1     0     0        0      0        0       0      0      0      0      0   \n",
              "2     0     0        0      0        0       0      0      0      0      0   \n",
              "3     0     0        0      0        0       0      0      0      0      0   \n",
              "4     0     0        0      0        0       0      0      0      0      0   \n",
              "..   ..   ...      ...    ...      ...     ...    ...    ...    ...    ...   \n",
              "115   0     0        0      0        0       0      0      1      2      0   \n",
              "116   0     0        0      0        0       0      0      0      0      0   \n",
              "117   0     0        1      0        0       0      0      0      0      0   \n",
              "118   0     0        0      0        0       0      0      0      0      0   \n",
              "119   0     0        0      0        0       0      0      0      0      0   \n",
              "\n",
              "     ...  yellow  yes  yesterday  yet  you  young  your  yours  yourself  \\\n",
              "0    ...       0    0          0    0    4      0     4      0         2   \n",
              "1    ...       0    0          0    0    0      0     0      0         0   \n",
              "2    ...       0    0          0    0    0      0     0      0         0   \n",
              "3    ...       0    0          0    0   16      0     0      0         0   \n",
              "4    ...       0    0          0    0    2      0     0      0         0   \n",
              "..   ...     ...  ...        ...  ...  ...    ...   ...    ...       ...   \n",
              "115  ...       0    0          0    0    5      0     3      0         0   \n",
              "116  ...       0    0          0    0    9      0     0      0         0   \n",
              "117  ...       0    0          0    0    7      0     4      0         0   \n",
              "118  ...       0    0          0    0   16      0     1      0         0   \n",
              "119  ...       0    0          0    0    5      0     0      0         0   \n",
              "\n",
              "     yuletide  \n",
              "0           0  \n",
              "1           0  \n",
              "2           0  \n",
              "3           0  \n",
              "4           0  \n",
              "..        ...  \n",
              "115         0  \n",
              "116         0  \n",
              "117         0  \n",
              "118         0  \n",
              "119         0  \n",
              "\n",
              "[120 rows x 1776 columns]"
            ],
            "text/html": [
              "\n",
              "  <div id=\"df-ea67be8d-5049-4333-acb6-42c21166494d\">\n",
              "    <div class=\"colab-df-container\">\n",
              "      <div>\n",
              "<style scoped>\n",
              "    .dataframe tbody tr th:only-of-type {\n",
              "        vertical-align: middle;\n",
              "    }\n",
              "\n",
              "    .dataframe tbody tr th {\n",
              "        vertical-align: top;\n",
              "    }\n",
              "\n",
              "    .dataframe thead th {\n",
              "        text-align: right;\n",
              "    }\n",
              "</style>\n",
              "<table border=\"1\" class=\"dataframe\">\n",
              "  <thead>\n",
              "    <tr style=\"text-align: right;\">\n",
              "      <th></th>\n",
              "      <th>10</th>\n",
              "      <th>2000</th>\n",
              "      <th>2gether</th>\n",
              "      <th>76543</th>\n",
              "      <th>aaaaaah</th>\n",
              "      <th>aaaaah</th>\n",
              "      <th>aaaah</th>\n",
              "      <th>about</th>\n",
              "      <th>above</th>\n",
              "      <th>achin</th>\n",
              "      <th>...</th>\n",
              "      <th>yellow</th>\n",
              "      <th>yes</th>\n",
              "      <th>yesterday</th>\n",
              "      <th>yet</th>\n",
              "      <th>you</th>\n",
              "      <th>young</th>\n",
              "      <th>your</th>\n",
              "      <th>yours</th>\n",
              "      <th>yourself</th>\n",
              "      <th>yuletide</th>\n",
              "    </tr>\n",
              "  </thead>\n",
              "  <tbody>\n",
              "    <tr>\n",
              "      <th>0</th>\n",
              "      <td>0</td>\n",
              "      <td>0</td>\n",
              "      <td>0</td>\n",
              "      <td>0</td>\n",
              "      <td>0</td>\n",
              "      <td>0</td>\n",
              "      <td>0</td>\n",
              "      <td>0</td>\n",
              "      <td>0</td>\n",
              "      <td>0</td>\n",
              "      <td>...</td>\n",
              "      <td>0</td>\n",
              "      <td>0</td>\n",
              "      <td>0</td>\n",
              "      <td>0</td>\n",
              "      <td>4</td>\n",
              "      <td>0</td>\n",
              "      <td>4</td>\n",
              "      <td>0</td>\n",
              "      <td>2</td>\n",
              "      <td>0</td>\n",
              "    </tr>\n",
              "    <tr>\n",
              "      <th>1</th>\n",
              "      <td>0</td>\n",
              "      <td>0</td>\n",
              "      <td>0</td>\n",
              "      <td>0</td>\n",
              "      <td>0</td>\n",
              "      <td>0</td>\n",
              "      <td>0</td>\n",
              "      <td>0</td>\n",
              "      <td>0</td>\n",
              "      <td>0</td>\n",
              "      <td>...</td>\n",
              "      <td>0</td>\n",
              "      <td>0</td>\n",
              "      <td>0</td>\n",
              "      <td>0</td>\n",
              "      <td>0</td>\n",
              "      <td>0</td>\n",
              "      <td>0</td>\n",
              "      <td>0</td>\n",
              "      <td>0</td>\n",
              "      <td>0</td>\n",
              "    </tr>\n",
              "    <tr>\n",
              "      <th>2</th>\n",
              "      <td>0</td>\n",
              "      <td>0</td>\n",
              "      <td>0</td>\n",
              "      <td>0</td>\n",
              "      <td>0</td>\n",
              "      <td>0</td>\n",
              "      <td>0</td>\n",
              "      <td>0</td>\n",
              "      <td>0</td>\n",
              "      <td>0</td>\n",
              "      <td>...</td>\n",
              "      <td>0</td>\n",
              "      <td>0</td>\n",
              "      <td>0</td>\n",
              "      <td>0</td>\n",
              "      <td>0</td>\n",
              "      <td>0</td>\n",
              "      <td>0</td>\n",
              "      <td>0</td>\n",
              "      <td>0</td>\n",
              "      <td>0</td>\n",
              "    </tr>\n",
              "    <tr>\n",
              "      <th>3</th>\n",
              "      <td>0</td>\n",
              "      <td>0</td>\n",
              "      <td>0</td>\n",
              "      <td>0</td>\n",
              "      <td>0</td>\n",
              "      <td>0</td>\n",
              "      <td>0</td>\n",
              "      <td>0</td>\n",
              "      <td>0</td>\n",
              "      <td>0</td>\n",
              "      <td>...</td>\n",
              "      <td>0</td>\n",
              "      <td>0</td>\n",
              "      <td>0</td>\n",
              "      <td>0</td>\n",
              "      <td>16</td>\n",
              "      <td>0</td>\n",
              "      <td>0</td>\n",
              "      <td>0</td>\n",
              "      <td>0</td>\n",
              "      <td>0</td>\n",
              "    </tr>\n",
              "    <tr>\n",
              "      <th>4</th>\n",
              "      <td>0</td>\n",
              "      <td>0</td>\n",
              "      <td>0</td>\n",
              "      <td>0</td>\n",
              "      <td>0</td>\n",
              "      <td>0</td>\n",
              "      <td>0</td>\n",
              "      <td>0</td>\n",
              "      <td>0</td>\n",
              "      <td>0</td>\n",
              "      <td>...</td>\n",
              "      <td>0</td>\n",
              "      <td>0</td>\n",
              "      <td>0</td>\n",
              "      <td>0</td>\n",
              "      <td>2</td>\n",
              "      <td>0</td>\n",
              "      <td>0</td>\n",
              "      <td>0</td>\n",
              "      <td>0</td>\n",
              "      <td>0</td>\n",
              "    </tr>\n",
              "    <tr>\n",
              "      <th>...</th>\n",
              "      <td>...</td>\n",
              "      <td>...</td>\n",
              "      <td>...</td>\n",
              "      <td>...</td>\n",
              "      <td>...</td>\n",
              "      <td>...</td>\n",
              "      <td>...</td>\n",
              "      <td>...</td>\n",
              "      <td>...</td>\n",
              "      <td>...</td>\n",
              "      <td>...</td>\n",
              "      <td>...</td>\n",
              "      <td>...</td>\n",
              "      <td>...</td>\n",
              "      <td>...</td>\n",
              "      <td>...</td>\n",
              "      <td>...</td>\n",
              "      <td>...</td>\n",
              "      <td>...</td>\n",
              "      <td>...</td>\n",
              "      <td>...</td>\n",
              "    </tr>\n",
              "    <tr>\n",
              "      <th>115</th>\n",
              "      <td>0</td>\n",
              "      <td>0</td>\n",
              "      <td>0</td>\n",
              "      <td>0</td>\n",
              "      <td>0</td>\n",
              "      <td>0</td>\n",
              "      <td>0</td>\n",
              "      <td>1</td>\n",
              "      <td>2</td>\n",
              "      <td>0</td>\n",
              "      <td>...</td>\n",
              "      <td>0</td>\n",
              "      <td>0</td>\n",
              "      <td>0</td>\n",
              "      <td>0</td>\n",
              "      <td>5</td>\n",
              "      <td>0</td>\n",
              "      <td>3</td>\n",
              "      <td>0</td>\n",
              "      <td>0</td>\n",
              "      <td>0</td>\n",
              "    </tr>\n",
              "    <tr>\n",
              "      <th>116</th>\n",
              "      <td>0</td>\n",
              "      <td>0</td>\n",
              "      <td>0</td>\n",
              "      <td>0</td>\n",
              "      <td>0</td>\n",
              "      <td>0</td>\n",
              "      <td>0</td>\n",
              "      <td>0</td>\n",
              "      <td>0</td>\n",
              "      <td>0</td>\n",
              "      <td>...</td>\n",
              "      <td>0</td>\n",
              "      <td>0</td>\n",
              "      <td>0</td>\n",
              "      <td>0</td>\n",
              "      <td>9</td>\n",
              "      <td>0</td>\n",
              "      <td>0</td>\n",
              "      <td>0</td>\n",
              "      <td>0</td>\n",
              "      <td>0</td>\n",
              "    </tr>\n",
              "    <tr>\n",
              "      <th>117</th>\n",
              "      <td>0</td>\n",
              "      <td>0</td>\n",
              "      <td>1</td>\n",
              "      <td>0</td>\n",
              "      <td>0</td>\n",
              "      <td>0</td>\n",
              "      <td>0</td>\n",
              "      <td>0</td>\n",
              "      <td>0</td>\n",
              "      <td>0</td>\n",
              "      <td>...</td>\n",
              "      <td>0</td>\n",
              "      <td>0</td>\n",
              "      <td>0</td>\n",
              "      <td>0</td>\n",
              "      <td>7</td>\n",
              "      <td>0</td>\n",
              "      <td>4</td>\n",
              "      <td>0</td>\n",
              "      <td>0</td>\n",
              "      <td>0</td>\n",
              "    </tr>\n",
              "    <tr>\n",
              "      <th>118</th>\n",
              "      <td>0</td>\n",
              "      <td>0</td>\n",
              "      <td>0</td>\n",
              "      <td>0</td>\n",
              "      <td>0</td>\n",
              "      <td>0</td>\n",
              "      <td>0</td>\n",
              "      <td>0</td>\n",
              "      <td>0</td>\n",
              "      <td>0</td>\n",
              "      <td>...</td>\n",
              "      <td>0</td>\n",
              "      <td>0</td>\n",
              "      <td>0</td>\n",
              "      <td>0</td>\n",
              "      <td>16</td>\n",
              "      <td>0</td>\n",
              "      <td>1</td>\n",
              "      <td>0</td>\n",
              "      <td>0</td>\n",
              "      <td>0</td>\n",
              "    </tr>\n",
              "    <tr>\n",
              "      <th>119</th>\n",
              "      <td>0</td>\n",
              "      <td>0</td>\n",
              "      <td>0</td>\n",
              "      <td>0</td>\n",
              "      <td>0</td>\n",
              "      <td>0</td>\n",
              "      <td>0</td>\n",
              "      <td>0</td>\n",
              "      <td>0</td>\n",
              "      <td>0</td>\n",
              "      <td>...</td>\n",
              "      <td>0</td>\n",
              "      <td>0</td>\n",
              "      <td>0</td>\n",
              "      <td>0</td>\n",
              "      <td>5</td>\n",
              "      <td>0</td>\n",
              "      <td>0</td>\n",
              "      <td>0</td>\n",
              "      <td>0</td>\n",
              "      <td>0</td>\n",
              "    </tr>\n",
              "  </tbody>\n",
              "</table>\n",
              "<p>120 rows × 1776 columns</p>\n",
              "</div>\n",
              "      <button class=\"colab-df-convert\" onclick=\"convertToInteractive('df-ea67be8d-5049-4333-acb6-42c21166494d')\"\n",
              "              title=\"Convert this dataframe to an interactive table.\"\n",
              "              style=\"display:none;\">\n",
              "        \n",
              "  <svg xmlns=\"http://www.w3.org/2000/svg\" height=\"24px\"viewBox=\"0 0 24 24\"\n",
              "       width=\"24px\">\n",
              "    <path d=\"M0 0h24v24H0V0z\" fill=\"none\"/>\n",
              "    <path d=\"M18.56 5.44l.94 2.06.94-2.06 2.06-.94-2.06-.94-.94-2.06-.94 2.06-2.06.94zm-11 1L8.5 8.5l.94-2.06 2.06-.94-2.06-.94L8.5 2.5l-.94 2.06-2.06.94zm10 10l.94 2.06.94-2.06 2.06-.94-2.06-.94-.94-2.06-.94 2.06-2.06.94z\"/><path d=\"M17.41 7.96l-1.37-1.37c-.4-.4-.92-.59-1.43-.59-.52 0-1.04.2-1.43.59L10.3 9.45l-7.72 7.72c-.78.78-.78 2.05 0 2.83L4 21.41c.39.39.9.59 1.41.59.51 0 1.02-.2 1.41-.59l7.78-7.78 2.81-2.81c.8-.78.8-2.07 0-2.86zM5.41 20L4 18.59l7.72-7.72 1.47 1.35L5.41 20z\"/>\n",
              "  </svg>\n",
              "      </button>\n",
              "      \n",
              "  <style>\n",
              "    .colab-df-container {\n",
              "      display:flex;\n",
              "      flex-wrap:wrap;\n",
              "      gap: 12px;\n",
              "    }\n",
              "\n",
              "    .colab-df-convert {\n",
              "      background-color: #E8F0FE;\n",
              "      border: none;\n",
              "      border-radius: 50%;\n",
              "      cursor: pointer;\n",
              "      display: none;\n",
              "      fill: #1967D2;\n",
              "      height: 32px;\n",
              "      padding: 0 0 0 0;\n",
              "      width: 32px;\n",
              "    }\n",
              "\n",
              "    .colab-df-convert:hover {\n",
              "      background-color: #E2EBFA;\n",
              "      box-shadow: 0px 1px 2px rgba(60, 64, 67, 0.3), 0px 1px 3px 1px rgba(60, 64, 67, 0.15);\n",
              "      fill: #174EA6;\n",
              "    }\n",
              "\n",
              "    [theme=dark] .colab-df-convert {\n",
              "      background-color: #3B4455;\n",
              "      fill: #D2E3FC;\n",
              "    }\n",
              "\n",
              "    [theme=dark] .colab-df-convert:hover {\n",
              "      background-color: #434B5C;\n",
              "      box-shadow: 0px 1px 3px 1px rgba(0, 0, 0, 0.15);\n",
              "      filter: drop-shadow(0px 1px 2px rgba(0, 0, 0, 0.3));\n",
              "      fill: #FFFFFF;\n",
              "    }\n",
              "  </style>\n",
              "\n",
              "      <script>\n",
              "        const buttonEl =\n",
              "          document.querySelector('#df-ea67be8d-5049-4333-acb6-42c21166494d button.colab-df-convert');\n",
              "        buttonEl.style.display =\n",
              "          google.colab.kernel.accessAllowed ? 'block' : 'none';\n",
              "\n",
              "        async function convertToInteractive(key) {\n",
              "          const element = document.querySelector('#df-ea67be8d-5049-4333-acb6-42c21166494d');\n",
              "          const dataTable =\n",
              "            await google.colab.kernel.invokeFunction('convertToInteractive',\n",
              "                                                     [key], {});\n",
              "          if (!dataTable) return;\n",
              "\n",
              "          const docLinkHtml = 'Like what you see? Visit the ' +\n",
              "            '<a target=\"_blank\" href=https://colab.research.google.com/notebooks/data_table.ipynb>data table notebook</a>'\n",
              "            + ' to learn more about interactive tables.';\n",
              "          element.innerHTML = '';\n",
              "          dataTable['output_type'] = 'display_data';\n",
              "          await google.colab.output.renderOutput(dataTable, element);\n",
              "          const docLink = document.createElement('div');\n",
              "          docLink.innerHTML = docLinkHtml;\n",
              "          element.appendChild(docLink);\n",
              "        }\n",
              "      </script>\n",
              "    </div>\n",
              "  </div>\n",
              "  "
            ]
          },
          "metadata": {},
          "execution_count": 62
        }
      ]
    },
    {
      "cell_type": "code",
      "source": [
        "sum_bow = bow_df.sum()\n",
        "sum_bow.idxmax()"
      ],
      "metadata": {
        "colab": {
          "base_uri": "https://localhost:8080/",
          "height": 35
        },
        "id": "a6oCksa9s7YD",
        "outputId": "ccb6eb18-93b0-4373-87a5-6e0c2eead6f3"
      },
      "execution_count": 63,
      "outputs": [
        {
          "output_type": "execute_result",
          "data": {
            "text/plain": [
              "'you'"
            ],
            "application/vnd.google.colaboratory.intrinsic+json": {
              "type": "string"
            }
          },
          "metadata": {},
          "execution_count": 63
        }
      ]
    },
    {
      "cell_type": "code",
      "source": [
        "word_counts = bow_df.sum()\n",
        "top_10_words = word_counts.nlargest(10)\n",
        "\n",
        "# Print the top 10 words\n",
        "print(top_10_words)"
      ],
      "metadata": {
        "colab": {
          "base_uri": "https://localhost:8080/"
        },
        "id": "Y3AdnMIXs-rl",
        "outputId": "37eec89f-3d9f-4536-b5c5-de9f11974a60"
      },
      "execution_count": 64,
      "outputs": [
        {
          "output_type": "stream",
          "name": "stdout",
          "text": [
            "you    994\n",
            "the    777\n",
            "and    650\n",
            "to     481\n",
            "it     458\n",
            "oh     334\n",
            "in     318\n",
            "me     314\n",
            "my     288\n",
            "on     285\n",
            "dtype: int64\n"
          ]
        }
      ]
    },
    {
      "cell_type": "markdown",
      "source": [
        "##III. Text Similarity"
      ],
      "metadata": {
        "id": "w1kK-IootB53"
      }
    },
    {
      "cell_type": "markdown",
      "source": [
        "1. Similarity metrics"
      ],
      "metadata": {
        "id": "UhmU4NjHtFxl"
      }
    },
    {
      "cell_type": "code",
      "source": [
        "import nltk\n",
        "import numpy as np\n",
        "import pandas as pd"
      ],
      "metadata": {
        "id": "NdcU8X2Ys--w"
      },
      "execution_count": 65,
      "outputs": []
    },
    {
      "cell_type": "code",
      "source": [
        "A = \"Outside the classroom, Stallman pursued his studies with even more diligence, rushing off to fulfill his laboratory-assistant duties at Rockefeller University during the week and dodging the Vietnam protesters on his way to Saturday school at Columbia. It was there, while the rest of the Science Honors Program students sat around discussing their college choices, that Stallman finally took a moment to participate in the preclass bull session.\"\n",
        "B = \"To facilitate the process, AI Lab hackers had built a system that displayed both the source and display modes on a split screen. Despite this innovative hack, switching from mode to mode was still a nuisance.\"\n",
        "C = \"With no dorm and no dancing, Stallman's social universe imploded. Like an astronaut experiencing the aftereffects of zero-gravity, Stallman found that his ability to interact with nonhackers, especially female nonhackers, had atrophied significantly. After 16 weeks in the AI Lab, the self confidence he'd been quietly accumulating during his 4 years at Harvard was virtually gone.\""
      ],
      "metadata": {
        "id": "gcOM7ngttHop"
      },
      "execution_count": 66,
      "outputs": []
    },
    {
      "cell_type": "code",
      "source": [
        "set_A = set(A.lower().split())\n",
        "set_B = set(B.lower().split())\n",
        "set_C = set(C.lower().split())\n",
        "\n",
        "# Compute the intersection and union\n",
        "intersection_AB = len(set_A.intersection(set_B))\n",
        "union_AB = len(set_A.union(set_B))\n",
        "\n",
        "intersection_AC = len(set_A.intersection(set_C))\n",
        "union_AC = len(set_A.union(set_C))\n",
        "\n",
        "intersection_BC = len(set_B.intersection(set_C))\n",
        "union_BC = len(set_B.union(set_C))\n",
        "\n",
        "# Compute and print the Jaccard Similarity\n",
        "jaccard_AB = intersection_AB / union_AB\n",
        "jaccard_AC = intersection_AC / union_AC\n",
        "jaccard_BC = intersection_BC / union_BC\n",
        "\n",
        "print(\"Jaccard Similarity between A and B:\", jaccard_AB)\n",
        "print(\"Jaccard Similarity between A and C:\", jaccard_AC)\n",
        "print(\"Jaccard Similarity between B and C:\", jaccard_BC)"
      ],
      "metadata": {
        "colab": {
          "base_uri": "https://localhost:8080/"
        },
        "id": "OZkvnrMmtJSm",
        "outputId": "bc15261a-9fbe-43e9-9a69-dcd0f5a7eaf7"
      },
      "execution_count": 67,
      "outputs": [
        {
          "output_type": "stream",
          "name": "stdout",
          "text": [
            "Jaccard Similarity between A and B: 0.08641975308641975\n",
            "Jaccard Similarity between A and C: 0.12631578947368421\n",
            "Jaccard Similarity between B and C: 0.0945945945945946\n"
          ]
        }
      ]
    },
    {
      "cell_type": "code",
      "source": [
        "from sklearn.feature_extraction.text import TfidfVectorizer\n",
        "from sklearn.metrics.pairwise import cosine_similarity\n",
        "# Create a TF-IDF vectorizer\n",
        "vectorizer = TfidfVectorizer()\n",
        "\n",
        "# Compute TF-IDF for sentences A, B, and C\n",
        "tfidf = vectorizer.fit_transform([A, B, C])\n",
        "\n",
        "# Calculate cosine similarities\n",
        "cosine_sim_AB = cosine_similarity(tfidf[0], tfidf[1])\n",
        "cosine_sim_BC = cosine_similarity(tfidf[1], tfidf[2])\n",
        "cosine_sim_AC = cosine_similarity(tfidf[0], tfidf[2])\n",
        "\n",
        "# Print cosine similarities\n",
        "print(\"cos(A, B):\", cosine_sim_AB)\n",
        "print(\"cos(B, C):\", cosine_sim_BC)\n",
        "print(\"cos(A, C):\", cosine_sim_AC)"
      ],
      "metadata": {
        "colab": {
          "base_uri": "https://localhost:8080/"
        },
        "id": "k0GLbeChtL4h",
        "outputId": "a2026421-faa0-4f20-8cb7-3a9d5f93d9b8"
      },
      "execution_count": 68,
      "outputs": [
        {
          "output_type": "stream",
          "name": "stdout",
          "text": [
            "cos(A, B): [[0.1679327]]\n",
            "cos(B, C): [[0.13618963]]\n",
            "cos(A, C): [[0.2850296]]\n"
          ]
        }
      ]
    },
    {
      "cell_type": "markdown",
      "source": [
        "2. TF-IDF"
      ],
      "metadata": {
        "id": "xILV1TmdtSOv"
      }
    },
    {
      "cell_type": "code",
      "source": [
        "import nltk\n",
        "import numpy as np\n",
        "import pandas as pd"
      ],
      "metadata": {
        "id": "tlaGpbh9tN-i"
      },
      "execution_count": 69,
      "outputs": []
    },
    {
      "cell_type": "code",
      "source": [
        "df=pd.read_csv(\"/content/drive/MyDrive/Colab Notebooks/Data Mining/Dataset/lab7data/headlines.csv\")"
      ],
      "metadata": {
        "id": "WH7H_XXRtVP-"
      },
      "execution_count": 70,
      "outputs": []
    },
    {
      "cell_type": "code",
      "source": [
        "df.info()"
      ],
      "metadata": {
        "colab": {
          "base_uri": "https://localhost:8080/"
        },
        "id": "toQwSQIzta22",
        "outputId": "5bad68ac-02a6-4e34-cb51-a655d644aae5"
      },
      "execution_count": 71,
      "outputs": [
        {
          "output_type": "stream",
          "name": "stdout",
          "text": [
            "<class 'pandas.core.frame.DataFrame'>\n",
            "RangeIndex: 1999 entries, 0 to 1998\n",
            "Data columns (total 2 columns):\n",
            " #   Column         Non-Null Count  Dtype \n",
            "---  ------         --------------  ----- \n",
            " 0   publish_date   1999 non-null   int64 \n",
            " 1   headline_text  1999 non-null   object\n",
            "dtypes: int64(1), object(1)\n",
            "memory usage: 31.4+ KB\n"
          ]
        }
      ]
    },
    {
      "cell_type": "code",
      "source": [
        "df.head(10)"
      ],
      "metadata": {
        "colab": {
          "base_uri": "https://localhost:8080/",
          "height": 363
        },
        "id": "46t80CH6tcLv",
        "outputId": "45d5b714-1b55-43a9-e7cf-247fb8ef0d50"
      },
      "execution_count": 72,
      "outputs": [
        {
          "output_type": "execute_result",
          "data": {
            "text/plain": [
              "   publish_date                                      headline_text\n",
              "0      20170721  algorithms can make decisions on behalf of fed...\n",
              "1      20170721  andrew forrests fmg to appeal pilbara native t...\n",
              "2      20170721                           a rural mural in thallan\n",
              "3      20170721  australia church risks becoming haven for abusers\n",
              "4      20170721  australian company usgfx embroiled in shanghai...\n",
              "5      20170721  australia suffers shock loss in womens world c...\n",
              "6      20170721                                           big rigs\n",
              "7      20170721  boy charged in connection with supermarket syr...\n",
              "8      20170721  breaking bad creator vince gilligan on success...\n",
              "9      20170721  breaking bad creator vince gilligan on walter ..."
            ],
            "text/html": [
              "\n",
              "  <div id=\"df-c549034a-89b8-49a6-958a-eb0d4dc4f99c\">\n",
              "    <div class=\"colab-df-container\">\n",
              "      <div>\n",
              "<style scoped>\n",
              "    .dataframe tbody tr th:only-of-type {\n",
              "        vertical-align: middle;\n",
              "    }\n",
              "\n",
              "    .dataframe tbody tr th {\n",
              "        vertical-align: top;\n",
              "    }\n",
              "\n",
              "    .dataframe thead th {\n",
              "        text-align: right;\n",
              "    }\n",
              "</style>\n",
              "<table border=\"1\" class=\"dataframe\">\n",
              "  <thead>\n",
              "    <tr style=\"text-align: right;\">\n",
              "      <th></th>\n",
              "      <th>publish_date</th>\n",
              "      <th>headline_text</th>\n",
              "    </tr>\n",
              "  </thead>\n",
              "  <tbody>\n",
              "    <tr>\n",
              "      <th>0</th>\n",
              "      <td>20170721</td>\n",
              "      <td>algorithms can make decisions on behalf of fed...</td>\n",
              "    </tr>\n",
              "    <tr>\n",
              "      <th>1</th>\n",
              "      <td>20170721</td>\n",
              "      <td>andrew forrests fmg to appeal pilbara native t...</td>\n",
              "    </tr>\n",
              "    <tr>\n",
              "      <th>2</th>\n",
              "      <td>20170721</td>\n",
              "      <td>a rural mural in thallan</td>\n",
              "    </tr>\n",
              "    <tr>\n",
              "      <th>3</th>\n",
              "      <td>20170721</td>\n",
              "      <td>australia church risks becoming haven for abusers</td>\n",
              "    </tr>\n",
              "    <tr>\n",
              "      <th>4</th>\n",
              "      <td>20170721</td>\n",
              "      <td>australian company usgfx embroiled in shanghai...</td>\n",
              "    </tr>\n",
              "    <tr>\n",
              "      <th>5</th>\n",
              "      <td>20170721</td>\n",
              "      <td>australia suffers shock loss in womens world c...</td>\n",
              "    </tr>\n",
              "    <tr>\n",
              "      <th>6</th>\n",
              "      <td>20170721</td>\n",
              "      <td>big rigs</td>\n",
              "    </tr>\n",
              "    <tr>\n",
              "      <th>7</th>\n",
              "      <td>20170721</td>\n",
              "      <td>boy charged in connection with supermarket syr...</td>\n",
              "    </tr>\n",
              "    <tr>\n",
              "      <th>8</th>\n",
              "      <td>20170721</td>\n",
              "      <td>breaking bad creator vince gilligan on success...</td>\n",
              "    </tr>\n",
              "    <tr>\n",
              "      <th>9</th>\n",
              "      <td>20170721</td>\n",
              "      <td>breaking bad creator vince gilligan on walter ...</td>\n",
              "    </tr>\n",
              "  </tbody>\n",
              "</table>\n",
              "</div>\n",
              "      <button class=\"colab-df-convert\" onclick=\"convertToInteractive('df-c549034a-89b8-49a6-958a-eb0d4dc4f99c')\"\n",
              "              title=\"Convert this dataframe to an interactive table.\"\n",
              "              style=\"display:none;\">\n",
              "        \n",
              "  <svg xmlns=\"http://www.w3.org/2000/svg\" height=\"24px\"viewBox=\"0 0 24 24\"\n",
              "       width=\"24px\">\n",
              "    <path d=\"M0 0h24v24H0V0z\" fill=\"none\"/>\n",
              "    <path d=\"M18.56 5.44l.94 2.06.94-2.06 2.06-.94-2.06-.94-.94-2.06-.94 2.06-2.06.94zm-11 1L8.5 8.5l.94-2.06 2.06-.94-2.06-.94L8.5 2.5l-.94 2.06-2.06.94zm10 10l.94 2.06.94-2.06 2.06-.94-2.06-.94-.94-2.06-.94 2.06-2.06.94z\"/><path d=\"M17.41 7.96l-1.37-1.37c-.4-.4-.92-.59-1.43-.59-.52 0-1.04.2-1.43.59L10.3 9.45l-7.72 7.72c-.78.78-.78 2.05 0 2.83L4 21.41c.39.39.9.59 1.41.59.51 0 1.02-.2 1.41-.59l7.78-7.78 2.81-2.81c.8-.78.8-2.07 0-2.86zM5.41 20L4 18.59l7.72-7.72 1.47 1.35L5.41 20z\"/>\n",
              "  </svg>\n",
              "      </button>\n",
              "      \n",
              "  <style>\n",
              "    .colab-df-container {\n",
              "      display:flex;\n",
              "      flex-wrap:wrap;\n",
              "      gap: 12px;\n",
              "    }\n",
              "\n",
              "    .colab-df-convert {\n",
              "      background-color: #E8F0FE;\n",
              "      border: none;\n",
              "      border-radius: 50%;\n",
              "      cursor: pointer;\n",
              "      display: none;\n",
              "      fill: #1967D2;\n",
              "      height: 32px;\n",
              "      padding: 0 0 0 0;\n",
              "      width: 32px;\n",
              "    }\n",
              "\n",
              "    .colab-df-convert:hover {\n",
              "      background-color: #E2EBFA;\n",
              "      box-shadow: 0px 1px 2px rgba(60, 64, 67, 0.3), 0px 1px 3px 1px rgba(60, 64, 67, 0.15);\n",
              "      fill: #174EA6;\n",
              "    }\n",
              "\n",
              "    [theme=dark] .colab-df-convert {\n",
              "      background-color: #3B4455;\n",
              "      fill: #D2E3FC;\n",
              "    }\n",
              "\n",
              "    [theme=dark] .colab-df-convert:hover {\n",
              "      background-color: #434B5C;\n",
              "      box-shadow: 0px 1px 3px 1px rgba(0, 0, 0, 0.15);\n",
              "      filter: drop-shadow(0px 1px 2px rgba(0, 0, 0, 0.3));\n",
              "      fill: #FFFFFF;\n",
              "    }\n",
              "  </style>\n",
              "\n",
              "      <script>\n",
              "        const buttonEl =\n",
              "          document.querySelector('#df-c549034a-89b8-49a6-958a-eb0d4dc4f99c button.colab-df-convert');\n",
              "        buttonEl.style.display =\n",
              "          google.colab.kernel.accessAllowed ? 'block' : 'none';\n",
              "\n",
              "        async function convertToInteractive(key) {\n",
              "          const element = document.querySelector('#df-c549034a-89b8-49a6-958a-eb0d4dc4f99c');\n",
              "          const dataTable =\n",
              "            await google.colab.kernel.invokeFunction('convertToInteractive',\n",
              "                                                     [key], {});\n",
              "          if (!dataTable) return;\n",
              "\n",
              "          const docLinkHtml = 'Like what you see? Visit the ' +\n",
              "            '<a target=\"_blank\" href=https://colab.research.google.com/notebooks/data_table.ipynb>data table notebook</a>'\n",
              "            + ' to learn more about interactive tables.';\n",
              "          element.innerHTML = '';\n",
              "          dataTable['output_type'] = 'display_data';\n",
              "          await google.colab.output.renderOutput(dataTable, element);\n",
              "          const docLink = document.createElement('div');\n",
              "          docLink.innerHTML = docLinkHtml;\n",
              "          element.appendChild(docLink);\n",
              "        }\n",
              "      </script>\n",
              "    </div>\n",
              "  </div>\n",
              "  "
            ]
          },
          "metadata": {},
          "execution_count": 72
        }
      ]
    },
    {
      "cell_type": "code",
      "source": [
        "import nltk\n",
        "nltk.download('stopwords')\n",
        "from nltk.corpus import stopwords\n",
        "from nltk.tokenize import word_tokenize\n",
        "from nltk.stem import PorterStemmer\n",
        "from sklearn.feature_extraction.text import TfidfVectorizer\n",
        "from sklearn.metrics.pairwise import cosine_similarity\n",
        "import string\n",
        "df['tokens'] = df['headline_text'].apply(lambda x: word_tokenize(x))\n",
        "\n",
        "# Remove punctuation\n",
        "df['tokens'] = df['tokens'].apply(lambda tokens: [token for token in tokens if token not in string.punctuation])\n",
        "\n",
        "# Remove stop words\n",
        "stop_words = set(stopwords.words('english'))\n",
        "df['tokens'] = df['tokens'].apply(lambda tokens: [token for token in tokens if token.lower() not in stop_words])\n",
        "\n",
        "# Stemming\n",
        "stemmer = PorterStemmer()\n",
        "df['tokens'] = df['tokens'].apply(lambda tokens: [stemmer.stem(token) for token in tokens])\n",
        "\n",
        "# Join tokens back into a single string\n",
        "df['Stem'] = df['tokens'].apply(lambda tokens: ' '.join(tokens))"
      ],
      "metadata": {
        "colab": {
          "base_uri": "https://localhost:8080/"
        },
        "id": "vSYwnEwItdUZ",
        "outputId": "cb50e25e-dae4-406e-a30d-07c9fb9fab1f"
      },
      "execution_count": 73,
      "outputs": [
        {
          "output_type": "stream",
          "name": "stderr",
          "text": [
            "[nltk_data] Downloading package stopwords to /root/nltk_data...\n",
            "[nltk_data]   Package stopwords is already up-to-date!\n"
          ]
        }
      ]
    },
    {
      "cell_type": "code",
      "source": [
        "df['tokens']"
      ],
      "metadata": {
        "colab": {
          "base_uri": "https://localhost:8080/"
        },
        "id": "g5N3oruRtfcI",
        "outputId": "580f7863-04ee-4307-88b7-63309dcbfb5a"
      },
      "execution_count": 74,
      "outputs": [
        {
          "output_type": "execute_result",
          "data": {
            "text/plain": [
              "0         [algorithm, make, decis, behalf, feder, minist]\n",
              "1       [andrew, forrest, fmg, appeal, pilbara, nativ,...\n",
              "2                                 [rural, mural, thallan]\n",
              "3                  [australia, church, risk, becom, abus]\n",
              "4       [australian, compani, usgfx, embroil, shanghai...\n",
              "                              ...                        \n",
              "1994    [constitut, avenu, win, top, prize, act, archi...\n",
              "1995                         [dark, mofo, number, crunch]\n",
              "1996    [david, petraeu, say, australia, must, firm, s...\n",
              "1997    [driverless, car, australia, face, challeng, r...\n",
              "1998               [drug, compani, criticis, price, hike]\n",
              "Name: tokens, Length: 1999, dtype: object"
            ]
          },
          "metadata": {},
          "execution_count": 74
        }
      ]
    },
    {
      "cell_type": "code",
      "source": [
        "from sklearn.feature_extraction.text import CountVectorizer\n",
        "\n",
        "vectorizer = CountVectorizer(analyzer=lambda x: x)\n",
        "\n",
        "vectorizer.fit(df['tokens'])\n",
        "bow = vectorizer.transform(df['tokens'])\n",
        "\n",
        "print(bow.shape)"
      ],
      "metadata": {
        "colab": {
          "base_uri": "https://localhost:8080/"
        },
        "id": "oPb6UjY6thTu",
        "outputId": "6df71b85-4b44-4e5d-fe29-39ba51f6f626"
      },
      "execution_count": 75,
      "outputs": [
        {
          "output_type": "stream",
          "name": "stdout",
          "text": [
            "(1999, 4271)\n"
          ]
        }
      ]
    },
    {
      "cell_type": "code",
      "source": [
        "from sklearn.feature_extraction.text import TfidfVectorizer\n",
        "\n",
        "\n",
        "vectorizer = TfidfVectorizer(analyzer=lambda x: x)\n",
        "\n",
        "vectorizer.fit(df['Stem'])\n",
        "\n",
        "\n",
        "tfidf = vectorizer.transform(df['Stem'])\n",
        "\n",
        "tfidf_array = tfidf.toarray()\n",
        "\n",
        "all_zeros = (tfidf_array == 0).all()\n",
        "\n",
        "if not all_zeros:\n",
        "    print(tfidf_array[0])"
      ],
      "metadata": {
        "colab": {
          "base_uri": "https://localhost:8080/"
        },
        "id": "OMl-xGh2tiiG",
        "outputId": "145fff37-8142-47dc-a99a-2ea643953b23"
      },
      "execution_count": 76,
      "outputs": [
        {
          "output_type": "stream",
          "name": "stdout",
          "text": [
            "[0.3943827  0.         0.         0.         0.         0.\n",
            " 0.         0.         0.         0.         0.         0.\n",
            " 0.24444796 0.12987231 0.10011226 0.21470886 0.40884261 0.29023513\n",
            " 0.12972179 0.23484967 0.34095845 0.         0.15309538 0.18376484\n",
            " 0.32930567 0.08609939 0.08749485 0.         0.         0.16659404\n",
            " 0.18357889 0.17297874 0.         0.         0.         0.\n",
            " 0.         0.        ]\n"
          ]
        }
      ]
    },
    {
      "cell_type": "code",
      "source": [
        "import numpy as np\n",
        "from sklearn.feature_extraction.text import TfidfVectorizer\n",
        "\n",
        "\n",
        "vectorizer = TfidfVectorizer(analyzer=lambda x: x)\n",
        "\n",
        "\n",
        "vectorizer.fit(df['tokens'])\n",
        "\n",
        "\n",
        "tfidf = vectorizer.transform(df['tokens'])\n",
        "\n",
        "\n",
        "tfidf_array = tfidf.toarray()\n",
        "\n",
        "\n",
        "average_tfidf = np.mean(tfidf_array, axis=0)\n",
        "\n",
        "\n",
        "highest_indices = np.argsort(-average_tfidf)[:10]  # Use negative sign for descending order\n",
        "lowest_indices = np.argsort(average_tfidf)[:10]\n",
        "\n",
        "feature_names = vectorizer.get_feature_names_out()\n",
        "\n",
        "\n",
        "print(\"Words with the highest average TF-IDF:\")\n",
        "for index in highest_indices:\n",
        "    print(feature_names[index], average_tfidf[index])\n",
        "\n",
        "\n",
        "print(\"\\nWords with the lowest average TF-IDF:\")\n",
        "for index in lowest_indices:\n",
        "    print(feature_names[index], average_tfidf[index])"
      ],
      "metadata": {
        "colab": {
          "base_uri": "https://localhost:8080/"
        },
        "id": "sDIleSlDtj71",
        "outputId": "b27a97e0-5693-40e5-bcbe-26b5389e9025"
      },
      "execution_count": 77,
      "outputs": [
        {
          "output_type": "stream",
          "name": "stdout",
          "text": [
            "Words with the highest average TF-IDF:\n",
            "australia 0.009983014998891405\n",
            "australian 0.00969733014866161\n",
            "new 0.008703107457097207\n",
            "polic 0.0077360592047481126\n",
            "say 0.007540459757782178\n",
            "trump 0.006840891998202155\n",
            "man 0.006548453421337382\n",
            "wa 0.006274671593818188\n",
            "charg 0.006028832916829903\n",
            "sydney 0.0056424159732095394\n",
            "\n",
            "Words with the lowest average TF-IDF:\n",
            "nmfc 0.0001527054029533165\n",
            "coll 0.0001527054029533165\n",
            "melb 0.0001527054029533165\n",
            "haw 0.0001527054029533165\n",
            "adel 0.0001527054029533165\n",
            "syd 0.0001527054029533165\n",
            "gcfc 0.0001527054029533165\n",
            "gw 0.0001527054029533165\n",
            "geel 0.0001527054029533165\n",
            "fabio 0.0001613676677950104\n"
          ]
        }
      ]
    },
    {
      "cell_type": "code",
      "source": [
        "from sklearn.feature_extraction.text import TfidfVectorizer\n",
        "\n",
        "documents = df['tokens'].apply(lambda x: ' '.join(x))\n",
        "vectorizer = TfidfVectorizer()\n",
        "tfidf = vectorizer.fit_transform(documents)"
      ],
      "metadata": {
        "id": "wrgie9sotlrc"
      },
      "execution_count": 78,
      "outputs": []
    },
    {
      "cell_type": "code",
      "source": [
        "import numpy as np\n",
        "\n",
        "# Assuming you have computed the TF-IDF representation and stored it in 'tfidf'\n",
        "\n",
        "# Compute the average TF-IDF values for each feature (word)\n",
        "average_tfidf = np.mean(tfidf.toarray(), axis=0)\n",
        "\n",
        "# Get the indices of the words with the highest and lowest average TF-IDF values\n",
        "highest_indices = np.argsort(-average_tfidf)[:10]  # Use negative sign for descending order\n",
        "lowest_indices = np.argsort(average_tfidf)[:10]\n",
        "\n",
        "# Get the feature names (words) from the vectorizer\n",
        "feature_names = vectorizer.get_feature_names_out()\n",
        "\n",
        "# Print the words with the highest average TF-IDF values\n",
        "print(\"Words with the highest average TF-IDF:\")\n",
        "for index in highest_indices:\n",
        "    print(feature_names[index], average_tfidf[index])\n",
        "\n",
        "# Print the words with the lowest average TF-IDF values\n",
        "print(\"\\nWords with the lowest average TF-IDF:\")\n",
        "for index in lowest_indices:\n",
        "    print(feature_names[index], average_tfidf[index])"
      ],
      "metadata": {
        "colab": {
          "base_uri": "https://localhost:8080/"
        },
        "id": "-OiGlVl5toPO",
        "outputId": "d6b3e913-9588-4736-c1fd-6e737f20257c"
      },
      "execution_count": 79,
      "outputs": [
        {
          "output_type": "stream",
          "name": "stdout",
          "text": [
            "Words with the highest average TF-IDF:\n",
            "australia 0.009983014998891405\n",
            "australian 0.009729510942149733\n",
            "new 0.008703107457097207\n",
            "polic 0.007736059204748111\n",
            "say 0.007555848605072935\n",
            "trump 0.006840891998202155\n",
            "man 0.006548453421337382\n",
            "wa 0.006274671593818188\n",
            "charg 0.006028832916829904\n",
            "sydney 0.005659788840016151\n",
            "\n",
            "Words with the lowest average TF-IDF:\n",
            "adel 0.0001527054029533165\n",
            "melb 0.0001527054029533165\n",
            "haw 0.0001527054029533165\n",
            "coll 0.0001527054029533165\n",
            "gw 0.0001527054029533165\n",
            "syd 0.0001527054029533165\n",
            "gcfc 0.0001527054029533165\n",
            "nmfc 0.0001527054029533165\n",
            "geel 0.0001527054029533165\n",
            "fabio 0.00016136766779501044\n"
          ]
        }
      ]
    },
    {
      "cell_type": "markdown",
      "source": [
        "3. Plagiarism checker"
      ],
      "metadata": {
        "id": "kbWYDZ65tr7N"
      }
    },
    {
      "cell_type": "code",
      "source": [
        "file = open('/content/drive/MyDrive/Colab Notebooks/Data Mining/Dataset/lab7data/A1.txt', 'r') \n",
        "A1 = file.readlines()[0]\n",
        "\n",
        "file = open('/content/drive/MyDrive/Colab Notebooks/Data Mining/Dataset/lab7data/Asource.txt', 'r') \n",
        "A0 = file.readlines()[0]\n",
        "\n",
        "file = open('/content/drive/MyDrive/Colab Notebooks/Data Mining/Dataset/lab7data/B1.txt', 'r') \n",
        "B1 = file.readlines()[0]\n",
        "\n",
        "file = open('/content/drive/MyDrive/Colab Notebooks/Data Mining/Dataset/lab7data/Bsource.txt', 'r') \n",
        "B0 = file.readlines()[0]\n",
        "\n",
        "file = open('/content/drive/MyDrive/Colab Notebooks/Data Mining/Dataset/lab7data/C1.txt', 'r') \n",
        "C1 = file.readlines()[0]\n",
        "\n",
        "file = open('/content/drive/MyDrive/Colab Notebooks/Data Mining/Dataset/lab7data/Csource.txt', 'r') \n",
        "C0 = file.readlines()[0]\n",
        "\n",
        "file = open('/content/drive/MyDrive/Colab Notebooks/Data Mining/Dataset/lab7data/D1.txt', 'r') \n",
        "D1 = file.readlines()[0]\n",
        "\n",
        "file = open('/content/drive/MyDrive/Colab Notebooks/Data Mining/Dataset/lab7data/D2.txt', 'r') \n",
        "D2 = file.readlines()[0]\n",
        "\n",
        "file = open('/content/drive/MyDrive/Colab Notebooks/Data Mining/Dataset/lab7data/Dsource.txt', 'r') \n",
        "D0 = file.readlines()[0]"
      ],
      "metadata": {
        "id": "ucl1rlFytsP7"
      },
      "execution_count": 80,
      "outputs": []
    },
    {
      "cell_type": "code",
      "source": [
        "C0"
      ],
      "metadata": {
        "colab": {
          "base_uri": "https://localhost:8080/",
          "height": 70
        },
        "id": "Wsqzn5Det9Su",
        "outputId": "ae40379d-507b-4544-d499-43f2babaec0b"
      },
      "execution_count": 81,
      "outputs": [
        {
          "output_type": "execute_result",
          "data": {
            "text/plain": [
              "'Descartes has been heralded as the first modern philosopher. He is famous for having made an important connection between geometry and algebra, which allowed for the solving of geometrical problems by way of algebraic equations. He is also famous for having promoted a new conception of matter, which allowed for the accounting of physical phenomena by way of mechanical explanations. However, he is most famous for having written a relatively short work, Meditationes de Prima Philosophia (Meditations On First Philosophy), published in 1641, in which he provides a philosophical groundwork for the possibility of the sciences. (Smith, 2007).\\n'"
            ],
            "application/vnd.google.colaboratory.intrinsic+json": {
              "type": "string"
            }
          },
          "metadata": {},
          "execution_count": 81
        }
      ]
    },
    {
      "cell_type": "code",
      "source": [
        "alldata = [A0, A1, B0, B1, C0, C1, D0, D1, D2]"
      ],
      "metadata": {
        "id": "WRjaRbl1uBkT"
      },
      "execution_count": 82,
      "outputs": []
    },
    {
      "cell_type": "code",
      "source": [
        "from sklearn.feature_extraction.text import TfidfVectorizer\n",
        "\n",
        "tfvect = TfidfVectorizer()\n",
        "tfvect.fit(alldata)\n",
        "\n",
        "\n",
        "tfidf = tfvect.fit_transform(alldata).toarray()\n",
        "# Compute the TF-IDF representation for each document\n",
        "TFIDFA = tfvect.transform([A0, A1]).toarray()\n",
        "TFIDFB = tfvect.transform([B0, B1]).toarray()\n",
        "TFIDFC = tfvect.transform([C0, C1]).toarray()\n",
        "TFIDFD = tfvect.transform([D0, D1, D2]).toarray()"
      ],
      "metadata": {
        "id": "cwSSyozfuDzq"
      },
      "execution_count": 83,
      "outputs": []
    },
    {
      "cell_type": "code",
      "source": [
        "from sklearn.metrics.pairwise import cosine_similarity\n",
        "\n",
        "# Compute pairwise similarity for document A\n",
        "similarityAA = cosine_similarity(TFIDFA, TFIDFA)\n",
        "\n",
        "# Compute pairwise similarity for document B\n",
        "similarityBB = cosine_similarity(TFIDFB, TFIDFB)\n",
        "\n",
        "# Compute pairwise similarity for document C\n",
        "similarityCC = cosine_similarity(TFIDFC, TFIDFC)\n",
        "\n",
        "# Compute pairwise similarity for document D\n",
        "similarityDD = cosine_similarity(TFIDFD, TFIDFD)\n",
        "\n",
        "# Compute pairwise similarity for all documents\n",
        "similarityAll = cosine_similarity(tfidf, tfidf)"
      ],
      "metadata": {
        "id": "0-NTniPWuFbF"
      },
      "execution_count": 84,
      "outputs": []
    },
    {
      "cell_type": "code",
      "source": [
        "similarityAA"
      ],
      "metadata": {
        "colab": {
          "base_uri": "https://localhost:8080/"
        },
        "id": "8q0k2CR1uIEh",
        "outputId": "55287332-3769-4871-8a95-d70a28d48196"
      },
      "execution_count": 85,
      "outputs": [
        {
          "output_type": "execute_result",
          "data": {
            "text/plain": [
              "array([[1.        , 0.81898863],\n",
              "       [0.81898863, 1.        ]])"
            ]
          },
          "metadata": {},
          "execution_count": 85
        }
      ]
    },
    {
      "cell_type": "code",
      "source": [
        "similarityBB"
      ],
      "metadata": {
        "colab": {
          "base_uri": "https://localhost:8080/"
        },
        "id": "h0vYU1uvuJZK",
        "outputId": "eb107984-0ea4-47e7-8514-6795efb97fad"
      },
      "execution_count": 86,
      "outputs": [
        {
          "output_type": "execute_result",
          "data": {
            "text/plain": [
              "array([[1.        , 0.63747903],\n",
              "       [0.63747903, 1.        ]])"
            ]
          },
          "metadata": {},
          "execution_count": 86
        }
      ]
    },
    {
      "cell_type": "code",
      "source": [
        "similarityCC"
      ],
      "metadata": {
        "colab": {
          "base_uri": "https://localhost:8080/"
        },
        "id": "WCpJAlR8uK13",
        "outputId": "204e314b-ff63-422e-9808-d25cb27638e1"
      },
      "execution_count": 87,
      "outputs": [
        {
          "output_type": "execute_result",
          "data": {
            "text/plain": [
              "array([[1.        , 0.85723864],\n",
              "       [0.85723864, 1.        ]])"
            ]
          },
          "metadata": {},
          "execution_count": 87
        }
      ]
    },
    {
      "cell_type": "code",
      "source": [
        "similarityDD"
      ],
      "metadata": {
        "colab": {
          "base_uri": "https://localhost:8080/"
        },
        "id": "HEk7u-CSuMn_",
        "outputId": "04c9ef09-e598-41c6-f0e5-010ff5145adc"
      },
      "execution_count": 88,
      "outputs": [
        {
          "output_type": "execute_result",
          "data": {
            "text/plain": [
              "array([[1.        , 0.92754461, 0.45775827],\n",
              "       [0.92754461, 1.        , 0.47179638],\n",
              "       [0.45775827, 0.47179638, 1.        ]])"
            ]
          },
          "metadata": {},
          "execution_count": 88
        }
      ]
    },
    {
      "cell_type": "code",
      "source": [
        "similarityAll"
      ],
      "metadata": {
        "colab": {
          "base_uri": "https://localhost:8080/"
        },
        "id": "-ATH9EoXuNqy",
        "outputId": "65ea1513-1fb6-4b7c-8c91-5b531e4b7966"
      },
      "execution_count": 89,
      "outputs": [
        {
          "output_type": "execute_result",
          "data": {
            "text/plain": [
              "array([[1.        , 0.81898863, 0.10748497, 0.12736224, 0.24491604,\n",
              "        0.29501242, 0.2530779 , 0.2146434 , 0.18585492],\n",
              "       [0.81898863, 1.        , 0.10940658, 0.12644471, 0.21239125,\n",
              "        0.25583485, 0.214717  , 0.17937458, 0.16807197],\n",
              "       [0.10748497, 0.10940658, 1.        , 0.63747903, 0.08804551,\n",
              "        0.09372089, 0.08509508, 0.07946359, 0.10627147],\n",
              "       [0.12736224, 0.12644471, 0.63747903, 1.        , 0.08730757,\n",
              "        0.08893992, 0.12527568, 0.1207279 , 0.12910021],\n",
              "       [0.24491604, 0.21239125, 0.08804551, 0.08730757, 1.        ,\n",
              "        0.85723864, 0.20151171, 0.16200275, 0.14447728],\n",
              "       [0.29501242, 0.25583485, 0.09372089, 0.08893992, 0.85723864,\n",
              "        1.        , 0.22326634, 0.1806631 , 0.1558733 ],\n",
              "       [0.2530779 , 0.214717  , 0.08509508, 0.12527568, 0.20151171,\n",
              "        0.22326634, 1.        , 0.92754461, 0.45775827],\n",
              "       [0.2146434 , 0.17937458, 0.07946359, 0.1207279 , 0.16200275,\n",
              "        0.1806631 , 0.92754461, 1.        , 0.47179638],\n",
              "       [0.18585492, 0.16807197, 0.10627147, 0.12910021, 0.14447728,\n",
              "        0.1558733 , 0.45775827, 0.47179638, 1.        ]])"
            ]
          },
          "metadata": {},
          "execution_count": 89
        }
      ]
    },
    {
      "cell_type": "code",
      "source": [
        "import matplotlib.pyplot as plt\n",
        "pred_plagiarism = similarityAll>0.2\n",
        "# Function to plot the pairwise similarity matrix\n",
        "def plot_similarity(similarity_matrix):\n",
        "    plt.figure(figsize=(8, 6))\n",
        "    plt.imshow(similarity_matrix, cmap='hot', interpolation='nearest')\n",
        "    plt.colorbar()\n",
        "    plt.title('Pairwise Similarity')\n",
        "    plt.xlabel('Document Index')\n",
        "    plt.ylabel('Document Index')\n",
        "    plt.show()\n",
        "\n",
        "\n",
        "\n",
        "# Plot the pairwise similarity for all documents\n",
        "plot_similarity(similarityAll)"
      ],
      "metadata": {
        "colab": {
          "base_uri": "https://localhost:8080/",
          "height": 564
        },
        "id": "-9mtNBExuOli",
        "outputId": "dddac59d-be28-4de0-aaad-9dc06841216a"
      },
      "execution_count": 90,
      "outputs": [
        {
          "output_type": "display_data",
          "data": {
            "text/plain": [
              "<Figure size 800x600 with 2 Axes>"
            ],
            "image/png": "[encoded data removed]"
          },
          "metadata": {}
        }
      ]
    },
    {
      "cell_type": "code",
      "source": [
        "import numpy as np\n",
        "\n",
        "# Initialize the true labels matrix\n",
        "real_plagiarism = np.zeros((9, 9))\n",
        "\n",
        "# Set the true labels for plagiarized pairs\n",
        "real_plagiarism[0:2, 0:2] = 1  # A0 and A1 are plagiarized\n",
        "real_plagiarism[2:4, 2:4] = 1  # B0 and B1 are plagiarized\n",
        "real_plagiarism[4:6, 4:6] = 1  # C0 and C1 are plagiarized\n",
        "real_plagiarism[6:9, 6:9] = 1  # D0, D1, and D2 are plagiarized\n",
        "\n",
        "# Print the true labels matrix\n",
        "print(real_plagiarism)"
      ],
      "metadata": {
        "colab": {
          "base_uri": "https://localhost:8080/"
        },
        "id": "rT4zkwtuuP9j",
        "outputId": "981ec94b-ce77-47e7-f965-ae348d8dc1fa"
      },
      "execution_count": 91,
      "outputs": [
        {
          "output_type": "stream",
          "name": "stdout",
          "text": [
            "[[1. 1. 0. 0. 0. 0. 0. 0. 0.]\n",
            " [1. 1. 0. 0. 0. 0. 0. 0. 0.]\n",
            " [0. 0. 1. 1. 0. 0. 0. 0. 0.]\n",
            " [0. 0. 1. 1. 0. 0. 0. 0. 0.]\n",
            " [0. 0. 0. 0. 1. 1. 0. 0. 0.]\n",
            " [0. 0. 0. 0. 1. 1. 0. 0. 0.]\n",
            " [0. 0. 0. 0. 0. 0. 1. 1. 1.]\n",
            " [0. 0. 0. 0. 0. 0. 1. 1. 1.]\n",
            " [0. 0. 0. 0. 0. 0. 1. 1. 1.]]\n"
          ]
        }
      ]
    },
    {
      "cell_type": "code",
      "source": [
        "import matplotlib.pyplot as plt\n",
        "plt.imshow(real_plagiarism)\n",
        "plt.show()"
      ],
      "metadata": {
        "colab": {
          "base_uri": "https://localhost:8080/",
          "height": 430
        },
        "id": "tvAyLFn4uRs7",
        "outputId": "b56feaa7-82ee-4a17-da5e-2511d3daf794"
      },
      "execution_count": 92,
      "outputs": [
        {
          "output_type": "display_data",
          "data": {
            "text/plain": [
              "<Figure size 640x480 with 1 Axes>"
            ],
            "image/png": "[encoded data removed]"
          },
          "metadata": {}
        }
      ]
    },
    {
      "cell_type": "code",
      "source": [
        "from sklearn.metrics import accuracy_score\n",
        "\n",
        "# Convert similarity matrix to binary predictions\n",
        "threshold = 0.5\n",
        "binary_predictions_All = (similarityAll > threshold).astype(int).flatten()\n",
        "\n",
        "# Convert true labels matrix to binary labels\n",
        "true_labels = real_plagiarism.flatten()\n",
        "\n",
        "# Compute accuracy score\n",
        "accuracy_All = accuracy_score(true_labels, binary_predictions_All)\n",
        "\n",
        "print(\"Accuracy for All Documents:\", accuracy_All)\n"
      ],
      "metadata": {
        "colab": {
          "base_uri": "https://localhost:8080/"
        },
        "id": "20HFNPG1uS93",
        "outputId": "78c20568-9919-478f-c5d2-01f1191159ee"
      },
      "execution_count": 93,
      "outputs": [
        {
          "output_type": "stream",
          "name": "stdout",
          "text": [
            "Accuracy for All Documents: 0.9506172839506173\n"
          ]
        }
      ]
    },
    {
      "cell_type": "markdown",
      "source": [
        "###III. Text Classification"
      ],
      "metadata": {
        "id": "xEoXr0oOuXvy"
      }
    },
    {
      "cell_type": "code",
      "source": [
        "\n",
        "import nltk\n",
        "import numpy as np\n",
        "import pandas as pd\n",
        "from sklearn.feature_extraction.text import CountVectorizer"
      ],
      "metadata": {
        "id": "dovvInDOuUPc"
      },
      "execution_count": 96,
      "outputs": []
    },
    {
      "cell_type": "code",
      "source": [
        "\n",
        "df = pd.read_csv('/content/drive/MyDrive/Colab Notebooks/Data Mining/Dataset/lab7data/spam.csv', encoding='latin-1')\n",
        "\n",
        "print(df.head())"
      ],
      "metadata": {
        "colab": {
          "base_uri": "https://localhost:8080/"
        },
        "id": "6bMhauDQucPo",
        "outputId": "cf23a8fd-e48c-45c0-e61c-496439230f12"
      },
      "execution_count": 95,
      "outputs": [
        {
          "output_type": "stream",
          "name": "stdout",
          "text": [
            "  Class                                            Message\n",
            "0   ham  Go until jurong point, crazy.. Available only ...\n",
            "1   ham                      Ok lar... Joking wif u oni...\n",
            "2  spam  Free entry in 2 a wkly comp to win FA Cup fina...\n",
            "3   ham  U dun say so early hor... U c already then say...\n",
            "4   ham  Nah I don't think he goes to usf, he lives aro...\n"
          ]
        }
      ]
    },
    {
      "cell_type": "code",
      "source": [
        "df.info()"
      ],
      "metadata": {
        "colab": {
          "base_uri": "https://localhost:8080/"
        },
        "id": "cLooH85VujhQ",
        "outputId": "662fbae5-c66c-4db8-a83e-ece06283b16b"
      },
      "execution_count": 97,
      "outputs": [
        {
          "output_type": "stream",
          "name": "stdout",
          "text": [
            "<class 'pandas.core.frame.DataFrame'>\n",
            "RangeIndex: 5572 entries, 0 to 5571\n",
            "Data columns (total 2 columns):\n",
            " #   Column   Non-Null Count  Dtype \n",
            "---  ------   --------------  ----- \n",
            " 0   Class    5572 non-null   object\n",
            " 1   Message  5572 non-null   object\n",
            "dtypes: object(2)\n",
            "memory usage: 87.2+ KB\n"
          ]
        }
      ]
    },
    {
      "cell_type": "code",
      "source": [
        "df.head(10)"
      ],
      "metadata": {
        "colab": {
          "base_uri": "https://localhost:8080/",
          "height": 363
        },
        "id": "XeJBSbzrujzB",
        "outputId": "1489d064-7483-465b-8c6d-fc1fdbe375f6"
      },
      "execution_count": 98,
      "outputs": [
        {
          "output_type": "execute_result",
          "data": {
            "text/plain": [
              "  Class                                            Message\n",
              "0   ham  Go until jurong point, crazy.. Available only ...\n",
              "1   ham                      Ok lar... Joking wif u oni...\n",
              "2  spam  Free entry in 2 a wkly comp to win FA Cup fina...\n",
              "3   ham  U dun say so early hor... U c already then say...\n",
              "4   ham  Nah I don't think he goes to usf, he lives aro...\n",
              "5  spam  FreeMsg Hey there darling it's been 3 week's n...\n",
              "6   ham  Even my brother is not like to speak with me. ...\n",
              "7   ham  As per your request 'Melle Melle (Oru Minnamin...\n",
              "8  spam  WINNER!! As a valued network customer you have...\n",
              "9  spam  Had your mobile 11 months or more? U R entitle..."
            ],
            "text/html": [
              "\n",
              "  <div id=\"df-36eba12a-9d2a-4aac-89da-76a3e4de0443\">\n",
              "    <div class=\"colab-df-container\">\n",
              "      <div>\n",
              "<style scoped>\n",
              "    .dataframe tbody tr th:only-of-type {\n",
              "        vertical-align: middle;\n",
              "    }\n",
              "\n",
              "    .dataframe tbody tr th {\n",
              "        vertical-align: top;\n",
              "    }\n",
              "\n",
              "    .dataframe thead th {\n",
              "        text-align: right;\n",
              "    }\n",
              "</style>\n",
              "<table border=\"1\" class=\"dataframe\">\n",
              "  <thead>\n",
              "    <tr style=\"text-align: right;\">\n",
              "      <th></th>\n",
              "      <th>Class</th>\n",
              "      <th>Message</th>\n",
              "    </tr>\n",
              "  </thead>\n",
              "  <tbody>\n",
              "    <tr>\n",
              "      <th>0</th>\n",
              "      <td>ham</td>\n",
              "      <td>Go until jurong point, crazy.. Available only ...</td>\n",
              "    </tr>\n",
              "    <tr>\n",
              "      <th>1</th>\n",
              "      <td>ham</td>\n",
              "      <td>Ok lar... Joking wif u oni...</td>\n",
              "    </tr>\n",
              "    <tr>\n",
              "      <th>2</th>\n",
              "      <td>spam</td>\n",
              "      <td>Free entry in 2 a wkly comp to win FA Cup fina...</td>\n",
              "    </tr>\n",
              "    <tr>\n",
              "      <th>3</th>\n",
              "      <td>ham</td>\n",
              "      <td>U dun say so early hor... U c already then say...</td>\n",
              "    </tr>\n",
              "    <tr>\n",
              "      <th>4</th>\n",
              "      <td>ham</td>\n",
              "      <td>Nah I don't think he goes to usf, he lives aro...</td>\n",
              "    </tr>\n",
              "    <tr>\n",
              "      <th>5</th>\n",
              "      <td>spam</td>\n",
              "      <td>FreeMsg Hey there darling it's been 3 week's n...</td>\n",
              "    </tr>\n",
              "    <tr>\n",
              "      <th>6</th>\n",
              "      <td>ham</td>\n",
              "      <td>Even my brother is not like to speak with me. ...</td>\n",
              "    </tr>\n",
              "    <tr>\n",
              "      <th>7</th>\n",
              "      <td>ham</td>\n",
              "      <td>As per your request 'Melle Melle (Oru Minnamin...</td>\n",
              "    </tr>\n",
              "    <tr>\n",
              "      <th>8</th>\n",
              "      <td>spam</td>\n",
              "      <td>WINNER!! As a valued network customer you have...</td>\n",
              "    </tr>\n",
              "    <tr>\n",
              "      <th>9</th>\n",
              "      <td>spam</td>\n",
              "      <td>Had your mobile 11 months or more? U R entitle...</td>\n",
              "    </tr>\n",
              "  </tbody>\n",
              "</table>\n",
              "</div>\n",
              "      <button class=\"colab-df-convert\" onclick=\"convertToInteractive('df-36eba12a-9d2a-4aac-89da-76a3e4de0443')\"\n",
              "              title=\"Convert this dataframe to an interactive table.\"\n",
              "              style=\"display:none;\">\n",
              "        \n",
              "  <svg xmlns=\"http://www.w3.org/2000/svg\" height=\"24px\"viewBox=\"0 0 24 24\"\n",
              "       width=\"24px\">\n",
              "    <path d=\"M0 0h24v24H0V0z\" fill=\"none\"/>\n",
              "    <path d=\"M18.56 5.44l.94 2.06.94-2.06 2.06-.94-2.06-.94-.94-2.06-.94 2.06-2.06.94zm-11 1L8.5 8.5l.94-2.06 2.06-.94-2.06-.94L8.5 2.5l-.94 2.06-2.06.94zm10 10l.94 2.06.94-2.06 2.06-.94-2.06-.94-.94-2.06-.94 2.06-2.06.94z\"/><path d=\"M17.41 7.96l-1.37-1.37c-.4-.4-.92-.59-1.43-.59-.52 0-1.04.2-1.43.59L10.3 9.45l-7.72 7.72c-.78.78-.78 2.05 0 2.83L4 21.41c.39.39.9.59 1.41.59.51 0 1.02-.2 1.41-.59l7.78-7.78 2.81-2.81c.8-.78.8-2.07 0-2.86zM5.41 20L4 18.59l7.72-7.72 1.47 1.35L5.41 20z\"/>\n",
              "  </svg>\n",
              "      </button>\n",
              "      \n",
              "  <style>\n",
              "    .colab-df-container {\n",
              "      display:flex;\n",
              "      flex-wrap:wrap;\n",
              "      gap: 12px;\n",
              "    }\n",
              "\n",
              "    .colab-df-convert {\n",
              "      background-color: #E8F0FE;\n",
              "      border: none;\n",
              "      border-radius: 50%;\n",
              "      cursor: pointer;\n",
              "      display: none;\n",
              "      fill: #1967D2;\n",
              "      height: 32px;\n",
              "      padding: 0 0 0 0;\n",
              "      width: 32px;\n",
              "    }\n",
              "\n",
              "    .colab-df-convert:hover {\n",
              "      background-color: #E2EBFA;\n",
              "      box-shadow: 0px 1px 2px rgba(60, 64, 67, 0.3), 0px 1px 3px 1px rgba(60, 64, 67, 0.15);\n",
              "      fill: #174EA6;\n",
              "    }\n",
              "\n",
              "    [theme=dark] .colab-df-convert {\n",
              "      background-color: #3B4455;\n",
              "      fill: #D2E3FC;\n",
              "    }\n",
              "\n",
              "    [theme=dark] .colab-df-convert:hover {\n",
              "      background-color: #434B5C;\n",
              "      box-shadow: 0px 1px 3px 1px rgba(0, 0, 0, 0.15);\n",
              "      filter: drop-shadow(0px 1px 2px rgba(0, 0, 0, 0.3));\n",
              "      fill: #FFFFFF;\n",
              "    }\n",
              "  </style>\n",
              "\n",
              "      <script>\n",
              "        const buttonEl =\n",
              "          document.querySelector('#df-36eba12a-9d2a-4aac-89da-76a3e4de0443 button.colab-df-convert');\n",
              "        buttonEl.style.display =\n",
              "          google.colab.kernel.accessAllowed ? 'block' : 'none';\n",
              "\n",
              "        async function convertToInteractive(key) {\n",
              "          const element = document.querySelector('#df-36eba12a-9d2a-4aac-89da-76a3e4de0443');\n",
              "          const dataTable =\n",
              "            await google.colab.kernel.invokeFunction('convertToInteractive',\n",
              "                                                     [key], {});\n",
              "          if (!dataTable) return;\n",
              "\n",
              "          const docLinkHtml = 'Like what you see? Visit the ' +\n",
              "            '<a target=\"_blank\" href=https://colab.research.google.com/notebooks/data_table.ipynb>data table notebook</a>'\n",
              "            + ' to learn more about interactive tables.';\n",
              "          element.innerHTML = '';\n",
              "          dataTable['output_type'] = 'display_data';\n",
              "          await google.colab.output.renderOutput(dataTable, element);\n",
              "          const docLink = document.createElement('div');\n",
              "          docLink.innerHTML = docLinkHtml;\n",
              "          element.appendChild(docLink);\n",
              "        }\n",
              "      </script>\n",
              "    </div>\n",
              "  </div>\n",
              "  "
            ]
          },
          "metadata": {},
          "execution_count": 98
        }
      ]
    },
    {
      "cell_type": "code",
      "source": [
        "import nltk\n",
        "from nltk.tokenize import word_tokenize\n",
        "from nltk.corpus import stopwords\n",
        "from nltk.stem import PorterStemmer\n",
        "\n",
        "# Download NLTK resources\n",
        "nltk.download('punkt')\n",
        "nltk.download('stopwords')\n",
        "\n",
        "# Define the preprocess_text function\n",
        "def preprocess_text(text):\n",
        "    # Tokenization\n",
        "    tokens = word_tokenize(text)\n",
        "    \n",
        "    # Lowercasing\n",
        "    tokens_lower = [token.lower() for token in tokens]\n",
        "    \n",
        "    # Stopword Removal\n",
        "    stop_words = set(stopwords.words('english'))  # Specify 'latin-1' stopwords\n",
        "    tokens_no_stopwords = [token for token in tokens_lower if token not in stop_words]\n",
        "    \n",
        "    # Stemming\n",
        "    stemmer = PorterStemmer()\n",
        "    tokens_stemmed = [stemmer.stem(token) for token in tokens_no_stopwords]\n",
        "    \n",
        "    # Return preprocessed tokens as a string\n",
        "    return ' '.join(tokens_stemmed)\n",
        "\n",
        "df['preprocessed_text'] = df['Message'].apply(preprocess_text)"
      ],
      "metadata": {
        "colab": {
          "base_uri": "https://localhost:8080/"
        },
        "id": "d3iN6Lx-umC3",
        "outputId": "71f3f622-a0f1-491a-865d-8b218ca16896"
      },
      "execution_count": 99,
      "outputs": [
        {
          "output_type": "stream",
          "name": "stderr",
          "text": [
            "[nltk_data] Downloading package punkt to /root/nltk_data...\n",
            "[nltk_data]   Package punkt is already up-to-date!\n",
            "[nltk_data] Downloading package stopwords to /root/nltk_data...\n",
            "[nltk_data]   Package stopwords is already up-to-date!\n"
          ]
        }
      ]
    },
    {
      "cell_type": "code",
      "source": [
        "df['preprocessed_text']"
      ],
      "metadata": {
        "colab": {
          "base_uri": "https://localhost:8080/"
        },
        "id": "k8i5QZ7huniq",
        "outputId": "6d612948-69c3-4b1a-96ac-b85535ec81b0"
      },
      "execution_count": 100,
      "outputs": [
        {
          "output_type": "execute_result",
          "data": {
            "text/plain": [
              "0       go jurong point , crazi .. avail bugi n great ...\n",
              "1                           ok lar ... joke wif u oni ...\n",
              "2       free entri 2 wkli comp win fa cup final tkt 21...\n",
              "3             u dun say earli hor ... u c alreadi say ...\n",
              "4              nah n't think goe usf , live around though\n",
              "                              ...                        \n",
              "5567    2nd time tri 2 contact u. u ï¿½750 pound prize...\n",
              "5568                         ï¿½_ b go esplanad fr home ?\n",
              "5569                        piti , * mood . ... suggest ?\n",
              "5570    guy bitch act like 'd interest buy someth els ...\n",
              "5571                                     rofl . true name\n",
              "Name: preprocessed_text, Length: 5572, dtype: object"
            ]
          },
          "metadata": {},
          "execution_count": 100
        }
      ]
    },
    {
      "cell_type": "code",
      "source": [
        "from sklearn.feature_extraction.text import CountVectorizer\n",
        "\n",
        "\n",
        "\n",
        "vectorizer = CountVectorizer()\n",
        "\n",
        "bow = vectorizer.fit_transform(df['preprocessed_text'])\n",
        "\n",
        "print( bow.shape)"
      ],
      "metadata": {
        "colab": {
          "base_uri": "https://localhost:8080/"
        },
        "id": "eY8QuCTTuo-S",
        "outputId": "560d4a51-6276-4c1d-8280-fc06b798327f"
      },
      "execution_count": 101,
      "outputs": [
        {
          "output_type": "stream",
          "name": "stdout",
          "text": [
            "(5572, 7495)\n"
          ]
        }
      ]
    },
    {
      "cell_type": "code",
      "source": [
        "import pandas as pd\n",
        "from sklearn.feature_extraction.text import CountVectorizer\n",
        "\n",
        "\n",
        "\n",
        "# Get the feature names (words) from the vectorizer\n",
        "feature_names = vectorizer.get_feature_names_out()\n",
        "\n",
        "# Create a dataframe from the BOW matrix and feature names\n",
        "bow_df = pd.DataFrame(bow.toarray(), columns=feature_names)\n",
        "\n",
        "bow_df"
      ],
      "metadata": {
        "colab": {
          "base_uri": "https://localhost:8080/",
          "height": 424
        },
        "id": "2-0IhEuKuqPv",
        "outputId": "f30b4512-6fff-496a-e7b1-0ea0b3faba9a"
      },
      "execution_count": 102,
      "outputs": [
        {
          "output_type": "execute_result",
          "data": {
            "text/plain": [
              "      00  000  000pe  008704050406  0089  0121  01223585236  01223585334  \\\n",
              "0      0    0      0             0     0     0            0            0   \n",
              "1      0    0      0             0     0     0            0            0   \n",
              "2      0    0      0             0     0     0            0            0   \n",
              "3      0    0      0             0     0     0            0            0   \n",
              "4      0    0      0             0     0     0            0            0   \n",
              "...   ..  ...    ...           ...   ...   ...          ...          ...   \n",
              "5567   0    0      0             0     0     0            0            0   \n",
              "5568   0    0      0             0     0     0            0            0   \n",
              "5569   0    0      0             0     0     0            0            0   \n",
              "5570   0    0      0             0     0     0            0            0   \n",
              "5571   0    0      0             0     0     0            0            0   \n",
              "\n",
              "      0125698789  02  ...  ½t  ½te  ½v  ½wel  ½ï  ½û  ½ûªm  ½ûªt  ½ûªv  ì¼1  \n",
              "0              0   0  ...   0    0   0     0   0   0     0     0     0    0  \n",
              "1              0   0  ...   0    0   0     0   0   0     0     0     0    0  \n",
              "2              0   0  ...   0    0   0     0   0   0     0     0     0    0  \n",
              "3              0   0  ...   0    0   0     0   0   0     0     0     0    0  \n",
              "4              0   0  ...   0    0   0     0   0   0     0     0     0    0  \n",
              "...          ...  ..  ...  ..  ...  ..   ...  ..  ..   ...   ...   ...  ...  \n",
              "5567           0   0  ...   0    0   0     0   0   0     0     0     0    0  \n",
              "5568           0   0  ...   0    0   0     0   0   0     0     0     0    0  \n",
              "5569           0   0  ...   0    0   0     0   0   0     0     0     0    0  \n",
              "5570           0   0  ...   0    0   0     0   0   0     0     0     0    0  \n",
              "5571           0   0  ...   0    0   0     0   0   0     0     0     0    0  \n",
              "\n",
              "[5572 rows x 7495 columns]"
            ],
            "text/html": [
              "\n",
              "  <div id=\"df-cb0695ed-a717-400c-a739-7d7cb3648737\">\n",
              "    <div class=\"colab-df-container\">\n",
              "      <div>\n",
              "<style scoped>\n",
              "    .dataframe tbody tr th:only-of-type {\n",
              "        vertical-align: middle;\n",
              "    }\n",
              "\n",
              "    .dataframe tbody tr th {\n",
              "        vertical-align: top;\n",
              "    }\n",
              "\n",
              "    .dataframe thead th {\n",
              "        text-align: right;\n",
              "    }\n",
              "</style>\n",
              "<table border=\"1\" class=\"dataframe\">\n",
              "  <thead>\n",
              "    <tr style=\"text-align: right;\">\n",
              "      <th></th>\n",
              "      <th>00</th>\n",
              "      <th>000</th>\n",
              "      <th>000pe</th>\n",
              "      <th>008704050406</th>\n",
              "      <th>0089</th>\n",
              "      <th>0121</th>\n",
              "      <th>01223585236</th>\n",
              "      <th>01223585334</th>\n",
              "      <th>0125698789</th>\n",
              "      <th>02</th>\n",
              "      <th>...</th>\n",
              "      <th>½t</th>\n",
              "      <th>½te</th>\n",
              "      <th>½v</th>\n",
              "      <th>½wel</th>\n",
              "      <th>½ï</th>\n",
              "      <th>½û</th>\n",
              "      <th>½ûªm</th>\n",
              "      <th>½ûªt</th>\n",
              "      <th>½ûªv</th>\n",
              "      <th>ì¼1</th>\n",
              "    </tr>\n",
              "  </thead>\n",
              "  <tbody>\n",
              "    <tr>\n",
              "      <th>0</th>\n",
              "      <td>0</td>\n",
              "      <td>0</td>\n",
              "      <td>0</td>\n",
              "      <td>0</td>\n",
              "      <td>0</td>\n",
              "      <td>0</td>\n",
              "      <td>0</td>\n",
              "      <td>0</td>\n",
              "      <td>0</td>\n",
              "      <td>0</td>\n",
              "      <td>...</td>\n",
              "      <td>0</td>\n",
              "      <td>0</td>\n",
              "      <td>0</td>\n",
              "      <td>0</td>\n",
              "      <td>0</td>\n",
              "      <td>0</td>\n",
              "      <td>0</td>\n",
              "      <td>0</td>\n",
              "      <td>0</td>\n",
              "      <td>0</td>\n",
              "    </tr>\n",
              "    <tr>\n",
              "      <th>1</th>\n",
              "      <td>0</td>\n",
              "      <td>0</td>\n",
              "      <td>0</td>\n",
              "      <td>0</td>\n",
              "      <td>0</td>\n",
              "      <td>0</td>\n",
              "      <td>0</td>\n",
              "      <td>0</td>\n",
              "      <td>0</td>\n",
              "      <td>0</td>\n",
              "      <td>...</td>\n",
              "      <td>0</td>\n",
              "      <td>0</td>\n",
              "      <td>0</td>\n",
              "      <td>0</td>\n",
              "      <td>0</td>\n",
              "      <td>0</td>\n",
              "      <td>0</td>\n",
              "      <td>0</td>\n",
              "      <td>0</td>\n",
              "      <td>0</td>\n",
              "    </tr>\n",
              "    <tr>\n",
              "      <th>2</th>\n",
              "      <td>0</td>\n",
              "      <td>0</td>\n",
              "      <td>0</td>\n",
              "      <td>0</td>\n",
              "      <td>0</td>\n",
              "      <td>0</td>\n",
              "      <td>0</td>\n",
              "      <td>0</td>\n",
              "      <td>0</td>\n",
              "      <td>0</td>\n",
              "      <td>...</td>\n",
              "      <td>0</td>\n",
              "      <td>0</td>\n",
              "      <td>0</td>\n",
              "      <td>0</td>\n",
              "      <td>0</td>\n",
              "      <td>0</td>\n",
              "      <td>0</td>\n",
              "      <td>0</td>\n",
              "      <td>0</td>\n",
              "      <td>0</td>\n",
              "    </tr>\n",
              "    <tr>\n",
              "      <th>3</th>\n",
              "      <td>0</td>\n",
              "      <td>0</td>\n",
              "      <td>0</td>\n",
              "      <td>0</td>\n",
              "      <td>0</td>\n",
              "      <td>0</td>\n",
              "      <td>0</td>\n",
              "      <td>0</td>\n",
              "      <td>0</td>\n",
              "      <td>0</td>\n",
              "      <td>...</td>\n",
              "      <td>0</td>\n",
              "      <td>0</td>\n",
              "      <td>0</td>\n",
              "      <td>0</td>\n",
              "      <td>0</td>\n",
              "      <td>0</td>\n",
              "      <td>0</td>\n",
              "      <td>0</td>\n",
              "      <td>0</td>\n",
              "      <td>0</td>\n",
              "    </tr>\n",
              "    <tr>\n",
              "      <th>4</th>\n",
              "      <td>0</td>\n",
              "      <td>0</td>\n",
              "      <td>0</td>\n",
              "      <td>0</td>\n",
              "      <td>0</td>\n",
              "      <td>0</td>\n",
              "      <td>0</td>\n",
              "      <td>0</td>\n",
              "      <td>0</td>\n",
              "      <td>0</td>\n",
              "      <td>...</td>\n",
              "      <td>0</td>\n",
              "      <td>0</td>\n",
              "      <td>0</td>\n",
              "      <td>0</td>\n",
              "      <td>0</td>\n",
              "      <td>0</td>\n",
              "      <td>0</td>\n",
              "      <td>0</td>\n",
              "      <td>0</td>\n",
              "      <td>0</td>\n",
              "    </tr>\n",
              "    <tr>\n",
              "      <th>...</th>\n",
              "      <td>...</td>\n",
              "      <td>...</td>\n",
              "      <td>...</td>\n",
              "      <td>...</td>\n",
              "      <td>...</td>\n",
              "      <td>...</td>\n",
              "      <td>...</td>\n",
              "      <td>...</td>\n",
              "      <td>...</td>\n",
              "      <td>...</td>\n",
              "      <td>...</td>\n",
              "      <td>...</td>\n",
              "      <td>...</td>\n",
              "      <td>...</td>\n",
              "      <td>...</td>\n",
              "      <td>...</td>\n",
              "      <td>...</td>\n",
              "      <td>...</td>\n",
              "      <td>...</td>\n",
              "      <td>...</td>\n",
              "      <td>...</td>\n",
              "    </tr>\n",
              "    <tr>\n",
              "      <th>5567</th>\n",
              "      <td>0</td>\n",
              "      <td>0</td>\n",
              "      <td>0</td>\n",
              "      <td>0</td>\n",
              "      <td>0</td>\n",
              "      <td>0</td>\n",
              "      <td>0</td>\n",
              "      <td>0</td>\n",
              "      <td>0</td>\n",
              "      <td>0</td>\n",
              "      <td>...</td>\n",
              "      <td>0</td>\n",
              "      <td>0</td>\n",
              "      <td>0</td>\n",
              "      <td>0</td>\n",
              "      <td>0</td>\n",
              "      <td>0</td>\n",
              "      <td>0</td>\n",
              "      <td>0</td>\n",
              "      <td>0</td>\n",
              "      <td>0</td>\n",
              "    </tr>\n",
              "    <tr>\n",
              "      <th>5568</th>\n",
              "      <td>0</td>\n",
              "      <td>0</td>\n",
              "      <td>0</td>\n",
              "      <td>0</td>\n",
              "      <td>0</td>\n",
              "      <td>0</td>\n",
              "      <td>0</td>\n",
              "      <td>0</td>\n",
              "      <td>0</td>\n",
              "      <td>0</td>\n",
              "      <td>...</td>\n",
              "      <td>0</td>\n",
              "      <td>0</td>\n",
              "      <td>0</td>\n",
              "      <td>0</td>\n",
              "      <td>0</td>\n",
              "      <td>0</td>\n",
              "      <td>0</td>\n",
              "      <td>0</td>\n",
              "      <td>0</td>\n",
              "      <td>0</td>\n",
              "    </tr>\n",
              "    <tr>\n",
              "      <th>5569</th>\n",
              "      <td>0</td>\n",
              "      <td>0</td>\n",
              "      <td>0</td>\n",
              "      <td>0</td>\n",
              "      <td>0</td>\n",
              "      <td>0</td>\n",
              "      <td>0</td>\n",
              "      <td>0</td>\n",
              "      <td>0</td>\n",
              "      <td>0</td>\n",
              "      <td>...</td>\n",
              "      <td>0</td>\n",
              "      <td>0</td>\n",
              "      <td>0</td>\n",
              "      <td>0</td>\n",
              "      <td>0</td>\n",
              "      <td>0</td>\n",
              "      <td>0</td>\n",
              "      <td>0</td>\n",
              "      <td>0</td>\n",
              "      <td>0</td>\n",
              "    </tr>\n",
              "    <tr>\n",
              "      <th>5570</th>\n",
              "      <td>0</td>\n",
              "      <td>0</td>\n",
              "      <td>0</td>\n",
              "      <td>0</td>\n",
              "      <td>0</td>\n",
              "      <td>0</td>\n",
              "      <td>0</td>\n",
              "      <td>0</td>\n",
              "      <td>0</td>\n",
              "      <td>0</td>\n",
              "      <td>...</td>\n",
              "      <td>0</td>\n",
              "      <td>0</td>\n",
              "      <td>0</td>\n",
              "      <td>0</td>\n",
              "      <td>0</td>\n",
              "      <td>0</td>\n",
              "      <td>0</td>\n",
              "      <td>0</td>\n",
              "      <td>0</td>\n",
              "      <td>0</td>\n",
              "    </tr>\n",
              "    <tr>\n",
              "      <th>5571</th>\n",
              "      <td>0</td>\n",
              "      <td>0</td>\n",
              "      <td>0</td>\n",
              "      <td>0</td>\n",
              "      <td>0</td>\n",
              "      <td>0</td>\n",
              "      <td>0</td>\n",
              "      <td>0</td>\n",
              "      <td>0</td>\n",
              "      <td>0</td>\n",
              "      <td>...</td>\n",
              "      <td>0</td>\n",
              "      <td>0</td>\n",
              "      <td>0</td>\n",
              "      <td>0</td>\n",
              "      <td>0</td>\n",
              "      <td>0</td>\n",
              "      <td>0</td>\n",
              "      <td>0</td>\n",
              "      <td>0</td>\n",
              "      <td>0</td>\n",
              "    </tr>\n",
              "  </tbody>\n",
              "</table>\n",
              "<p>5572 rows × 7495 columns</p>\n",
              "</div>\n",
              "      <button class=\"colab-df-convert\" onclick=\"convertToInteractive('df-cb0695ed-a717-400c-a739-7d7cb3648737')\"\n",
              "              title=\"Convert this dataframe to an interactive table.\"\n",
              "              style=\"display:none;\">\n",
              "        \n",
              "  <svg xmlns=\"http://www.w3.org/2000/svg\" height=\"24px\"viewBox=\"0 0 24 24\"\n",
              "       width=\"24px\">\n",
              "    <path d=\"M0 0h24v24H0V0z\" fill=\"none\"/>\n",
              "    <path d=\"M18.56 5.44l.94 2.06.94-2.06 2.06-.94-2.06-.94-.94-2.06-.94 2.06-2.06.94zm-11 1L8.5 8.5l.94-2.06 2.06-.94-2.06-.94L8.5 2.5l-.94 2.06-2.06.94zm10 10l.94 2.06.94-2.06 2.06-.94-2.06-.94-.94-2.06-.94 2.06-2.06.94z\"/><path d=\"M17.41 7.96l-1.37-1.37c-.4-.4-.92-.59-1.43-.59-.52 0-1.04.2-1.43.59L10.3 9.45l-7.72 7.72c-.78.78-.78 2.05 0 2.83L4 21.41c.39.39.9.59 1.41.59.51 0 1.02-.2 1.41-.59l7.78-7.78 2.81-2.81c.8-.78.8-2.07 0-2.86zM5.41 20L4 18.59l7.72-7.72 1.47 1.35L5.41 20z\"/>\n",
              "  </svg>\n",
              "      </button>\n",
              "      \n",
              "  <style>\n",
              "    .colab-df-container {\n",
              "      display:flex;\n",
              "      flex-wrap:wrap;\n",
              "      gap: 12px;\n",
              "    }\n",
              "\n",
              "    .colab-df-convert {\n",
              "      background-color: #E8F0FE;\n",
              "      border: none;\n",
              "      border-radius: 50%;\n",
              "      cursor: pointer;\n",
              "      display: none;\n",
              "      fill: #1967D2;\n",
              "      height: 32px;\n",
              "      padding: 0 0 0 0;\n",
              "      width: 32px;\n",
              "    }\n",
              "\n",
              "    .colab-df-convert:hover {\n",
              "      background-color: #E2EBFA;\n",
              "      box-shadow: 0px 1px 2px rgba(60, 64, 67, 0.3), 0px 1px 3px 1px rgba(60, 64, 67, 0.15);\n",
              "      fill: #174EA6;\n",
              "    }\n",
              "\n",
              "    [theme=dark] .colab-df-convert {\n",
              "      background-color: #3B4455;\n",
              "      fill: #D2E3FC;\n",
              "    }\n",
              "\n",
              "    [theme=dark] .colab-df-convert:hover {\n",
              "      background-color: #434B5C;\n",
              "      box-shadow: 0px 1px 3px 1px rgba(0, 0, 0, 0.15);\n",
              "      filter: drop-shadow(0px 1px 2px rgba(0, 0, 0, 0.3));\n",
              "      fill: #FFFFFF;\n",
              "    }\n",
              "  </style>\n",
              "\n",
              "      <script>\n",
              "        const buttonEl =\n",
              "          document.querySelector('#df-cb0695ed-a717-400c-a739-7d7cb3648737 button.colab-df-convert');\n",
              "        buttonEl.style.display =\n",
              "          google.colab.kernel.accessAllowed ? 'block' : 'none';\n",
              "\n",
              "        async function convertToInteractive(key) {\n",
              "          const element = document.querySelector('#df-cb0695ed-a717-400c-a739-7d7cb3648737');\n",
              "          const dataTable =\n",
              "            await google.colab.kernel.invokeFunction('convertToInteractive',\n",
              "                                                     [key], {});\n",
              "          if (!dataTable) return;\n",
              "\n",
              "          const docLinkHtml = 'Like what you see? Visit the ' +\n",
              "            '<a target=\"_blank\" href=https://colab.research.google.com/notebooks/data_table.ipynb>data table notebook</a>'\n",
              "            + ' to learn more about interactive tables.';\n",
              "          element.innerHTML = '';\n",
              "          dataTable['output_type'] = 'display_data';\n",
              "          await google.colab.output.renderOutput(dataTable, element);\n",
              "          const docLink = document.createElement('div');\n",
              "          docLink.innerHTML = docLinkHtml;\n",
              "          element.appendChild(docLink);\n",
              "        }\n",
              "      </script>\n",
              "    </div>\n",
              "  </div>\n",
              "  "
            ]
          },
          "metadata": {},
          "execution_count": 102
        }
      ]
    },
    {
      "cell_type": "markdown",
      "source": [
        "##IV. Topic Modelling"
      ],
      "metadata": {
        "id": "1wQmxF0yuuKp"
      }
    },
    {
      "cell_type": "code",
      "source": [
        "import pandas as pd\n",
        "df = pd.read_csv('/content/drive/MyDrive/Colab Notebooks/Data Mining/Dataset/lab7data/random_headlines.csv')"
      ],
      "metadata": {
        "colab": {
          "base_uri": "https://localhost:8080/"
        },
        "id": "lArx6Cc_urs9",
        "outputId": "9fc4069e-c5c9-4162-9a49-fda7510f2e46"
      },
      "execution_count": 3,
      "outputs": [
        {
          "output_type": "stream",
          "name": "stderr",
          "text": [
            "/usr/local/lib/python3.10/dist-packages/ipykernel/ipkernel.py:283: DeprecationWarning: `should_run_async` will not call `transform_cell` automatically in the future. Please pass the result to `transformed_cell` argument and any exception that happen during thetransform in `preprocessing_exc_tuple` in IPython 7.17 and above.\n",
            "  and should_run_async(code)\n"
          ]
        }
      ]
    },
    {
      "cell_type": "code",
      "source": [
        "df.head(10)"
      ],
      "metadata": {
        "colab": {
          "base_uri": "https://localhost:8080/",
          "height": 418
        },
        "id": "Fp2oC-pFu0aw",
        "outputId": "c37c4aca-c642-4714-eb73-366a2a9dfbbc"
      },
      "execution_count": 4,
      "outputs": [
        {
          "output_type": "stream",
          "name": "stderr",
          "text": [
            "/usr/local/lib/python3.10/dist-packages/ipykernel/ipkernel.py:283: DeprecationWarning: `should_run_async` will not call `transform_cell` automatically in the future. Please pass the result to `transformed_cell` argument and any exception that happen during thetransform in `preprocessing_exc_tuple` in IPython 7.17 and above.\n",
            "  and should_run_async(code)\n"
          ]
        },
        {
          "output_type": "execute_result",
          "data": {
            "text/plain": [
              "   publish_date                                headline_text\n",
              "0      20120305        ute driver hurt in intersection crash\n",
              "1      20081128                 6yo dies in cycling accident\n",
              "2      20090325                bumper olive harvest expected\n",
              "3      20100201           replica replaces northernmost sign\n",
              "4      20080225                 woods targets perfect season\n",
              "5      20091120   leckie salvages dramatic draw for adelaide\n",
              "6      20031024          group to gauge rail services future\n",
              "7      20130304         anti hunting rally still going ahead\n",
              "8      20081115          dr congo refugees receive first aid\n",
              "9      20130304  thailand signs agreement with muslim rebels"
            ],
            "text/html": [
              "\n",
              "  <div id=\"df-9e8f19e5-ba87-4099-a89b-cf7b55be5a6f\">\n",
              "    <div class=\"colab-df-container\">\n",
              "      <div>\n",
              "<style scoped>\n",
              "    .dataframe tbody tr th:only-of-type {\n",
              "        vertical-align: middle;\n",
              "    }\n",
              "\n",
              "    .dataframe tbody tr th {\n",
              "        vertical-align: top;\n",
              "    }\n",
              "\n",
              "    .dataframe thead th {\n",
              "        text-align: right;\n",
              "    }\n",
              "</style>\n",
              "<table border=\"1\" class=\"dataframe\">\n",
              "  <thead>\n",
              "    <tr style=\"text-align: right;\">\n",
              "      <th></th>\n",
              "      <th>publish_date</th>\n",
              "      <th>headline_text</th>\n",
              "    </tr>\n",
              "  </thead>\n",
              "  <tbody>\n",
              "    <tr>\n",
              "      <th>0</th>\n",
              "      <td>20120305</td>\n",
              "      <td>ute driver hurt in intersection crash</td>\n",
              "    </tr>\n",
              "    <tr>\n",
              "      <th>1</th>\n",
              "      <td>20081128</td>\n",
              "      <td>6yo dies in cycling accident</td>\n",
              "    </tr>\n",
              "    <tr>\n",
              "      <th>2</th>\n",
              "      <td>20090325</td>\n",
              "      <td>bumper olive harvest expected</td>\n",
              "    </tr>\n",
              "    <tr>\n",
              "      <th>3</th>\n",
              "      <td>20100201</td>\n",
              "      <td>replica replaces northernmost sign</td>\n",
              "    </tr>\n",
              "    <tr>\n",
              "      <th>4</th>\n",
              "      <td>20080225</td>\n",
              "      <td>woods targets perfect season</td>\n",
              "    </tr>\n",
              "    <tr>\n",
              "      <th>5</th>\n",
              "      <td>20091120</td>\n",
              "      <td>leckie salvages dramatic draw for adelaide</td>\n",
              "    </tr>\n",
              "    <tr>\n",
              "      <th>6</th>\n",
              "      <td>20031024</td>\n",
              "      <td>group to gauge rail services future</td>\n",
              "    </tr>\n",
              "    <tr>\n",
              "      <th>7</th>\n",
              "      <td>20130304</td>\n",
              "      <td>anti hunting rally still going ahead</td>\n",
              "    </tr>\n",
              "    <tr>\n",
              "      <th>8</th>\n",
              "      <td>20081115</td>\n",
              "      <td>dr congo refugees receive first aid</td>\n",
              "    </tr>\n",
              "    <tr>\n",
              "      <th>9</th>\n",
              "      <td>20130304</td>\n",
              "      <td>thailand signs agreement with muslim rebels</td>\n",
              "    </tr>\n",
              "  </tbody>\n",
              "</table>\n",
              "</div>\n",
              "      <button class=\"colab-df-convert\" onclick=\"convertToInteractive('df-9e8f19e5-ba87-4099-a89b-cf7b55be5a6f')\"\n",
              "              title=\"Convert this dataframe to an interactive table.\"\n",
              "              style=\"display:none;\">\n",
              "        \n",
              "  <svg xmlns=\"http://www.w3.org/2000/svg\" height=\"24px\"viewBox=\"0 0 24 24\"\n",
              "       width=\"24px\">\n",
              "    <path d=\"M0 0h24v24H0V0z\" fill=\"none\"/>\n",
              "    <path d=\"M18.56 5.44l.94 2.06.94-2.06 2.06-.94-2.06-.94-.94-2.06-.94 2.06-2.06.94zm-11 1L8.5 8.5l.94-2.06 2.06-.94-2.06-.94L8.5 2.5l-.94 2.06-2.06.94zm10 10l.94 2.06.94-2.06 2.06-.94-2.06-.94-.94-2.06-.94 2.06-2.06.94z\"/><path d=\"M17.41 7.96l-1.37-1.37c-.4-.4-.92-.59-1.43-.59-.52 0-1.04.2-1.43.59L10.3 9.45l-7.72 7.72c-.78.78-.78 2.05 0 2.83L4 21.41c.39.39.9.59 1.41.59.51 0 1.02-.2 1.41-.59l7.78-7.78 2.81-2.81c.8-.78.8-2.07 0-2.86zM5.41 20L4 18.59l7.72-7.72 1.47 1.35L5.41 20z\"/>\n",
              "  </svg>\n",
              "      </button>\n",
              "      \n",
              "  <style>\n",
              "    .colab-df-container {\n",
              "      display:flex;\n",
              "      flex-wrap:wrap;\n",
              "      gap: 12px;\n",
              "    }\n",
              "\n",
              "    .colab-df-convert {\n",
              "      background-color: #E8F0FE;\n",
              "      border: none;\n",
              "      border-radius: 50%;\n",
              "      cursor: pointer;\n",
              "      display: none;\n",
              "      fill: #1967D2;\n",
              "      height: 32px;\n",
              "      padding: 0 0 0 0;\n",
              "      width: 32px;\n",
              "    }\n",
              "\n",
              "    .colab-df-convert:hover {\n",
              "      background-color: #E2EBFA;\n",
              "      box-shadow: 0px 1px 2px rgba(60, 64, 67, 0.3), 0px 1px 3px 1px rgba(60, 64, 67, 0.15);\n",
              "      fill: #174EA6;\n",
              "    }\n",
              "\n",
              "    [theme=dark] .colab-df-convert {\n",
              "      background-color: #3B4455;\n",
              "      fill: #D2E3FC;\n",
              "    }\n",
              "\n",
              "    [theme=dark] .colab-df-convert:hover {\n",
              "      background-color: #434B5C;\n",
              "      box-shadow: 0px 1px 3px 1px rgba(0, 0, 0, 0.15);\n",
              "      filter: drop-shadow(0px 1px 2px rgba(0, 0, 0, 0.3));\n",
              "      fill: #FFFFFF;\n",
              "    }\n",
              "  </style>\n",
              "\n",
              "      <script>\n",
              "        const buttonEl =\n",
              "          document.querySelector('#df-9e8f19e5-ba87-4099-a89b-cf7b55be5a6f button.colab-df-convert');\n",
              "        buttonEl.style.display =\n",
              "          google.colab.kernel.accessAllowed ? 'block' : 'none';\n",
              "\n",
              "        async function convertToInteractive(key) {\n",
              "          const element = document.querySelector('#df-9e8f19e5-ba87-4099-a89b-cf7b55be5a6f');\n",
              "          const dataTable =\n",
              "            await google.colab.kernel.invokeFunction('convertToInteractive',\n",
              "                                                     [key], {});\n",
              "          if (!dataTable) return;\n",
              "\n",
              "          const docLinkHtml = 'Like what you see? Visit the ' +\n",
              "            '<a target=\"_blank\" href=https://colab.research.google.com/notebooks/data_table.ipynb>data table notebook</a>'\n",
              "            + ' to learn more about interactive tables.';\n",
              "          element.innerHTML = '';\n",
              "          dataTable['output_type'] = 'display_data';\n",
              "          await google.colab.output.renderOutput(dataTable, element);\n",
              "          const docLink = document.createElement('div');\n",
              "          docLink.innerHTML = docLinkHtml;\n",
              "          element.appendChild(docLink);\n",
              "        }\n",
              "      </script>\n",
              "    </div>\n",
              "  </div>\n",
              "  "
            ]
          },
          "metadata": {},
          "execution_count": 4
        }
      ]
    },
    {
      "cell_type": "code",
      "source": [
        "df.info()"
      ],
      "metadata": {
        "colab": {
          "base_uri": "https://localhost:8080/"
        },
        "id": "TNjaBRfLu3IM",
        "outputId": "7b9ce07b-7802-49cb-e4ee-fc6f15bd9dd7"
      },
      "execution_count": 5,
      "outputs": [
        {
          "output_type": "stream",
          "name": "stdout",
          "text": [
            "<class 'pandas.core.frame.DataFrame'>\n",
            "RangeIndex: 20000 entries, 0 to 19999\n",
            "Data columns (total 2 columns):\n",
            " #   Column         Non-Null Count  Dtype \n",
            "---  ------         --------------  ----- \n",
            " 0   publish_date   20000 non-null  int64 \n",
            " 1   headline_text  20000 non-null  object\n",
            "dtypes: int64(1), object(1)\n",
            "memory usage: 312.6+ KB\n"
          ]
        },
        {
          "output_type": "stream",
          "name": "stderr",
          "text": [
            "/usr/local/lib/python3.10/dist-packages/ipykernel/ipkernel.py:283: DeprecationWarning: `should_run_async` will not call `transform_cell` automatically in the future. Please pass the result to `transformed_cell` argument and any exception that happen during thetransform in `preprocessing_exc_tuple` in IPython 7.17 and above.\n",
            "  and should_run_async(code)\n"
          ]
        }
      ]
    },
    {
      "cell_type": "code",
      "source": [
        "import pandas as pd\n",
        "import nltk\n",
        "from nltk.corpus import stopwords\n",
        "from nltk.tokenize import word_tokenize\n",
        "from nltk.stem import PorterStemmer, WordNetLemmatizer\n",
        "import string"
      ],
      "metadata": {
        "colab": {
          "base_uri": "https://localhost:8080/"
        },
        "id": "t7HoA-sfu6Oj",
        "outputId": "5240ff19-940a-41b0-dc67-4e59f3bc9190"
      },
      "execution_count": 6,
      "outputs": [
        {
          "output_type": "stream",
          "name": "stderr",
          "text": [
            "/usr/local/lib/python3.10/dist-packages/ipykernel/ipkernel.py:283: DeprecationWarning: `should_run_async` will not call `transform_cell` automatically in the future. Please pass the result to `transformed_cell` argument and any exception that happen during thetransform in `preprocessing_exc_tuple` in IPython 7.17 and above.\n",
            "  and should_run_async(code)\n"
          ]
        }
      ]
    },
    {
      "cell_type": "code",
      "source": [
        "df['lowercase'] = df['headline_text'].str.lower()\n",
        "df['tokens'] = df['lowercase'].apply(word_tokenize)\n",
        "df['no_punctuation'] = df['tokens'].apply(lambda tokens: [token for token in tokens if token not in string.punctuation])\n",
        "stopwords_set = set(stopwords.words('english'))\n",
        "df['no_stopwords'] = df['no_punctuation'].apply(lambda tokens: [token for token in tokens if token not in stopwords_set])\n",
        "stemmer = PorterStemmer()\n",
        "df['stemmed'] = df['no_stopwords'].apply(lambda tokens: [stemmer.stem(token) for token in tokens])"
      ],
      "metadata": {
        "colab": {
          "base_uri": "https://localhost:8080/"
        },
        "id": "CDvriAl-u7b2",
        "outputId": "6497f8e5-ffff-407a-8b2c-87067cb12f3a"
      },
      "execution_count": 7,
      "outputs": [
        {
          "output_type": "stream",
          "name": "stderr",
          "text": [
            "/usr/local/lib/python3.10/dist-packages/ipykernel/ipkernel.py:283: DeprecationWarning: `should_run_async` will not call `transform_cell` automatically in the future. Please pass the result to `transformed_cell` argument and any exception that happen during thetransform in `preprocessing_exc_tuple` in IPython 7.17 and above.\n",
            "  and should_run_async(code)\n"
          ]
        }
      ]
    },
    {
      "cell_type": "code",
      "source": [
        "df['stemmed']"
      ],
      "metadata": {
        "colab": {
          "base_uri": "https://localhost:8080/"
        },
        "id": "XwTRabDUu8nk",
        "outputId": "703cb5bb-2bc7-4ad1-aff5-587f98109d48"
      },
      "execution_count": 8,
      "outputs": [
        {
          "output_type": "stream",
          "name": "stderr",
          "text": [
            "/usr/local/lib/python3.10/dist-packages/ipykernel/ipkernel.py:283: DeprecationWarning: `should_run_async` will not call `transform_cell` automatically in the future. Please pass the result to `transformed_cell` argument and any exception that happen during thetransform in `preprocessing_exc_tuple` in IPython 7.17 and above.\n",
            "  and should_run_async(code)\n"
          ]
        },
        {
          "output_type": "execute_result",
          "data": {
            "text/plain": [
              "0                    [ute, driver, hurt, intersect, crash]\n",
              "1                                  [6yo, die, cycl, accid]\n",
              "2                          [bumper, oliv, harvest, expect]\n",
              "3                    [replica, replac, northernmost, sign]\n",
              "4                          [wood, target, perfect, season]\n",
              "                               ...                        \n",
              "19995               [judg, attack, walkinshaw, run, arrow]\n",
              "19996           [polish, govt, collaps, elect, held, next]\n",
              "19997                              [drum, friday, may, 29]\n",
              "19998            [winterbottom, bathurst, provision, pole]\n",
              "19999    [pull, pork, pawpaw, salad, local, success, st...\n",
              "Name: stemmed, Length: 20000, dtype: object"
            ]
          },
          "metadata": {},
          "execution_count": 8
        }
      ]
    },
    {
      "cell_type": "code",
      "source": [
        "!pip install gensim"
      ],
      "metadata": {
        "colab": {
          "base_uri": "https://localhost:8080/"
        },
        "id": "7AfrAp9xu-t_",
        "outputId": "01c0bc7f-6cbe-4de0-a911-e50a37c6ccd0"
      },
      "execution_count": 9,
      "outputs": [
        {
          "output_type": "stream",
          "name": "stderr",
          "text": [
            "/usr/local/lib/python3.10/dist-packages/ipykernel/ipkernel.py:283: DeprecationWarning: `should_run_async` will not call `transform_cell` automatically in the future. Please pass the result to `transformed_cell` argument and any exception that happen during thetransform in `preprocessing_exc_tuple` in IPython 7.17 and above.\n",
            "  and should_run_async(code)\n"
          ]
        },
        {
          "output_type": "stream",
          "name": "stdout",
          "text": [
            "Looking in indexes: https://pypi.org/simple, https://us-python.pkg.dev/colab-wheels/public/simple/\n",
            "Requirement already satisfied: gensim in /usr/local/lib/python3.10/dist-packages (4.3.1)\n",
            "Requirement already satisfied: numpy>=1.18.5 in /usr/local/lib/python3.10/dist-packages (from gensim) (1.24.3)\n",
            "Requirement already satisfied: scipy>=1.7.0 in /usr/local/lib/python3.10/dist-packages (from gensim) (1.10.1)\n",
            "Requirement already satisfied: smart-open>=1.8.1 in /usr/local/lib/python3.10/dist-packages (from gensim) (6.3.0)\n"
          ]
        }
      ]
    },
    {
      "cell_type": "code",
      "source": [
        "import pandas as pd\n",
        "import nltk\n",
        "from nltk.corpus import stopwords\n",
        "from nltk.tokenize import word_tokenize\n",
        "from nltk.stem import PorterStemmer, WordNetLemmatizer\n",
        "import string\n",
        "from gensim.corpora import Dictionary"
      ],
      "metadata": {
        "colab": {
          "base_uri": "https://localhost:8080/"
        },
        "id": "Tz0BVnU6vAEi",
        "outputId": "08c58e86-bba8-4886-a87c-9a36ea471247"
      },
      "execution_count": 10,
      "outputs": [
        {
          "output_type": "stream",
          "name": "stderr",
          "text": [
            "/usr/local/lib/python3.10/dist-packages/ipykernel/ipkernel.py:283: DeprecationWarning: `should_run_async` will not call `transform_cell` automatically in the future. Please pass the result to `transformed_cell` argument and any exception that happen during thetransform in `preprocessing_exc_tuple` in IPython 7.17 and above.\n",
            "  and should_run_async(code)\n",
            "/usr/local/lib/python3.10/dist-packages/google/rpc/__init__.py:20: DeprecationWarning: Deprecated call to `pkg_resources.declare_namespace('google.rpc')`.\n",
            "Implementing implicit namespace packages (as specified in PEP 420) is preferred to `pkg_resources.declare_namespace`. See https://setuptools.pypa.io/en/latest/references/keywords.html#keyword-namespace-packages\n",
            "  pkg_resources.declare_namespace(__name__)\n",
            "/usr/local/lib/python3.10/dist-packages/pkg_resources/__init__.py:2349: DeprecationWarning: Deprecated call to `pkg_resources.declare_namespace('google')`.\n",
            "Implementing implicit namespace packages (as specified in PEP 420) is preferred to `pkg_resources.declare_namespace`. See https://setuptools.pypa.io/en/latest/references/keywords.html#keyword-namespace-packages\n",
            "  declare_namespace(parent)\n"
          ]
        }
      ]
    },
    {
      "cell_type": "code",
      "source": [
        "lemmatizer = WordNetLemmatizer()\n",
        "df['lemmatized'] = df['no_stopwords'].apply(lambda tokens: [lemmatizer.lemmatize(token) for token in tokens])"
      ],
      "metadata": {
        "colab": {
          "base_uri": "https://localhost:8080/"
        },
        "id": "gTmrb55evEGm",
        "outputId": "73ae56ef-a195-4ab2-f4a7-e50d6eb2984f"
      },
      "execution_count": 11,
      "outputs": [
        {
          "output_type": "stream",
          "name": "stderr",
          "text": [
            "/usr/local/lib/python3.10/dist-packages/ipykernel/ipkernel.py:283: DeprecationWarning: `should_run_async` will not call `transform_cell` automatically in the future. Please pass the result to `transformed_cell` argument and any exception that happen during thetransform in `preprocessing_exc_tuple` in IPython 7.17 and above.\n",
            "  and should_run_async(code)\n"
          ]
        }
      ]
    },
    {
      "cell_type": "code",
      "source": [
        "# Create a dictionary of the tokens\n",
        "dictionary = Dictionary(df['stemmed'])\n",
        "\n",
        "# Filter out rare and common tokens\n",
        "dictionary.filter_extremes(no_below=5, no_above=0.5)\n",
        "\n",
        "# Convert each headline to its BOW representation\n",
        "df['bow'] = df['stemmed'].apply(lambda tokens: dictionary.doc2bow(tokens))"
      ],
      "metadata": {
        "colab": {
          "base_uri": "https://localhost:8080/"
        },
        "id": "lCJHQaGUvFdZ",
        "outputId": "c966f8fc-c1fd-48f7-82fa-6c54e8f68f09"
      },
      "execution_count": 12,
      "outputs": [
        {
          "output_type": "stream",
          "name": "stderr",
          "text": [
            "/usr/local/lib/python3.10/dist-packages/ipykernel/ipkernel.py:283: DeprecationWarning: `should_run_async` will not call `transform_cell` automatically in the future. Please pass the result to `transformed_cell` argument and any exception that happen during thetransform in `preprocessing_exc_tuple` in IPython 7.17 and above.\n",
            "  and should_run_async(code)\n"
          ]
        }
      ]
    },
    {
      "cell_type": "code",
      "source": [
        "df['bow']"
      ],
      "metadata": {
        "colab": {
          "base_uri": "https://localhost:8080/"
        },
        "id": "f8VAAL4ivXPP",
        "outputId": "9e2bf368-2d84-476e-aebe-023d623b29b0"
      },
      "execution_count": 13,
      "outputs": [
        {
          "output_type": "stream",
          "name": "stderr",
          "text": [
            "/usr/local/lib/python3.10/dist-packages/ipykernel/ipkernel.py:283: DeprecationWarning: `should_run_async` will not call `transform_cell` automatically in the future. Please pass the result to `transformed_cell` argument and any exception that happen during thetransform in `preprocessing_exc_tuple` in IPython 7.17 and above.\n",
            "  and should_run_async(code)\n"
          ]
        },
        {
          "output_type": "execute_result",
          "data": {
            "text/plain": [
              "0                         [(0, 1), (1, 1), (2, 1), (3, 1)]\n",
              "1                                 [(4, 1), (5, 1), (6, 1)]\n",
              "2                                 [(7, 1), (8, 1), (9, 1)]\n",
              "3                                       [(10, 1), (11, 1)]\n",
              "4                     [(12, 1), (13, 1), (14, 1), (15, 1)]\n",
              "                               ...                        \n",
              "19995                        [(94, 1), (612, 1), (791, 1)]\n",
              "19996    [(306, 1), (502, 1), (1125, 1), (1279, 1), (16...\n",
              "19997            [(122, 1), (362, 1), (435, 1), (1929, 1)]\n",
              "19998                                [(129, 1), (2498, 1)]\n",
              "19999    [(767, 1), (1327, 1), (1500, 1), (1927, 1), (2...\n",
              "Name: bow, Length: 20000, dtype: object"
            ]
          },
          "metadata": {},
          "execution_count": 13
        }
      ]
    },
    {
      "cell_type": "code",
      "source": [
        "from gensim.corpora import Dictionary\n",
        "from gensim.models import TfidfModel"
      ],
      "metadata": {
        "colab": {
          "base_uri": "https://localhost:8080/"
        },
        "id": "EA7RvIjdvXed",
        "outputId": "b3cd7abb-533f-434e-9635-99d344eb65a8"
      },
      "execution_count": 14,
      "outputs": [
        {
          "output_type": "stream",
          "name": "stderr",
          "text": [
            "/usr/local/lib/python3.10/dist-packages/ipykernel/ipkernel.py:283: DeprecationWarning: `should_run_async` will not call `transform_cell` automatically in the future. Please pass the result to `transformed_cell` argument and any exception that happen during thetransform in `preprocessing_exc_tuple` in IPython 7.17 and above.\n",
            "  and should_run_async(code)\n"
          ]
        }
      ]
    },
    {
      "cell_type": "code",
      "source": [
        "# Create a dictionary of the tokens\n",
        "dictionary = Dictionary(df['stemmed'])\n",
        "\n",
        "# Filter out rare and common tokens\n",
        "dictionary.filter_extremes(no_below=5, no_above=0.5)\n",
        "\n",
        "# Convert each headline to its BOW representation\n",
        "df['bow'] = df['stemmed'].apply(lambda tokens: dictionary.doc2bow(tokens))\n",
        "\n",
        "# Create a list of BOW representations\n",
        "bow_corpus = df['bow'].tolist()\n",
        "\n",
        "# Create the TF-IDF model\n",
        "tfidf_model = TfidfModel(bow_corpus)\n",
        "\n",
        "# Convert each BOW representation to TF-IDF representation\n",
        "df['tfidf'] = df['bow'].apply(lambda bow: tfidf_model[bow])"
      ],
      "metadata": {
        "colab": {
          "base_uri": "https://localhost:8080/"
        },
        "id": "edL3mgkSvY2H",
        "outputId": "2b293b79-f68a-4406-cc28-efb29bbe8cbe"
      },
      "execution_count": 15,
      "outputs": [
        {
          "output_type": "stream",
          "name": "stderr",
          "text": [
            "/usr/local/lib/python3.10/dist-packages/ipykernel/ipkernel.py:283: DeprecationWarning: `should_run_async` will not call `transform_cell` automatically in the future. Please pass the result to `transformed_cell` argument and any exception that happen during thetransform in `preprocessing_exc_tuple` in IPython 7.17 and above.\n",
            "  and should_run_async(code)\n"
          ]
        }
      ]
    },
    {
      "cell_type": "code",
      "source": [
        "df['tfidf']"
      ],
      "metadata": {
        "colab": {
          "base_uri": "https://localhost:8080/"
        },
        "id": "iwoIiwKvvakY",
        "outputId": "11590d8b-f643-49f4-e458-2e276546efe2"
      },
      "execution_count": 16,
      "outputs": [
        {
          "output_type": "stream",
          "name": "stderr",
          "text": [
            "/usr/local/lib/python3.10/dist-packages/ipykernel/ipkernel.py:283: DeprecationWarning: `should_run_async` will not call `transform_cell` automatically in the future. Please pass the result to `transformed_cell` argument and any exception that happen during thetransform in `preprocessing_exc_tuple` in IPython 7.17 and above.\n",
            "  and should_run_async(code)\n"
          ]
        },
        {
          "output_type": "execute_result",
          "data": {
            "text/plain": [
              "0        [(0, 0.38380472505678387), (1, 0.4408152091819...\n",
              "1        [(4, 0.565040562691219), (5, 0.678282623325040...\n",
              "2        [(7, 0.4778523954688469), (8, 0.56145873585743...\n",
              "3        [(10, 0.7596694993542321), (11, 0.650309350809...\n",
              "4        [(12, 0.5937887452228604), (13, 0.432499245079...\n",
              "                               ...                        \n",
              "19995    [(94, 0.6788936377183876), (612, 0.47999246040...\n",
              "19996    [(306, 0.3169859350661769), (502, 0.2621260609...\n",
              "19997    [(122, 0.37474224836119696), (362, 0.485431117...\n",
              "19998    [(129, 0.6582992963848873), (2498, 0.752756292...\n",
              "19999    [(767, 0.43161038088504416), (1327, 0.42560245...\n",
              "Name: tfidf, Length: 20000, dtype: object"
            ]
          },
          "metadata": {},
          "execution_count": 16
        }
      ]
    },
    {
      "cell_type": "code",
      "source": [
        "from gensim.models import  LsiModel\n"
      ],
      "metadata": {
        "colab": {
          "base_uri": "https://localhost:8080/"
        },
        "id": "9a3O6on0vb1t",
        "outputId": "e1f4eaea-002d-4376-fbc9-cc8c8403d292"
      },
      "execution_count": 17,
      "outputs": [
        {
          "output_type": "stream",
          "name": "stderr",
          "text": [
            "/usr/local/lib/python3.10/dist-packages/ipykernel/ipkernel.py:283: DeprecationWarning: `should_run_async` will not call `transform_cell` automatically in the future. Please pass the result to `transformed_cell` argument and any exception that happen during thetransform in `preprocessing_exc_tuple` in IPython 7.17 and above.\n",
            "  and should_run_async(code)\n"
          ]
        }
      ]
    },
    {
      "cell_type": "code",
      "source": [
        "# Convert each BOW representation to TF-IDF representation\n",
        "df['tfidf'] = df['bow'].apply(lambda bow: tfidf_model[bow])\n",
        "\n",
        "# Create the LSA model\n",
        "lsa_model = LsiModel(df['tfidf'], num_topics=10, id2word=dictionary)\n",
        "\n",
        "# Convert each TF-IDF representation to LSA representation\n",
        "df['lsa'] = df['tfidf'].apply(lambda tfidf: lsa_model[tfidf])"
      ],
      "metadata": {
        "colab": {
          "base_uri": "https://localhost:8080/"
        },
        "id": "_JenOM4WvdGt",
        "outputId": "5f13e2ba-076b-41e5-b024-bc1b48144c27"
      },
      "execution_count": 18,
      "outputs": [
        {
          "output_type": "stream",
          "name": "stderr",
          "text": [
            "/usr/local/lib/python3.10/dist-packages/ipykernel/ipkernel.py:283: DeprecationWarning: `should_run_async` will not call `transform_cell` automatically in the future. Please pass the result to `transformed_cell` argument and any exception that happen during thetransform in `preprocessing_exc_tuple` in IPython 7.17 and above.\n",
            "  and should_run_async(code)\n",
            "/usr/local/lib/python3.10/dist-packages/gensim/models/lsimodel.py:963: DeprecationWarning: Please use `csc_matvecs` from the `scipy.sparse` namespace, the `scipy.sparse.sparsetools` namespace is deprecated.\n",
            "  sparsetools.csc_matvecs(\n"
          ]
        }
      ]
    },
    {
      "cell_type": "code",
      "source": [
        "df['lsa']"
      ],
      "metadata": {
        "colab": {
          "base_uri": "https://localhost:8080/"
        },
        "id": "znlfGkngvePq",
        "outputId": "c839ed89-194d-4cde-8143-81002c4232d4"
      },
      "execution_count": 19,
      "outputs": [
        {
          "output_type": "stream",
          "name": "stderr",
          "text": [
            "/usr/local/lib/python3.10/dist-packages/ipykernel/ipkernel.py:283: DeprecationWarning: `should_run_async` will not call `transform_cell` automatically in the future. Please pass the result to `transformed_cell` argument and any exception that happen during thetransform in `preprocessing_exc_tuple` in IPython 7.17 and above.\n",
            "  and should_run_async(code)\n"
          ]
        },
        {
          "output_type": "execute_result",
          "data": {
            "text/plain": [
              "0        [(0, -0.0033935411516113284), (1, -0.077748995...\n",
              "1        [(0, -0.001086732422140537), (1, -0.0573453535...\n",
              "2        [(0, -1.3254659428515555e-05), (1, -0.00742302...\n",
              "3        [(0, -0.001808757013191303), (1, -0.0115937866...\n",
              "4        [(0, -0.0004817257645116932), (1, -0.013594784...\n",
              "                               ...                        \n",
              "19995    [(0, -0.0024517266209139197), (1, -0.077153417...\n",
              "19996    [(0, -0.0024098072362135877), (1, -0.041438051...\n",
              "19997    [(0, -0.0016987538892077115), (1, -0.014610127...\n",
              "19998    [(0, -0.00021843509015763657), (1, -0.00214503...\n",
              "19999    [(0, -0.0018246460831757663), (1, -0.011042086...\n",
              "Name: lsa, Length: 20000, dtype: object"
            ]
          },
          "metadata": {},
          "execution_count": 19
        }
      ]
    },
    {
      "cell_type": "code",
      "source": [
        "# Print the most significant words for each topic\n",
        "for topic_id, topic in lsa_model.show_topics(num_topics=10, num_words=4, formatted=False):\n",
        "    words = [f\"{word}: {weight:.3f}\" for word, weight in topic]\n",
        "    topic_str = f\"({topic_id}, '{', '.join(words)}')\"\n",
        "    print(topic_str)"
      ],
      "metadata": {
        "colab": {
          "base_uri": "https://localhost:8080/"
        },
        "id": "MURUu2SSvinO",
        "outputId": "75984389-0a4c-491e-8d24-4ff694332158"
      },
      "execution_count": 20,
      "outputs": [
        {
          "output_type": "stream",
          "name": "stdout",
          "text": [
            "(0, 'interview: -0.989, michael: -0.058, extend: -0.042, andrew: -0.038')\n",
            "(1, 'man: -0.466, polic: -0.384, charg: -0.322, court: -0.156')\n",
            "(2, 'man: 0.436, charg: 0.313, plan: -0.251, new: -0.222')\n",
            "(3, 'polic: 0.755, man: -0.224, charg: -0.220, second: -0.156')\n",
            "(4, 'second: -0.448, 90: -0.403, abc: -0.369, news: -0.353')\n",
            "(5, 'new: 0.813, plan: -0.281, council: -0.239, win: 0.142')\n",
            "(6, 'fire: 0.498, crash: 0.323, kill: 0.291, die: 0.252')\n",
            "(7, 'fire: 0.671, crash: -0.316, plan: -0.224, kill: -0.220')\n",
            "(8, 'win: 0.484, plan: -0.361, new: -0.320, court: 0.273')\n",
            "(9, 'court: -0.536, charg: 0.508, win: 0.254, say: 0.218')\n"
          ]
        },
        {
          "output_type": "stream",
          "name": "stderr",
          "text": [
            "/usr/local/lib/python3.10/dist-packages/ipykernel/ipkernel.py:283: DeprecationWarning: `should_run_async` will not call `transform_cell` automatically in the future. Please pass the result to `transformed_cell` argument and any exception that happen during thetransform in `preprocessing_exc_tuple` in IPython 7.17 and above.\n",
            "  and should_run_async(code)\n"
          ]
        }
      ]
    },
    {
      "cell_type": "code",
      "source": [
        "from gensim.models import  LdaModel"
      ],
      "metadata": {
        "colab": {
          "base_uri": "https://localhost:8080/"
        },
        "id": "KI_j9iiXvkML",
        "outputId": "246a69fb-0662-451f-ee0f-c3af56ee3819"
      },
      "execution_count": 21,
      "outputs": [
        {
          "output_type": "stream",
          "name": "stderr",
          "text": [
            "/usr/local/lib/python3.10/dist-packages/ipykernel/ipkernel.py:283: DeprecationWarning: `should_run_async` will not call `transform_cell` automatically in the future. Please pass the result to `transformed_cell` argument and any exception that happen during thetransform in `preprocessing_exc_tuple` in IPython 7.17 and above.\n",
            "  and should_run_async(code)\n"
          ]
        }
      ]
    },
    {
      "cell_type": "code",
      "source": [
        "lda_model = LdaModel(df['tfidf'], num_topics=10, id2word=dictionary)\n",
        "\n",
        "# Convert each TF-IDF representation to LDA representation\n",
        "df['lda'] = df['tfidf'].apply(lambda tfidf: lda_model[tfidf])\n",
        "df['lda']"
      ],
      "metadata": {
        "colab": {
          "base_uri": "https://localhost:8080/"
        },
        "id": "oUPN3DjsvlTu",
        "outputId": "9dff3055-0d96-4bc6-a21e-2f19d0574b8c"
      },
      "execution_count": 22,
      "outputs": [
        {
          "output_type": "stream",
          "name": "stderr",
          "text": [
            "/usr/local/lib/python3.10/dist-packages/ipykernel/ipkernel.py:283: DeprecationWarning: `should_run_async` will not call `transform_cell` automatically in the future. Please pass the result to `transformed_cell` argument and any exception that happen during thetransform in `preprocessing_exc_tuple` in IPython 7.17 and above.\n",
            "  and should_run_async(code)\n"
          ]
        },
        {
          "output_type": "execute_result",
          "data": {
            "text/plain": [
              "0        [(0, 0.033694904), (1, 0.03369024), (2, 0.0336...\n",
              "1        [(0, 0.036867063), (1, 0.036891278), (2, 0.036...\n",
              "2        [(0, 0.036837175), (1, 0.036837175), (2, 0.668...\n",
              "3        [(0, 0.041507255), (1, 0.041498974), (2, 0.324...\n",
              "4        [(0, 0.033539), (1, 0.033539), (2, 0.207205), ...\n",
              "                               ...                        \n",
              "19995    [(0, 0.03684443), (1, 0.31374565), (2, 0.03684...\n",
              "19996    [(0, 0.02960254), (1, 0.029600216), (2, 0.0296...\n",
              "19997    [(0, 0.033689767), (1, 0.033692963), (2, 0.033...\n",
              "19998    [(0, 0.041484676), (1, 0.31452215), (2, 0.0414...\n",
              "19999    [(0, 0.031084439), (1, 0.031084439), (2, 0.031...\n",
              "Name: lda, Length: 20000, dtype: object"
            ]
          },
          "metadata": {},
          "execution_count": 22
        }
      ]
    },
    {
      "cell_type": "code",
      "source": [
        "# Print the most frequent words for each topic\n",
        "for topic_id, topic in lda_model.show_topics(num_topics=10, num_words=3, formatted=False):\n",
        "    words = [f\"{word}: {weight:.3f}\" for word, weight in topic]\n",
        "    topic_str = f\"({topic_id}, '{', '.join(words)}')\"\n",
        "    print(topic_str)"
      ],
      "metadata": {
        "colab": {
          "base_uri": "https://localhost:8080/"
        },
        "id": "gp2zzbJLvmjC",
        "outputId": "ad39cb43-f6cb-4d75-9f37-945a5ab94bde"
      },
      "execution_count": 23,
      "outputs": [
        {
          "output_type": "stream",
          "name": "stdout",
          "text": [
            "(0, 'world: 0.010, market: 0.009, price: 0.008')\n",
            "(1, 'investig: 0.009, polic: 0.008, talk: 0.008')\n",
            "(2, 'found: 0.013, work: 0.011, england: 0.008')\n",
            "(3, 'crash: 0.013, miss: 0.011, polic: 0.011')\n",
            "(4, 'arrest: 0.010, dead: 0.008, dog: 0.007')\n",
            "(5, 'interview: 0.033, nation: 0.012, test: 0.010')\n",
            "(6, 'murder: 0.013, second: 0.012, man: 0.012')\n",
            "(7, 'abc: 0.013, sale: 0.009, drought: 0.009')\n",
            "(8, 'stand: 0.008, use: 0.008, show: 0.007')\n",
            "(9, 'review: 0.010, storm: 0.009, bodi: 0.008')\n"
          ]
        },
        {
          "output_type": "stream",
          "name": "stderr",
          "text": [
            "/usr/local/lib/python3.10/dist-packages/ipykernel/ipkernel.py:283: DeprecationWarning: `should_run_async` will not call `transform_cell` automatically in the future. Please pass the result to `transformed_cell` argument and any exception that happen during thetransform in `preprocessing_exc_tuple` in IPython 7.17 and above.\n",
            "  and should_run_async(code)\n"
          ]
        }
      ]
    },
    {
      "cell_type": "code",
      "source": [
        "import pyLDAvis.gensim_models as gensimvis\n",
        "import pyLDAvis"
      ],
      "metadata": {
        "colab": {
          "base_uri": "https://localhost:8080/"
        },
        "id": "NLM1FnKLvto6",
        "outputId": "c52df9d5-87ea-4a72-8fc2-65f49bea36a7"
      },
      "execution_count": 24,
      "outputs": [
        {
          "output_type": "stream",
          "name": "stderr",
          "text": [
            "/usr/local/lib/python3.10/dist-packages/ipykernel/ipkernel.py:283: DeprecationWarning: `should_run_async` will not call `transform_cell` automatically in the future. Please pass the result to `transformed_cell` argument and any exception that happen during thetransform in `preprocessing_exc_tuple` in IPython 7.17 and above.\n",
            "  and should_run_async(code)\n"
          ]
        }
      ]
    },
    {
      "cell_type": "code",
      "source": [
        "corpus = df['tfidf']\n",
        "id2word = dictionary"
      ],
      "metadata": {
        "colab": {
          "base_uri": "https://localhost:8080/"
        },
        "id": "qirZUjcCv8N4",
        "outputId": "22226e19-bf79-4d8c-cdea-8a6ab8c79a6d"
      },
      "execution_count": 25,
      "outputs": [
        {
          "output_type": "stream",
          "name": "stderr",
          "text": [
            "/usr/local/lib/python3.10/dist-packages/ipykernel/ipkernel.py:283: DeprecationWarning: `should_run_async` will not call `transform_cell` automatically in the future. Please pass the result to `transformed_cell` argument and any exception that happen during thetransform in `preprocessing_exc_tuple` in IPython 7.17 and above.\n",
            "  and should_run_async(code)\n"
          ]
        }
      ]
    },
    {
      "cell_type": "code",
      "source": [
        "!pip install joblib"
      ],
      "metadata": {
        "colab": {
          "base_uri": "https://localhost:8080/"
        },
        "id": "J0ymgJEAv9Kf",
        "outputId": "cbdab131-27c8-4c36-9fe0-e2414f5999f3"
      },
      "execution_count": 26,
      "outputs": [
        {
          "output_type": "stream",
          "name": "stderr",
          "text": [
            "/usr/local/lib/python3.10/dist-packages/ipykernel/ipkernel.py:283: DeprecationWarning: `should_run_async` will not call `transform_cell` automatically in the future. Please pass the result to `transformed_cell` argument and any exception that happen during thetransform in `preprocessing_exc_tuple` in IPython 7.17 and above.\n",
            "  and should_run_async(code)\n"
          ]
        },
        {
          "output_type": "stream",
          "name": "stdout",
          "text": [
            "Looking in indexes: https://pypi.org/simple, https://us-python.pkg.dev/colab-wheels/public/simple/\n",
            "Requirement already satisfied: joblib in /usr/local/lib/python3.10/dist-packages (1.2.0)\n"
          ]
        }
      ]
    },
    {
      "cell_type": "code",
      "source": [
        "import pyLDAvis.gensim_models as gensimvis\n",
        "import pyLDAvis\n",
        "from joblib import Memory"
      ],
      "metadata": {
        "colab": {
          "base_uri": "https://localhost:8080/"
        },
        "id": "E1pHQ6SBwram",
        "outputId": "edd0eaae-8a7d-4424-f7df-4041ec19fa08"
      },
      "execution_count": 27,
      "outputs": [
        {
          "output_type": "stream",
          "name": "stderr",
          "text": [
            "/usr/local/lib/python3.10/dist-packages/ipykernel/ipkernel.py:283: DeprecationWarning: `should_run_async` will not call `transform_cell` automatically in the future. Please pass the result to `transformed_cell` argument and any exception that happen during thetransform in `preprocessing_exc_tuple` in IPython 7.17 and above.\n",
            "  and should_run_async(code)\n"
          ]
        }
      ]
    },
    {
      "cell_type": "code",
      "source": [
        "cache_dir = './cache'\n",
        "memory = Memory(cache_dir, verbose=0)"
      ],
      "metadata": {
        "colab": {
          "base_uri": "https://localhost:8080/"
        },
        "id": "r10Uy4IMwtCa",
        "outputId": "ae2160c5-6409-43ac-9996-998e584e45cb"
      },
      "execution_count": 28,
      "outputs": [
        {
          "output_type": "stream",
          "name": "stderr",
          "text": [
            "/usr/local/lib/python3.10/dist-packages/ipykernel/ipkernel.py:283: DeprecationWarning: `should_run_async` will not call `transform_cell` automatically in the future. Please pass the result to `transformed_cell` argument and any exception that happen during thetransform in `preprocessing_exc_tuple` in IPython 7.17 and above.\n",
            "  and should_run_async(code)\n"
          ]
        }
      ]
    },
    {
      "cell_type": "code",
      "source": [
        "@memory.cache\n",
        "def compute_vis_data():\n",
        "    return gensimvis.prepare(lda_model, corpus, id2word)\n",
        "\n",
        "vis_data = compute_vis_data()"
      ],
      "metadata": {
        "colab": {
          "base_uri": "https://localhost:8080/"
        },
        "id": "IvoiexJdwua6",
        "outputId": "6f19818f-7545-4766-836f-bc3c87073796"
      },
      "execution_count": 29,
      "outputs": [
        {
          "output_type": "stream",
          "name": "stderr",
          "text": [
            "/usr/local/lib/python3.10/dist-packages/ipykernel/ipkernel.py:283: DeprecationWarning: `should_run_async` will not call `transform_cell` automatically in the future. Please pass the result to `transformed_cell` argument and any exception that happen during thetransform in `preprocessing_exc_tuple` in IPython 7.17 and above.\n",
            "  and should_run_async(code)\n"
          ]
        }
      ]
    },
    {
      "cell_type": "code",
      "source": [
        "pyLDAvis.display(vis_data)\n"
      ],
      "metadata": {
        "colab": {
          "base_uri": "https://localhost:8080/",
          "height": 916
        },
        "id": "hT3yY5y4wveE",
        "outputId": "e1b65b54-e308-4833-fd46-f99a12618e40"
      },
      "execution_count": 30,
      "outputs": [
        {
          "output_type": "stream",
          "name": "stderr",
          "text": [
            "/usr/local/lib/python3.10/dist-packages/ipykernel/ipkernel.py:283: DeprecationWarning: `should_run_async` will not call `transform_cell` automatically in the future. Please pass the result to `transformed_cell` argument and any exception that happen during thetransform in `preprocessing_exc_tuple` in IPython 7.17 and above.\n",
            "  and should_run_async(code)\n"
          ]
        },
        {
          "output_type": "execute_result",
          "data": {
            "text/plain": [
              "<IPython.core.display.HTML object>"
            ],
            "text/html": [
              "\n",
              "<link rel=\"stylesheet\" type=\"text/css\" href=\"https://cdn.jsdelivr.net/gh/bmabey/pyLDAvis@3.4.0/pyLDAvis/js/ldavis.v1.0.0.css\">\n",
              "\n",
              "\n",
              "<div id=\"ldavis_el87951397144921576168469420938\" style=\"background-color:white;\"></div>\n",
              "<script type=\"text/javascript\">\n",
              "\n",
              "var ldavis_el87951397144921576168469420938_data = {\"mdsDat\": {\"x\": [0.15278685218602697, -0.04681840986632695, 0.04203873957885112, -0.01193736600530813, -0.10085301913453368, 0.1036684289957624, -0.004975024111764593, -0.23606692458506637, 0.17775159439239938, -0.07559487145003987], \"y\": [-0.08583613796665551, -0.0365536974324464, 0.05206526042856574, -0.024553092815481972, -0.25547059598189764, 0.04412693057877137, 0.18912215491071516, 0.10541102096624844, 0.02088186717190441, -0.009193709859723552], \"topics\": [1, 2, 3, 4, 5, 6, 7, 8, 9, 10], \"cluster\": [1, 1, 1, 1, 1, 1, 1, 1, 1, 1], \"Freq\": [11.017900853222383, 10.871189994327995, 10.51202488539162, 10.48854161111722, 9.871807715686796, 9.803623264547161, 9.69071343777781, 9.355225605114803, 9.34447723146577, 9.044495401348426]}, \"tinfo\": {\"Term\": [\"interview\", \"murder\", \"rate\", \"abc\", \"second\", \"found\", \"miss\", \"nation\", \"crash\", \"review\", \"work\", \"world\", \"arrest\", \"appeal\", \"search\", \"sale\", \"blaze\", \"accus\", \"90\", \"futur\", \"fatal\", \"test\", \"news\", \"rural\", \"investig\", \"rail\", \"pm\", \"market\", \"storm\", \"alleg\", \"rate\", \"90\", \"plant\", \"convict\", \"rape\", \"sport\", \"player\", \"resign\", \"ad\", \"clark\", \"front\", \"appeal\", \"await\", \"brace\", \"option\", \"beatti\", \"member\", \"late\", \"must\", \"arm\", \"st\", \"second\", \"full\", \"jame\", \"johnson\", \"latest\", \"tsunami\", \"like\", \"helicopt\", \"low\", \"children\", \"attempt\", \"teacher\", \"sex\", \"suspend\", \"telstra\", \"injur\", \"toll\", \"murder\", \"pm\", \"sentenc\", \"accus\", \"grower\", \"bid\", \"record\", \"famili\", \"court\", \"man\", \"charg\", \"deni\", \"death\", \"rise\", \"jail\", \"women\", \"hit\", \"face\", \"plane\", \"liber\", \"evid\", \"revamp\", \"effort\", \"uni\", \"reach\", \"disput\", \"invest\", \"merger\", \"allow\", \"film\", \"israel\", \"scam\", \"pilbara\", \"transport\", \"bring\", \"round\", \"pressur\", \"dept\", \"toddler\", \"onlin\", \"condit\", \"seri\", \"petrol\", \"abort\", \"hang\", \"coff\", \"la\", \"apologis\", \"battl\", \"wallabi\", \"debat\", \"ex\", \"hear\", \"world\", \"push\", \"econom\", \"critic\", \"presid\", \"clash\", \"west\", \"price\", \"cup\", \"pakistan\", \"compani\", \"north\", \"final\", \"market\", \"fall\", \"mayor\", \"link\", \"state\", \"lead\", \"resid\", \"plan\", \"leader\", \"australia\", \"back\", \"continu\", \"call\", \"slam\", \"celebr\", \"approv\", \"quarter\", \"uk\", \"asylum\", \"pair\", \"vow\", \"wast\", \"dog\", \"nz\", \"earli\", \"zealand\", \"mental\", \"gp\", \"titl\", \"mill\", \"cat\", \"criticis\", \"seeker\", \"docker\", \"peter\", \"prais\", \"march\", \"sink\", \"fourth\", \"africa\", \"3\", \"respond\", \"father\", \"veteran\", \"iraqi\", \"beach\", \"john\", \"terror\", \"arrest\", \"educ\", \"aid\", \"senat\", \"good\", \"whale\", \"boy\", \"dead\", \"hour\", \"play\", \"ta\", \"action\", \"port\", \"countri\", \"health\", \"defend\", \"new\", \"drug\", \"defenc\", \"doctor\", \"victori\", \"clean\", \"oil\", \"step\", \"cattl\", \"red\", \"gain\", \"reduc\", \"andrew\", \"councillor\", \"irrig\", \"david\", \"tim\", \"point\", \"insur\", \"scott\", \"pole\", \"doubt\", \"territori\", \"volunt\", \"cabinet\", \"fed\", \"van\", \"part\", \"cancel\", \"farewel\", \"entertain\", \"cross\", \"posit\", \"parliament\", \"boss\", \"caus\", \"perth\", \"last\", \"troop\", \"fail\", \"nurs\", \"investig\", \"ship\", \"talk\", \"need\", \"safeti\", \"station\", \"rain\", \"bomb\", \"site\", \"chief\", \"island\", \"shoot\", \"forc\", \"control\", \"hospit\", \"polic\", \"kill\", \"time\", \"fire\", \"flood\", \"strike\", \"new\", \"cut\", \"issu\", \"collaps\", \"sale\", \"se\", \"turnbul\", \"marin\", \"success\", \"hawk\", \"woe\", \"kangaroo\", \"jump\", \"hobart\", \"jet\", \"ambul\", \"surviv\", \"roar\", \"class\", \"forum\", \"tasmania\", \"net\", \"cruis\", \"master\", \"mosqu\", \"crackdown\", \"hunter\", \"catch\", \"nativ\", \"york\", \"newman\", \"commit\", \"smash\", \"system\", \"knight\", \"abc\", \"wild\", \"list\", \"drought\", \"target\", \"join\", \"build\", \"land\", \"rural\", \"save\", \"news\", \"newcastl\", \"grain\", \"weather\", \"post\", \"protest\", \"busi\", \"dump\", \"clear\", \"coach\", \"council\", \"farm\", \"studi\", \"water\", \"sydney\", \"rail\", \"fatal\", \"possibl\", \"drum\", \"arriv\", \"teenag\", \"edg\", \"held\", \"match\", \"six\", \"neglect\", \"suffer\", \"capit\", \"rememb\", \"sold\", \"bash\", \"truck\", \"roo\", \"perform\", \"breakfast\", \"unlik\", \"recov\", \"2\", \"thursday\", \"warrior\", \"kiwi\", \"oversea\", \"thiev\", \"church\", \"rout\", \"given\", \"boat\", \"phone\", \"expert\", \"abbott\", \"buy\", \"prompt\", \"alleg\", \"friday\", \"tiger\", \"protect\", \"search\", \"child\", \"shortag\", \"mother\", \"crash\", \"give\", \"driver\", \"miss\", \"rescu\", \"hunt\", \"speak\", \"polic\", \"face\", \"warn\", \"two\", \"man\", \"ban\", \"charg\", \"author\", \"take\", \"fire\", \"call\", \"use\", \"export\", \"result\", \"figur\", \"third\", \"old\", \"explos\", \"robberi\", \"spot\", \"risk\", \"holiday\", \"compens\", \"struggl\", \"spring\", \"video\", \"brother\", \"scientist\", \"stage\", \"refus\", \"music\", \"indian\", \"southern\", \"popul\", \"destroy\", \"forest\", \"smith\", \"closer\", \"crowd\", \"speed\", \"stand\", \"killer\", \"howard\", \"hand\", \"chanc\", \"nrn\", \"lose\", \"live\", \"men\", \"cancer\", \"brisban\", \"tour\", \"show\", \"increas\", \"centr\", \"hope\", \"festiv\", \"question\", \"project\", \"fund\", \"school\", \"chang\", \"win\", \"demand\", \"blaze\", \"youth\", \"citi\", \"indonesian\", \"mark\", \"safe\", \"oper\", \"injuri\", \"mix\", \"construct\", \"comeback\", \"origin\", \"goe\", \"william\", \"amnesti\", \"sexual\", \"emiss\", \"honour\", \"underway\", \"tackl\", \"coal\", \"sight\", \"snub\", \"'s\", \"passeng\", \"confer\", \"gang\", \"advic\", \"spill\", \"2013\", \"violenc\", \"rugbi\", \"comment\", \"lion\", \"receiv\", \"interview\", \"fuel\", \"number\", \"2014\", \"team\", \"launch\", \"nation\", \"begin\", \"futur\", \"highway\", \"award\", \"test\", \"melbourn\", \"firefight\", \"airport\", \"leagu\", \"welcom\", \"nrl\", \"park\", \"end\", \"region\", \"name\", \"gold\", \"day\", \"win\", \"england\", \"theft\", \"unit\", \"challeng\", \"remain\", \"level\", \"eas\", \"escap\", \"form\", \"tri\", \"packag\", \"life\", \"ask\", \"campbel\", \"bulldog\", \"leak\", \"traffic\", \"keen\", \"come\", \"creat\", \"summit\", \"semi\", \"chelsea\", \"zimbabw\", \"place\", \"royal\", \"relief\", \"harvest\", \"solomon\", \"legisl\", \"problem\", \"parti\", \"found\", \"fine\", \"work\", \"start\", \"victorian\", \"ga\", \"firm\", \"central\", \"poll\", \"murray\", \"aussi\", \"leav\", \"assault\", \"decis\", \"guilti\", \"miss\", \"woman\", \"act\", \"river\", \"help\", \"home\", \"announc\", \"polic\", \"stock\", \"higher\", \"babi\", \"flight\", \"rais\", \"major\", \"outbreak\", \"storm\", \"closur\", \"updat\", \"way\", \"coalit\", \"histori\", \"strong\", \"sugar\", \"franc\", \"appoint\", \"angri\", \"global\", \"controversi\", \"date\", \"quak\", \"stori\", \"journalist\", \"jone\", \"disrupt\", \"polici\", \"offend\", \"survey\", \"cap\", \"resourc\", \"western\", \"bodi\", \"review\", \"indonesia\", \"black\", \"staff\", \"cyclon\", \"make\", \"budget\", \"canberra\", \"local\", \"industri\", \"emerg\", \"rudd\", \"fear\", \"farmer\", \"young\", \"mine\", \"die\"], \"Freq\": [153.0, 81.0, 55.0, 60.0, 58.0, 58.0, 80.0, 63.0, 88.0, 53.0, 52.0, 49.0, 52.0, 43.0, 57.0, 39.0, 35.0, 59.0, 38.0, 46.0, 35.0, 63.0, 59.0, 55.0, 54.0, 33.0, 45.0, 73.0, 33.0, 41.0, 53.945780578653014, 37.246129182388835, 27.910953045940285, 23.41237038492022, 19.806229260398805, 31.449372944664074, 17.183403185261128, 20.33830633925673, 16.676221365578783, 19.515757669064772, 22.25327612881003, 41.66919073891028, 15.170907661630153, 15.131824421001289, 14.623766398874169, 15.239610946866483, 14.459182879366743, 14.430816349261615, 13.45774008179537, 15.180804766517747, 13.01887270631226, 55.05981539037822, 14.970229003371923, 12.994312835632288, 14.960741701302402, 13.237336387639173, 12.268671526979228, 16.58121314139627, 11.957921508729472, 15.916447988963279, 21.721123587540593, 20.34378574880373, 19.72185809197232, 37.44475882655671, 22.122786946059293, 16.74452532888753, 33.93689281978284, 18.94685912574524, 57.781799074242514, 35.68868562533217, 27.07349216476234, 41.78790988164326, 22.665759958668296, 25.858939324725203, 32.61187349018279, 27.86921394766182, 49.496709644297134, 54.732363025047164, 48.73127344255109, 24.084164022514305, 32.65370691647564, 28.221765949532966, 27.766530567375117, 21.950780859908434, 24.587718405998835, 24.610019644778696, 22.96610489741775, 28.42184535686774, 19.436834311167093, 18.641466052598346, 18.012539436746856, 17.460932879191727, 19.45041247783507, 17.53833153159828, 17.673391373423957, 16.403704557472558, 16.584680939909415, 15.89465050578597, 15.359615930017158, 14.179666007638774, 13.354151737147852, 12.9163887481998, 13.095438540804027, 12.243667632712196, 25.03782289104237, 11.563890627569176, 11.708563770030455, 11.56239527120955, 20.431024985850478, 11.160360544273068, 11.225360975797491, 11.058988619993167, 10.890151925181243, 10.808970414155386, 10.583035098292003, 11.260014773592152, 23.866220490472358, 21.563541294464446, 17.84003777448091, 14.632949265082866, 29.66975022883379, 43.381909513350536, 36.59127084328685, 16.182601745252697, 25.06132252998853, 16.61174213300672, 24.926000018373546, 28.41189286059869, 37.492141353452475, 29.78093814382294, 27.46216163308893, 25.63822811795991, 26.220860734644713, 36.1018611826151, 41.19071813091012, 32.04001622307112, 31.57704727567941, 20.04876184829138, 23.54662995098988, 23.914847493751992, 23.000760763478468, 28.98214690492891, 19.94281285122607, 21.760531226852073, 21.93521697807482, 20.179846482754396, 20.02393851906837, 27.110389543141427, 23.548148809850904, 29.107551797824524, 18.188897233019553, 20.09953633599002, 20.70778831272007, 17.344207039685895, 19.77430304246412, 23.152645829558598, 30.025375583646625, 18.17195179085278, 20.61768927872322, 15.830207879579643, 22.71259431577581, 14.873347378821483, 25.789551024309166, 14.877276249485549, 14.39945197915799, 14.585730846975604, 15.19677173189656, 13.97452096761784, 13.628940343913165, 14.734948934810632, 15.028787261838952, 13.869442426736875, 13.09375296194292, 12.92009867853198, 12.907949078489121, 12.231275354159683, 13.031079025129237, 13.673096890307615, 16.679759912864608, 17.81310560384205, 23.749988165427112, 18.946780283989376, 41.712678845023184, 22.493431530475934, 23.94257382562912, 23.7771932698523, 20.284020262895957, 19.912040508233957, 26.003329986841077, 34.58816937936384, 26.848496164505633, 22.935556975986206, 24.690821193799515, 24.702500809313968, 22.136373284607316, 24.3943409537413, 28.291710654798397, 21.890729371049417, 28.74514972787121, 22.949192527112494, 27.010078757077935, 30.324095514191338, 24.642653402334776, 27.867620474871817, 19.82470947554365, 20.93997166821969, 28.827100594865843, 25.95956745434987, 15.561188932816163, 16.249671742085052, 14.485416022910792, 15.511334199713131, 14.974822122259035, 14.139159696056097, 14.387302929842834, 13.769566389388721, 13.751650094113122, 15.129575532000183, 14.197246725885696, 25.706997278304524, 13.214306904893999, 13.768757227754346, 12.738082856733664, 12.398139187906963, 12.373362479070355, 12.026476582559319, 11.79870706094765, 11.548154301455586, 11.513626745944789, 16.60480889225367, 17.53973878885006, 19.45162510036988, 21.76897821616994, 22.724559194774145, 28.617149590675066, 16.20188830312871, 17.97044425244374, 28.63553980922604, 21.89679781787162, 38.73367546414451, 15.571271026916511, 34.08120958138297, 27.069693316454057, 28.40283250595157, 23.270309284031814, 24.634531853994662, 20.12508304520956, 23.45607124424745, 24.3592472836605, 20.543097342355306, 24.052873346461734, 24.445818598939955, 21.10861452199557, 26.44965600321465, 35.90420784110666, 27.23094695806693, 22.45589957296312, 26.411985588088207, 24.07819381989851, 21.331440275545166, 24.08927264947696, 21.939734268887385, 27.267029249963933, 21.552953015768903, 38.06924179436568, 18.322153574932226, 18.21908922844436, 18.054354554649922, 17.627244904465908, 17.148610593564126, 17.30432460156329, 16.49962411742638, 16.754830265720905, 19.064629682957733, 15.360433101023586, 15.306620876087907, 15.247483209165452, 14.743636860446536, 13.747358507453995, 15.4997810707675, 22.386815248355358, 13.73182260334022, 13.370968738622082, 12.875790906034347, 12.520128196897746, 12.501601368303652, 29.68524944484584, 11.549719227761972, 11.465452160810221, 11.151070782962405, 10.977688252483745, 11.307886315110839, 14.505542368629357, 13.419544732819219, 19.466512270272283, 51.73019216491027, 15.164483881004418, 17.639792701296678, 35.93507209199728, 25.967193191198973, 23.811853190091387, 22.238022155087727, 30.70547115779903, 35.85206994663893, 19.587927840055084, 35.69216582717, 18.486471303524382, 18.858262467276198, 26.62858096990723, 18.182101305860137, 26.207999704962514, 28.131275894633642, 20.580110927220726, 20.37512038195933, 18.90095051908979, 28.688662139214674, 20.88049365162173, 20.93270946474688, 20.651966361878486, 19.50158262055233, 32.76057952668353, 34.36381451561924, 19.354467205146292, 19.872558102434052, 17.40513511962517, 16.19070378001829, 17.122110250299727, 15.37214877384746, 22.084825426342093, 17.44503274244626, 14.42923240545799, 14.149344734093608, 13.8127049277945, 13.214845829674573, 12.90853071603297, 16.75016577598281, 18.804763722696798, 12.229647232284929, 11.845743356466034, 11.839550094973937, 11.968227435838177, 11.609245818732544, 11.309300224137925, 12.340302471306863, 11.72820940990522, 11.82361976929889, 11.095032587652303, 11.000633144605183, 10.932235887512379, 11.155694096502835, 14.914433083455997, 21.144525876465924, 17.050700760919696, 16.122994766711237, 27.704013264431467, 13.603259660707408, 17.249871797942276, 34.93722044259262, 17.92959180564129, 25.384012473562137, 26.13533781236883, 41.79340058731444, 29.259774353424906, 19.551441084500542, 22.087662333654087, 53.89341644974756, 25.247245936766195, 31.488682628705476, 44.697177590926174, 26.61790115510112, 22.183141703942265, 19.80923221350779, 44.13648832013503, 29.5046585800002, 26.863598591136, 23.369951899312902, 29.609726734306104, 22.026410501881635, 24.441286351422384, 18.75987306840023, 19.97745652724266, 19.637171267070247, 19.643274068335764, 30.270508139308735, 29.053874254562977, 22.09341647256222, 19.517379810848375, 18.755076117545737, 23.21927318429829, 18.021000977890793, 17.370431545267706, 18.048779674109834, 19.788658589747275, 16.32367599385431, 16.00281518287081, 16.357241995272236, 15.359578979438087, 15.123378017905846, 15.088862522324996, 19.136068486051244, 19.003933928453684, 16.812282002740066, 14.411277676169181, 14.685396641005923, 13.801366874177178, 13.446523390550855, 13.936460534942695, 13.223833823140952, 16.513530578167842, 23.999744480477577, 14.585099636714162, 15.326796541164326, 30.749493836462165, 20.607579790330096, 22.805433848789505, 21.326686108414567, 17.733765166020774, 18.467591409147577, 24.496665477081383, 26.050255481630728, 18.076578650786722, 18.679120271867628, 27.182074647974378, 23.71212333990843, 29.111290074411215, 21.281993510349537, 26.02065338788327, 27.188850164573896, 21.45487703879951, 23.599113254062384, 18.98031088241568, 23.970206915459638, 20.805946635906214, 21.30683522753646, 20.986326559048333, 18.69706847706391, 34.8156852861011, 24.106524493412493, 23.77009176656946, 19.72896913401432, 20.273736949933443, 19.080749273555515, 20.657825180398902, 20.951422239429384, 16.1023292430492, 14.611378533770171, 14.415945582724293, 12.965794392008732, 13.655950205729903, 14.777798137867435, 12.277009953284427, 12.398558630245438, 12.41056283357621, 22.425902209940087, 11.99858879160732, 14.591139850980605, 30.17714151312031, 11.607042096606671, 11.577626503390317, 11.188713987488123, 11.017739745341569, 10.830496777485926, 11.83269780318049, 10.441496158971994, 10.758579238471189, 10.502923257712201, 24.086876721069338, 14.508623300796062, 18.347454327470253, 14.526807145903756, 14.058030057422897, 126.67908248659694, 16.92018845759791, 26.331407335342494, 14.544594084295941, 20.487091218102545, 24.241864343849446, 46.95444533298508, 33.86134711664043, 35.038988919919106, 22.87338872384274, 21.92443638272797, 38.945747060244024, 28.32027840915518, 22.143148001631094, 19.66378744013344, 18.971160303656724, 26.81581507304136, 18.431014760115097, 24.833824902198025, 22.32149082585036, 24.7625258613162, 23.904965296111957, 23.281446204253417, 22.28640818787084, 20.794749097996412, 30.16817045666448, 25.889226464852246, 26.824675898514478, 25.00080355132798, 22.446224558102436, 20.02720148253906, 19.212433065057272, 30.04193557503299, 18.337741923858186, 18.47716634703298, 16.8398107219754, 25.15051969252329, 15.545315620421787, 14.816750341519679, 19.972021944808752, 14.82984654825627, 14.550548805931522, 13.917024138450682, 15.984001656626353, 13.66831887905857, 12.960087254476662, 12.795066871688743, 12.425845043156587, 14.375574488233108, 12.380036320020535, 14.044804822261968, 11.813684268481506, 17.32773486878563, 11.956773638400003, 11.1490097759365, 19.629458314880434, 22.88342257081708, 51.18155817379641, 28.148163457742744, 42.443297565033674, 28.876839849509988, 17.082996783130394, 22.314922929820668, 17.004760881432553, 18.03526603786571, 21.90651826052635, 19.18030811348866, 25.329086066925875, 21.27873412810999, 24.853263444483524, 22.328420031774677, 23.44230250440133, 29.14936148486718, 25.13253363081772, 22.268726645011014, 20.077897393935327, 22.07284621951121, 21.818296423412853, 19.475336770808145, 20.12527236401836, 25.88121124701191, 24.91925056561592, 23.86368713382077, 26.985729552216547, 28.3712178575853, 18.894610895991757, 19.074974759648565, 31.56766480062876, 17.74790364223689, 16.086958567438792, 24.06293604969793, 15.363648161896437, 14.993489093241614, 17.38927693075572, 15.106620450260259, 14.957286577190214, 14.733964597024867, 13.987568828330957, 13.367969623235007, 13.731574417274127, 14.238489656110183, 13.092967987866006, 13.072579874769612, 12.928218922056455, 14.617735919368714, 12.587330393792922, 18.011093301208017, 12.082169442951274, 18.487153203926596, 11.668970522937755, 16.08786195262473, 19.39340513218964, 30.54807502730457, 38.20774552239302, 17.592827680851645, 22.95133176316815, 17.698365440107334, 18.055175056814498, 27.769158951332923, 28.0160790732887, 24.35571200369201, 22.980191908574966, 25.643944441043026, 17.94030920023885, 19.624876507099003, 23.490936640232565, 25.76391743520319, 17.04054787944507, 20.74851044283813, 18.135206380620318], \"Total\": [153.0, 81.0, 55.0, 60.0, 58.0, 58.0, 80.0, 63.0, 88.0, 53.0, 52.0, 49.0, 52.0, 43.0, 57.0, 39.0, 35.0, 59.0, 38.0, 46.0, 35.0, 63.0, 59.0, 55.0, 54.0, 33.0, 45.0, 73.0, 33.0, 41.0, 55.07941003154817, 38.172691948312476, 28.93847618582046, 24.279569401202085, 20.67342773071686, 32.934046802028845, 18.05063468634115, 21.375504566002657, 17.543467389818563, 20.560371653805227, 23.44551212335857, 43.901693686959135, 16.03818431144977, 16.02113031455142, 15.491045799954016, 16.14373989798926, 15.326514285394067, 15.354806751500085, 14.324943635922706, 16.15991501971483, 13.904659632487899, 58.84324044240157, 16.001813233910234, 13.889906462221909, 15.994657670142011, 14.156890666959617, 13.135885470306086, 17.773398300211923, 12.825153061285114, 17.071738389828464, 23.39048672200659, 22.091001666295018, 21.526654960411086, 42.37369921640641, 24.733477678391257, 18.348409282320436, 41.55309110109916, 21.29205139929726, 81.85226906086766, 45.92626468962961, 32.98460424710839, 59.815208496158334, 27.260657252930486, 32.85672733675807, 48.77270714394225, 39.7819436569389, 100.66922352476345, 153.23609487118523, 127.35229852653245, 36.79643117844686, 75.81259517457585, 62.016735338678785, 62.47025476591059, 31.659505772684778, 79.33020609546516, 94.82447745984027, 23.830883708077454, 29.593219268360766, 20.30163152370678, 19.529064362218293, 18.87732492174011, 18.325738819482424, 20.422838223676774, 18.47431781454222, 18.634838442423312, 17.308584978490902, 17.502013844321038, 16.80246585722247, 16.280010522402353, 15.044441033336449, 14.218925173163196, 13.78112813556548, 13.97915030751031, 13.108472191049039, 26.81589489757773, 12.428754687625409, 12.593510936288808, 12.441890121831635, 21.99881660820352, 12.025120414144212, 12.105572411030511, 11.93533757065707, 11.754911681215582, 11.6737686875426, 11.447831789227115, 12.181541238171476, 25.820374649264, 23.440371890865663, 19.381584995760594, 15.866893858859479, 32.758825600472434, 49.58607179030691, 41.83243698492858, 17.798581066257867, 28.85417985924258, 18.45964104744026, 29.94971291421077, 35.331681555878156, 50.88926484366979, 39.73514331533653, 37.248855153082786, 34.46400166349177, 35.6803767129995, 57.343400694254015, 73.23999986128513, 51.96660319814986, 52.28698580804692, 25.555433926801964, 43.66880213883381, 49.83668880723736, 44.45235457527605, 123.9662020400231, 31.691741254426184, 78.54100740309951, 85.55826378960997, 69.03607228346799, 109.3662193112964, 27.974304471078348, 24.41204474625333, 30.373238568916406, 19.052749706371955, 21.056669179015387, 21.73266776081011, 18.208089213525515, 20.760608257269734, 24.32320463375961, 31.589200201904767, 19.151103613224766, 21.728849788319852, 16.694071473782564, 23.970155067689284, 15.737223731272408, 27.309789904337013, 15.75582460947356, 15.263331147113075, 15.473371562033975, 16.126177521973155, 14.838478961780693, 14.492814676723356, 15.671833376392385, 15.99730374254514, 14.772778618998327, 13.957631914486594, 13.78407999998779, 13.7718552031667, 13.095283714845577, 13.957069142661114, 14.683856493238949, 18.0518500321198, 19.339398088814942, 26.328923517107153, 21.012651779201665, 52.49370230324372, 26.038524211000784, 28.430206171248372, 28.313364204389227, 23.409711979077716, 22.951482172196414, 32.98743928455022, 50.31071405388967, 35.5545105193173, 29.70670388026598, 33.53812912539445, 35.147320278867085, 29.86084495258009, 45.42193308286775, 69.95177736931362, 40.299543732829534, 148.1410065332326, 55.26301701866518, 27.896982695178544, 31.353224178305393, 25.569416553305025, 29.05406636514513, 20.689527937062056, 21.861639840661624, 30.188204911074195, 27.25083071360394, 16.426027124604765, 17.158683212569038, 15.350209636588072, 16.441836106260638, 15.884707876615442, 15.003956389036938, 15.273568009343933, 14.634405867158497, 14.616625463437467, 16.095215252396645, 15.117901233933603, 27.426245279753257, 14.103030380315781, 14.709965261413744, 13.636236748480489, 13.27547580033764, 13.253801601355923, 12.891334896922993, 12.663522288685375, 12.41296867253299, 12.37838468198489, 17.87176732491691, 18.91852614358421, 21.028984932542624, 23.805965973648576, 25.334788557459014, 32.97237617455308, 17.858926628174743, 20.042930657470013, 34.60298211004425, 25.946849565509638, 54.0848368187192, 17.18555933299218, 51.35517024660682, 37.39533274008296, 40.411378485992664, 30.98616107399285, 34.98900158070981, 25.600831146007142, 33.01756135014192, 37.48773930180459, 28.429409992491273, 39.25122282636036, 44.05518710189699, 32.097850534888195, 63.339697637081485, 191.62666170114483, 92.77446344950472, 43.35306081470008, 97.99829932989692, 62.423801000867016, 35.265318328041495, 148.1410065332326, 55.84588512468971, 28.343640657947706, 22.41645958182497, 39.69273243029493, 19.18569400968066, 19.08449724362015, 18.957653095082875, 18.511820913277592, 18.015036832673424, 18.209144205524282, 17.363083033974416, 17.63390883879957, 20.119225325952254, 16.223916447401326, 16.184910008214192, 16.137340540499526, 15.607129086591005, 14.610848182353909, 16.4734880305597, 23.816600540808825, 14.615575918363508, 14.234436354274216, 13.739248322863274, 13.383694584315197, 13.36506900419132, 31.820031878265127, 12.416879746687075, 12.328943271723961, 12.01452496268282, 11.841165826132508, 12.204726033372717, 15.668816338529492, 14.49939781593139, 21.34945728821329, 60.91149404056887, 16.57312403410993, 19.704611927573385, 43.950394959031186, 30.52375673228161, 28.192885772849646, 26.601326751769797, 43.772698538243574, 55.071339589013306, 24.0900762096216, 59.886849448863174, 22.67378563157629, 23.83543347468724, 47.657205652026484, 22.569482863181964, 47.28952401384397, 60.188440421247286, 29.75508429424235, 29.238635704447812, 24.870375327921153, 109.93424067636884, 37.27472512323473, 40.7968173008153, 77.84813126680206, 65.53862459059391, 33.90409472896486, 35.87187749005779, 20.27337146990431, 20.8727203209173, 18.33429045063816, 17.07434729089645, 18.147665914519987, 16.29934594410403, 23.455182740082765, 18.551286402154687, 15.345774377133289, 15.066344456862685, 14.709896871190116, 14.07653702375813, 13.781456355057866, 17.88511177735079, 20.12632223635647, 13.091350525217408, 12.707464360196377, 12.701255375624719, 12.844397391610038, 12.470939011133812, 12.171036075456032, 13.282883292399251, 12.634603198928973, 12.738277148998833, 11.956784126180295, 11.863728893600326, 11.793929642933545, 12.035602419519842, 16.12878445910838, 22.96424108063047, 18.56620758662087, 17.596767120598855, 31.32733723409624, 14.810657156369027, 19.198142045717454, 41.5361103116661, 20.12515645313262, 30.205515504717226, 31.267348023654595, 57.22857274054559, 38.41743911201481, 23.55097967785277, 27.62892810403088, 88.21416805455102, 33.67480596116111, 47.46132954422267, 80.56197499812995, 38.27540913651654, 30.106377484798713, 28.39676561543107, 191.62666170114483, 94.82447745984027, 81.61779568235167, 58.774631429496246, 153.23609487118523, 53.7255939214392, 127.35229852653245, 29.501976449212027, 89.60972370743177, 97.99829932989692, 109.3662193112964, 31.14735309396773, 29.964576596172016, 22.955069514498433, 20.402248270517827, 19.61674441782508, 24.325329194185468, 18.885646991732298, 18.23204170348755, 18.99560846611186, 20.830976144517987, 17.185344578933226, 16.882453834133397, 17.260200086067236, 16.221178119071325, 15.985007403993945, 15.950492681883988, 20.23732182630319, 20.120282670544352, 17.806190241680948, 15.272887769047895, 15.599926307900743, 14.663013443227426, 14.308163752417626, 14.834262369613947, 14.085454335273825, 17.616337369773955, 25.630703995053505, 15.579419279411624, 16.41328499309467, 32.99151948006458, 22.110432842380042, 25.39158255583502, 24.53047910034113, 19.741193678834655, 20.77129003545232, 30.0268354727393, 32.73222266402418, 20.475288096684455, 21.636916858358262, 37.9622804867936, 31.163406411335945, 46.15964893587026, 28.083132355024258, 43.74838362107265, 50.297723995880574, 33.57718347733777, 48.990232685031465, 26.439783994620434, 77.0633513207706, 55.66015584591193, 75.55777675766574, 100.43616151998496, 27.584159322673454, 35.9567584630898, 24.966091358453774, 24.90950831050503, 20.69164325614586, 21.26382160597776, 20.08519400711206, 21.798901166421402, 22.161309932589276, 17.06630893638047, 15.488055780522966, 15.301588767455552, 13.825334718078205, 14.583388382977674, 15.792993270713586, 13.137171449399204, 13.27642992094499, 13.289616437792242, 24.03202109262305, 12.85815276876756, 15.658514960718211, 32.4171301481159, 12.469916550734567, 12.45595489366969, 12.048281004847786, 11.879770408517057, 11.690085330888289, 12.786390502314916, 11.301265527584363, 11.646115405655323, 11.370838215180195, 26.144221477476133, 15.731396881457945, 20.000110673510907, 15.78140358692562, 15.28323782907768, 153.50140495547666, 18.684424930624367, 30.82306199086765, 16.021103296686313, 23.752520451588886, 29.21544220160384, 63.71270079613189, 44.4817421681302, 46.881278998732334, 27.829001478047704, 26.56934825925419, 63.02467196390229, 40.53110057576456, 29.328335268843748, 25.626934045864736, 24.45619878303612, 46.14525755440013, 23.62889419838359, 41.16282381019892, 33.972143795787005, 42.40715320162517, 44.88104452686762, 45.75450563736876, 63.51223359651064, 100.43616151998496, 31.04355866508046, 26.75530322657356, 27.736570010772244, 25.915108985355833, 23.349901987456217, 20.8883641506286, 20.13098800801533, 31.503781197507866, 19.23760380333816, 19.40812577588417, 17.7233680755672, 26.518743838542832, 16.406403947920438, 15.67790500434825, 21.153269553699037, 15.723450313883532, 15.430915796810925, 14.77813447205551, 16.99749421257675, 14.55679514974748, 13.82119838185172, 13.656264048087642, 13.28697124626781, 15.391628388062294, 13.26266217478708, 15.049030002528857, 12.67479853458207, 18.608061826503715, 12.842906597984722, 12.010118185124403, 21.241592652867357, 25.098175230002376, 58.447125166742666, 31.463267420029073, 52.269652713326195, 35.15280130184966, 19.397124739403175, 28.248156769653114, 20.212202379154707, 22.27223721897449, 31.211206076020574, 25.601562123365184, 43.590663358480285, 31.229446226706894, 44.955167348986116, 36.19487041116141, 40.473858312691576, 80.56197499812995, 61.89115176275582, 52.504742620115266, 36.69351683324349, 62.62207053892206, 64.84301109253363, 38.375606682984795, 191.62666170114483, 26.75264084399179, 25.77705541907858, 24.721493121349862, 27.971599863050795, 29.562955340398815, 19.752410063259344, 19.988784434659472, 33.11860731090732, 18.620664992578572, 16.94475016080057, 25.361224462490746, 16.221417080512374, 15.851276455956675, 18.400473322923272, 15.994186499960573, 15.84574132869556, 15.610463090111967, 14.845356961147592, 14.227010536661151, 14.617472175690377, 15.164239073745664, 13.950731633368475, 13.93352654949893, 13.786039574767157, 15.601000662385959, 13.445080896638018, 19.238980107337234, 12.939973769930843, 19.83208612561259, 12.526741764577482, 17.27434911835337, 22.561959282004477, 38.577937445824624, 53.20075605842565, 20.555967466392147, 29.61068948289259, 21.32082676663644, 22.449748828743594, 45.85428675229225, 46.82434232116223, 37.44265283185061, 34.26753359108682, 44.259504837489956, 23.28946885735604, 28.46497307917362, 50.10339362202222, 68.54441755316171, 21.88787501914701, 77.56950935043803, 61.60537896232941], \"Category\": [\"Default\", \"Default\", \"Default\", \"Default\", \"Default\", \"Default\", \"Default\", \"Default\", \"Default\", \"Default\", \"Default\", \"Default\", \"Default\", \"Default\", \"Default\", \"Default\", \"Default\", \"Default\", \"Default\", \"Default\", \"Default\", \"Default\", \"Default\", \"Default\", \"Default\", \"Default\", \"Default\", \"Default\", \"Default\", \"Default\", \"Topic1\", \"Topic1\", \"Topic1\", \"Topic1\", \"Topic1\", \"Topic1\", \"Topic1\", \"Topic1\", \"Topic1\", \"Topic1\", \"Topic1\", \"Topic1\", \"Topic1\", \"Topic1\", \"Topic1\", \"Topic1\", \"Topic1\", \"Topic1\", \"Topic1\", \"Topic1\", \"Topic1\", \"Topic1\", \"Topic1\", \"Topic1\", \"Topic1\", \"Topic1\", \"Topic1\", \"Topic1\", \"Topic1\", \"Topic1\", \"Topic1\", \"Topic1\", \"Topic1\", \"Topic1\", \"Topic1\", \"Topic1\", \"Topic1\", \"Topic1\", \"Topic1\", \"Topic1\", \"Topic1\", \"Topic1\", \"Topic1\", \"Topic1\", \"Topic1\", \"Topic1\", \"Topic1\", \"Topic1\", \"Topic1\", \"Topic1\", \"Topic1\", \"Topic1\", \"Topic1\", \"Topic1\", \"Topic1\", \"Topic1\", \"Topic2\", \"Topic2\", \"Topic2\", \"Topic2\", \"Topic2\", \"Topic2\", \"Topic2\", \"Topic2\", \"Topic2\", \"Topic2\", \"Topic2\", \"Topic2\", \"Topic2\", \"Topic2\", \"Topic2\", \"Topic2\", \"Topic2\", \"Topic2\", \"Topic2\", \"Topic2\", \"Topic2\", \"Topic2\", \"Topic2\", \"Topic2\", \"Topic2\", \"Topic2\", \"Topic2\", \"Topic2\", \"Topic2\", \"Topic2\", \"Topic2\", \"Topic2\", \"Topic2\", \"Topic2\", \"Topic2\", \"Topic2\", \"Topic2\", \"Topic2\", \"Topic2\", \"Topic2\", \"Topic2\", \"Topic2\", \"Topic2\", \"Topic2\", \"Topic2\", \"Topic2\", \"Topic2\", \"Topic2\", \"Topic2\", \"Topic2\", \"Topic2\", \"Topic2\", \"Topic2\", \"Topic2\", \"Topic2\", \"Topic2\", \"Topic2\", \"Topic2\", \"Topic2\", \"Topic2\", \"Topic2\", \"Topic3\", \"Topic3\", \"Topic3\", \"Topic3\", \"Topic3\", \"Topic3\", \"Topic3\", \"Topic3\", \"Topic3\", \"Topic3\", \"Topic3\", \"Topic3\", \"Topic3\", \"Topic3\", \"Topic3\", \"Topic3\", \"Topic3\", \"Topic3\", \"Topic3\", \"Topic3\", \"Topic3\", \"Topic3\", \"Topic3\", \"Topic3\", \"Topic3\", \"Topic3\", \"Topic3\", \"Topic3\", \"Topic3\", \"Topic3\", \"Topic3\", \"Topic3\", \"Topic3\", \"Topic3\", \"Topic3\", \"Topic3\", \"Topic3\", \"Topic3\", \"Topic3\", \"Topic3\", \"Topic3\", \"Topic3\", \"Topic3\", \"Topic3\", \"Topic3\", \"Topic3\", \"Topic3\", \"Topic3\", \"Topic3\", \"Topic3\", \"Topic3\", \"Topic3\", \"Topic3\", \"Topic4\", \"Topic4\", \"Topic4\", \"Topic4\", \"Topic4\", \"Topic4\", \"Topic4\", \"Topic4\", \"Topic4\", \"Topic4\", \"Topic4\", \"Topic4\", \"Topic4\", \"Topic4\", \"Topic4\", \"Topic4\", \"Topic4\", \"Topic4\", \"Topic4\", \"Topic4\", \"Topic4\", \"Topic4\", \"Topic4\", \"Topic4\", \"Topic4\", \"Topic4\", \"Topic4\", \"Topic4\", \"Topic4\", \"Topic4\", \"Topic4\", \"Topic4\", \"Topic4\", \"Topic4\", \"Topic4\", \"Topic4\", \"Topic4\", \"Topic4\", \"Topic4\", \"Topic4\", \"Topic4\", \"Topic4\", \"Topic4\", \"Topic4\", \"Topic4\", \"Topic4\", \"Topic4\", \"Topic4\", \"Topic4\", \"Topic4\", \"Topic4\", \"Topic4\", \"Topic4\", \"Topic4\", \"Topic4\", \"Topic4\", \"Topic4\", \"Topic4\", \"Topic4\", \"Topic4\", \"Topic4\", \"Topic4\", \"Topic5\", \"Topic5\", \"Topic5\", \"Topic5\", \"Topic5\", \"Topic5\", \"Topic5\", \"Topic5\", \"Topic5\", \"Topic5\", \"Topic5\", \"Topic5\", \"Topic5\", \"Topic5\", \"Topic5\", \"Topic5\", \"Topic5\", \"Topic5\", \"Topic5\", \"Topic5\", \"Topic5\", \"Topic5\", \"Topic5\", \"Topic5\", \"Topic5\", \"Topic5\", \"Topic5\", \"Topic5\", \"Topic5\", \"Topic5\", \"Topic5\", \"Topic5\", \"Topic5\", \"Topic5\", \"Topic5\", \"Topic5\", \"Topic5\", \"Topic5\", \"Topic5\", \"Topic5\", \"Topic5\", \"Topic5\", \"Topic5\", \"Topic5\", \"Topic5\", \"Topic5\", \"Topic5\", \"Topic5\", \"Topic5\", \"Topic5\", \"Topic5\", \"Topic5\", \"Topic5\", \"Topic5\", \"Topic5\", \"Topic5\", \"Topic5\", \"Topic5\", \"Topic6\", \"Topic6\", \"Topic6\", \"Topic6\", \"Topic6\", \"Topic6\", \"Topic6\", \"Topic6\", \"Topic6\", \"Topic6\", \"Topic6\", \"Topic6\", \"Topic6\", \"Topic6\", \"Topic6\", \"Topic6\", \"Topic6\", \"Topic6\", \"Topic6\", \"Topic6\", \"Topic6\", \"Topic6\", \"Topic6\", \"Topic6\", \"Topic6\", \"Topic6\", \"Topic6\", \"Topic6\", \"Topic6\", \"Topic6\", \"Topic6\", \"Topic6\", \"Topic6\", \"Topic6\", \"Topic6\", \"Topic6\", \"Topic6\", \"Topic6\", \"Topic6\", \"Topic6\", \"Topic6\", \"Topic6\", \"Topic6\", \"Topic6\", \"Topic6\", \"Topic6\", \"Topic6\", \"Topic6\", \"Topic6\", \"Topic6\", \"Topic6\", \"Topic6\", \"Topic6\", \"Topic6\", \"Topic6\", \"Topic6\", \"Topic6\", \"Topic6\", \"Topic6\", \"Topic6\", \"Topic6\", \"Topic6\", \"Topic6\", \"Topic7\", \"Topic7\", \"Topic7\", \"Topic7\", \"Topic7\", \"Topic7\", \"Topic7\", \"Topic7\", \"Topic7\", \"Topic7\", \"Topic7\", \"Topic7\", \"Topic7\", \"Topic7\", \"Topic7\", \"Topic7\", \"Topic7\", \"Topic7\", \"Topic7\", \"Topic7\", \"Topic7\", \"Topic7\", \"Topic7\", \"Topic7\", \"Topic7\", \"Topic7\", \"Topic7\", \"Topic7\", \"Topic7\", \"Topic7\", \"Topic7\", \"Topic7\", \"Topic7\", \"Topic7\", \"Topic7\", \"Topic7\", \"Topic7\", \"Topic7\", \"Topic7\", \"Topic7\", \"Topic7\", \"Topic7\", \"Topic7\", \"Topic7\", \"Topic7\", \"Topic7\", \"Topic7\", \"Topic7\", \"Topic7\", \"Topic7\", \"Topic7\", \"Topic7\", \"Topic7\", \"Topic8\", \"Topic8\", \"Topic8\", \"Topic8\", \"Topic8\", \"Topic8\", \"Topic8\", \"Topic8\", \"Topic8\", \"Topic8\", \"Topic8\", \"Topic8\", \"Topic8\", \"Topic8\", \"Topic8\", \"Topic8\", \"Topic8\", \"Topic8\", \"Topic8\", \"Topic8\", \"Topic8\", \"Topic8\", \"Topic8\", \"Topic8\", \"Topic8\", \"Topic8\", \"Topic8\", \"Topic8\", \"Topic8\", \"Topic8\", \"Topic8\", \"Topic8\", \"Topic8\", \"Topic8\", \"Topic8\", \"Topic8\", \"Topic8\", \"Topic8\", \"Topic8\", \"Topic8\", \"Topic8\", \"Topic8\", \"Topic8\", \"Topic8\", \"Topic8\", \"Topic8\", \"Topic8\", \"Topic8\", \"Topic8\", \"Topic8\", \"Topic8\", \"Topic8\", \"Topic8\", \"Topic8\", \"Topic8\", \"Topic8\", \"Topic8\", \"Topic8\", \"Topic8\", \"Topic8\", \"Topic9\", \"Topic9\", \"Topic9\", \"Topic9\", \"Topic9\", \"Topic9\", \"Topic9\", \"Topic9\", \"Topic9\", \"Topic9\", \"Topic9\", \"Topic9\", \"Topic9\", \"Topic9\", \"Topic9\", \"Topic9\", \"Topic9\", \"Topic9\", \"Topic9\", \"Topic9\", \"Topic9\", \"Topic9\", \"Topic9\", \"Topic9\", \"Topic9\", \"Topic9\", \"Topic9\", \"Topic9\", \"Topic9\", \"Topic9\", \"Topic9\", \"Topic9\", \"Topic9\", \"Topic9\", \"Topic9\", \"Topic9\", \"Topic9\", \"Topic9\", \"Topic9\", \"Topic9\", \"Topic9\", \"Topic9\", \"Topic9\", \"Topic9\", \"Topic9\", \"Topic9\", \"Topic9\", \"Topic9\", \"Topic9\", \"Topic9\", \"Topic9\", \"Topic9\", \"Topic9\", \"Topic9\", \"Topic9\", \"Topic10\", \"Topic10\", \"Topic10\", \"Topic10\", \"Topic10\", \"Topic10\", \"Topic10\", \"Topic10\", \"Topic10\", \"Topic10\", \"Topic10\", \"Topic10\", \"Topic10\", \"Topic10\", \"Topic10\", \"Topic10\", \"Topic10\", \"Topic10\", \"Topic10\", \"Topic10\", \"Topic10\", \"Topic10\", \"Topic10\", \"Topic10\", \"Topic10\", \"Topic10\", \"Topic10\", \"Topic10\", \"Topic10\", \"Topic10\", \"Topic10\", \"Topic10\", \"Topic10\", \"Topic10\", \"Topic10\", \"Topic10\", \"Topic10\", \"Topic10\", \"Topic10\", \"Topic10\", \"Topic10\", \"Topic10\", \"Topic10\", \"Topic10\", \"Topic10\", \"Topic10\", \"Topic10\", \"Topic10\", \"Topic10\", \"Topic10\"], \"logprob\": [30.0, 29.0, 28.0, 27.0, 26.0, 25.0, 24.0, 23.0, 22.0, 21.0, 20.0, 19.0, 18.0, 17.0, 16.0, 15.0, 14.0, 13.0, 12.0, 11.0, 10.0, 9.0, 8.0, 7.0, 6.0, 5.0, 4.0, 3.0, 2.0, 1.0, -4.4242, -4.7946, -5.0831, -5.2589, -5.4262, -4.9638, -5.5682, -5.3997, -5.5982, -5.4409, -5.3097, -4.6824, -5.6928, -5.6954, -5.7295, -5.6883, -5.7408, -5.7428, -5.8126, -5.6921, -5.8458, -4.4037, -5.7061, -5.8477, -5.7067, -5.8291, -5.9051, -5.6039, -5.9308, -5.6448, -5.3339, -5.3994, -5.4304, -4.7893, -5.3156, -5.5941, -4.8877, -5.4705, -4.3555, -4.8373, -5.1136, -4.6796, -5.2913, -5.1595, -4.9275, -5.0846, -4.5103, -4.4097, -4.5258, -5.2306, -4.9262, -5.0721, -5.0883, -5.3234, -5.2099, -5.209, -5.2647, -5.0516, -5.4316, -5.4734, -5.5077, -5.5388, -5.4309, -5.5344, -5.5267, -5.6013, -5.5903, -5.6328, -5.667, -5.747, -5.8069, -5.8403, -5.8265, -5.8938, -5.1784, -5.9509, -5.9384, -5.951, -5.3817, -5.9864, -5.9806, -5.9955, -6.0109, -6.0184, -6.0395, -5.9775, -5.2263, -5.3278, -5.5173, -5.7155, -5.0086, -4.6287, -4.799, -5.6148, -5.1774, -5.5887, -5.1829, -5.052, -4.7746, -5.0049, -5.086, -5.1547, -5.1322, -4.8124, -4.6805, -4.9318, -4.9463, -5.4006, -5.2398, -5.2243, -5.2632, -5.0321, -5.4059, -5.3187, -5.3107, -5.3941, -5.4018, -5.0652, -5.2061, -4.9942, -5.4644, -5.3645, -5.3347, -5.5119, -5.3808, -5.2231, -4.9631, -5.4653, -5.339, -5.6032, -5.2422, -5.6656, -5.1152, -5.6653, -5.698, -5.6851, -5.6441, -5.7279, -5.753, -5.6749, -5.6552, -5.7355, -5.793, -5.8064, -5.8073, -5.8612, -5.7978, -5.7497, -5.551, -5.4852, -5.1976, -5.4235, -4.6344, -5.2519, -5.1895, -5.1964, -5.3553, -5.3738, -5.1069, -4.8217, -5.075, -5.2325, -5.1587, -5.1583, -5.2679, -5.1708, -5.0226, -5.2791, -5.0067, -5.2319, -5.0667, -4.951, -5.1585, -5.0355, -5.376, -5.3213, -5.0016, -5.1064, -5.6181, -5.5749, -5.6898, -5.6214, -5.6566, -5.714, -5.6966, -5.7405, -5.7418, -5.6463, -5.7099, -5.1162, -5.7816, -5.7405, -5.8183, -5.8454, -5.8474, -5.8758, -5.8949, -5.9164, -5.9194, -5.5532, -5.4985, -5.395, -5.2824, -5.2395, -5.0089, -5.5778, -5.4742, -5.0083, -5.2766, -4.7062, -5.6175, -4.8342, -5.0645, -5.0164, -5.2158, -5.1588, -5.361, -5.2078, -5.17, -5.3404, -5.1827, -5.1665, -5.3132, -5.0877, -4.7821, -5.0586, -5.2514, -5.0891, -5.1816, -5.3027, -5.1812, -5.2746, -4.9967, -5.2318, -4.6629, -5.3942, -5.3999, -5.4089, -5.4329, -5.4604, -5.4514, -5.499, -5.4836, -5.3545, -5.5705, -5.574, -5.5779, -5.6115, -5.6815, -5.5615, -5.1939, -5.6826, -5.7092, -5.747, -5.775, -5.7765, -4.9117, -5.8557, -5.863, -5.8908, -5.9065, -5.8768, -5.6278, -5.7056, -5.3336, -4.3563, -5.5834, -5.4322, -4.7206, -5.0455, -5.1321, -5.2005, -4.8779, -4.7229, -5.3274, -4.7274, -5.3853, -5.3654, -5.0203, -5.4019, -5.0363, -4.9654, -5.278, -5.288, -5.3631, -4.9458, -5.2635, -5.261, -5.2745, -5.3318, -4.8062, -4.7584, -5.3325, -5.3061, -5.4386, -5.511, -5.455, -5.5628, -5.2005, -5.4363, -5.6261, -5.6457, -5.6698, -5.7141, -5.7375, -5.477, -5.3613, -5.7915, -5.8234, -5.824, -5.8131, -5.8436, -5.8698, -5.7825, -5.8334, -5.8253, -5.8889, -5.8974, -5.9037, -5.8834, -5.5931, -5.244, -5.4592, -5.5152, -4.9738, -5.6851, -5.4476, -4.7418, -5.4089, -5.0613, -5.0321, -4.5627, -4.9192, -5.3223, -5.2004, -4.3084, -5.0667, -4.8458, -4.4955, -5.0138, -5.1961, -5.3093, -4.5081, -4.9109, -5.0046, -5.1439, -4.9073, -5.2032, -5.0991, -5.3637, -5.3008, -5.318, -5.3177, -4.8736, -4.9147, -5.1885, -5.3125, -5.3524, -5.1388, -5.3923, -5.429, -5.3907, -5.2987, -5.4912, -5.511, -5.4891, -5.5521, -5.5676, -5.5699, -5.3322, -5.3392, -5.4617, -5.6158, -5.597, -5.659, -5.6851, -5.6493, -5.7018, -5.4796, -5.1058, -5.6038, -5.5542, -4.8579, -5.2582, -5.1568, -5.2239, -5.4083, -5.3678, -5.0853, -5.0238, -5.3892, -5.3564, -4.9813, -5.1178, -4.9127, -5.226, -5.0249, -4.981, -5.2179, -5.1226, -5.3404, -5.107, -5.2486, -5.2248, -5.2399, -5.3554, -4.6985, -5.0661, -5.0802, -5.2665, -5.2393, -5.2999, -5.2205, -5.2064, -5.4696, -5.5668, -5.5802, -5.6863, -5.6344, -5.5555, -5.7409, -5.731, -5.73, -5.1384, -5.7638, -5.5682, -4.8415, -5.797, -5.7995, -5.8337, -5.8491, -5.8662, -5.7777, -5.9028, -5.8729, -5.8969, -5.0669, -5.5738, -5.3391, -5.5726, -5.6054, -3.4069, -5.4201, -4.9778, -5.5714, -5.2288, -5.0605, -4.3994, -4.7263, -4.6921, -5.1186, -5.161, -4.5864, -4.905, -5.1511, -5.2698, -5.3057, -4.9596, -5.3345, -5.0364, -5.143, -5.0393, -5.0745, -5.1009, -5.1446, -5.2139, -4.8406, -4.9936, -4.9581, -5.0285, -5.1363, -5.2503, -5.2919, -4.8448, -5.3385, -5.3309, -5.4237, -5.0226, -5.5037, -5.5517, -5.2531, -5.5508, -5.5698, -5.6143, -5.4758, -5.6324, -5.6856, -5.6984, -5.7277, -5.5819, -5.7313, -5.6052, -5.7782, -5.3951, -5.7661, -5.8361, -5.2704, -5.117, -4.3121, -4.9099, -4.4993, -4.8844, -5.4093, -5.1422, -5.4139, -5.3551, -5.1606, -5.2935, -5.0155, -5.1897, -5.0344, -5.1416, -5.0929, -4.875, -5.0233, -5.1442, -5.2478, -5.1531, -5.1647, -5.2783, -5.2455, -4.9613, -4.9992, -5.0424, -4.9195, -4.8694, -5.2759, -5.2664, -4.7627, -5.3385, -5.4368, -5.0341, -5.4828, -5.5072, -5.3589, -5.4997, -5.5096, -5.5246, -5.5766, -5.6219, -5.5951, -5.5589, -5.6427, -5.6443, -5.6554, -5.5326, -5.6821, -5.3238, -5.7231, -5.2977, -5.7579, -5.4367, -5.2499, -4.7955, -4.5718, -5.3473, -5.0814, -5.3413, -5.3214, -4.8909, -4.882, -5.022, -5.0802, -4.9705, -5.3278, -5.238, -5.0582, -4.9658, -5.3792, -5.1823, -5.3169], \"loglift\": [30.0, 29.0, 28.0, 27.0, 26.0, 25.0, 24.0, 23.0, 22.0, 21.0, 20.0, 19.0, 18.0, 17.0, 16.0, 15.0, 14.0, 13.0, 12.0, 11.0, 10.0, 9.0, 8.0, 7.0, 6.0, 5.0, 4.0, 3.0, 2.0, 1.0, 2.1849, 2.1811, 2.1695, 2.1693, 2.1628, 2.1595, 2.1564, 2.1559, 2.155, 2.1535, 2.1535, 2.1535, 2.1501, 2.1485, 2.148, 2.148, 2.1474, 2.1436, 2.1432, 2.1431, 2.1398, 2.1392, 2.139, 2.139, 2.1388, 2.1385, 2.1374, 2.1362, 2.1356, 2.1356, 2.1316, 2.1233, 2.1181, 2.082, 2.0941, 2.1142, 2.0032, 2.089, 1.8574, 1.9534, 2.0082, 1.847, 2.0211, 1.9661, 1.8032, 1.8498, 1.4957, 1.1761, 1.245, 1.7818, 1.3633, 1.4183, 1.3948, 1.8394, 1.0343, 0.8568, 2.1821, 2.1787, 2.1755, 2.1725, 2.1722, 2.1707, 2.1703, 2.1671, 2.1661, 2.1654, 2.1652, 2.1635, 2.1609, 2.1599, 2.1563, 2.1543, 2.1538, 2.1508, 2.1504, 2.1469, 2.1462, 2.1457, 2.1451, 2.1444, 2.1436, 2.1428, 2.1426, 2.1421, 2.1405, 2.1404, 2.1404, 2.1356, 2.1362, 2.1381, 2.12, 2.0854, 2.0852, 2.1239, 2.0781, 2.1136, 2.0354, 2.0011, 1.9135, 1.9307, 1.9142, 1.9232, 1.911, 1.7563, 1.6435, 1.7354, 1.7147, 1.9764, 1.6014, 1.4848, 1.5602, 0.7657, 1.7559, 0.9355, 0.8579, 0.9891, 0.5213, 2.2213, 2.2166, 2.2101, 2.2063, 2.2061, 2.2043, 2.204, 2.204, 2.2033, 2.2019, 2.2002, 2.2002, 2.1995, 2.1988, 2.1962, 2.1954, 2.1953, 2.1944, 2.1936, 2.1933, 2.1927, 2.1912, 2.191, 2.1902, 2.1896, 2.1888, 2.1879, 2.1879, 2.1844, 2.184, 2.1813, 2.1736, 2.1704, 2.1496, 2.1492, 2.0228, 2.1063, 2.0809, 2.078, 2.1093, 2.1106, 2.0147, 1.8779, 1.9718, 1.994, 1.9464, 1.9, 1.9533, 1.631, 1.3474, 1.6424, 0.613, 1.3738, 2.2226, 2.2215, 2.218, 2.2132, 2.2122, 2.2118, 2.2088, 2.2063, 2.2008, 2.2005, 2.1969, 2.1966, 2.1959, 2.1955, 2.1951, 2.194, 2.1939, 2.193, 2.1921, 2.1901, 2.1898, 2.1888, 2.1868, 2.1865, 2.1861, 2.1854, 2.1842, 2.1827, 2.1825, 2.1814, 2.1792, 2.1769, 2.1654, 2.1462, 2.1132, 2.1575, 2.1457, 2.0656, 2.0852, 1.921, 2.1562, 1.8449, 1.9318, 1.9023, 1.9685, 1.904, 2.0142, 1.913, 1.8238, 1.93, 1.7652, 1.6659, 1.8358, 1.3816, 0.5802, 1.0291, 1.5971, 0.9438, 1.3022, 1.7522, 0.4385, 1.3206, 2.2768, 2.2762, 2.2737, 2.2694, 2.2691, 2.2667, 2.2665, 2.2662, 2.2645, 2.2645, 2.2644, 2.2616, 2.2608, 2.2597, 2.2588, 2.2586, 2.2546, 2.2546, 2.2536, 2.2531, 2.2529, 2.2506, 2.2488, 2.2487, 2.246, 2.2431, 2.2429, 2.2409, 2.2398, 2.2392, 2.2383, 2.2381, 2.2232, 2.1521, 2.2267, 2.2048, 2.1141, 2.1538, 2.1466, 2.1363, 1.9609, 1.8863, 2.1086, 1.798, 2.1113, 2.0813, 1.7334, 2.0993, 1.7253, 1.5549, 1.9468, 1.9543, 2.041, 0.9721, 1.736, 1.6482, 0.9885, 1.1033, 2.2881, 2.2795, 2.276, 2.2733, 2.2704, 2.2693, 2.2642, 2.2639, 2.2622, 2.2609, 2.2608, 2.2596, 2.2595, 2.2592, 2.257, 2.2569, 2.2545, 2.2543, 2.2522, 2.2522, 2.2518, 2.2508, 2.249, 2.2488, 2.248, 2.2479, 2.2476, 2.2469, 2.2465, 2.2465, 2.2441, 2.2399, 2.2373, 2.2349, 2.1995, 2.2374, 2.2154, 2.1494, 2.2069, 2.1485, 2.1431, 2.0081, 2.0501, 2.1363, 2.0986, 1.8297, 2.0344, 1.9121, 1.7333, 1.9592, 2.017, 1.9623, 0.8542, 1.1549, 1.2111, 1.4002, 0.6785, 1.4308, 0.6717, 1.8697, 0.8216, 0.7149, 0.6055, 2.3054, 2.3031, 2.2957, 2.2897, 2.2891, 2.2875, 2.2871, 2.2856, 2.2829, 2.2827, 2.2826, 2.2805, 2.2803, 2.2794, 2.2786, 2.2785, 2.278, 2.2769, 2.2766, 2.2759, 2.2736, 2.2734, 2.2719, 2.2716, 2.2709, 2.2694, 2.2683, 2.2681, 2.2655, 2.2636, 2.2636, 2.2266, 2.194, 2.2268, 2.2164, 2.1304, 2.1057, 2.2094, 2.187, 2.0, 2.0607, 1.873, 2.0567, 1.8144, 1.7188, 1.8861, 1.6036, 2.0025, 1.1662, 1.35, 1.0681, 0.7684, 1.9451, 2.337, 2.3342, 2.3224, 2.3216, 2.3216, 2.3179, 2.3155, 2.3131, 2.3111, 2.311, 2.3096, 2.305, 2.3035, 2.3028, 2.3015, 2.3008, 2.3008, 2.3001, 2.3, 2.2986, 2.2976, 2.2975, 2.2961, 2.2952, 2.2939, 2.2929, 2.2917, 2.2901, 2.29, 2.2898, 2.2873, 2.2883, 2.283, 2.2864, 2.2857, 2.1772, 2.2701, 2.2117, 2.2725, 2.2213, 2.1826, 2.064, 2.0964, 2.0781, 2.1731, 2.1771, 1.8879, 2.0107, 2.0882, 2.1044, 2.1153, 1.8264, 2.1208, 1.8639, 1.9492, 1.8312, 1.7393, 1.6936, 1.322, 0.7944, 2.3418, 2.3375, 2.337, 2.3345, 2.3309, 2.3283, 2.3237, 2.3229, 2.3225, 2.3212, 2.3192, 2.3174, 2.3165, 2.3139, 2.3129, 2.3119, 2.3116, 2.3103, 2.3089, 2.3074, 2.3061, 2.3052, 2.3034, 2.3021, 2.3015, 2.3013, 2.3, 2.2991, 2.2989, 2.296, 2.2915, 2.278, 2.2376, 2.259, 2.1621, 2.1737, 2.2433, 2.1346, 2.1976, 2.1594, 2.0164, 2.0816, 1.8275, 1.9867, 1.7777, 1.8873, 1.8243, 1.3538, 1.4692, 1.5127, 1.7674, 1.3276, 1.2812, 1.6921, 0.1168, 2.3699, 2.3692, 2.3677, 2.3671, 2.3619, 2.3586, 2.3562, 2.3551, 2.355, 2.3511, 2.3505, 2.3487, 2.3474, 2.3465, 2.3459, 2.3453, 2.3452, 2.3435, 2.3407, 2.3405, 2.34, 2.3396, 2.3392, 2.3388, 2.3379, 2.3371, 2.3371, 2.3344, 2.3328, 2.3321, 2.3319, 2.2517, 2.1696, 2.072, 2.2474, 2.1483, 2.2168, 2.1852, 1.9015, 1.8894, 1.973, 2.0034, 1.8573, 2.1421, 2.0311, 1.6455, 1.4245, 2.1527, 1.0843, 1.1801]}, \"token.table\": {\"Topic\": [8, 6, 8, 6, 8, 3, 1, 6, 8, 4, 5, 2, 1, 2, 3, 7, 2, 3, 6, 8, 9, 10, 2, 3, 5, 7, 1, 8, 3, 3, 8, 7, 8, 3, 6, 8, 2, 5, 8, 4, 10, 3, 4, 5, 9, 2, 1, 5, 10, 3, 1, 3, 7, 8, 6, 9, 1, 7, 8, 9, 3, 1, 4, 1, 3, 4, 6, 9, 10, 1, 2, 4, 5, 7, 9, 10, 6, 8, 9, 1, 2, 4, 5, 8, 10, 1, 2, 3, 4, 5, 6, 7, 8, 9, 10, 1, 2, 4, 6, 8, 6, 2, 4, 3, 10, 1, 1, 5, 8, 9, 10, 1, 4, 5, 9, 1, 7, 10, 8, 6, 10, 2, 10, 4, 7, 10, 3, 4, 3, 4, 5, 10, 1, 6, 2, 6, 7, 8, 7, 3, 8, 9, 10, 4, 5, 6, 9, 1, 2, 5, 9, 10, 6, 4, 1, 2, 3, 4, 5, 6, 8, 9, 10, 9, 1, 8, 10, 4, 3, 4, 7, 10, 6, 3, 5, 2, 4, 4, 10, 3, 1, 2, 4, 7, 5, 9, 9, 4, 7, 3, 4, 5, 6, 7, 8, 9, 1, 2, 3, 4, 5, 6, 7, 8, 9, 10, 9, 1, 3, 4, 5, 2, 4, 6, 7, 1, 5, 6, 8, 1, 2, 3, 5, 4, 3, 4, 5, 9, 2, 7, 10, 1, 5, 6, 4, 8, 10, 2, 5, 9, 8, 8, 5, 2, 9, 7, 2, 10, 8, 8, 2, 3, 4, 5, 6, 7, 8, 10, 4, 7, 8, 10, 1, 1, 2, 3, 4, 5, 6, 7, 8, 9, 10, 4, 3, 7, 8, 1, 2, 3, 5, 6, 7, 8, 9, 5, 1, 2, 3, 4, 5, 6, 9, 10, 9, 2, 3, 3, 4, 7, 5, 2, 3, 5, 7, 8, 1, 2, 3, 4, 5, 10, 2, 7, 10, 10, 4, 2, 4, 5, 6, 8, 10, 2, 3, 4, 6, 1, 2, 3, 4, 6, 7, 9, 10, 2, 3, 2, 5, 9, 4, 2, 3, 5, 6, 9, 10, 1, 2, 7, 1, 3, 9, 2, 7, 1, 2, 3, 4, 7, 8, 10, 2, 10, 3, 4, 3, 7, 3, 4, 2, 5, 6, 9, 10, 2, 5, 8, 10, 1, 2, 3, 4, 5, 6, 7, 9, 6, 3, 5, 7, 3, 9, 2, 6, 6, 1, 2, 3, 2, 2, 5, 6, 10, 8, 2, 4, 8, 9, 9, 4, 7, 9, 2, 2, 6, 10, 7, 7, 1, 2, 3, 4, 6, 8, 9, 10, 4, 7, 1, 2, 6, 1, 4, 5, 9, 4, 1, 4, 5, 10, 1, 2, 3, 4, 5, 10, 6, 7, 3, 4, 5, 6, 7, 9, 10, 4, 2, 7, 9, 7, 2, 1, 2, 4, 5, 6, 7, 4, 9, 1, 2, 3, 4, 5, 6, 7, 8, 9, 10, 1, 2, 3, 8, 7, 9, 10, 1, 2, 4, 6, 8, 9, 10, 1, 2, 4, 5, 7, 9, 7, 9, 5, 6, 9, 3, 10, 1, 6, 1, 8, 9, 1, 1, 2, 3, 4, 5, 7, 8, 9, 4, 7, 8, 7, 9, 4, 8, 1, 6, 6, 10, 8, 1, 2, 8, 3, 4, 3, 5, 6, 1, 5, 1, 6, 9, 2, 7, 2, 7, 9, 5, 1, 2, 3, 4, 5, 6, 7, 8, 9, 10, 2, 4, 6, 1, 3, 5, 6, 7, 8, 9, 10, 4, 8, 10, 1, 2, 3, 4, 5, 6, 7, 8, 9, 10, 5, 7, 1, 2, 4, 5, 8, 9, 7, 8, 1, 3, 4, 6, 7, 9, 1, 2, 3, 4, 7, 8, 9, 3, 7, 6, 7, 3, 6, 7, 4, 5, 7, 10, 7, 2, 10, 8, 2, 3, 8, 9, 10, 1, 5, 7, 8, 4, 1, 2, 4, 6, 8, 9, 10, 2, 2, 3, 4, 9, 3, 4, 4, 5, 2, 5, 1, 2, 3, 4, 5, 6, 9, 1, 5, 3, 4, 1, 5, 6, 10, 10, 5, 5, 9, 1, 2, 3, 4, 5, 6, 7, 8, 9, 10, 2, 7, 6, 5, 6, 2, 3, 5, 6, 2, 4, 1, 1, 1, 8, 2, 4, 6, 7, 9, 10, 2, 6, 8, 9, 5, 8, 9, 9, 3, 4, 9, 9, 9, 2, 9, 1, 2, 8, 8, 2, 4, 5, 1, 7, 1, 5, 10, 5, 7, 1, 10, 2, 4, 7, 8, 10, 1, 2, 3, 4, 5, 6, 7, 9, 10, 3, 5, 8, 1, 2, 3, 4, 5, 8, 5, 6, 2, 3, 8, 2, 3, 7, 8, 1, 2, 3, 7, 3, 2, 3, 1, 2, 3, 4, 5, 6, 7, 8, 9, 10, 3, 6, 9, 10, 8, 5, 1, 6, 7, 1, 2, 4, 6, 1, 2, 6, 9, 7, 1, 1, 2, 4, 8, 9, 1, 2, 4, 8, 5, 2, 3, 4, 6, 5, 1, 2, 3, 4, 5, 6, 7, 8, 9, 10, 2, 5, 6, 5, 1, 3, 5, 7, 8, 2, 7, 8, 9, 10, 1, 8, 3, 4, 7, 2, 8, 4, 6, 10, 3, 10, 4, 7, 2, 8, 1, 8, 10, 6, 9, 3, 2, 3, 4, 7, 1, 4, 8, 10, 4, 9, 4, 3, 9, 8, 6, 4, 6, 3, 2, 1, 6, 2, 9, 1, 2, 3, 4, 5, 6, 7, 8, 9, 10, 2, 1, 3, 7, 8, 1, 1, 7, 4, 4, 1, 2, 3, 4, 5, 6, 7, 8, 9, 10, 10, 7, 9, 7, 3, 4, 7, 4, 6, 1, 5, 10, 3, 2, 5, 2, 3, 10, 2, 3, 10, 8, 9, 2, 7, 6, 9, 3, 6, 8, 1, 3, 5, 8, 10, 2, 8, 10, 10, 3, 2, 4, 7, 10, 6, 1, 4, 10, 10, 1, 1, 2, 8, 1, 2, 5, 6, 4, 4, 7, 6, 8, 10, 9, 9, 6, 6, 8, 9, 10, 2, 4, 10, 1, 10, 3, 7, 2, 3, 10, 1, 2, 3, 7, 9, 10, 7, 6, 7, 9, 10, 5, 7, 6, 2, 6, 9, 1, 6, 10, 8, 1, 4, 5, 8, 8, 1, 4, 6, 2, 5, 3, 5, 10, 2, 2, 3, 4, 5, 7, 8, 9, 10, 7, 4, 5, 6, 7, 9, 10, 1, 4, 3, 9, 3, 10, 1, 3, 7, 2, 1, 2, 3, 4, 6, 8, 3, 4, 2, 4, 10, 5, 6, 9, 1, 4, 5, 7, 8, 3, 1, 2, 4, 6, 3, 5, 7, 8, 6, 9, 7, 2, 6, 10, 7, 8, 1, 2, 7, 7, 1, 6, 10, 7, 3, 7, 4, 9, 2, 5, 7, 10, 2, 4, 6, 4, 10, 10, 8, 10, 2, 3, 4, 10, 7, 5, 6, 7, 10, 5, 6, 10, 9, 6, 10, 5, 1, 6, 2, 3, 4, 5, 7, 8, 9, 5, 1, 3, 8, 2, 3, 4, 5, 6, 7, 8, 9, 1, 2, 4, 7, 8, 5, 8, 5, 1, 4, 7, 8, 6, 1, 8, 4, 2, 3, 3, 5, 6, 8, 10, 9, 6, 7, 6, 5, 6, 4, 1, 4, 6, 9, 10, 1, 3, 2, 1, 2, 10, 1, 2, 7, 9, 2, 9, 4, 8, 6, 9, 1, 5, 2, 3, 4, 5, 6, 8, 10, 3, 8, 2, 9, 6, 10, 7, 4, 3, 4, 4, 9, 7, 8, 9, 4, 3, 2, 4, 2, 4, 6, 7, 8, 9, 10, 6, 3, 1, 2, 3, 4, 5, 6, 7, 9, 10, 4, 10, 1, 5, 2, 3, 4, 8, 1, 2, 5, 4, 10, 3, 5, 5, 10, 8, 1, 2, 3, 4, 5, 6, 7, 8, 10, 5, 1, 2, 3, 5, 6, 7, 9, 1, 3, 6, 9, 1, 3, 9, 10, 1, 2, 5, 7, 8, 10, 8, 3, 9], \"Freq\": [0.9129933137826055, 0.9037850131906576, 0.967386906034322, 0.062417673831915974, 0.9362651074787396, 0.9439541592777406, 0.9692792965740966, 0.8937880609120262, 0.09576300652628852, 0.13133810171643076, 0.8536976611567999, 0.9216329186233835, 0.702162561260611, 0.016718156220490738, 0.21733603086637962, 0.06687262488196295, 0.0761835940981748, 0.2856884778681555, 0.1333212896718059, 0.0761835940981748, 0.4190097675399614, 0.0190458985245437, 0.08535501358844134, 0.7112917799036779, 0.1707100271768827, 0.028451671196147114, 0.9690216661425798, 0.88485665393772, 0.9431169871338178, 0.844172562641186, 0.14069542710686433, 0.19510722550935897, 0.7804289020374359, 0.04815087366132758, 0.8426402890732326, 0.07222631049199137, 0.9713167953821538, 0.9267892124446274, 0.9134386383112013, 0.9120396614408592, 0.9430558009915146, 0.0781746598765866, 0.1824075397120354, 0.2084657596708976, 0.4951061792183818, 0.9030056037187596, 0.9566829083971303, 0.02277816448564596, 0.9608939794682549, 0.9547878779603779, 0.9282227030092823, 0.8000959764159121, 0.17144913780340973, 0.01904990420037886, 0.9272243202304173, 0.9752289441848132, 0.2669326065865627, 0.13346630329328135, 0.04448876776442712, 0.556109597055339, 0.9662872607783888, 0.9053460002456417, 0.04526730001228208, 0.1605848468612074, 0.06882207722623174, 0.02294069240874391, 0.06882207722623174, 0.5735173102185978, 0.11470346204371955, 0.07639321417416933, 0.2801084519719542, 0.10185761889889244, 0.229179642522508, 0.10185761889889244, 0.038196607087084666, 0.19098303543542333, 0.6440246480675187, 0.20337620465290063, 0.1355841364352671, 0.9352679647964514, 0.07527471056063234, 0.03763735528031617, 0.03763735528031617, 0.8280218161669558, 0.970815147863105, 0.10519147539191817, 0.25713471762468887, 0.05843970855106565, 0.04675176684085252, 0.08181559197149191, 0.08181559197149191, 0.03506382513063939, 0.1986950090736232, 0.08181559197149191, 0.04675176684085252, 0.18613102750660332, 0.167517924755943, 0.09306551375330166, 0.4094882605145273, 0.14890482200528266, 0.9505112526905384, 0.929498519134931, 0.03872910496395546, 0.9307425141845759, 0.05170791745469866, 0.9291527300850706, 0.02248113385982596, 0.04496226771965192, 0.7643585512340827, 0.04496226771965192, 0.1124056692991298, 0.7913143550031172, 0.09130550250035968, 0.060870335000239785, 0.030435167500119892, 0.03377158781046772, 0.1688579390523386, 0.7767465196407575, 0.9733914150222432, 0.9144652299314504, 0.04354596333006906, 0.18145086190339152, 0.8035681027150195, 0.7812246362602692, 0.03906123181301346, 0.15624492725205383, 0.042006276960444504, 0.9241380931297791, 0.7881787905912778, 0.030314568868895303, 0.15157284434447651, 0.030314568868895303, 0.9362635285711418, 0.9447884988620483, 0.9299563788949132, 0.026341936974726324, 0.7112322983176107, 0.2370774327725369, 0.9404098230167195, 0.08542565259250215, 0.021356413148125537, 0.27763337092563195, 0.5979795681475151, 0.11277632984228536, 0.827026418843426, 0.037592109947428454, 0.945480316847881, 0.16614485987694527, 0.13291588790155623, 0.4652056076554468, 0.06645794395077811, 0.14953037388925075, 0.9452652810871109, 0.9533422042887759, 0.036574364782735444, 0.1828718239136772, 0.06400513836978702, 0.15544105032662564, 0.1371538679352579, 0.1828718239136772, 0.08229232076115474, 0.14629745913094178, 0.009143591195683861, 0.9567604852714546, 0.24036758400687214, 0.10683003733638761, 0.6409802240183257, 0.94760365453155, 0.046217305660797216, 0.09243461132159443, 0.8781288075551471, 0.9579506168102725, 0.9517401870722509, 0.9172309678053455, 0.9664263683637347, 0.03312552047880003, 0.960640093885201, 0.9078425875880614, 0.07894283370330969, 0.9831212522123298, 0.04571597472773013, 0.11428993681932532, 0.2057218862747856, 0.5943076714604917, 0.134696841206603, 0.808181047239618, 0.9646882061783748, 0.0506554981562306, 0.9117989668121508, 0.14558395537867638, 0.11911414530982613, 0.10587924027540101, 0.13234905034425126, 0.2779330057229276, 0.07940943020655075, 0.13234905034425126, 0.38475944735140677, 0.05496563533591525, 0.1099312706718305, 0.03926116809708232, 0.007852233619416464, 0.18845360686599516, 0.06281786895533172, 0.007852233619416464, 0.14134020514949636, 0.007852233619416464, 0.9031403604015996, 0.02667538823691782, 0.293429270606096, 0.6402093176860277, 0.02667538823691782, 0.026029845380486496, 0.18220891766340547, 0.7548655160341085, 0.026029845380486496, 0.9405533224454722, 0.042752423747521466, 0.9326831966129935, 0.9634875044835203, 0.9727450620426156, 0.8347325422320762, 0.1335572067571322, 0.9581921477295443, 0.9637205218747058, 0.17100661092881958, 0.03420132218576392, 0.6840264437152783, 0.10260396655729176, 0.03901570554569984, 0.936376933096796, 0.966667946991907, 0.16083392177476838, 0.7639611284301497, 0.040208480443692095, 0.03084788799720818, 0.9254366399162455, 0.924703429148633, 0.942283532801057, 0.9814217057646948, 0.9413152197552339, 0.9149376716864945, 0.8999950197195684, 0.9012902026576833, 0.7544103628436795, 0.23212626549036292, 0.9477295277805393, 0.909139812208892, 0.04545699061044459, 0.9409683238953866, 0.9684882474960659, 0.28970361925977334, 0.057940723851954666, 0.11588144770390933, 0.15933699059287532, 0.11588144770390933, 0.086911085777932, 0.043455542888966, 0.14485180962988667, 0.6542494170185763, 0.18692840486245038, 0.12461893657496692, 0.9577579373321972, 0.9472985134102612, 0.07277077597280078, 0.16373424593880176, 0.11825251095580126, 0.07277077597280078, 0.26379406290140284, 0.03638538798640039, 0.10005981696260108, 0.08186712296940088, 0.06367442897620068, 0.02728904098980029, 0.9731273257192731, 0.5283790973011742, 0.35225273153411607, 0.11007897860441128, 0.486742603989059, 0.05960113518233376, 0.08940170277350064, 0.0496676126519448, 0.16886988301661232, 0.0496676126519448, 0.009933522530388959, 0.07946818024311167, 0.9726848395562467, 0.11336047508622504, 0.15870466512071504, 0.045344190034490015, 0.011336047508622504, 0.034008142525867514, 0.6121465654656152, 0.011336047508622504, 0.011336047508622504, 0.9617501555789126, 0.8664255966364607, 0.10397107159637528, 0.9694073421467202, 0.9512209783695266, 0.9628086728381889, 0.9132781710809682, 0.7549991643901013, 0.10066655525201351, 0.025166638813003378, 0.025166638813003378, 0.10066655525201351, 0.16115780025520737, 0.08953211125289298, 0.053719266751735786, 0.3939412895127291, 0.07162568900231438, 0.19697064475636455, 0.1336317846086074, 0.04454392820286913, 0.8017907076516443, 0.9232246954111039, 0.9330872229293796, 0.06297999256980563, 0.15744998142451408, 0.1731949795669655, 0.15744998142451408, 0.346389959133931, 0.11021498699715987, 0.09938240977149151, 0.6956768684004406, 0.0198764819542983, 0.17888833758868472, 0.43528387234350635, 0.07914252224427389, 0.03957126112213694, 0.2769988278549586, 0.013190420374045648, 0.013190420374045648, 0.09233294261831954, 0.03957126112213694, 0.9287166144532145, 0.05159536746962303, 0.22102579479143653, 0.1657693460935774, 0.6078209356764505, 0.9678466053128545, 0.1736992370535832, 0.5459118878826901, 0.12407088360970228, 0.07444253016582136, 0.04962835344388091, 0.024814176721940456, 0.21751614503865477, 0.07250538167955159, 0.6888011259557401, 0.6522371662515402, 0.16305929156288504, 0.13588274296907088, 0.9655030050555029, 0.9437611153943977, 0.17855583692986132, 0.14609113930625017, 0.14609113930625017, 0.09739409287083345, 0.03246469762361115, 0.09739409287083345, 0.29218227861250035, 0.9743255572788264, 0.9668963764472914, 0.9434929305125981, 0.9568393932754851, 0.9496916607021617, 0.031656388690072056, 0.03646142553600748, 0.9479970639361944, 0.1474884936267465, 0.08427913921528371, 0.6531633289184487, 0.021069784803820928, 0.08427913921528371, 0.06825877225441275, 0.8191052670529531, 0.02275292408480425, 0.06825877225441275, 0.18095284223484365, 0.018095284223484366, 0.4161915371401404, 0.14476227378787493, 0.018095284223484366, 0.10857170534090618, 0.09047642111742182, 0.018095284223484366, 0.9581884724415766, 0.23525391260123263, 0.7057617378036979, 0.03360770180017609, 0.9664570469481713, 0.9438185543816818, 0.898948064479838, 0.056184254029989875, 0.9367595855067105, 0.07680926859729777, 0.03840463429864888, 0.8449019545702754, 0.9535249339947665, 0.042937862006421294, 0.042937862006421294, 0.1288135860192639, 0.7728815161155833, 0.9029605975590909, 0.08830764458179527, 0.20605117069085563, 0.6475893935998319, 0.02943588152726509, 0.9663840516372785, 0.9694318207338006, 0.03174222147273883, 0.9522666441821649, 0.9358853734397243, 0.9453646147399267, 0.9092579273422519, 0.05682862045889074, 0.9531047576966776, 0.9678094368169634, 0.2636450067503711, 0.08436640216011876, 0.08436640216011876, 0.10545800270014845, 0.3163740081004453, 0.010545800270014845, 0.13709540351019298, 0.010545800270014845, 0.8380780566187714, 0.14449621665840887, 0.2501606647336694, 0.6157800978059554, 0.11545876833861665, 0.7038369025269118, 0.12568516116551995, 0.02513703223310399, 0.10054812893241596, 0.9667308696712662, 0.10731132119084763, 0.10731132119084763, 0.5633844362519501, 0.21462264238169526, 0.08753448076711014, 0.1458908012785169, 0.07294540063925845, 0.1313017211506652, 0.17506896153422027, 0.3793160833241439, 0.947817688366699, 0.027876990834314677, 0.9314276419441285, 0.03991745579327244, 0.07983491158654488, 0.15966982317308975, 0.1995872789663622, 0.03991745579327244, 0.45905074162263304, 0.9039224040237261, 0.11912851483507299, 0.6254247028841332, 0.20847490096137772, 0.9802841203976969, 0.9522411850712059, 0.05231639497621579, 0.6277967397145895, 0.03487759665081053, 0.17438798325405264, 0.06975519330162105, 0.03487759665081053, 0.06356618889260142, 0.8899266444964198, 0.07142981100555149, 0.07142981100555149, 0.10204258715078783, 0.26531072659204835, 0.061225552290472704, 0.20408517430157566, 0.08163406972063027, 0.010204258715078783, 0.020408517430157567, 0.10204258715078783, 0.06819343756359236, 0.13638687512718473, 0.03409671878179618, 0.750127813199516, 0.09895012737764017, 0.8410760827099415, 0.9652647732769039, 0.14417577679825996, 0.09611718453217331, 0.38446873812869325, 0.04805859226608666, 0.016019530755362218, 0.14417577679825996, 0.16019530755362218, 0.13619281620850598, 0.022698802701417664, 0.5447712648340239, 0.15889161890992365, 0.04539760540283533, 0.06809640810425299, 0.9229379252215137, 0.935667465865816, 0.9105539744936678, 0.08554740692096656, 0.8725835505938588, 0.9313900867744858, 0.946626584951, 0.0496890547076638, 0.8944029847379484, 0.9383458925634465, 0.909848714269844, 0.05352051260410847, 0.9373937678645542, 0.012976336778264064, 0.15571604133916878, 0.1816687148956969, 0.10381069422611251, 0.012976336778264064, 0.31143208267833755, 0.09083435744784844, 0.12976336778264064, 0.19197428466581212, 0.042660952147958245, 0.7465666625892693, 0.1770026993538736, 0.7788118771570439, 0.974063897412746, 0.9384978503376271, 0.23756632805031785, 0.7423947751572433, 0.9300142883073297, 0.9137548585137191, 0.9599963761742347, 0.37154810795542087, 0.10927885528100614, 0.5026827342926282, 0.8543462652541336, 0.08543462652541337, 0.9531541430775096, 0.7971325556205061, 0.16781738013063288, 0.8437067304210917, 0.11004870396796848, 0.2964876713084975, 0.07412191782712438, 0.5682680366746202, 0.08153122455615583, 0.8560778578396362, 0.935779042693963, 0.05374014818543253, 0.9135825191523531, 0.9436561333678498, 0.0571822496929823, 0.08577337453947345, 0.4002757478508761, 0.15725118665570134, 0.014295562423245575, 0.014295562423245575, 0.0571822496929823, 0.014295562423245575, 0.07147781211622788, 0.1286600618092102, 0.9157837452990791, 0.061052249686605276, 0.9202823261399613, 0.9356613478730341, 0.11178167600908735, 0.0958128651506463, 0.2235633520181747, 0.1277504868675284, 0.07984405429220526, 0.3513138388857031, 0.9698547639966879, 0.1437349451131156, 0.8264759344004148, 0.9462960312172981, 0.3151384728525129, 0.1764775447974072, 0.06302769457050258, 0.012605538914100515, 0.0882387723987036, 0.03781661674230155, 0.11344985022690464, 0.03781661674230155, 0.06302769457050258, 0.11344985022690464, 0.9443703568194278, 0.9310258474312881, 0.1542186248218731, 0.16964048730406042, 0.24674979971499697, 0.03084372496437462, 0.06168744992874924, 0.33928097460812084, 0.04161114856490215, 0.9154452684278475, 0.09940807660421183, 0.17893453788758132, 0.09940807660421183, 0.01988161532084237, 0.5368036136627439, 0.03976323064168474, 0.14209098457601502, 0.03157577435022556, 0.14209098457601502, 0.41048506655293227, 0.04736366152533834, 0.06315154870045112, 0.14209098457601502, 0.7593973199358348, 0.19688078665003123, 0.07876626025975673, 0.9058119929872024, 0.1328622150579118, 0.7307421828185148, 0.09964666129343384, 0.031426744128532955, 0.9428023238559886, 0.7477798321967799, 0.2136513806276514, 0.9615430037257994, 0.09729534760501483, 0.8756581284451335, 0.9665737879015275, 0.04518803378717203, 0.11297008446793007, 0.24853418582944617, 0.022594016893586016, 0.5874444392332364, 0.818230343376323, 0.04813119666919547, 0.12032799167298867, 0.9475974147682709, 0.957813418358436, 0.006514598353611498, 0.013029196707222995, 0.09120437695056097, 0.006514598353611498, 0.8273539909086601, 0.006514598353611498, 0.045602188475280483, 0.9659327101555082, 0.0554684117852728, 0.07395788238036373, 0.7210893532085464, 0.14791576476072746, 0.9417317321909814, 0.9443044289207321, 0.7386716785732269, 0.24622389285774232, 0.9213753258549203, 0.9525946340428592, 0.4482133153597979, 0.03201523681141413, 0.12806094724565653, 0.03201523681141413, 0.03201523681141413, 0.11205332883994948, 0.20809903927419188, 0.935931428721835, 0.9245609744497071, 0.9115450536519679, 0.07596208780433066, 0.9378131316934162, 0.8512785882711061, 0.14187976471185101, 0.961476787586134, 0.942982930630356, 0.9640517116996322, 0.9214953340194673, 0.947345554777099, 0.11856710985978462, 0.05389414084535665, 0.11856710985978462, 0.2910283605649259, 0.06467296901442798, 0.20479773521235528, 0.06467296901442798, 0.03233648450721399, 0.02155765633814266, 0.03233648450721399, 0.04522751802865007, 0.9497778786016515, 0.9420426215913462, 0.8899523647605604, 0.046839598145292656, 0.9608806455691861, 0.06853587053535078, 0.7082039955319581, 0.20560761160605234, 0.05599440665277005, 0.8959105064443208, 0.9117666035511826, 0.918280737333117, 0.1369138954802612, 0.8214833728815671, 0.48157292497559917, 0.16052430832519973, 0.08026215416259987, 0.04013107708129993, 0.14045876978454977, 0.10032769270324983, 0.6310792404695253, 0.03155396202347627, 0.15776981011738134, 0.15776981011738134, 0.040889428846712005, 0.776899148087528, 0.16355771538684802, 0.9539890864001562, 0.12808424366421417, 0.19212636549632128, 0.6724422792371244, 0.9158944009081006, 0.9574708606082077, 0.9461626917330979, 0.9427294200739832, 0.9564856260379478, 0.7826124204067789, 0.19565310510169473, 0.9504857991482464, 0.05074954044645068, 0.05074954044645068, 0.9134917280361122, 0.18330560871427073, 0.7943243044285064, 0.14591070544103965, 0.17509284652924756, 0.6711892450287824, 0.13321417115804665, 0.79928502694828, 0.9372214846926767, 0.9619079362543779, 0.10904105928002578, 0.10904105928002578, 0.13084927113603093, 0.021808211856005153, 0.6106299319681443, 0.3589232683476737, 0.02610351042528536, 0.08483640888217742, 0.07831053127585608, 0.01957763281896402, 0.1957763281896402, 0.07831053127585608, 0.12399167452010545, 0.03915526563792804, 0.9376580104625512, 0.9494846176222486, 0.9405647004853318, 0.1365374115092814, 0.5598033871880538, 0.08192244690556884, 0.01365374115092814, 0.19115237611299396, 0.01365374115092814, 0.9461944128607748, 0.9379590107564589, 0.6120069746892013, 0.13387652571326278, 0.24862783346748804, 0.09868964679414076, 0.04934482339707038, 0.12336205849267595, 0.6908275275589854, 0.9134497080880148, 0.04883936163818516, 0.04883936163818516, 0.8791085094873329, 0.9595265418621756, 0.9243967672621962, 0.952028876418242, 0.0644583167003333, 0.09024164338046663, 0.19337495010099992, 0.1031333067205333, 0.07734998004039997, 0.05156665336026665, 0.1031333067205333, 0.025783326680133323, 0.012891663340066662, 0.27072493014139987, 0.012412803931671393, 0.5585761769252127, 0.35997131401847043, 0.062064019658356964, 0.9375196511234245, 0.9713311909579241, 0.1447757938686165, 0.7962668662773907, 0.036193948467154125, 0.7085936732782516, 0.01221713229790089, 0.03665139689370267, 0.2321255136601169, 0.07812023306869648, 0.11718034960304471, 0.03906011653434824, 0.7421422141526165, 0.9166570338042073, 0.9075079337415234, 0.08912448545188019, 0.1336867281778203, 0.15596784954079032, 0.5347469127112812, 0.08912448545188019, 0.015695457695315777, 0.1569545769531578, 0.0627818307812631, 0.7376865116798416, 0.8922094746942465, 0.16044783026007886, 0.08022391513003943, 0.7220152361703549, 0.9123032605549952, 0.9578821989771832, 0.06750325405516056, 0.09450455567722478, 0.19575943675996563, 0.16200780973238535, 0.09450455567722478, 0.0607529286496445, 0.10800520648825689, 0.05400260324412844, 0.08100390486619267, 0.08100390486619267, 0.044103795292452876, 0.7938683152641517, 0.13231138587735863, 0.9289625837114684, 0.26717050817078386, 0.01669815676067399, 0.6011336433842637, 0.08349078380336995, 0.03339631352134798, 0.7286918579681748, 0.028026609921852876, 0.05605321984370575, 0.028026609921852876, 0.16815965953111725, 0.16928426554441267, 0.761779194949857, 0.04814337473951814, 0.04814337473951814, 0.8665807453113265, 0.12977296029788124, 0.8435242419362281, 0.8478871372979297, 0.03854032442263317, 0.11562097326789951, 0.9398936146724268, 0.9273589122634005, 0.9666726114216035, 0.9455164950243607, 0.964483682342102, 0.9633513102186998, 0.9683013137850595, 0.9403027315498564, 0.9505330382699524, 0.9199798109522322, 0.9591856315073425, 0.9336509614293789, 0.7248544925484892, 0.02684646268698108, 0.10738585074792432, 0.1342323134349054, 0.1457625946088125, 0.09717506307254166, 0.6073441442033853, 0.1457625946088125, 0.9035148420596021, 0.047553412739979053, 0.9308578278316434, 0.03984353407512269, 0.9164012837278219, 0.9259438206073144, 0.9443268664665808, 0.8795241157772906, 0.09098525335627144, 0.9659959305548248, 0.9086724383207917, 0.053861295869632383, 0.9156420297837504, 0.9142744505425913, 0.9047957221448755, 0.04033357413326033, 0.23393472997290993, 0.10486729274647685, 0.12100072239978099, 0.11293400757312892, 0.03226685930660826, 0.0484002889599124, 0.11293400757312892, 0.07260043343986859, 0.13713415205308513, 0.965134162951925, 0.9675699515138844, 0.7742360139550449, 0.03366243538934978, 0.1683121769467489, 0.9417951388082679, 0.7838651857121092, 0.1959662964280273, 0.9566497011961254, 0.9260544690274624, 0.11480657130222588, 0.05740328565111294, 0.0782772077060631, 0.18786529849455144, 0.0260924025686877, 0.22961314260445176, 0.08871416873353817, 0.03652936359616278, 0.1043696102747508, 0.07305872719232556, 0.9356005307752919, 0.256318194834078, 0.7048750357937145, 0.9085722126854616, 0.736750752865053, 0.1004660117543254, 0.13395468233910054, 0.9514483244300874, 0.9371899502855447, 0.04430761688524638, 0.7975371039344349, 0.08861523377049275, 0.9571311562433776, 0.9209279831775133, 0.05417223430455961, 0.9322828902591739, 0.03729131561036696, 0.03729131561036696, 0.7270688643992564, 0.07860203939451421, 0.15720407878902842, 0.047077449245078715, 0.9415489849015743, 0.26475254114875724, 0.7186140402609126, 0.8855023553590283, 0.052088373844648726, 0.0959467364398931, 0.8315383824790736, 0.031982245479964366, 0.04229266506075429, 0.16917066024301716, 0.5498046457898058, 0.12687799518226286, 0.10573166265188573, 0.8844811028659504, 0.09561957868821085, 0.02390489467205271, 0.931850768952186, 0.9447455237382415, 0.10206116047960119, 0.28577124934288334, 0.48989357030208575, 0.12247339257552144, 0.9733337599427931, 0.17148245817073926, 0.7145102423780803, 0.08574122908536963, 0.9471312890608409, 0.9674254439327316, 0.9804026580725917, 0.9303310241165581, 0.9160362585841458, 0.6766079213648636, 0.16402616275511847, 0.14352289241072866, 0.9622370848968657, 0.9540993547407892, 0.9324724864830956, 0.9547241588044023, 0.11790463689527701, 0.5895231844763851, 0.28297112854866485, 0.9467606106131832, 0.9421881090472501, 0.9235225949435455, 0.7054137528275494, 0.026126435289909235, 0.10450574115963694, 0.1567586117394554, 0.5174079128036194, 0.17996796967082412, 0.2924479507150892, 0.9356504281919795, 0.9262288199907097, 0.916360444057894, 0.9583939611293614, 0.9729088730312221, 0.2631541548887961, 0.7142755632695894, 0.4514910345907369, 0.2902442365226166, 0.08062339903406017, 0.032249359613624067, 0.048374039420436096, 0.09674807884087219, 0.960108631551735, 0.16351662412920137, 0.16351662412920137, 0.5450554137640046, 0.10901108275280093, 0.9610992461699682, 0.9324243700445312, 0.9166357570889896, 0.9154384908558645, 0.9139550823114381, 0.9302925170358105, 0.17565447843891505, 0.10539268706334903, 0.7026179137556602, 0.9535071877615638, 0.01815826539653485, 0.19974091936188335, 0.6536975542752546, 0.12710785777574393, 0.9459704493405541, 0.09898202312961124, 0.6928741619072787, 0.17321854047681967, 0.025193528859624784, 0.9573540966657419, 0.04151086909391341, 0.8302173818782682, 0.12453260728174023, 0.9305762818956113, 0.08983086597604693, 0.1257632123664657, 0.23356025153772203, 0.01796617319520939, 0.3772896370993971, 0.05389851958562816, 0.08983086597604693, 0.03593234639041878, 0.9388594085263299, 0.9319539853787564, 0.9381990555524139, 0.7338991344483352, 0.03494757783087311, 0.17473788915436553, 0.03494757783087311, 0.9346867981180691, 0.05098291626098559, 0.9301646332220608, 0.9519441008333797, 0.8476562455364963, 0.1412760409227494, 0.8185637092301014, 0.12126869766371871, 0.06063434883185936, 0.9147517547567805, 0.8731831462492234, 0.023599544493222255, 0.023599544493222255, 0.04719908898644451, 0.023599544493222255, 0.9038574429612825, 0.05818838832206282, 0.9310142131530051, 0.10190765311173126, 0.6114459186703877, 0.25476913277932817, 0.12738323590084816, 0.849221572672321, 0.04246107863361605, 0.021663942925330804, 0.15164760047731562, 0.19497548632797723, 0.6282543448345933, 0.9623159827234862, 0.9476890137645124, 0.1211476510206532, 0.1211476510206532, 0.6965989933687559, 0.9163784996616456, 0.9651714496749813, 0.957315452292023, 0.9650133079971853, 0.9633946254974468, 0.9432965330423103, 0.9343679258621261, 0.9547832752254851, 0.10564583448087382, 0.7043055632058255, 0.17607639080145637, 0.9138938369930661, 0.9445209511369284, 0.9412751547462518, 0.03036371466923393, 0.9475874401239621, 0.924717051369063, 0.9349383835060454, 0.14070748910612146, 0.8442449346367289, 0.9443207290430158, 0.03031081974276022, 0.9396354120255669, 0.14223617506514089, 0.8249698153778171, 0.549591443422197, 0.06869893042777463, 0.06869893042777463, 0.2976953651870234, 0.12908988598001125, 0.7422668443850647, 0.09681741448500844, 0.9605866784494814, 0.9718666710931149, 0.9330014159600893, 0.030194506387672248, 0.9662242044055119, 0.1417823583354474, 0.22685177333671583, 0.5954859050088791, 0.9238892772840487, 0.9269880951678832, 0.5147460363183852, 0.0980468640606448, 0.3186523081970956, 0.07353514804548361, 0.9723516710930101, 0.9292234118292066, 0.9378407585804365, 0.940584140451235, 0.05042333890979465, 0.9076201003763037, 0.9295211910757434, 0.8894826795513922, 0.08086206177739928, 0.10680724601298146, 0.13732360201669044, 0.04577453400556348, 0.3051635600370899, 0.15258178001854494, 0.16783995802039944, 0.09154906801112696, 0.8965889594198244, 0.23853447430204294, 0.7454202321938842, 0.9579452481687952, 0.17855205147422012, 0.055797516085693784, 0.11159503217138757, 0.10043552895424881, 0.22319006434277514, 0.18971155469135886, 0.12275453538852633, 0.011159503217138758, 0.05841670830013885, 0.07788894440018512, 0.6620560274015735, 0.0973611805002314, 0.07788894440018512, 0.8517955449599908, 0.1310454684553832, 0.9237254478154365, 0.9290807158279489, 0.04210079524142065, 0.04210079524142065, 0.8420159048284129, 0.9370782804992339, 0.9265108347228939, 0.05450063733664081, 0.9217877044457531, 0.047590376050956146, 0.9042171449681669, 0.03173360428032867, 0.12693441712131467, 0.11106761498115034, 0.6188052834664091, 0.095200812840986, 0.9717699620080035, 0.9271958335067612, 0.9685603072207709, 0.9034183118108593, 0.1324261457936487, 0.8276634112103044, 0.9166162085660141, 0.230664220981814, 0.5074612861599908, 0.0461328441963628, 0.0461328441963628, 0.1383985325890884, 0.03661690564090323, 0.9520395466634839, 0.952871686117445, 0.8923517815961637, 0.04696588324190335, 0.04696588324190335, 0.09626675468021767, 0.09626675468021767, 0.7701340374417414, 0.9720745157004886, 0.9433189991500338, 0.9274465864378386, 0.8980722583746199, 0.04989290324303444, 0.9440373545087207, 0.049686176553090565, 0.9135280622784223, 0.9431739159918038, 0.06805657309477549, 0.10208485964216323, 0.15312728946324486, 0.11909900291585711, 0.3913252952949591, 0.10208485964216323, 0.05104242982108161, 0.9498178382330079, 0.9332600269883236, 0.9276570056715526, 0.9734440844529018, 0.934259477820143, 0.9442452587476843, 0.9631637047775358, 0.905400605873891, 0.9534280048600431, 0.9777305613478527, 0.10310806508024434, 0.8764185531820768, 0.9383792963556692, 0.917984879399701, 0.03824936997498754, 0.9517357621995152, 0.9633629107661914, 0.9385516621676573, 0.04266143918943897, 0.06126114970636431, 0.08576560958891002, 0.33081020841436726, 0.14702675929527434, 0.08576560958891002, 0.14702675929527434, 0.1592789892365472, 0.9497726055233164, 0.9455990831108227, 0.051382094019587335, 0.15414628205876202, 0.06422761752448418, 0.16699180556365883, 0.26975599360283353, 0.025691047009793667, 0.08991866453427784, 0.17983732906855568, 0.012845523504896834, 0.03943027283556439, 0.9463265480535454, 0.41966371562008603, 0.5665460160871162, 0.21670699287377715, 0.021670699287377714, 0.1733655942990217, 0.5851088807591983, 0.11321283969102561, 0.7924898778371793, 0.056606419845512804, 0.08864478368220483, 0.8421254449809458, 0.8714034174328027, 0.08714034174328027, 0.9050798129023707, 0.06033865419349138, 0.9497882854047619, 0.06969601281115395, 0.1393920256223079, 0.14934859888104418, 0.05973943955241768, 0.08960915932862651, 0.02986971977620884, 0.20908803843346188, 0.20908803843346188, 0.049782866293681394, 0.933596868041857, 0.3069905706849943, 0.016157398457104965, 0.016157398457104965, 0.016157398457104965, 0.21004617994236452, 0.016157398457104965, 0.4039349614276241, 0.6948939809092404, 0.09475827012398731, 0.031586090041329104, 0.15793045020664553, 0.05739468016850143, 0.09565780028083572, 0.8035255223590201, 0.019131560056167143, 0.1008347670923471, 0.867178996994185, 0.9155584622917726, 0.13706218613619042, 0.04568739537873014, 0.7766857214384124, 0.9613038603206647, 0.9584240743863726, 0.9095853698532874], \"Term\": [\"'s\", \"2\", \"2013\", \"2014\", \"2014\", \"3\", \"90\", \"abbott\", \"abbott\", \"abc\", \"abc\", \"abort\", \"accus\", \"accus\", \"accus\", \"accus\", \"act\", \"act\", \"act\", \"act\", \"act\", \"act\", \"action\", \"action\", \"action\", \"action\", \"ad\", \"advic\", \"africa\", \"aid\", \"aid\", \"airport\", \"airport\", \"alleg\", \"alleg\", \"alleg\", \"allow\", \"ambul\", \"amnesti\", \"andrew\", \"angri\", \"announc\", \"announc\", \"announc\", \"announc\", \"apologis\", \"appeal\", \"appeal\", \"appoint\", \"approv\", \"arm\", \"arrest\", \"arrest\", \"arrest\", \"arriv\", \"ask\", \"assault\", \"assault\", \"assault\", \"assault\", \"asylum\", \"attempt\", \"attempt\", \"aussi\", \"aussi\", \"aussi\", \"aussi\", \"aussi\", \"aussi\", \"australia\", \"australia\", \"australia\", \"australia\", \"australia\", \"australia\", \"australia\", \"author\", \"author\", \"author\", \"await\", \"award\", \"award\", \"award\", \"award\", \"babi\", \"back\", \"back\", \"back\", \"back\", \"back\", \"back\", \"back\", \"back\", \"back\", \"back\", \"ban\", \"ban\", \"ban\", \"ban\", \"ban\", \"bash\", \"battl\", \"battl\", \"beach\", \"beach\", \"beatti\", \"begin\", \"begin\", \"begin\", \"begin\", \"begin\", \"bid\", \"bid\", \"bid\", \"bid\", \"black\", \"black\", \"black\", \"blaze\", \"boat\", \"boat\", \"bodi\", \"bodi\", \"bomb\", \"bomb\", \"bomb\", \"boss\", \"boss\", \"boy\", \"boy\", \"boy\", \"boy\", \"brace\", \"breakfast\", \"bring\", \"brisban\", \"brisban\", \"brisban\", \"brother\", \"budget\", \"budget\", \"budget\", \"budget\", \"build\", \"build\", \"build\", \"bulldog\", \"busi\", \"busi\", \"busi\", \"busi\", \"busi\", \"buy\", \"cabinet\", \"call\", \"call\", \"call\", \"call\", \"call\", \"call\", \"call\", \"call\", \"call\", \"campbel\", \"canberra\", \"canberra\", \"canberra\", \"cancel\", \"cancer\", \"cancer\", \"cancer\", \"cap\", \"capit\", \"cat\", \"catch\", \"cattl\", \"cattl\", \"caus\", \"caus\", \"celebr\", \"centr\", \"centr\", \"centr\", \"centr\", \"central\", \"central\", \"challeng\", \"chanc\", \"chanc\", \"chang\", \"chang\", \"chang\", \"chang\", \"chang\", \"chang\", \"chang\", \"charg\", \"charg\", \"charg\", \"charg\", \"charg\", \"charg\", \"charg\", \"charg\", \"charg\", \"charg\", \"chelsea\", \"chief\", \"chief\", \"chief\", \"chief\", \"child\", \"child\", \"child\", \"child\", \"children\", \"children\", \"church\", \"citi\", \"clark\", \"clash\", \"clash\", \"class\", \"clean\", \"clear\", \"clear\", \"clear\", \"clear\", \"closer\", \"closer\", \"closur\", \"coach\", \"coach\", \"coach\", \"coal\", \"coal\", \"coalit\", \"coff\", \"collaps\", \"come\", \"comeback\", \"comment\", \"commit\", \"compani\", \"compani\", \"compens\", \"condit\", \"condit\", \"confer\", \"construct\", \"continu\", \"continu\", \"continu\", \"continu\", \"continu\", \"continu\", \"continu\", \"continu\", \"control\", \"control\", \"control\", \"controversi\", \"convict\", \"council\", \"council\", \"council\", \"council\", \"council\", \"council\", \"council\", \"council\", \"council\", \"council\", \"councillor\", \"countri\", \"countri\", \"countri\", \"court\", \"court\", \"court\", \"court\", \"court\", \"court\", \"court\", \"court\", \"crackdown\", \"crash\", \"crash\", \"crash\", \"crash\", \"crash\", \"crash\", \"crash\", \"crash\", \"creat\", \"critic\", \"critic\", \"criticis\", \"cross\", \"crowd\", \"cruis\", \"cup\", \"cup\", \"cup\", \"cup\", \"cup\", \"cut\", \"cut\", \"cut\", \"cut\", \"cut\", \"cut\", \"cyclon\", \"cyclon\", \"cyclon\", \"date\", \"david\", \"day\", \"day\", \"day\", \"day\", \"day\", \"day\", \"dead\", \"dead\", \"dead\", \"dead\", \"death\", \"death\", \"death\", \"death\", \"death\", \"death\", \"death\", \"death\", \"debat\", \"debat\", \"decis\", \"decis\", \"decis\", \"defenc\", \"defend\", \"defend\", \"defend\", \"defend\", \"defend\", \"defend\", \"demand\", \"demand\", \"demand\", \"deni\", \"deni\", \"deni\", \"dept\", \"destroy\", \"die\", \"die\", \"die\", \"die\", \"die\", \"die\", \"die\", \"disput\", \"disrupt\", \"docker\", \"doctor\", \"dog\", \"dog\", \"doubt\", \"doubt\", \"driver\", \"driver\", \"driver\", \"driver\", \"driver\", \"drought\", \"drought\", \"drought\", \"drought\", \"drug\", \"drug\", \"drug\", \"drug\", \"drug\", \"drug\", \"drug\", \"drug\", \"drum\", \"dump\", \"dump\", \"dump\", \"earli\", \"eas\", \"econom\", \"econom\", \"edg\", \"educ\", \"educ\", \"educ\", \"effort\", \"emerg\", \"emerg\", \"emerg\", \"emerg\", \"emiss\", \"end\", \"end\", \"end\", \"end\", \"england\", \"entertain\", \"escap\", \"escap\", \"evid\", \"ex\", \"expert\", \"expert\", \"explos\", \"export\", \"face\", \"face\", \"face\", \"face\", \"face\", \"face\", \"face\", \"face\", \"fail\", \"fail\", \"fall\", \"fall\", \"fall\", \"famili\", \"famili\", \"famili\", \"famili\", \"farewel\", \"farm\", \"farm\", \"farm\", \"farm\", \"farmer\", \"farmer\", \"farmer\", \"farmer\", \"farmer\", \"farmer\", \"fatal\", \"fatal\", \"father\", \"fear\", \"fear\", \"fear\", \"fear\", \"fear\", \"fear\", \"fed\", \"festiv\", \"festiv\", \"festiv\", \"figur\", \"film\", \"final\", \"final\", \"final\", \"final\", \"final\", \"final\", \"fine\", \"fine\", \"fire\", \"fire\", \"fire\", \"fire\", \"fire\", \"fire\", \"fire\", \"fire\", \"fire\", \"fire\", \"firefight\", \"firefight\", \"firefight\", \"firefight\", \"firm\", \"firm\", \"flight\", \"flood\", \"flood\", \"flood\", \"flood\", \"flood\", \"flood\", \"flood\", \"forc\", \"forc\", \"forc\", \"forc\", \"forc\", \"forc\", \"forest\", \"form\", \"forum\", \"found\", \"found\", \"fourth\", \"franc\", \"friday\", \"friday\", \"front\", \"fuel\", \"fuel\", \"full\", \"fund\", \"fund\", \"fund\", \"fund\", \"fund\", \"fund\", \"fund\", \"fund\", \"futur\", \"futur\", \"futur\", \"ga\", \"ga\", \"gain\", \"gang\", \"give\", \"give\", \"given\", \"global\", \"goe\", \"gold\", \"gold\", \"gold\", \"good\", \"good\", \"gp\", \"grain\", \"grain\", \"grower\", \"grower\", \"guilti\", \"guilti\", \"guilti\", \"hand\", \"hand\", \"hang\", \"harvest\", \"harvest\", \"hawk\", \"health\", \"health\", \"health\", \"health\", \"health\", \"health\", \"health\", \"health\", \"health\", \"health\", \"hear\", \"hear\", \"held\", \"helicopt\", \"help\", \"help\", \"help\", \"help\", \"help\", \"help\", \"higher\", \"highway\", \"highway\", \"histori\", \"hit\", \"hit\", \"hit\", \"hit\", \"hit\", \"hit\", \"hit\", \"hit\", \"hit\", \"hit\", \"hobart\", \"holiday\", \"home\", \"home\", \"home\", \"home\", \"home\", \"home\", \"honour\", \"honour\", \"hope\", \"hope\", \"hope\", \"hope\", \"hope\", \"hope\", \"hospit\", \"hospit\", \"hospit\", \"hospit\", \"hospit\", \"hospit\", \"hospit\", \"hour\", \"hour\", \"howard\", \"howard\", \"hunt\", \"hunt\", \"hunt\", \"hunter\", \"hunter\", \"increas\", \"increas\", \"indian\", \"indonesia\", \"indonesia\", \"indonesian\", \"industri\", \"industri\", \"industri\", \"industri\", \"industri\", \"injur\", \"injur\", \"injur\", \"injuri\", \"insur\", \"interview\", \"interview\", \"interview\", \"interview\", \"interview\", \"interview\", \"interview\", \"invest\", \"investig\", \"investig\", \"investig\", \"investig\", \"iraqi\", \"irrig\", \"island\", \"island\", \"israel\", \"issu\", \"jail\", \"jail\", \"jail\", \"jail\", \"jail\", \"jail\", \"jail\", \"jame\", \"jet\", \"john\", \"john\", \"johnson\", \"join\", \"join\", \"jone\", \"journalist\", \"jump\", \"kangaroo\", \"keen\", \"kill\", \"kill\", \"kill\", \"kill\", \"kill\", \"kill\", \"kill\", \"kill\", \"kill\", \"kill\", \"killer\", \"killer\", \"kiwi\", \"knight\", \"knight\", \"la\", \"land\", \"land\", \"land\", \"last\", \"last\", \"late\", \"latest\", \"launch\", \"launch\", \"lead\", \"lead\", \"lead\", \"lead\", \"lead\", \"lead\", \"leader\", \"leader\", \"leader\", \"leader\", \"leagu\", \"leagu\", \"leagu\", \"leak\", \"leav\", \"leav\", \"leav\", \"legisl\", \"level\", \"liber\", \"life\", \"like\", \"link\", \"link\", \"lion\", \"list\", \"list\", \"list\", \"live\", \"live\", \"local\", \"local\", \"local\", \"lose\", \"lose\", \"low\", \"major\", \"make\", \"make\", \"make\", \"make\", \"make\", \"man\", \"man\", \"man\", \"man\", \"man\", \"man\", \"man\", \"man\", \"man\", \"march\", \"marin\", \"mark\", \"market\", \"market\", \"market\", \"market\", \"market\", \"market\", \"master\", \"match\", \"mayor\", \"mayor\", \"mayor\", \"melbourn\", \"melbourn\", \"melbourn\", \"melbourn\", \"member\", \"men\", \"men\", \"men\", \"mental\", \"merger\", \"mill\", \"mine\", \"mine\", \"mine\", \"mine\", \"mine\", \"mine\", \"mine\", \"mine\", \"mine\", \"mine\", \"miss\", \"miss\", \"miss\", \"miss\", \"mix\", \"mosqu\", \"mother\", \"mother\", \"mother\", \"murder\", \"murder\", \"murder\", \"murder\", \"murray\", \"murray\", \"murray\", \"murray\", \"music\", \"must\", \"name\", \"name\", \"name\", \"name\", \"name\", \"nation\", \"nation\", \"nation\", \"nation\", \"nativ\", \"need\", \"need\", \"need\", \"neglect\", \"net\", \"new\", \"new\", \"new\", \"new\", \"new\", \"new\", \"new\", \"new\", \"new\", \"new\", \"newcastl\", \"newcastl\", \"newcastl\", \"newman\", \"news\", \"news\", \"news\", \"news\", \"news\", \"north\", \"north\", \"north\", \"north\", \"north\", \"nrl\", \"nrl\", \"nrn\", \"nrn\", \"nrn\", \"number\", \"number\", \"nurs\", \"nurs\", \"nurs\", \"nz\", \"offend\", \"oil\", \"old\", \"onlin\", \"oper\", \"option\", \"origin\", \"outbreak\", \"oversea\", \"packag\", \"pair\", \"pakistan\", \"pakistan\", \"pakistan\", \"pakistan\", \"park\", \"park\", \"park\", \"park\", \"parliament\", \"parliament\", \"part\", \"parti\", \"parti\", \"passeng\", \"perform\", \"perth\", \"perth\", \"peter\", \"petrol\", \"phone\", \"phone\", \"pilbara\", \"place\", \"plan\", \"plan\", \"plan\", \"plan\", \"plan\", \"plan\", \"plan\", \"plan\", \"plan\", \"plan\", \"plane\", \"plant\", \"play\", \"play\", \"play\", \"player\", \"pm\", \"pm\", \"point\", \"pole\", \"polic\", \"polic\", \"polic\", \"polic\", \"polic\", \"polic\", \"polic\", \"polic\", \"polic\", \"polic\", \"polici\", \"poll\", \"poll\", \"popul\", \"port\", \"port\", \"port\", \"posit\", \"possibl\", \"post\", \"post\", \"post\", \"prais\", \"presid\", \"presid\", \"pressur\", \"pressur\", \"pressur\", \"price\", \"price\", \"price\", \"problem\", \"problem\", \"project\", \"project\", \"prompt\", \"prompt\", \"protect\", \"protect\", \"protect\", \"protest\", \"protest\", \"protest\", \"protest\", \"protest\", \"push\", \"push\", \"push\", \"quak\", \"quarter\", \"question\", \"question\", \"question\", \"question\", \"rail\", \"rain\", \"rain\", \"rain\", \"rais\", \"rape\", \"rate\", \"reach\", \"receiv\", \"record\", \"record\", \"record\", \"recov\", \"red\", \"reduc\", \"refus\", \"region\", \"region\", \"region\", \"relief\", \"remain\", \"rememb\", \"rescu\", \"rescu\", \"rescu\", \"rescu\", \"resid\", \"resid\", \"resid\", \"resign\", \"resourc\", \"respond\", \"result\", \"revamp\", \"review\", \"review\", \"rise\", \"rise\", \"rise\", \"rise\", \"rise\", \"rise\", \"risk\", \"river\", \"river\", \"river\", \"river\", \"roar\", \"robberi\", \"roo\", \"round\", \"rout\", \"royal\", \"rudd\", \"rudd\", \"rudd\", \"rugbi\", \"rural\", \"rural\", \"rural\", \"rural\", \"safe\", \"safeti\", \"safeti\", \"safeti\", \"sale\", \"sale\", \"save\", \"save\", \"save\", \"scam\", \"school\", \"school\", \"school\", \"school\", \"school\", \"school\", \"school\", \"school\", \"scientist\", \"scott\", \"se\", \"search\", \"search\", \"search\", \"search\", \"second\", \"second\", \"seeker\", \"semi\", \"senat\", \"senat\", \"sentenc\", \"sentenc\", \"sentenc\", \"seri\", \"sex\", \"sex\", \"sex\", \"sex\", \"sex\", \"sexual\", \"ship\", \"ship\", \"shoot\", \"shoot\", \"shoot\", \"shortag\", \"shortag\", \"shortag\", \"show\", \"show\", \"show\", \"show\", \"sight\", \"sink\", \"site\", \"site\", \"site\", \"six\", \"slam\", \"smash\", \"smith\", \"snub\", \"sold\", \"solomon\", \"southern\", \"speak\", \"speak\", \"speak\", \"speed\", \"spill\", \"sport\", \"sport\", \"spot\", \"spring\", \"st\", \"staff\", \"staff\", \"stage\", \"stand\", \"stand\", \"start\", \"start\", \"state\", \"state\", \"state\", \"state\", \"station\", \"station\", \"station\", \"step\", \"stock\", \"stori\", \"storm\", \"storm\", \"strike\", \"strike\", \"strike\", \"strong\", \"struggl\", \"studi\", \"studi\", \"studi\", \"studi\", \"success\", \"suffer\", \"sugar\", \"summit\", \"survey\", \"survey\", \"surviv\", \"suspend\", \"suspend\", \"sydney\", \"sydney\", \"sydney\", \"sydney\", \"sydney\", \"sydney\", \"sydney\", \"system\", \"ta\", \"ta\", \"tackl\", \"take\", \"take\", \"take\", \"take\", \"take\", \"take\", \"take\", \"take\", \"talk\", \"talk\", \"talk\", \"talk\", \"talk\", \"target\", \"target\", \"tasmania\", \"teacher\", \"team\", \"team\", \"team\", \"teenag\", \"telstra\", \"telstra\", \"territori\", \"terror\", \"terror\", \"test\", \"test\", \"test\", \"test\", \"test\", \"theft\", \"thiev\", \"third\", \"thursday\", \"tiger\", \"tiger\", \"tim\", \"time\", \"time\", \"time\", \"time\", \"time\", \"titl\", \"titl\", \"toddler\", \"toll\", \"toll\", \"toll\", \"tour\", \"tour\", \"tour\", \"traffic\", \"transport\", \"tri\", \"troop\", \"troop\", \"truck\", \"truck\", \"tsunami\", \"turnbul\", \"two\", \"two\", \"two\", \"two\", \"two\", \"two\", \"two\", \"uk\", \"underway\", \"uni\", \"unit\", \"unlik\", \"updat\", \"use\", \"van\", \"veteran\", \"victori\", \"victorian\", \"victorian\", \"video\", \"violenc\", \"violenc\", \"volunt\", \"vow\", \"wallabi\", \"wallabi\", \"warn\", \"warn\", \"warn\", \"warn\", \"warn\", \"warn\", \"warn\", \"warrior\", \"wast\", \"water\", \"water\", \"water\", \"water\", \"water\", \"water\", \"water\", \"water\", \"water\", \"way\", \"way\", \"weather\", \"weather\", \"welcom\", \"welcom\", \"welcom\", \"welcom\", \"west\", \"west\", \"west\", \"western\", \"western\", \"whale\", \"whale\", \"wild\", \"wild\", \"william\", \"win\", \"win\", \"win\", \"win\", \"win\", \"win\", \"win\", \"win\", \"win\", \"woe\", \"woman\", \"woman\", \"woman\", \"woman\", \"woman\", \"woman\", \"woman\", \"women\", \"women\", \"women\", \"women\", \"work\", \"work\", \"work\", \"work\", \"world\", \"world\", \"york\", \"young\", \"young\", \"young\", \"youth\", \"zealand\", \"zimbabw\"]}, \"R\": 30, \"lambda.step\": 0.01, \"plot.opts\": {\"xlab\": \"PC1\", \"ylab\": \"PC2\"}, \"topic.order\": [7, 1, 5, 2, 8, 4, 9, 6, 3, 10]};\n",
              "\n",
              "function LDAvis_load_lib(url, callback){\n",
              "  var s = document.createElement('script');\n",
              "  s.src = url;\n",
              "  s.async = true;\n",
              "  s.onreadystatechange = s.onload = callback;\n",
              "  s.onerror = function(){console.warn(\"failed to load library \" + url);};\n",
              "  document.getElementsByTagName(\"head\")[0].appendChild(s);\n",
              "}\n",
              "\n",
              "if(typeof(LDAvis) !== \"undefined\"){\n",
              "   // already loaded: just create the visualization\n",
              "   !function(LDAvis){\n",
              "       new LDAvis(\"#\" + \"ldavis_el87951397144921576168469420938\", ldavis_el87951397144921576168469420938_data);\n",
              "   }(LDAvis);\n",
              "}else if(typeof define === \"function\" && define.amd){\n",
              "   // require.js is available: use it to load d3/LDAvis\n",
              "   require.config({paths: {d3: \"https://d3js.org/d3.v5\"}});\n",
              "   require([\"d3\"], function(d3){\n",
              "      window.d3 = d3;\n",
              "      LDAvis_load_lib(\"https://cdn.jsdelivr.net/gh/bmabey/pyLDAvis@3.4.0/pyLDAvis/js/ldavis.v3.0.0.js\", function(){\n",
              "        new LDAvis(\"#\" + \"ldavis_el87951397144921576168469420938\", ldavis_el87951397144921576168469420938_data);\n",
              "      });\n",
              "    });\n",
              "}else{\n",
              "    // require.js not available: dynamically load d3 & LDAvis\n",
              "    LDAvis_load_lib(\"https://d3js.org/d3.v5.js\", function(){\n",
              "         LDAvis_load_lib(\"https://cdn.jsdelivr.net/gh/bmabey/pyLDAvis@3.4.0/pyLDAvis/js/ldavis.v3.0.0.js\", function(){\n",
              "                 new LDAvis(\"#\" + \"ldavis_el87951397144921576168469420938\", ldavis_el87951397144921576168469420938_data);\n",
              "            })\n",
              "         });\n",
              "}\n",
              "</script>"
            ]
          },
          "metadata": {},
          "execution_count": 30
        }
      ]
    },
    {
      "cell_type": "markdown",
      "source": [
        "##V. Named Entity Recognition"
      ],
      "metadata": {
        "id": "Oag-YvamxC57"
      }
    },
    {
      "cell_type": "code",
      "source": [
        "adafile = \"/content/drive/MyDrive/Colab Notebooks/Data Mining/Dataset/lab7data/ada_lovelace.txt\""
      ],
      "metadata": {
        "id": "Gj8sRjKxzt-G"
      },
      "execution_count": 2,
      "outputs": []
    },
    {
      "cell_type": "markdown",
      "source": [
        "Clean File\n"
      ],
      "metadata": {
        "id": "lNN4uBFVzDvD"
      }
    },
    {
      "cell_type": "code",
      "source": [
        "def clean_file(filename):\n",
        "    with open(filename, 'r') as file:\n",
        "        contents = file.read()\n",
        "\n",
        "    redacted_contents = contents.replace(\"Ada Lovelace\", \"[REDACTED]\")\n",
        "\n",
        "    with open(filename, 'w') as file:\n",
        "        file.write(redacted_contents)\n",
        "\n",
        "clean_file(adafile)\n"
      ],
      "metadata": {
        "id": "0eCgsFAUxFtr"
      },
      "execution_count": 5,
      "outputs": []
    },
    {
      "cell_type": "markdown",
      "source": [
        "Q1."
      ],
      "metadata": {
        "id": "Hunb0bmozFCX"
      }
    },
    {
      "cell_type": "code",
      "source": [
        "import spacy\n",
        "\n",
        "def identify_entities(filename):\n",
        "    nlp = spacy.load(\"en_core_web_sm\")\n",
        "\n",
        "    with open(filename, 'r') as file:\n",
        "        contents = file.read()\n",
        "\n",
        "    doc = nlp(contents)\n",
        "\n",
        "    for entity in doc.ents:\n",
        "        print(entity.text, entity.label_)\n",
        "\n",
        "identify_entities(adafile)\n"
      ],
      "metadata": {
        "colab": {
          "base_uri": "https://localhost:8080/"
        },
        "id": "_kPb3Pytybhs",
        "outputId": "1f1bf8d8-e3b5-4848-aa19-1ad0fdc9feea"
      },
      "execution_count": 6,
      "outputs": [
        {
          "output_type": "stream",
          "name": "stdout",
          "text": [
            "Augusta Ada King PERSON\n",
            "Countess PERSON\n",
            "Lovelace PERSON\n",
            "Byron ORG\n",
            "10 December 1815 DATE\n",
            "27 November 1852 DATE\n",
            "English LANGUAGE\n",
            "Charles Babbage's ORG\n",
            "the Analytical Engine ORG\n",
            "first ORDINAL\n",
            "first ORDINAL\n",
            "first ORDINAL\n",
            "one CARDINAL\n",
            "first ORDINAL\n",
            "Lovelace PERSON\n",
            "Mary Somerville PERSON\n",
            "Charles Babbage PERSON\n",
            "1833 DATE\n",
            "Somerville GPE\n",
            "many years DATE\n",
            "Andrew Crosse PERSON\n",
            "David Brewster PERSON\n",
            "Charles Wheatstone PERSON\n",
            "Michael Faraday PERSON\n",
            "Charles Dickens PERSON\n"
          ]
        }
      ]
    },
    {
      "cell_type": "markdown",
      "source": [
        "Q2."
      ],
      "metadata": {
        "id": "_u1wjwHwzGOJ"
      }
    },
    {
      "cell_type": "code",
      "source": [
        "import spacy\n",
        "from spacy import displacy\n",
        "from IPython.display import display\n",
        "\n",
        "def visualize_entities(filename):\n",
        "\n",
        "    nlp = spacy.load(\"en_core_web_sm\")\n",
        "\n",
        "    with open(filename, 'r') as file:\n",
        "        contents = file.read()\n",
        "\n",
        "    doc = nlp(contents)\n",
        "\n",
        "    displacy.render(doc, style=\"ent\", jupyter=True)\n",
        "\n",
        "\n",
        "visualize_entities(adafile)\n"
      ],
      "metadata": {
        "colab": {
          "base_uri": "https://localhost:8080/",
          "height": 227
        },
        "id": "bs0hoionyvdb",
        "outputId": "c9639aa1-99f5-4411-a46c-3403d1960a3b"
      },
      "execution_count": 7,
      "outputs": [
        {
          "output_type": "display_data",
          "data": {
            "text/plain": [
              "<IPython.core.display.HTML object>"
            ],
            "text/html": [
              "<span class=\"tex2jax_ignore\"><div class=\"entities\" style=\"line-height: 2.5; direction: ltr\">\n",
              "<mark class=\"entity\" style=\"background: #aa9cfc; padding: 0.45em 0.6em; margin: 0 0.25em; line-height: 1; border-radius: 0.35em;\">\n",
              "    Augusta Ada King\n",
              "    <span style=\"font-size: 0.8em; font-weight: bold; line-height: 1; border-radius: 0.35em; vertical-align: middle; margin-left: 0.5rem\">PERSON</span>\n",
              "</mark>\n",
              ", \n",
              "<mark class=\"entity\" style=\"background: #aa9cfc; padding: 0.45em 0.6em; margin: 0 0.25em; line-height: 1; border-radius: 0.35em;\">\n",
              "    Countess\n",
              "    <span style=\"font-size: 0.8em; font-weight: bold; line-height: 1; border-radius: 0.35em; vertical-align: middle; margin-left: 0.5rem\">PERSON</span>\n",
              "</mark>\n",
              " of \n",
              "<mark class=\"entity\" style=\"background: #aa9cfc; padding: 0.45em 0.6em; margin: 0 0.25em; line-height: 1; border-radius: 0.35em;\">\n",
              "    Lovelace\n",
              "    <span style=\"font-size: 0.8em; font-weight: bold; line-height: 1; border-radius: 0.35em; vertical-align: middle; margin-left: 0.5rem\">PERSON</span>\n",
              "</mark>\n",
              " (née \n",
              "<mark class=\"entity\" style=\"background: #7aecec; padding: 0.45em 0.6em; margin: 0 0.25em; line-height: 1; border-radius: 0.35em;\">\n",
              "    Byron\n",
              "    <span style=\"font-size: 0.8em; font-weight: bold; line-height: 1; border-radius: 0.35em; vertical-align: middle; margin-left: 0.5rem\">ORG</span>\n",
              "</mark>\n",
              "; \n",
              "<mark class=\"entity\" style=\"background: #bfe1d9; padding: 0.45em 0.6em; margin: 0 0.25em; line-height: 1; border-radius: 0.35em;\">\n",
              "    10 December 1815\n",
              "    <span style=\"font-size: 0.8em; font-weight: bold; line-height: 1; border-radius: 0.35em; vertical-align: middle; margin-left: 0.5rem\">DATE</span>\n",
              "</mark>\n",
              " – \n",
              "<mark class=\"entity\" style=\"background: #bfe1d9; padding: 0.45em 0.6em; margin: 0 0.25em; line-height: 1; border-radius: 0.35em;\">\n",
              "    27 November 1852\n",
              "    <span style=\"font-size: 0.8em; font-weight: bold; line-height: 1; border-radius: 0.35em; vertical-align: middle; margin-left: 0.5rem\">DATE</span>\n",
              "</mark>\n",
              ") was an \n",
              "<mark class=\"entity\" style=\"background: #ff8197; padding: 0.45em 0.6em; margin: 0 0.25em; line-height: 1; border-radius: 0.35em;\">\n",
              "    English\n",
              "    <span style=\"font-size: 0.8em; font-weight: bold; line-height: 1; border-radius: 0.35em; vertical-align: middle; margin-left: 0.5rem\">LANGUAGE</span>\n",
              "</mark>\n",
              " mathematician and writer, chiefly known for her work on \n",
              "<mark class=\"entity\" style=\"background: #7aecec; padding: 0.45em 0.6em; margin: 0 0.25em; line-height: 1; border-radius: 0.35em;\">\n",
              "    Charles Babbage's\n",
              "    <span style=\"font-size: 0.8em; font-weight: bold; line-height: 1; border-radius: 0.35em; vertical-align: middle; margin-left: 0.5rem\">ORG</span>\n",
              "</mark>\n",
              " proposed mechanical general-purpose computer, \n",
              "<mark class=\"entity\" style=\"background: #7aecec; padding: 0.45em 0.6em; margin: 0 0.25em; line-height: 1; border-radius: 0.35em;\">\n",
              "    the Analytical Engine\n",
              "    <span style=\"font-size: 0.8em; font-weight: bold; line-height: 1; border-radius: 0.35em; vertical-align: middle; margin-left: 0.5rem\">ORG</span>\n",
              "</mark>\n",
              ". She was the \n",
              "<mark class=\"entity\" style=\"background: #e4e7d2; padding: 0.45em 0.6em; margin: 0 0.25em; line-height: 1; border-radius: 0.35em;\">\n",
              "    first\n",
              "    <span style=\"font-size: 0.8em; font-weight: bold; line-height: 1; border-radius: 0.35em; vertical-align: middle; margin-left: 0.5rem\">ORDINAL</span>\n",
              "</mark>\n",
              " to recognise that the machine had applications beyond pure calculation, and published the \n",
              "<mark class=\"entity\" style=\"background: #e4e7d2; padding: 0.45em 0.6em; margin: 0 0.25em; line-height: 1; border-radius: 0.35em;\">\n",
              "    first\n",
              "    <span style=\"font-size: 0.8em; font-weight: bold; line-height: 1; border-radius: 0.35em; vertical-align: middle; margin-left: 0.5rem\">ORDINAL</span>\n",
              "</mark>\n",
              " algorithm intended to be carried out by such a machine. As a result, she is sometimes regarded as the \n",
              "<mark class=\"entity\" style=\"background: #e4e7d2; padding: 0.45em 0.6em; margin: 0 0.25em; line-height: 1; border-radius: 0.35em;\">\n",
              "    first\n",
              "    <span style=\"font-size: 0.8em; font-weight: bold; line-height: 1; border-radius: 0.35em; vertical-align: middle; margin-left: 0.5rem\">ORDINAL</span>\n",
              "</mark>\n",
              " to recognise the full potential of a &quot;computing machine&quot; and \n",
              "<mark class=\"entity\" style=\"background: #e4e7d2; padding: 0.45em 0.6em; margin: 0 0.25em; line-height: 1; border-radius: 0.35em;\">\n",
              "    one\n",
              "    <span style=\"font-size: 0.8em; font-weight: bold; line-height: 1; border-radius: 0.35em; vertical-align: middle; margin-left: 0.5rem\">CARDINAL</span>\n",
              "</mark>\n",
              " of the \n",
              "<mark class=\"entity\" style=\"background: #e4e7d2; padding: 0.45em 0.6em; margin: 0 0.25em; line-height: 1; border-radius: 0.35em;\">\n",
              "    first\n",
              "    <span style=\"font-size: 0.8em; font-weight: bold; line-height: 1; border-radius: 0.35em; vertical-align: middle; margin-left: 0.5rem\">ORDINAL</span>\n",
              "</mark>\n",
              " computer programmers. </br></br>\n",
              "<mark class=\"entity\" style=\"background: #aa9cfc; padding: 0.45em 0.6em; margin: 0 0.25em; line-height: 1; border-radius: 0.35em;\">\n",
              "    Lovelace\n",
              "    <span style=\"font-size: 0.8em; font-weight: bold; line-height: 1; border-radius: 0.35em; vertical-align: middle; margin-left: 0.5rem\">PERSON</span>\n",
              "</mark>\n",
              " became close friends with her tutor \n",
              "<mark class=\"entity\" style=\"background: #aa9cfc; padding: 0.45em 0.6em; margin: 0 0.25em; line-height: 1; border-radius: 0.35em;\">\n",
              "    Mary Somerville\n",
              "    <span style=\"font-size: 0.8em; font-weight: bold; line-height: 1; border-radius: 0.35em; vertical-align: middle; margin-left: 0.5rem\">PERSON</span>\n",
              "</mark>\n",
              ", who introduced her to \n",
              "<mark class=\"entity\" style=\"background: #aa9cfc; padding: 0.45em 0.6em; margin: 0 0.25em; line-height: 1; border-radius: 0.35em;\">\n",
              "    Charles Babbage\n",
              "    <span style=\"font-size: 0.8em; font-weight: bold; line-height: 1; border-radius: 0.35em; vertical-align: middle; margin-left: 0.5rem\">PERSON</span>\n",
              "</mark>\n",
              " in \n",
              "<mark class=\"entity\" style=\"background: #bfe1d9; padding: 0.45em 0.6em; margin: 0 0.25em; line-height: 1; border-radius: 0.35em;\">\n",
              "    1833\n",
              "    <span style=\"font-size: 0.8em; font-weight: bold; line-height: 1; border-radius: 0.35em; vertical-align: middle; margin-left: 0.5rem\">DATE</span>\n",
              "</mark>\n",
              ". She had a strong respect and affection for \n",
              "<mark class=\"entity\" style=\"background: #feca74; padding: 0.45em 0.6em; margin: 0 0.25em; line-height: 1; border-radius: 0.35em;\">\n",
              "    Somerville\n",
              "    <span style=\"font-size: 0.8em; font-weight: bold; line-height: 1; border-radius: 0.35em; vertical-align: middle; margin-left: 0.5rem\">GPE</span>\n",
              "</mark>\n",
              ", and they corresponded for \n",
              "<mark class=\"entity\" style=\"background: #bfe1d9; padding: 0.45em 0.6em; margin: 0 0.25em; line-height: 1; border-radius: 0.35em;\">\n",
              "    many years\n",
              "    <span style=\"font-size: 0.8em; font-weight: bold; line-height: 1; border-radius: 0.35em; vertical-align: middle; margin-left: 0.5rem\">DATE</span>\n",
              "</mark>\n",
              ". Other acquaintances included the scientists \n",
              "<mark class=\"entity\" style=\"background: #aa9cfc; padding: 0.45em 0.6em; margin: 0 0.25em; line-height: 1; border-radius: 0.35em;\">\n",
              "    Andrew Crosse\n",
              "    <span style=\"font-size: 0.8em; font-weight: bold; line-height: 1; border-radius: 0.35em; vertical-align: middle; margin-left: 0.5rem\">PERSON</span>\n",
              "</mark>\n",
              ", Sir \n",
              "<mark class=\"entity\" style=\"background: #aa9cfc; padding: 0.45em 0.6em; margin: 0 0.25em; line-height: 1; border-radius: 0.35em;\">\n",
              "    David Brewster\n",
              "    <span style=\"font-size: 0.8em; font-weight: bold; line-height: 1; border-radius: 0.35em; vertical-align: middle; margin-left: 0.5rem\">PERSON</span>\n",
              "</mark>\n",
              ", \n",
              "<mark class=\"entity\" style=\"background: #aa9cfc; padding: 0.45em 0.6em; margin: 0 0.25em; line-height: 1; border-radius: 0.35em;\">\n",
              "    Charles Wheatstone\n",
              "    <span style=\"font-size: 0.8em; font-weight: bold; line-height: 1; border-radius: 0.35em; vertical-align: middle; margin-left: 0.5rem\">PERSON</span>\n",
              "</mark>\n",
              ", \n",
              "<mark class=\"entity\" style=\"background: #aa9cfc; padding: 0.45em 0.6em; margin: 0 0.25em; line-height: 1; border-radius: 0.35em;\">\n",
              "    Michael Faraday\n",
              "    <span style=\"font-size: 0.8em; font-weight: bold; line-height: 1; border-radius: 0.35em; vertical-align: middle; margin-left: 0.5rem\">PERSON</span>\n",
              "</mark>\n",
              " and the author \n",
              "<mark class=\"entity\" style=\"background: #aa9cfc; padding: 0.45em 0.6em; margin: 0 0.25em; line-height: 1; border-radius: 0.35em;\">\n",
              "    Charles Dickens\n",
              "    <span style=\"font-size: 0.8em; font-weight: bold; line-height: 1; border-radius: 0.35em; vertical-align: middle; margin-left: 0.5rem\">PERSON</span>\n",
              "</mark>\n",
              ".</div></span>"
            ]
          },
          "metadata": {}
        }
      ]
    },
    {
      "cell_type": "markdown",
      "source": [
        "Q3."
      ],
      "metadata": {
        "id": "-DTPOSCLzX_4"
      }
    },
    {
      "cell_type": "code",
      "source": [
        "import spacy\n",
        "\n",
        "def replace_name_by_redacted(filename):\n",
        "    nlp = spacy.load(\"en_core_web_sm\")\n",
        "\n",
        "    with open(filename, 'r') as file:\n",
        "        contents = file.read()\n",
        "\n",
        "    doc = nlp(contents)\n",
        "\n",
        "    redacted_contents = contents\n",
        "    for entity in doc.ents:\n",
        "        if entity.label_ == \"PERSON\":\n",
        "            redacted_contents = redacted_contents.replace(entity.text, \"[REDACTED]\")\n",
        "\n",
        "    with open(filename, 'w') as file:\n",
        "        file.write(redacted_contents)\n",
        "\n",
        "replace_name_by_redacted(adafile)\n"
      ],
      "metadata": {
        "id": "q-F-CvfBzYfF"
      },
      "execution_count": 8,
      "outputs": []
    },
    {
      "cell_type": "markdown",
      "source": [
        "Q4."
      ],
      "metadata": {
        "id": "ER1BULQDzrh3"
      }
    },
    {
      "cell_type": "code",
      "source": [
        "import spacy\n",
        "\n",
        "def make_doc_GDPR_compliant(filename):\n",
        "\n",
        "    nlp = spacy.load(\"en_core_web_sm\")\n",
        "\n",
        "    with open(filename, 'r') as file:\n",
        "        contents = file.read()\n",
        "\n",
        "    doc = nlp(contents)\n",
        "\n",
        "    redacted_contents = contents\n",
        "    for entity in doc.ents:\n",
        "        if entity.label_ == \"PERSON\":\n",
        "            redacted_contents = redacted_contents.replace(entity.text, \"[REDACTED]\")\n",
        "\n",
        "    with open(filename, 'w') as file:\n",
        "        file.write(redacted_contents)\n",
        "\n",
        "make_doc_GDPR_compliant(adafile)\n"
      ],
      "metadata": {
        "id": "7TNyIEHXzsJx"
      },
      "execution_count": 9,
      "outputs": []
    },
    {
      "cell_type": "markdown",
      "source": [
        "##VI. Exercise"
      ],
      "metadata": {
        "id": "jJoJloq425q3"
      }
    },
    {
      "cell_type": "markdown",
      "source": [
        "1."
      ],
      "metadata": {
        "id": "Vg_YNQKp3Qvr"
      }
    },
    {
      "cell_type": "code",
      "source": [
        "jobmarket = \"/content/drive/MyDrive/Colab Notebooks/Data Mining/Dataset/lab7data/job-market.csv\""
      ],
      "metadata": {
        "id": "OS7g642L3Tpy"
      },
      "execution_count": 12,
      "outputs": []
    },
    {
      "cell_type": "code",
      "source": [
        "jobs_df = pd.read_csv(jobmarket)"
      ],
      "metadata": {
        "id": "H97ExdZQ3kRd"
      },
      "execution_count": 14,
      "outputs": []
    },
    {
      "cell_type": "code",
      "source": [
        "jobs_df.fillna(0)"
      ],
      "metadata": {
        "colab": {
          "base_uri": "https://localhost:8080/",
          "height": 624
        },
        "id": "iqXiTLol4f-D",
        "outputId": "09a9bc01-7037-46c5-fe8e-298c31189d42"
      },
      "execution_count": 17,
      "outputs": [
        {
          "output_type": "execute_result",
          "data": {
            "text/plain": [
              "               Id                                              Title  \\\n",
              "0      37404348.0                           Casual Stock Replenisher   \n",
              "1      37404337.0                           Casual Stock Replenisher   \n",
              "2      37404356.0  RETAIL SALES SUPERSTARS and STYLISTS Wanted - ...   \n",
              "3      37404330.0                              Team member - Belrose   \n",
              "4      37404308.0  Business Banking Contact Centre Specialist, Ni...   \n",
              "...           ...                                                ...   \n",
              "40784         0.0                                                  0   \n",
              "40785         0.0                                                  0   \n",
              "40786         0.0                                                  0   \n",
              "40787         0.0                                                  0   \n",
              "40788         0.0                                                  0   \n",
              "\n",
              "                                              Company  \\\n",
              "0                                         Aldi Stores   \n",
              "1                                         Aldi Stores   \n",
              "2                                 LB Creative Pty Ltd   \n",
              "3                              Anaconda Group Pty Ltd   \n",
              "4      Commonwealth Bank - Business & Private Banking   \n",
              "...                                               ...   \n",
              "40784                                               0   \n",
              "40785                                               0   \n",
              "40786                                               0   \n",
              "40787                                               0   \n",
              "40788                                               0   \n",
              "\n",
              "                           Date                 Location  \\\n",
              "0      2018-10-07T00:00:00.000Z                   Sydney   \n",
              "1      2018-10-07T00:00:00.000Z    Richmond & Hawkesbury   \n",
              "2      2018-10-07T00:00:00.000Z                 Brisbane   \n",
              "3      2018-10-07T00:00:00.000Z  Gosford & Central Coast   \n",
              "4      2018-10-07T00:00:00.000Z                   Sydney   \n",
              "...                         ...                      ...   \n",
              "40784                         0                        0   \n",
              "40785                         0                        0   \n",
              "40786                         0                        0   \n",
              "40787                         0                        0   \n",
              "40788                         0                        0   \n",
              "\n",
              "                              Area                  Classification  \\\n",
              "0      North West & Hills District      Retail & Consumer Products   \n",
              "1                                0      Retail & Consumer Products   \n",
              "2              CBD & Inner Suburbs      Retail & Consumer Products   \n",
              "3                                0      Retail & Consumer Products   \n",
              "4            Ryde & Macquarie Park  Call Centre & Customer Service   \n",
              "...                            ...                             ...   \n",
              "40784                            0                               0   \n",
              "40785                            0                               0   \n",
              "40786                            0                               0   \n",
              "40787                            0                               0   \n",
              "40788                            0                               0   \n",
              "\n",
              "       SubClassification                                        Requirement  \\\n",
              "0      Retail Assistants  Our Casual Stock Replenishers pride themselves...   \n",
              "1      Retail Assistants  Our Casual Stock Replenishers pride themselves...   \n",
              "2      Retail Assistants  BRAND NEW FLAGSHIP STORE OPENING - SUNSHINE PLAZA   \n",
              "3      Retail Assistants  Bring it on - do you love the great outdoors a...   \n",
              "4        Sales - Inbound  We are seeking highly articulate, enthusiastic...   \n",
              "...                  ...                                                ...   \n",
              "40784                  0                                                  0   \n",
              "40785                  0                                                  0   \n",
              "40786                  0                                                  0   \n",
              "40787                  0                                                  0   \n",
              "40788                  0                                                  0   \n",
              "\n",
              "      FullDescription  LowestSalary  HighestSalary JobType  \n",
              "0                   0           0.0           30.0       0  \n",
              "1                   0           0.0           30.0       0  \n",
              "2                   0           0.0           30.0       0  \n",
              "3                   0           0.0           30.0       0  \n",
              "4                   0           0.0           30.0       0  \n",
              "...               ...           ...            ...     ...  \n",
              "40784               0           0.0            0.0       0  \n",
              "40785               0           0.0            0.0       0  \n",
              "40786               0           0.0            0.0       0  \n",
              "40787               0           0.0            0.0       0  \n",
              "40788               0           0.0            0.0       0  \n",
              "\n",
              "[40789 rows x 13 columns]"
            ],
            "text/html": [
              "\n",
              "  <div id=\"df-507de577-deb1-45a6-8b8d-84aadda9bb34\">\n",
              "    <div class=\"colab-df-container\">\n",
              "      <div>\n",
              "<style scoped>\n",
              "    .dataframe tbody tr th:only-of-type {\n",
              "        vertical-align: middle;\n",
              "    }\n",
              "\n",
              "    .dataframe tbody tr th {\n",
              "        vertical-align: top;\n",
              "    }\n",
              "\n",
              "    .dataframe thead th {\n",
              "        text-align: right;\n",
              "    }\n",
              "</style>\n",
              "<table border=\"1\" class=\"dataframe\">\n",
              "  <thead>\n",
              "    <tr style=\"text-align: right;\">\n",
              "      <th></th>\n",
              "      <th>Id</th>\n",
              "      <th>Title</th>\n",
              "      <th>Company</th>\n",
              "      <th>Date</th>\n",
              "      <th>Location</th>\n",
              "      <th>Area</th>\n",
              "      <th>Classification</th>\n",
              "      <th>SubClassification</th>\n",
              "      <th>Requirement</th>\n",
              "      <th>FullDescription</th>\n",
              "      <th>LowestSalary</th>\n",
              "      <th>HighestSalary</th>\n",
              "      <th>JobType</th>\n",
              "    </tr>\n",
              "  </thead>\n",
              "  <tbody>\n",
              "    <tr>\n",
              "      <th>0</th>\n",
              "      <td>37404348.0</td>\n",
              "      <td>Casual Stock Replenisher</td>\n",
              "      <td>Aldi Stores</td>\n",
              "      <td>2018-10-07T00:00:00.000Z</td>\n",
              "      <td>Sydney</td>\n",
              "      <td>North West &amp; Hills District</td>\n",
              "      <td>Retail &amp; Consumer Products</td>\n",
              "      <td>Retail Assistants</td>\n",
              "      <td>Our Casual Stock Replenishers pride themselves...</td>\n",
              "      <td>0</td>\n",
              "      <td>0.0</td>\n",
              "      <td>30.0</td>\n",
              "      <td>0</td>\n",
              "    </tr>\n",
              "    <tr>\n",
              "      <th>1</th>\n",
              "      <td>37404337.0</td>\n",
              "      <td>Casual Stock Replenisher</td>\n",
              "      <td>Aldi Stores</td>\n",
              "      <td>2018-10-07T00:00:00.000Z</td>\n",
              "      <td>Richmond &amp; Hawkesbury</td>\n",
              "      <td>0</td>\n",
              "      <td>Retail &amp; Consumer Products</td>\n",
              "      <td>Retail Assistants</td>\n",
              "      <td>Our Casual Stock Replenishers pride themselves...</td>\n",
              "      <td>0</td>\n",
              "      <td>0.0</td>\n",
              "      <td>30.0</td>\n",
              "      <td>0</td>\n",
              "    </tr>\n",
              "    <tr>\n",
              "      <th>2</th>\n",
              "      <td>37404356.0</td>\n",
              "      <td>RETAIL SALES SUPERSTARS and STYLISTS Wanted - ...</td>\n",
              "      <td>LB Creative Pty Ltd</td>\n",
              "      <td>2018-10-07T00:00:00.000Z</td>\n",
              "      <td>Brisbane</td>\n",
              "      <td>CBD &amp; Inner Suburbs</td>\n",
              "      <td>Retail &amp; Consumer Products</td>\n",
              "      <td>Retail Assistants</td>\n",
              "      <td>BRAND NEW FLAGSHIP STORE OPENING - SUNSHINE PLAZA</td>\n",
              "      <td>0</td>\n",
              "      <td>0.0</td>\n",
              "      <td>30.0</td>\n",
              "      <td>0</td>\n",
              "    </tr>\n",
              "    <tr>\n",
              "      <th>3</th>\n",
              "      <td>37404330.0</td>\n",
              "      <td>Team member - Belrose</td>\n",
              "      <td>Anaconda Group Pty Ltd</td>\n",
              "      <td>2018-10-07T00:00:00.000Z</td>\n",
              "      <td>Gosford &amp; Central Coast</td>\n",
              "      <td>0</td>\n",
              "      <td>Retail &amp; Consumer Products</td>\n",
              "      <td>Retail Assistants</td>\n",
              "      <td>Bring it on - do you love the great outdoors a...</td>\n",
              "      <td>0</td>\n",
              "      <td>0.0</td>\n",
              "      <td>30.0</td>\n",
              "      <td>0</td>\n",
              "    </tr>\n",
              "    <tr>\n",
              "      <th>4</th>\n",
              "      <td>37404308.0</td>\n",
              "      <td>Business Banking Contact Centre Specialist, Ni...</td>\n",
              "      <td>Commonwealth Bank - Business &amp; Private Banking</td>\n",
              "      <td>2018-10-07T00:00:00.000Z</td>\n",
              "      <td>Sydney</td>\n",
              "      <td>Ryde &amp; Macquarie Park</td>\n",
              "      <td>Call Centre &amp; Customer Service</td>\n",
              "      <td>Sales - Inbound</td>\n",
              "      <td>We are seeking highly articulate, enthusiastic...</td>\n",
              "      <td>0</td>\n",
              "      <td>0.0</td>\n",
              "      <td>30.0</td>\n",
              "      <td>0</td>\n",
              "    </tr>\n",
              "    <tr>\n",
              "      <th>...</th>\n",
              "      <td>...</td>\n",
              "      <td>...</td>\n",
              "      <td>...</td>\n",
              "      <td>...</td>\n",
              "      <td>...</td>\n",
              "      <td>...</td>\n",
              "      <td>...</td>\n",
              "      <td>...</td>\n",
              "      <td>...</td>\n",
              "      <td>...</td>\n",
              "      <td>...</td>\n",
              "      <td>...</td>\n",
              "      <td>...</td>\n",
              "    </tr>\n",
              "    <tr>\n",
              "      <th>40784</th>\n",
              "      <td>0.0</td>\n",
              "      <td>0</td>\n",
              "      <td>0</td>\n",
              "      <td>0</td>\n",
              "      <td>0</td>\n",
              "      <td>0</td>\n",
              "      <td>0</td>\n",
              "      <td>0</td>\n",
              "      <td>0</td>\n",
              "      <td>0</td>\n",
              "      <td>0.0</td>\n",
              "      <td>0.0</td>\n",
              "      <td>0</td>\n",
              "    </tr>\n",
              "    <tr>\n",
              "      <th>40785</th>\n",
              "      <td>0.0</td>\n",
              "      <td>0</td>\n",
              "      <td>0</td>\n",
              "      <td>0</td>\n",
              "      <td>0</td>\n",
              "      <td>0</td>\n",
              "      <td>0</td>\n",
              "      <td>0</td>\n",
              "      <td>0</td>\n",
              "      <td>0</td>\n",
              "      <td>0.0</td>\n",
              "      <td>0.0</td>\n",
              "      <td>0</td>\n",
              "    </tr>\n",
              "    <tr>\n",
              "      <th>40786</th>\n",
              "      <td>0.0</td>\n",
              "      <td>0</td>\n",
              "      <td>0</td>\n",
              "      <td>0</td>\n",
              "      <td>0</td>\n",
              "      <td>0</td>\n",
              "      <td>0</td>\n",
              "      <td>0</td>\n",
              "      <td>0</td>\n",
              "      <td>0</td>\n",
              "      <td>0.0</td>\n",
              "      <td>0.0</td>\n",
              "      <td>0</td>\n",
              "    </tr>\n",
              "    <tr>\n",
              "      <th>40787</th>\n",
              "      <td>0.0</td>\n",
              "      <td>0</td>\n",
              "      <td>0</td>\n",
              "      <td>0</td>\n",
              "      <td>0</td>\n",
              "      <td>0</td>\n",
              "      <td>0</td>\n",
              "      <td>0</td>\n",
              "      <td>0</td>\n",
              "      <td>0</td>\n",
              "      <td>0.0</td>\n",
              "      <td>0.0</td>\n",
              "      <td>0</td>\n",
              "    </tr>\n",
              "    <tr>\n",
              "      <th>40788</th>\n",
              "      <td>0.0</td>\n",
              "      <td>0</td>\n",
              "      <td>0</td>\n",
              "      <td>0</td>\n",
              "      <td>0</td>\n",
              "      <td>0</td>\n",
              "      <td>0</td>\n",
              "      <td>0</td>\n",
              "      <td>0</td>\n",
              "      <td>0</td>\n",
              "      <td>0.0</td>\n",
              "      <td>0.0</td>\n",
              "      <td>0</td>\n",
              "    </tr>\n",
              "  </tbody>\n",
              "</table>\n",
              "<p>40789 rows × 13 columns</p>\n",
              "</div>\n",
              "      <button class=\"colab-df-convert\" onclick=\"convertToInteractive('df-507de577-deb1-45a6-8b8d-84aadda9bb34')\"\n",
              "              title=\"Convert this dataframe to an interactive table.\"\n",
              "              style=\"display:none;\">\n",
              "        \n",
              "  <svg xmlns=\"http://www.w3.org/2000/svg\" height=\"24px\"viewBox=\"0 0 24 24\"\n",
              "       width=\"24px\">\n",
              "    <path d=\"M0 0h24v24H0V0z\" fill=\"none\"/>\n",
              "    <path d=\"M18.56 5.44l.94 2.06.94-2.06 2.06-.94-2.06-.94-.94-2.06-.94 2.06-2.06.94zm-11 1L8.5 8.5l.94-2.06 2.06-.94-2.06-.94L8.5 2.5l-.94 2.06-2.06.94zm10 10l.94 2.06.94-2.06 2.06-.94-2.06-.94-.94-2.06-.94 2.06-2.06.94z\"/><path d=\"M17.41 7.96l-1.37-1.37c-.4-.4-.92-.59-1.43-.59-.52 0-1.04.2-1.43.59L10.3 9.45l-7.72 7.72c-.78.78-.78 2.05 0 2.83L4 21.41c.39.39.9.59 1.41.59.51 0 1.02-.2 1.41-.59l7.78-7.78 2.81-2.81c.8-.78.8-2.07 0-2.86zM5.41 20L4 18.59l7.72-7.72 1.47 1.35L5.41 20z\"/>\n",
              "  </svg>\n",
              "      </button>\n",
              "      \n",
              "  <style>\n",
              "    .colab-df-container {\n",
              "      display:flex;\n",
              "      flex-wrap:wrap;\n",
              "      gap: 12px;\n",
              "    }\n",
              "\n",
              "    .colab-df-convert {\n",
              "      background-color: #E8F0FE;\n",
              "      border: none;\n",
              "      border-radius: 50%;\n",
              "      cursor: pointer;\n",
              "      display: none;\n",
              "      fill: #1967D2;\n",
              "      height: 32px;\n",
              "      padding: 0 0 0 0;\n",
              "      width: 32px;\n",
              "    }\n",
              "\n",
              "    .colab-df-convert:hover {\n",
              "      background-color: #E2EBFA;\n",
              "      box-shadow: 0px 1px 2px rgba(60, 64, 67, 0.3), 0px 1px 3px 1px rgba(60, 64, 67, 0.15);\n",
              "      fill: #174EA6;\n",
              "    }\n",
              "\n",
              "    [theme=dark] .colab-df-convert {\n",
              "      background-color: #3B4455;\n",
              "      fill: #D2E3FC;\n",
              "    }\n",
              "\n",
              "    [theme=dark] .colab-df-convert:hover {\n",
              "      background-color: #434B5C;\n",
              "      box-shadow: 0px 1px 3px 1px rgba(0, 0, 0, 0.15);\n",
              "      filter: drop-shadow(0px 1px 2px rgba(0, 0, 0, 0.3));\n",
              "      fill: #FFFFFF;\n",
              "    }\n",
              "  </style>\n",
              "\n",
              "      <script>\n",
              "        const buttonEl =\n",
              "          document.querySelector('#df-507de577-deb1-45a6-8b8d-84aadda9bb34 button.colab-df-convert');\n",
              "        buttonEl.style.display =\n",
              "          google.colab.kernel.accessAllowed ? 'block' : 'none';\n",
              "\n",
              "        async function convertToInteractive(key) {\n",
              "          const element = document.querySelector('#df-507de577-deb1-45a6-8b8d-84aadda9bb34');\n",
              "          const dataTable =\n",
              "            await google.colab.kernel.invokeFunction('convertToInteractive',\n",
              "                                                     [key], {});\n",
              "          if (!dataTable) return;\n",
              "\n",
              "          const docLinkHtml = 'Like what you see? Visit the ' +\n",
              "            '<a target=\"_blank\" href=https://colab.research.google.com/notebooks/data_table.ipynb>data table notebook</a>'\n",
              "            + ' to learn more about interactive tables.';\n",
              "          element.innerHTML = '';\n",
              "          dataTable['output_type'] = 'display_data';\n",
              "          await google.colab.output.renderOutput(dataTable, element);\n",
              "          const docLink = document.createElement('div');\n",
              "          docLink.innerHTML = docLinkHtml;\n",
              "          element.appendChild(docLink);\n",
              "        }\n",
              "      </script>\n",
              "    </div>\n",
              "  </div>\n",
              "  "
            ]
          },
          "metadata": {},
          "execution_count": 17
        }
      ]
    },
    {
      "cell_type": "code",
      "source": [
        "import pandas as pd\n",
        "from sklearn.feature_extraction.text import TfidfVectorizer\n",
        "from sklearn.linear_model import LogisticRegression\n",
        "\n",
        "# Step 1: Filter the jobs for the IT sector only\n",
        "jobs_df['Title'] = jobs_df['Title'].fillna('')\n",
        "it_jobs_df = jobs_df[jobs_df['Title'].str.contains('IT', case=False)]"
      ],
      "metadata": {
        "id": "ijzKSd7w6PtD"
      },
      "execution_count": 21,
      "outputs": []
    },
    {
      "cell_type": "code",
      "source": [
        "# Step 2: Put the descriptions of all jobs into a list\n",
        "job_descriptions = it_jobs_df['Classification'].tolist()"
      ],
      "metadata": {
        "id": "08vu1lvN6Q2I"
      },
      "execution_count": 22,
      "outputs": []
    },
    {
      "cell_type": "code",
      "source": [
        "# Step 3: Use scikit-learn to get the top 20 important keywords\n",
        "vectorizer = TfidfVectorizer(stop_words='english', max_features=1000)\n",
        "X = vectorizer.fit_transform(job_descriptions)\n",
        "# Train a logistic regression model\n",
        "model = LogisticRegression()\n",
        "model.fit(X, it_jobs_df['Title'])\n",
        "\n",
        "# Get feature names and their corresponding coefficients\n",
        "feature_names = vectorizer.get_feature_names_out()\n",
        "coefficients = model.coef_[0]\n",
        "\n",
        "# Sort feature names based on coefficients\n",
        "top_keywords = sorted(zip(coefficients, feature_names), reverse=True)[:20]\n",
        "\n",
        "# Print the top 20 important keywords\n",
        "print(\"Top 20 important keywords:\")\n",
        "for coef, keyword in top_keywords:\n",
        "    print(keyword)"
      ],
      "metadata": {
        "colab": {
          "base_uri": "https://localhost:8080/"
        },
        "id": "YTHSl3t96R6o",
        "outputId": "bab3a531-f045-41fb-e4a2-50b9a9e153dc"
      },
      "execution_count": 23,
      "outputs": [
        {
          "output_type": "stream",
          "name": "stdout",
          "text": [
            "Top 20 important keywords:\n",
            "retail\n",
            "products\n",
            "consumer\n",
            "management\n",
            "general\n",
            "ceo\n",
            "strategy\n",
            "consulting\n",
            "science\n",
            "farming\n",
            "conservation\n",
            "animals\n",
            "superannuation\n",
            "insurance\n",
            "media\n",
            "arts\n",
            "advertising\n",
            "financial\n",
            "banking\n",
            "real\n"
          ]
        }
      ]
    },
    {
      "cell_type": "code",
      "source": [
        "\n",
        "# Step 4: Perform information retrieval with scikit-learn using a favorite keyword\n",
        "favorite_keyword = 'python'\n",
        "\n",
        "# Construct a query using the favorite keyword\n",
        "query = vectorizer.transform([favorite_keyword])\n",
        "\n",
        "# Compute similarity scores between the query and job descriptions\n",
        "similarity_scores = model.predict_proba(query)[0]\n",
        "\n",
        "# Rank the job descriptions based on similarity scores\n",
        "ranked_jobs = sorted(zip(similarity_scores, it_jobs_df['Title'], job_descriptions), reverse=True)\n",
        "\n",
        "# Print the top 5 job descriptions most similar to the query\n",
        "print(\"\\nTop 5 job descriptions most similar to the query:\")\n",
        "for score, job_title, job_description in ranked_jobs[:5]:\n",
        "    print(\"Job Title:\", job_title)\n",
        "    print(\"Similarity Score:\", score)\n",
        "    print(\"Job Description:\", job_description)\n",
        "    print()\n"
      ],
      "metadata": {
        "colab": {
          "base_uri": "https://localhost:8080/"
        },
        "id": "G4yXu2mO2pzk",
        "outputId": "8dee003d-f6b7-4a00-fa00-1c1fed8f17a7"
      },
      "execution_count": 24,
      "outputs": [
        {
          "output_type": "stream",
          "name": "stdout",
          "text": [
            "\n",
            "Top 5 job descriptions most similar to the query:\n",
            "Job Title: Credit Controller - Temporary Position\n",
            "Similarity Score: 0.004172072785443803\n",
            "Job Description: Accounting\n",
            "\n",
            "Job Title: Wait Staff\n",
            "Similarity Score: 0.0033997001440222003\n",
            "Job Description: Hospitality & Tourism\n",
            "\n",
            "Job Title: Solution Architect (IAM)\n",
            "Similarity Score: 0.003043823447949755\n",
            "Job Description: Information & Communication Technology\n",
            "\n",
            "Job Title: Recruitment Consultant\n",
            "Similarity Score: 0.0027987719273321284\n",
            "Job Description: Human Resources & Recruitment\n",
            "\n",
            "Job Title: IT Security Architect\n",
            "Similarity Score: 0.002747864116015302\n",
            "Job Description: Information & Communication Technology\n",
            "\n"
          ]
        }
      ]
    },
    {
      "cell_type": "markdown",
      "source": [
        "2."
      ],
      "metadata": {
        "id": "I-7SRCen6a0K"
      }
    },
    {
      "cell_type": "code",
      "source": [
        "def extract_ngrams(sequence, n):\n",
        "    ngrams = []\n",
        "    sequence_length = len(sequence)\n",
        "    for i in range(sequence_length - n + 1):\n",
        "        ngram = sequence[i:i+n]\n",
        "        ngrams.append(ngram)\n",
        "    return ngrams\n"
      ],
      "metadata": {
        "id": "_-FF9VOF6bME"
      },
      "execution_count": 25,
      "outputs": []
    },
    {
      "cell_type": "code",
      "source": [
        "sentence = \"I like deadline and want to immerse myself in deadline.\"\n",
        "\n",
        "# Extract word tri-grams\n",
        "words = sentence.split()\n",
        "word_trigrams = extract_ngrams(words, 3)\n",
        "\n",
        "print(\"Word Tri-grams:\")\n",
        "for trigram in word_trigrams:\n",
        "    print(trigram)\n",
        "\n",
        "# Extract letter tri-grams\n",
        "letters = list(sentence.replace(\" \", \"\"))\n",
        "letter_trigrams = extract_ngrams(letters, 3)\n",
        "\n",
        "print(\"\\nLetter Tri-grams:\")\n",
        "for trigram in letter_trigrams:\n",
        "    print(trigram)"
      ],
      "metadata": {
        "colab": {
          "base_uri": "https://localhost:8080/"
        },
        "id": "BHIvi8Lw7AGK",
        "outputId": "b8c8ef99-d4fc-4a0f-df99-ac10733d966c"
      },
      "execution_count": 26,
      "outputs": [
        {
          "output_type": "stream",
          "name": "stdout",
          "text": [
            "Word Tri-grams:\n",
            "['I', 'like', 'deadline']\n",
            "['like', 'deadline', 'and']\n",
            "['deadline', 'and', 'want']\n",
            "['and', 'want', 'to']\n",
            "['want', 'to', 'immerse']\n",
            "['to', 'immerse', 'myself']\n",
            "['immerse', 'myself', 'in']\n",
            "['myself', 'in', 'deadline.']\n",
            "\n",
            "Letter Tri-grams:\n",
            "['I', 'l', 'i']\n",
            "['l', 'i', 'k']\n",
            "['i', 'k', 'e']\n",
            "['k', 'e', 'd']\n",
            "['e', 'd', 'e']\n",
            "['d', 'e', 'a']\n",
            "['e', 'a', 'd']\n",
            "['a', 'd', 'l']\n",
            "['d', 'l', 'i']\n",
            "['l', 'i', 'n']\n",
            "['i', 'n', 'e']\n",
            "['n', 'e', 'a']\n",
            "['e', 'a', 'n']\n",
            "['a', 'n', 'd']\n",
            "['n', 'd', 'w']\n",
            "['d', 'w', 'a']\n",
            "['w', 'a', 'n']\n",
            "['a', 'n', 't']\n",
            "['n', 't', 't']\n",
            "['t', 't', 'o']\n",
            "['t', 'o', 'i']\n",
            "['o', 'i', 'm']\n",
            "['i', 'm', 'm']\n",
            "['m', 'm', 'e']\n",
            "['m', 'e', 'r']\n",
            "['e', 'r', 's']\n",
            "['r', 's', 'e']\n",
            "['s', 'e', 'm']\n",
            "['e', 'm', 'y']\n",
            "['m', 'y', 's']\n",
            "['y', 's', 'e']\n",
            "['s', 'e', 'l']\n",
            "['e', 'l', 'f']\n",
            "['l', 'f', 'i']\n",
            "['f', 'i', 'n']\n",
            "['i', 'n', 'd']\n",
            "['n', 'd', 'e']\n",
            "['d', 'e', 'a']\n",
            "['e', 'a', 'd']\n",
            "['a', 'd', 'l']\n",
            "['d', 'l', 'i']\n",
            "['l', 'i', 'n']\n",
            "['i', 'n', 'e']\n",
            "['n', 'e', '.']\n"
          ]
        }
      ]
    },
    {
      "cell_type": "markdown",
      "source": [
        "3."
      ],
      "metadata": {
        "id": "Bz4jxi1m7MPk"
      }
    },
    {
      "cell_type": "code",
      "source": [
        "import random\n",
        "\n",
        "def modify_phrase(phrase):\n",
        "    words = phrase.split()\n",
        "    modified_words = []\n",
        "    \n",
        "    for word in words:\n",
        "        if len(word) <= 4:\n",
        "            modified_words.append(word)\n",
        "        else:\n",
        "            first_letter = word[0]\n",
        "            last_letter = word[-1]\n",
        "            middle_letters = list(word[1:-1])\n",
        "            random.shuffle(middle_letters)\n",
        "            modified_word = first_letter + ''.join(middle_letters) + last_letter\n",
        "            modified_words.append(modified_word)\n",
        "    \n",
        "    modified_phrase = ' '.join(modified_words)\n",
        "    return modified_phrase\n",
        "\n",
        "# Example phrase\n",
        "phrase = \"I couldn't believe that I could completely understand what I was reading: the astounding power of the human mind\"\n",
        "\n",
        "modified_phrase = modify_phrase(phrase)\n",
        "\n",
        "print(\"Original phrase:\")\n",
        "print(phrase)\n",
        "print()\n",
        "print(\"Modified phrase:\")\n",
        "print(modified_phrase)\n"
      ],
      "metadata": {
        "colab": {
          "base_uri": "https://localhost:8080/"
        },
        "id": "4di5TaVJ7AXk",
        "outputId": "b48126e3-a2dd-4278-d9dd-cd8688756927"
      },
      "execution_count": 27,
      "outputs": [
        {
          "output_type": "stream",
          "name": "stdout",
          "text": [
            "Original phrase:\n",
            "I couldn't believe that I could completely understand what I was reading: the astounding power of the human mind\n",
            "\n",
            "Modified phrase:\n",
            "I clon'udt bleevie that I colud coelemptly unntrdsead what I was rgdiena: the adontuinsg pweor of the hamun mind\n"
          ]
        }
      ]
    },
    {
      "cell_type": "markdown",
      "source": [
        "4."
      ],
      "metadata": {
        "id": "sQHerB8Y70Mo"
      }
    },
    {
      "cell_type": "code",
      "source": [
        "alice = \"/content/drive/MyDrive/Colab Notebooks/Data Mining/Dataset/lab7data/alice.txt\""
      ],
      "metadata": {
        "id": "wqVgU2rQ755_"
      },
      "execution_count": 29,
      "outputs": []
    },
    {
      "cell_type": "code",
      "source": [
        "import nltk\n",
        "\n",
        "nltk.download('punkt')\n",
        "nltk.download('averaged_perceptron_tagger')\n"
      ],
      "metadata": {
        "colab": {
          "base_uri": "https://localhost:8080/"
        },
        "id": "8Nr4yaAB7R-6",
        "outputId": "40572754-3a50-47e6-92d4-7a6884ac811d"
      },
      "execution_count": 28,
      "outputs": [
        {
          "output_type": "stream",
          "name": "stderr",
          "text": [
            "[nltk_data] Downloading package punkt to /root/nltk_data...\n",
            "[nltk_data]   Unzipping tokenizers/punkt.zip.\n",
            "[nltk_data] Downloading package averaged_perceptron_tagger to\n",
            "[nltk_data]     /root/nltk_data...\n",
            "[nltk_data]   Unzipping taggers/averaged_perceptron_tagger.zip.\n"
          ]
        },
        {
          "output_type": "execute_result",
          "data": {
            "text/plain": [
              "True"
            ]
          },
          "metadata": {},
          "execution_count": 28
        }
      ]
    },
    {
      "cell_type": "code",
      "source": [
        "import nltk\n",
        "\n",
        "# Read the input file\n",
        "with open(alice, 'r') as file:\n",
        "    text = file.read()\n",
        "\n",
        "# Tokenize the text into sentences\n",
        "sentences = nltk.sent_tokenize(text)\n",
        "\n",
        "# Perform POS tagging on each sentence\n",
        "tagged_sentences = []\n",
        "for sentence in sentences:\n",
        "    tagged_sentence = nltk.pos_tag(nltk.word_tokenize(sentence))\n",
        "    tagged_sentences.append(tagged_sentence)\n",
        "\n",
        "# Save the POS tagged output to a separate file\n",
        "output_file = 'alice_pos_tagged.txt'\n",
        "with open(output_file, 'w') as file:\n",
        "    for tagged_sentence in tagged_sentences:\n",
        "        tagged_text = ' '.join([f\"{word}/{tag}\" for word, tag in tagged_sentence])\n",
        "        file.write(tagged_text + '\\n')\n",
        "\n",
        "print(f\"POS tagged output saved to '{output_file}'.\")\n"
      ],
      "metadata": {
        "colab": {
          "base_uri": "https://localhost:8080/"
        },
        "id": "u8emvgDf712E",
        "outputId": "01e23efc-9cb5-4fbc-87a0-48286496cdf8"
      },
      "execution_count": 30,
      "outputs": [
        {
          "output_type": "stream",
          "name": "stdout",
          "text": [
            "POS tagged output saved to 'alice_pos_tagged.txt'.\n"
          ]
        }
      ]
    },
    {
      "cell_type": "code",
      "source": [
        "# Open the POS tagged file for reading\n",
        "with open('alice_pos_tagged.txt', 'r') as file:\n",
        "    pos_tagged_text = file.read()\n",
        "\n",
        "# Print the contents of the POS tagged file\n",
        "print(\"POS tagged text:\")\n",
        "print(pos_tagged_text)\n"
      ],
      "metadata": {
        "colab": {
          "base_uri": "https://localhost:8080/"
        },
        "id": "HMlx25Bw8Ehb",
        "outputId": "b52f27f8-5755-44eb-9d05-feee6a94660c"
      },
      "execution_count": 31,
      "outputs": [
        {
          "output_type": "stream",
          "name": "stdout",
          "text": [
            "POS tagged text:\n",
            "ALICE/NNP 'S/POS ADVENTURES/NNP IN/NNP WONDERLAND/NNP Lewis/NNP Carroll/NNP THE/NNP MILLENNIUM/NNP FULCRUM/NNP EDITION/NNP 3.0/CD CHAPTER/NN I/PRP ./.\n",
            "Down/IN the/DT Rabbit-Hole/JJ Alice/NNP was/VBD beginning/VBG to/TO get/VB very/RB tired/JJ of/IN sitting/VBG by/IN her/PRP$ sister/NN on/IN the/DT bank/NN ,/, and/CC of/IN having/VBG nothing/NN to/TO do/VB :/: once/RB or/CC twice/VB she/PRP had/VBD peeped/VBN into/IN the/DT book/NN her/PRP$ sister/NN was/VBD reading/VBG ,/, but/CC it/PRP had/VBD no/DT pictures/NNS or/CC conversations/NNS in/IN it/PRP ,/, 'and/VB what/WP is/VBZ the/DT use/NN of/IN a/DT book/NN ,/, '/'' thought/JJ Alice/NNP 'without/POS pictures/NNS or/CC conversations/NNS ?/. '/''\n",
            "So/IN she/PRP was/VBD considering/VBG in/IN her/PRP$ own/JJ mind/NN (/( as/RB well/RB as/IN she/PRP could/MD ,/, for/IN the/DT hot/JJ day/NN made/VBD her/PRP$ feel/JJ very/RB sleepy/JJ and/CC stupid/JJ )/) ,/, whether/IN the/DT pleasure/NN of/IN making/VBG a/DT daisy-chain/NN would/MD be/VB worth/IN the/DT trouble/NN of/IN getting/VBG up/RP and/CC picking/VBG the/DT daisies/NNS ,/, when/WRB suddenly/RB a/DT White/NNP Rabbit/NN with/IN pink/JJ eyes/NNS ran/VBD close/RB by/IN her/PRP ./.\n",
            "There/EX was/VBD nothing/NN so/RB VERY/RB remarkable/JJ in/IN that/DT ;/: nor/CC did/VBD Alice/NNP think/VB it/PRP so/RB VERY/RB much/JJ out/IN of/IN the/DT way/NN to/TO hear/VB the/DT Rabbit/NNP say/VBP to/TO itself/PRP ,/, 'Oh/'' dear/NN !/.\n",
            "Oh/UH dear/NN !/.\n",
            "I/PRP shall/MD be/VB late/RB !/. '/''\n",
            "(/( when/WRB she/PRP thought/VBD it/PRP over/IN afterwards/NNS ,/, it/PRP occurred/VBD to/TO her/PRP$ that/IN she/PRP ought/MD to/TO have/VB wondered/VBN at/IN this/DT ,/, but/CC at/IN the/DT time/NN it/PRP all/DT seemed/VBD quite/RB natural/JJ )/) ;/: but/CC when/WRB the/DT Rabbit/NNP actually/RB TOOK/VBZ A/NNP WATCH/NNP OUT/NNP OF/IN ITS/NNP WAISTCOAT-POCKET/NNP ,/, and/CC looked/VBD at/IN it/PRP ,/, and/CC then/RB hurried/VBD on/IN ,/, Alice/NNP started/VBD to/TO her/PRP$ feet/NNS ,/, for/IN it/PRP flashed/VBD across/IN her/PRP$ mind/NN that/IN she/PRP had/VBD never/RB before/RB seen/VBN a/DT rabbit/NN with/IN either/DT a/DT waistcoat-pocket/NN ,/, or/CC a/DT watch/NN to/TO take/VB out/IN of/IN it/PRP ,/, and/CC burning/VBG with/IN curiosity/NN ,/, she/PRP ran/VBD across/IN the/DT field/NN after/IN it/PRP ,/, and/CC fortunately/RB was/VBD just/RB in/IN time/NN to/TO see/VB it/PRP pop/VB down/RP a/DT large/JJ rabbit-hole/JJ under/IN the/DT hedge/NN ./.\n",
            "In/IN another/DT moment/NN down/RP went/VBD Alice/NNP after/IN it/PRP ,/, never/RB once/RB considering/VBG how/WRB in/IN the/DT world/NN she/PRP was/VBD to/TO get/VB out/RP again/RB ./.\n",
            "The/DT rabbit-hole/JJ went/VBD straight/RB on/IN like/IN a/DT tunnel/NN for/IN some/DT way/NN ,/, and/CC then/RB dipped/VBD suddenly/RB down/RB ,/, so/IN suddenly/RB that/IN Alice/NNP had/VBD not/RB a/DT moment/NN to/TO think/VB about/IN stopping/VBG herself/PRP before/IN she/PRP found/VBD herself/PRP falling/VBG down/RP a/DT very/RB deep/JJ well/NN ./.\n",
            "Either/CC the/DT well/NN was/VBD very/RB deep/JJ ,/, or/CC she/PRP fell/VBD very/RB slowly/RB ,/, for/IN she/PRP had/VBD plenty/NN of/IN time/NN as/IN she/PRP went/VBD down/RB to/TO look/VB about/IN her/PRP$ and/CC to/TO wonder/VB what/WP was/VBD going/VBG to/TO happen/VB next/RB ./.\n",
            "First/RB ,/, she/PRP tried/VBD to/TO look/VB down/RP and/CC make/VB out/RP what/WP she/PRP was/VBD coming/VBG to/TO ,/, but/CC it/PRP was/VBD too/RB dark/JJ to/TO see/VB anything/NN ;/: then/RB she/PRP looked/VBD at/IN the/DT sides/NNS of/IN the/DT well/NN ,/, and/CC noticed/VBD that/IN they/PRP were/VBD filled/VBN with/IN cupboards/NNS and/CC book-shelves/NNS ;/: here/RB and/CC there/RB she/PRP saw/VBD maps/NNS and/CC pictures/NNS hung/VBP upon/IN pegs/NNS ./.\n",
            "She/PRP took/VBD down/RP a/DT jar/NN from/IN one/CD of/IN the/DT shelves/NNS as/IN she/PRP passed/VBD ;/: it/PRP was/VBD labelled/VBN 'ORANGE/RB MARMALADE/NNP '/POS ,/, but/CC to/TO her/PRP$ great/JJ disappointment/NN it/PRP was/VBD empty/JJ :/: she/PRP did/VBD not/RB like/IN to/TO drop/VB the/DT jar/NN for/IN fear/NN of/IN killing/VBG somebody/NN ,/, so/RB managed/VBN to/TO put/VB it/PRP into/IN one/CD of/IN the/DT cupboards/NNS as/IN she/PRP fell/VBD past/IN it/PRP ./.\n",
            "'Well/RB !/. '/''\n",
            "thought/VBN Alice/NNP to/TO herself/VB ,/, 'after/FW such/PDT a/DT fall/NN as/IN this/DT ,/, I/PRP shall/MD think/VB nothing/NN of/IN tumbling/VBG down/RP stairs/NNS !/.\n",
            "How/WRB brave/VBP they/PRP 'll/MD all/DT think/VB me/PRP at/IN home/NN !/.\n",
            "Why/WRB ,/, I/PRP would/MD n't/RB say/VB anything/NN about/IN it/PRP ,/, even/RB if/IN I/PRP fell/VBD off/RP the/DT top/NN of/IN the/DT house/NN !/. '/''\n",
            "(/( Which/NNP was/VBD very/RB likely/JJ true/JJ ./. )/)\n",
            "Down/NNP ,/, down/RB ,/, down/RB ./.\n",
            "Would/MD the/DT fall/NN NEVER/NNP come/VBP to/TO an/DT end/NN !/.\n",
            "'/POS I/PRP wonder/VBP how/WRB many/JJ miles/NNS I/PRP 've/VBP fallen/VBN by/IN this/DT time/NN ?/. '/''\n",
            "she/PRP said/VBD aloud/NN ./.\n",
            "'/POS I/PRP must/MD be/VB getting/VBG somewhere/RB near/IN the/DT centre/NN of/IN the/DT earth/NN ./.\n",
            "Let/VB me/PRP see/VB :/: that/DT would/MD be/VB four/CD thousand/NN miles/NNS down/RB ,/, I/PRP think/VBP --/: '/POS (/( for/IN ,/, you/PRP see/VBP ,/, Alice/NNP had/VBD learnt/VBN several/JJ things/NNS of/IN this/DT sort/NN in/IN her/PRP$ lessons/NNS in/IN the/DT schoolroom/NN ,/, and/CC though/IN this/DT was/VBD not/RB a/DT VERY/RB good/JJ opportunity/NN for/IN showing/VBG off/RP her/PRP$ knowledge/NN ,/, as/IN there/EX was/VBD no/DT one/NN to/TO listen/VB to/TO her/PRP$ ,/, still/RB it/PRP was/VBD good/JJ practice/NN to/TO say/VB it/PRP over/RP )/) '/POS --/: yes/UH ,/, that/DT 's/VBZ about/IN the/DT right/JJ distance/NN --/: but/CC then/RB I/PRP wonder/VBP what/WP Latitude/NNP or/CC Longitude/NNP I/PRP 've/VBP got/VBN to/TO ?/. '/''\n",
            "(/( Alice/NNP had/VBD no/DT idea/NN what/WP Latitude/NNP was/VBD ,/, or/CC Longitude/NNP either/CC ,/, but/CC thought/VBD they/PRP were/VBD nice/JJ grand/JJ words/NNS to/TO say/VB ./. )/)\n",
            "Presently/RB she/PRP began/VBD again/RB ./.\n",
            "'/POS I/PRP wonder/VBP if/IN I/PRP shall/MD fall/VB right/RB THROUGH/IN the/DT earth/NN !/.\n",
            "How/WRB funny/JJ it/PRP 'll/MD seem/VB to/TO come/VB out/RP among/IN the/DT people/NNS that/WDT walk/VBP with/IN their/PRP$ heads/NNS downward/RB !/.\n",
            "The/DT Antipathies/NNPS ,/, I/PRP think/VBP --/: '/'' (/( she/PRP was/VBD rather/RB glad/JJ there/EX WAS/NNP no/DT one/NN listening/NN ,/, this/DT time/NN ,/, as/IN it/PRP did/VBD n't/RB sound/VB at/IN all/PDT the/DT right/JJ word/NN )/) '/POS --/: but/CC I/PRP shall/MD have/VB to/TO ask/VB them/PRP what/WP the/DT name/NN of/IN the/DT country/NN is/VBZ ,/, you/PRP know/VBP ./.\n",
            "Please/NNP ,/, Ma'am/NNP ,/, is/VBZ this/DT New/NNP Zealand/NNP or/CC Australia/NNP ?/. '/''\n",
            "(/( and/CC she/PRP tried/VBD to/TO curtsey/VB as/IN she/PRP spoke/VBD --/: fancy/JJ CURTSEYING/NN as/IN you/PRP 're/VBP falling/VBG through/IN the/DT air/NN !/.\n",
            "Do/VBP you/PRP think/VB you/PRP could/MD manage/VB it/PRP ?/. )/)\n",
            "'And/POS what/WP an/DT ignorant/JJ little/JJ girl/NN she/PRP 'll/MD think/VB me/PRP for/IN asking/VBG !/.\n",
            "No/DT ,/, it/PRP 'll/MD never/RB do/VB to/TO ask/VB :/: perhaps/RB I/PRP shall/MD see/VB it/PRP written/VBN up/RP somewhere/RB ./. '/''\n",
            "Down/NNP ,/, down/RB ,/, down/RB ./.\n",
            "There/EX was/VBD nothing/NN else/RB to/TO do/VB ,/, so/IN Alice/NNP soon/RB began/VBD talking/VBG again/RB ./.\n",
            "'Dinah/POS 'll/MD miss/VB me/PRP very/RB much/JJ to-night/NN ,/, I/PRP should/MD think/VB !/. '/''\n",
            "(/( Dinah/NNP was/VBD the/DT cat/NN ./. )/)\n",
            "'/POS I/PRP hope/VBP they/PRP 'll/MD remember/VB her/PRP$ saucer/NN of/IN milk/NN at/IN tea-time/NN ./.\n",
            "Dinah/NNP my/PRP$ dear/NN !/.\n",
            "I/PRP wish/VBP you/PRP were/VBD down/RB here/RB with/IN me/PRP !/.\n",
            "There/EX are/VBP no/DT mice/NN in/IN the/DT air/NN ,/, I/PRP 'm/VBP afraid/JJ ,/, but/CC you/PRP might/MD catch/VB a/DT bat/NN ,/, and/CC that/DT 's/VBZ very/RB like/IN a/DT mouse/NN ,/, you/PRP know/VBP ./.\n",
            "But/CC do/VBP cats/NNS eat/VB bats/NNS ,/, I/PRP wonder/VBP ?/. '/''\n",
            "And/CC here/RB Alice/NNP began/VBD to/TO get/VB rather/RB sleepy/NN ,/, and/CC went/VBD on/IN saying/VBG to/TO herself/VB ,/, in/IN a/DT dreamy/JJ sort/NN of/IN way/NN ,/, 'Do/'' cats/VBZ eat/NN bats/NNS ?/.\n",
            "Do/VB cats/NNS eat/VB bats/NNS ?/. '/''\n",
            "and/CC sometimes/RB ,/, 'Do/'' bats/VBZ eat/NN cats/NNS ?/. '/''\n",
            "for/IN ,/, you/PRP see/VBP ,/, as/IN she/PRP could/MD n't/RB answer/VB either/DT question/NN ,/, it/PRP did/VBD n't/RB much/JJ matter/NN which/WDT way/NN she/PRP put/VBD it/PRP ./.\n",
            "She/PRP felt/VBD that/IN she/PRP was/VBD dozing/VBG off/RP ,/, and/CC had/VBD just/RB begun/VBN to/TO dream/VB that/IN she/PRP was/VBD walking/VBG hand/NN in/IN hand/NN with/IN Dinah/NNP ,/, and/CC saying/VBG to/TO her/PRP$ very/RB earnestly/RB ,/, 'Now/PRP ,/, Dinah/NNP ,/, tell/VB me/PRP the/DT truth/NN :/: did/VBD you/PRP ever/RB eat/VB a/DT bat/NN ?/. '/''\n",
            "when/WRB suddenly/RB ,/, thump/NN !/.\n",
            "thump/NN !/.\n",
            "down/IN she/PRP came/VBD upon/IN a/DT heap/NN of/IN sticks/NNS and/CC dry/JJ leaves/NNS ,/, and/CC the/DT fall/NN was/VBD over/RB ./.\n",
            "Alice/NNP was/VBD not/RB a/DT bit/NN hurt/JJ ,/, and/CC she/PRP jumped/VBD up/RB on/IN to/TO her/PRP$ feet/NNS in/IN a/DT moment/NN :/: she/PRP looked/VBD up/RB ,/, but/CC it/PRP was/VBD all/DT dark/JJ overhead/NN ;/: before/IN her/PRP$ was/VBD another/DT long/JJ passage/NN ,/, and/CC the/DT White/NNP Rabbit/NNP was/VBD still/RB in/IN sight/NN ,/, hurrying/VBG down/RP it/PRP ./.\n",
            "There/EX was/VBD not/RB a/DT moment/NN to/TO be/VB lost/VBN :/: away/RB went/VBD Alice/NNP like/IN the/DT wind/NN ,/, and/CC was/VBD just/RB in/IN time/NN to/TO hear/VB it/PRP say/VB ,/, as/IN it/PRP turned/VBD a/DT corner/NN ,/, 'Oh/'' my/PRP$ ears/NNS and/CC whiskers/NNS ,/, how/WRB late/JJ it/PRP 's/VBZ getting/VBG !/. '/''\n",
            "She/PRP was/VBD close/RB behind/IN it/PRP when/WRB she/PRP turned/VBD the/DT corner/NN ,/, but/CC the/DT Rabbit/NNP was/VBD no/RB longer/JJR to/TO be/VB seen/VBN :/: she/PRP found/VBD herself/PRP in/IN a/DT long/JJ ,/, low/JJ hall/NN ,/, which/WDT was/VBD lit/VBN up/RP by/IN a/DT row/NN of/IN lamps/NNS hanging/VBG from/IN the/DT roof/NN ./.\n",
            "There/EX were/VBD doors/NNS all/DT round/VBP the/DT hall/NN ,/, but/CC they/PRP were/VBD all/DT locked/VBN ;/: and/CC when/WRB Alice/NNP had/VBD been/VBN all/PDT the/DT way/NN down/RP one/CD side/NN and/CC up/RB the/DT other/JJ ,/, trying/VBG every/DT door/NN ,/, she/PRP walked/VBD sadly/RB down/RP the/DT middle/NN ,/, wondering/VBG how/WRB she/PRP was/VBD ever/RB to/TO get/VB out/RP again/RB ./.\n",
            "Suddenly/RB she/PRP came/VBD upon/IN a/DT little/JJ three-legged/JJ table/NN ,/, all/DT made/VBN of/IN solid/JJ glass/NN ;/: there/EX was/VBD nothing/NN on/IN it/PRP except/IN a/DT tiny/JJ golden/JJ key/NN ,/, and/CC Alice's/NNP first/RB thought/VBD was/VBD that/IN it/PRP might/MD belong/VB to/TO one/CD of/IN the/DT doors/NNS of/IN the/DT hall/NN ;/: but/CC ,/, alas/UH !/.\n",
            "either/CC the/DT locks/NNS were/VBD too/RB large/JJ ,/, or/CC the/DT key/NN was/VBD too/RB small/JJ ,/, but/CC at/IN any/DT rate/NN it/PRP would/MD not/RB open/VB any/DT of/IN them/PRP ./.\n",
            "However/RB ,/, on/IN the/DT second/JJ time/NN round/NN ,/, she/PRP came/VBD upon/IN a/DT low/JJ curtain/NN she/PRP had/VBD not/RB noticed/VBN before/IN ,/, and/CC behind/IN it/PRP was/VBD a/DT little/JJ door/NN about/IN fifteen/JJ inches/NNS high/JJ :/: she/PRP tried/VBD the/DT little/JJ golden/JJ key/NN in/IN the/DT lock/NN ,/, and/CC to/TO her/PRP$ great/JJ delight/NN it/PRP fitted/VBD !/.\n",
            "Alice/NNP opened/VBD the/DT door/NN and/CC found/VBD that/IN it/PRP led/VBD into/IN a/DT small/JJ passage/NN ,/, not/RB much/RB larger/JJR than/IN a/DT rat-hole/JJ :/: she/PRP knelt/VBD down/RB and/CC looked/VBD along/IN the/DT passage/NN into/IN the/DT loveliest/JJS garden/NN you/PRP ever/RB saw/VBD ./.\n",
            "How/WRB she/PRP longed/VBD to/TO get/VB out/IN of/IN that/DT dark/NN hall/NN ,/, and/CC wander/VBP about/IN among/IN those/DT beds/NNS of/IN bright/JJ flowers/NNS and/CC those/DT cool/JJ fountains/NNS ,/, but/CC she/PRP could/MD not/RB even/RB get/VB her/PRP$ head/NN through/IN the/DT doorway/NN ;/: 'and/CC even/RB if/IN my/PRP$ head/NN would/MD go/VB through/IN ,/, '/'' thought/VBD poor/JJ Alice/NNP ,/, 'it/NNP would/MD be/VB of/IN very/RB little/JJ use/NN without/IN my/PRP$ shoulders/NNS ./.\n",
            "Oh/UH ,/, how/WRB I/PRP wish/VBP I/PRP could/MD shut/VB up/RP like/IN a/DT telescope/NN !/.\n",
            "I/PRP think/VBP I/PRP could/MD ,/, if/IN I/PRP only/RB knew/VBD how/WRB to/TO begin/VB ./. '/''\n",
            "For/IN ,/, you/PRP see/VBP ,/, so/RB many/JJ out-of-the-way/JJ things/NNS had/VBD happened/VBN lately/RB ,/, that/IN Alice/NNP had/VBD begun/VBN to/TO think/VB that/DT very/RB few/JJ things/NNS indeed/RB were/VBD really/RB impossible/JJ ./.\n",
            "There/EX seemed/VBN to/TO be/VB no/DT use/NN in/IN waiting/VBG by/IN the/DT little/JJ door/NN ,/, so/IN she/PRP went/VBD back/RB to/TO the/DT table/NN ,/, half/NN hoping/VBG she/PRP might/MD find/VB another/DT key/NN on/IN it/PRP ,/, or/CC at/IN any/DT rate/NN a/DT book/NN of/IN rules/NNS for/IN shutting/VBG people/NNS up/IN like/IN telescopes/NNS :/: this/DT time/NN she/PRP found/VBD a/DT little/JJ bottle/NN on/IN it/PRP ,/, (/( 'which/CD certainly/RB was/VBD not/RB here/RB before/RB ,/, '/'' said/VBD Alice/NNP ,/, )/) and/CC round/VB the/DT neck/NN of/IN the/DT bottle/NN was/VBD a/DT paper/NN label/NN ,/, with/IN the/DT words/NNS 'DRINK/POS ME/NNP '/POS beautifully/RB printed/VBN on/IN it/PRP in/IN large/JJ letters/NNS ./.\n",
            "It/PRP was/VBD all/DT very/RB well/RB to/TO say/VB 'Drink/VB me/PRP ,/, '/'' but/CC the/DT wise/NN little/JJ Alice/NNP was/VBD not/RB going/VBG to/TO do/VB THAT/DT in/IN a/DT hurry/NN ./.\n",
            "'No/CD ,/, I/PRP 'll/MD look/VB first/RB ,/, '/'' she/PRP said/VBD ,/, 'and/NNP see/VBP whether/IN it/PRP 's/VBZ marked/VBN ``/`` poison/NN ''/'' or/CC not/RB '/POS ;/: for/IN she/PRP had/VBD read/VBN several/JJ nice/JJ little/JJ histories/NNS about/IN children/NNS who/WP had/VBD got/VBN burnt/RB ,/, and/CC eaten/VB up/RP by/IN wild/JJ beasts/NNS and/CC other/JJ unpleasant/JJ things/NNS ,/, all/DT because/IN they/PRP WOULD/MD not/RB remember/VB the/DT simple/NN rules/NNS their/PRP$ friends/NNS had/VBD taught/VBN them/PRP :/: such/JJ as/IN ,/, that/IN a/DT red-hot/JJ poker/NN will/MD burn/VB you/PRP if/IN you/PRP hold/VBP it/PRP too/RB long/RB ;/: and/CC that/IN if/IN you/PRP cut/VBP your/PRP$ finger/NN VERY/RB deeply/RB with/IN a/DT knife/NN ,/, it/PRP usually/RB bleeds/VBZ ;/: and/CC she/PRP had/VBD never/RB forgotten/VBN that/IN ,/, if/IN you/PRP drink/VBP much/RB from/IN a/DT bottle/NN marked/VBD 'poison/NNP ,/, '/'' it/PRP is/VBZ almost/RB certain/JJ to/TO disagree/VB with/IN you/PRP ,/, sooner/RB or/CC later/RB ./.\n",
            "However/RB ,/, this/DT bottle/NN was/VBD NOT/NNP marked/VBD 'poison/NNP ,/, '/'' so/RB Alice/NNP ventured/VBD to/TO taste/VB it/PRP ,/, and/CC finding/VBG it/PRP very/RB nice/JJ ,/, (/( it/PRP had/VBD ,/, in/IN fact/NN ,/, a/DT sort/NN of/IN mixed/JJ flavour/NN of/IN cherry-tart/NN ,/, custard/NN ,/, pine-apple/JJ ,/, roast/JJ turkey/NN ,/, toffee/NN ,/, and/CC hot/JJ buttered/VBN toast/NN ,/, )/) she/PRP very/RB soon/RB finished/VBD it/PRP off/RP ./.\n",
            "*/JJ */NNP */NNP */NNP */NNP */NNP */NNP */NNP */NNP */NNP */NNP */NNP */NNP */NNP */NNP */NNP */NNP */NNP */NNP */NNP 'What/IN a/DT curious/JJ feeling/NN !/. '/''\n",
            "said/VBD Alice/NNP ;/: '/POS I/PRP must/MD be/VB shutting/VBG up/RP like/IN a/DT telescope/NN ./. '/''\n",
            "And/CC so/IN it/PRP was/VBD indeed/RB :/: she/PRP was/VBD now/RB only/RB ten/JJ inches/NNS high/JJ ,/, and/CC her/PRP$ face/NN brightened/VBD up/RP at/IN the/DT thought/NN that/IN she/PRP was/VBD now/RB the/DT right/NN size/NN for/IN going/VBG through/IN the/DT little/JJ door/NN into/IN that/DT lovely/JJ garden/NN ./.\n",
            "First/RB ,/, however/RB ,/, she/PRP waited/VBD for/IN a/DT few/JJ minutes/NNS to/TO see/VB if/IN she/PRP was/VBD going/VBG to/TO shrink/VB any/DT further/JJ :/: she/PRP felt/VBD a/DT little/JJ nervous/JJ about/IN this/DT ;/: 'for/VBZ it/PRP might/MD end/VB ,/, you/PRP know/VBP ,/, '/'' said/VBD Alice/NNP to/TO herself/VB ,/, 'in/VB my/PRP$ going/VBG out/RP altogether/RB ,/, like/IN a/DT candle/NN ./.\n",
            "I/PRP wonder/VBP what/WP I/PRP should/MD be/VB like/IN then/RB ?/. '/''\n",
            "And/CC she/PRP tried/VBD to/TO fancy/VB what/WP the/DT flame/NN of/IN a/DT candle/NN is/VBZ like/IN after/IN the/DT candle/NN is/VBZ blown/VBN out/RP ,/, for/IN she/PRP could/MD not/RB remember/VB ever/RB having/VBG seen/VBN such/PDT a/DT thing/NN ./.\n",
            "After/IN a/DT while/NN ,/, finding/VBG that/IN nothing/NN more/RBR happened/VBD ,/, she/PRP decided/VBD on/IN going/VBG into/IN the/DT garden/NN at/IN once/RB ;/: but/CC ,/, alas/NNS for/IN poor/JJ Alice/NNP !/.\n",
            "when/WRB she/PRP got/VBD to/TO the/DT door/NN ,/, she/PRP found/VBD she/PRP had/VBD forgotten/VBN the/DT little/JJ golden/JJ key/NN ,/, and/CC when/WRB she/PRP went/VBD back/RB to/TO the/DT table/NN for/IN it/PRP ,/, she/PRP found/VBD she/PRP could/MD not/RB possibly/RB reach/VB it/PRP :/: she/PRP could/MD see/VB it/PRP quite/RB plainly/RB through/IN the/DT glass/NN ,/, and/CC she/PRP tried/VBD her/PRP best/JJS to/TO climb/VB up/RP one/CD of/IN the/DT legs/NN of/IN the/DT table/NN ,/, but/CC it/PRP was/VBD too/RB slippery/JJ ;/: and/CC when/WRB she/PRP had/VBD tired/VBN herself/PRP out/IN with/IN trying/VBG ,/, the/DT poor/JJ little/JJ thing/NN sat/VBD down/RB and/CC cried/VBN ./.\n",
            "'Come/CD ,/, there/EX 's/VBZ no/DT use/NN in/IN crying/VBG like/IN that/DT !/. '/''\n",
            "said/VBD Alice/NNP to/TO herself/VB ,/, rather/RB sharply/RB ;/: '/'' I/PRP advise/VBP you/PRP to/TO leave/VB off/RP this/DT minute/NN !/. '/''\n",
            "She/PRP generally/RB gave/VBD herself/PRP very/RB good/JJ advice/NN ,/, (/( though/IN she/PRP very/RB seldom/RB followed/VBD it/PRP )/) ,/, and/CC sometimes/RB she/PRP scolded/VBD herself/PRP so/RB severely/RB as/IN to/TO bring/VB tears/NNS into/IN her/PRP$ eyes/NNS ;/: and/CC once/RB she/PRP remembered/VBD trying/VBG to/TO box/VB her/PRP$ own/JJ ears/NNS for/IN having/VBG cheated/VBN herself/PRP in/IN a/DT game/NN of/IN croquet/NN she/PRP was/VBD playing/VBG against/IN herself/PRP ,/, for/IN this/DT curious/JJ child/NN was/VBD very/RB fond/JJ of/IN pretending/VBG to/TO be/VB two/CD people/NNS ./.\n",
            "'But/IN it/PRP 's/VBZ no/DT use/NN now/RB ,/, '/'' thought/VBD poor/JJ Alice/NNP ,/, 'to/'' pretend/VBP to/TO be/VB two/CD people/NNS !/.\n",
            "Why/WRB ,/, there/EX 's/VBZ hardly/RB enough/RB of/IN me/PRP left/VBD to/TO make/VB ONE/CD respectable/JJ person/NN !/. '/''\n",
            "Soon/RB her/PRP$ eye/NN fell/VBD on/IN a/DT little/JJ glass/NN box/NN that/WDT was/VBD lying/VBG under/IN the/DT table/NN :/: she/PRP opened/VBD it/PRP ,/, and/CC found/VBD in/IN it/PRP a/DT very/RB small/JJ cake/NN ,/, on/IN which/WDT the/DT words/NNS 'EAT/POS ME/NNP '/POS were/VBD beautifully/RB marked/VBN in/IN currants/NNS ./.\n",
            "'Well/UH ,/, I/PRP 'll/MD eat/VB it/PRP ,/, '/'' said/VBD Alice/NNP ,/, 'and/CD if/IN it/PRP makes/VBZ me/PRP grow/JJ larger/JJR ,/, I/PRP can/MD reach/VB the/DT key/NN ;/: and/CC if/IN it/PRP makes/VBZ me/PRP grow/VB smaller/JJR ,/, I/PRP can/MD creep/VB under/IN the/DT door/NN ;/: so/CC either/DT way/NN I'll/NNP get/VB into/IN the/DT garden/NN ,/, and/CC I/PRP do/VBP n't/RB care/VB which/WDT happens/VBZ !/. '/''\n",
            "She/PRP ate/VBD a/DT little/JJ bit/NN ,/, and/CC said/VBD anxiously/RB to/TO herself/VB ,/, 'Which/VB way/NN ?/.\n",
            "Which/JJ way/NN ?/.\n",
            "'/'' ,/, holding/VBG her/PRP$ hand/NN on/IN the/DT top/NN of/IN her/PRP$ head/NN to/TO feel/VB which/WDT way/NN it/PRP was/VBD growing/VBG ,/, and/CC she/PRP was/VBD quite/RB surprised/JJ to/TO find/VB that/IN she/PRP remained/VBD the/DT same/JJ size/NN :/: to/TO be/VB sure/JJ ,/, this/DT generally/RB happens/VBZ when/WRB one/CD eats/NNS cake/VBP ,/, but/CC Alice/NNP had/VBD got/VBN so/RB much/JJ into/IN the/DT way/NN of/IN expecting/VBG nothing/NN but/CC out-of-the-way/JJ things/NNS to/TO happen/VB ,/, that/IN it/PRP seemed/VBD quite/RB dull/JJ and/CC stupid/JJ for/IN life/NN to/TO go/VB on/IN in/IN the/DT common/JJ way/NN ./.\n",
            "So/RB she/PRP set/VBD to/TO work/VB ,/, and/CC very/RB soon/RB finished/VBD off/RP the/DT cake/NN ./.\n",
            "*/JJ */NNP */NNP */NNP */NNP */NNP */NNP */NNP */NNP */NNP */NNP */NNP */NNP */NNP */NNP */NNP */NNP */NNP */NNP */NNP CHAPTER/NNP II/NNP ./.\n",
            "The/DT Pool/NNP of/IN Tears/NNP 'Curiouser/NNP and/CC curiouser/NN !/. '/''\n",
            "cried/VBN Alice/NNP (/( she/PRP was/VBD so/RB much/JJ surprised/VBN ,/, that/IN for/IN the/DT moment/NN she/PRP quite/RB forgot/VBD how/WRB to/TO speak/VB good/JJ English/NNP )/) ;/: 'now/CC I'm/NNP opening/VBG out/RP like/IN the/DT largest/JJS telescope/NN that/IN ever/RB was/VBD !/.\n",
            "Good-bye/NNP ,/, feet/NNS !/. '/''\n",
            "(/( for/IN when/WRB she/PRP looked/VBD down/RB at/IN her/PRP$ feet/NNS ,/, they/PRP seemed/VBD to/TO be/VB almost/RB out/IN of/IN sight/NN ,/, they/PRP were/VBD getting/VBG so/RB far/RB off/RP )/) ./.\n",
            "'Oh/NN ,/, my/PRP$ poor/JJ little/JJ feet/NNS ,/, I/PRP wonder/VBP who/WP will/MD put/VB on/IN your/PRP$ shoes/NNS and/CC stockings/NNS for/IN you/PRP now/RB ,/, dears/NNS ?/.\n",
            "I/PRP 'm/VBP sure/JJ _I_/NNP sha/NN n't/RB be/VB able/JJ !/.\n",
            "I/PRP shall/MD be/VB a/DT great/JJ deal/NN too/RB far/RB off/IN to/TO trouble/NN myself/PRP about/IN you/PRP :/: you/PRP must/MD manage/VB the/DT best/JJS way/NN you/PRP can/MD ;/: --/: but/CC I/PRP must/MD be/VB kind/NN to/TO them/PRP ,/, '/'' thought/JJ Alice/NNP ,/, 'or/'' perhaps/RB they/PRP wo/MD n't/RB walk/VB the/DT way/NN I/PRP want/VBP to/TO go/VB !/.\n",
            "Let/VB me/PRP see/VB :/: I/PRP 'll/MD give/VB them/PRP a/DT new/JJ pair/NN of/IN boots/NNS every/DT Christmas/NNP ./. '/''\n",
            "And/CC she/PRP went/VBD on/IN planning/NN to/TO herself/VB how/WRB she/PRP would/MD manage/VB it/PRP ./.\n",
            "'They/NN must/MD go/VB by/IN the/DT carrier/NN ,/, '/'' she/PRP thought/VBD ;/: 'and/VB how/WRB funny/JJ it/PRP 'll/MD seem/VB ,/, sending/VBG presents/NNS to/TO one/CD 's/POS own/JJ feet/NNS !/.\n",
            "And/CC how/WRB odd/JJ the/DT directions/NNS will/MD look/VB !/.\n",
            "ALICE/NNP 'S/POS RIGHT/NNP FOOT/NNP ,/, ESQ/NNP ./.\n",
            "HEARTHRUG/NNP ,/, NEAR/NNP THE/NNP FENDER/NNP ,/, (/( WITH/NNP ALICE/NNP 'S/POS LOVE/NNP )/) ./.\n",
            "Oh/UH dear/NN ,/, what/WP nonsense/NN I/PRP 'm/VBP talking/VBG !/. '/''\n",
            "Just/RB then/RB her/PRP$ head/NN struck/NN against/IN the/DT roof/NN of/IN the/DT hall/NN :/: in/IN fact/NN she/PRP was/VBD now/RB more/JJR than/IN nine/CD feet/NNS high/JJ ,/, and/CC she/PRP at/IN once/RB took/VBD up/RP the/DT little/JJ golden/JJ key/NN and/CC hurried/VBD off/IN to/TO the/DT garden/NN door/NN ./.\n",
            "Poor/NNP Alice/NNP !/.\n",
            "It/PRP was/VBD as/RB much/JJ as/IN she/PRP could/MD do/VB ,/, lying/VBG down/RP on/IN one/CD side/NN ,/, to/TO look/VB through/IN into/IN the/DT garden/NN with/IN one/CD eye/NN ;/: but/CC to/TO get/VB through/IN was/VBD more/JJR hopeless/NN than/IN ever/RB :/: she/PRP sat/VBD down/RB and/CC began/VBD to/TO cry/VB again/RB ./.\n",
            "'You/NNS ought/MD to/TO be/VB ashamed/VBN of/IN yourself/PRP ,/, '/'' said/VBD Alice/NNP ,/, '/'' a/DT great/JJ girl/NN like/IN you/PRP ,/, '/'' (/( she/PRP might/MD well/RB say/VB this/DT )/) ,/, 'to/'' go/VBP on/IN crying/VBG in/IN this/DT way/NN !/.\n",
            "Stop/VB this/DT moment/NN ,/, I/PRP tell/VBP you/PRP !/. '/''\n",
            "But/CC she/PRP went/VBD on/IN all/PDT the/DT same/JJ ,/, shedding/VBG gallons/NNS of/IN tears/NNS ,/, until/IN there/EX was/VBD a/DT large/JJ pool/NN all/DT round/VBD her/PRP ,/, about/RB four/CD inches/NNS deep/RB and/CC reaching/VBG half/NN down/RP the/DT hall/NN ./.\n",
            "After/IN a/DT time/NN she/PRP heard/VBD a/DT little/JJ pattering/NN of/IN feet/NNS in/IN the/DT distance/NN ,/, and/CC she/PRP hastily/RB dried/VBD her/PRP eyes/NNS to/TO see/VB what/WP was/VBD coming/VBG ./.\n",
            "It/PRP was/VBD the/DT White/NNP Rabbit/NNP returning/NN ,/, splendidly/RB dressed/VBD ,/, with/IN a/DT pair/NN of/IN white/JJ kid/NN gloves/NNS in/IN one/CD hand/NN and/CC a/DT large/JJ fan/NN in/IN the/DT other/JJ :/: he/PRP came/VBD trotting/VBG along/RB in/IN a/DT great/JJ hurry/NN ,/, muttering/VBG to/TO himself/PRP as/IN he/PRP came/VBD ,/, 'Oh/CD !/.\n",
            "the/DT Duchess/NNP ,/, the/DT Duchess/NN !/.\n",
            "Oh/UH !/.\n",
            "wo/MD n't/RB she/PRP be/VB savage/JJ if/IN I/PRP 've/VBP kept/VBD her/PRP waiting/VBG !/. '/''\n",
            "Alice/NNP felt/VBD so/RB desperate/JJ that/IN she/PRP was/VBD ready/JJ to/TO ask/VB help/NN of/IN any/DT one/CD ;/: so/RB ,/, when/WRB the/DT Rabbit/NNP came/VBD near/IN her/PRP ,/, she/PRP began/VBD ,/, in/IN a/DT low/JJ ,/, timid/JJ voice/NN ,/, 'If/'' you/PRP please/VBP ,/, sir/FW --/: '/'' The/DT Rabbit/NNP started/VBD violently/RB ,/, dropped/VBD the/DT white/JJ kid/NN gloves/NNS and/CC the/DT fan/NN ,/, and/CC skurried/VBD away/RB into/IN the/DT darkness/NN as/RB hard/RB as/IN he/PRP could/MD go/VB ./.\n",
            "Alice/NNP took/VBD up/RP the/DT fan/NN and/CC gloves/NNS ,/, and/CC ,/, as/IN the/DT hall/NN was/VBD very/RB hot/JJ ,/, she/PRP kept/VBD fanning/VBG herself/PRP all/PDT the/DT time/NN she/PRP went/VBD on/IN talking/VBG :/: 'Dear/NN ,/, dear/NN !/.\n",
            "How/WRB queer/NN everything/NN is/VBZ to-day/JJ !/.\n",
            "And/CC yesterday/NN things/NNS went/VBD on/IN just/RB as/IN usual/JJ ./.\n",
            "I/PRP wonder/VBP if/IN I/PRP 've/VBP been/VBN changed/VBN in/IN the/DT night/NN ?/.\n",
            "Let/VB me/PRP think/VB :/: was/VBD I/PRP the/DT same/JJ when/WRB I/PRP got/VBD up/RP this/DT morning/NN ?/.\n",
            "I/PRP almost/RB think/VBP I/PRP can/MD remember/VB feeling/VBG a/DT little/JJ different/JJ ./.\n",
            "But/CC if/IN I/PRP 'm/VBP not/RB the/DT same/JJ ,/, the/DT next/JJ question/NN is/VBZ ,/, Who/WP in/IN the/DT world/NN am/VBP I/PRP ?/.\n",
            "Ah/NNP ,/, THAT/NNP 'S/VBZ the/DT great/JJ puzzle/NN !/. '/''\n",
            "And/CC she/PRP began/VBD thinking/VBG over/IN all/PDT the/DT children/NNS she/PRP knew/VBD that/IN were/VBD of/IN the/DT same/JJ age/NN as/IN herself/NN ,/, to/TO see/VB if/IN she/PRP could/MD have/VB been/VBN changed/VBN for/IN any/DT of/IN them/PRP ./.\n",
            "'/POS I/PRP 'm/VBP sure/JJ I/PRP 'm/VBP not/RB Ada/NNP ,/, '/'' she/PRP said/VBD ,/, 'for/VBD her/PRP$ hair/NN goes/VBZ in/IN such/JJ long/JJ ringlets/NNS ,/, and/CC mine/NN does/VBZ n't/RB go/VB in/IN ringlets/NNS at/IN all/DT ;/: and/CC I/PRP 'm/VBP sure/JJ I/PRP can't/VBP be/VB Mabel/NNP ,/, for/IN I/PRP know/VBP all/DT sorts/NNS of/IN things/NNS ,/, and/CC she/PRP ,/, oh/UH !/.\n",
            "she/PRP knows/VBZ such/PDT a/DT very/RB little/JJ !/.\n",
            "Besides/IN ,/, SHE/NNP 'S/POS she/PRP ,/, and/CC I/PRP 'm/VBP I/PRP ,/, and/CC --/: oh/JJ dear/NN ,/, how/WRB puzzling/VBG it/PRP all/DT is/VBZ !/.\n",
            "I/PRP 'll/MD try/VB if/IN I/PRP know/VBP all/PDT the/DT things/NNS I/PRP used/VBD to/TO know/VB ./.\n",
            "Let/VB me/PRP see/VB :/: four/CD times/NNS five/CD is/VBZ twelve/VBN ,/, and/CC four/CD times/NNS six/CD is/VBZ thirteen/JJ ,/, and/CC four/CD times/NNS seven/CD is/VBZ --/: oh/JJ dear/NN !/.\n",
            "I/PRP shall/MD never/RB get/VB to/TO twenty/VB at/IN that/DT rate/NN !/.\n",
            "However/RB ,/, the/DT Multiplication/NNP Table/NNP does/VBZ n't/RB signify/VB :/: let/NN 's/POS try/VB Geography/NNP ./.\n",
            "London/NNP is/VBZ the/DT capital/NN of/IN Paris/NNP ,/, and/CC Paris/NNP is/VBZ the/DT capital/NN of/IN Rome/NNP ,/, and/CC Rome/NNP --/: no/DT ,/, THAT/NNP 'S/VBZ all/DT wrong/JJ ,/, I/PRP 'm/VBP certain/JJ !/.\n",
            "I/PRP must/MD have/VB been/VBN changed/VBN for/IN Mabel/NN !/.\n",
            "I/PRP 'll/MD try/VB and/CC say/VB ``/`` How/WRB doth/VB the/DT little/JJ --/: ''/'' '/POS and/CC she/PRP crossed/VBD her/PRP hands/NNS on/IN her/PRP$ lap/NN as/IN if/IN she/PRP were/VBD saying/VBG lessons/NNS ,/, and/CC began/VBD to/TO repeat/VB it/PRP ,/, but/CC her/PRP$ voice/NN sounded/VBD hoarse/NN and/CC strange/NN ,/, and/CC the/DT words/NNS did/VBD not/RB come/VB the/DT same/JJ as/IN they/PRP used/VBD to/TO do/VB :/: --/: 'How/WRB doth/VBZ the/DT little/JJ crocodile/JJ Improve/VB his/PRP$ shining/VBG tail/NN ,/, And/CC pour/VBP the/DT waters/NNS of/IN the/DT Nile/NNP On/IN every/DT golden/JJ scale/NN !/.\n",
            "'How/WRB cheerfully/RB he/PRP seems/VBZ to/TO grin/VB ,/, How/NNP neatly/RB spread/VBD his/PRP$ claws/NN ,/, And/CC welcome/JJ little/JJ fishes/NNS in/IN With/IN gently/RB smiling/VBG jaws/NN !/. '/''\n",
            "'/POS I/PRP 'm/VBP sure/JJ those/DT are/VBP not/RB the/DT right/NN words/NNS ,/, '/'' said/VBD poor/JJ Alice/NNP ,/, and/CC her/PRP$ eyes/NNS filled/VBN with/IN tears/NNS again/RB as/IN she/PRP went/VBD on/IN ,/, '/'' I/PRP must/MD be/VB Mabel/NNP after/IN all/DT ,/, and/CC I/PRP shall/MD have/VB to/TO go/VB and/CC live/VB in/IN that/DT poky/JJ little/JJ house/NN ,/, and/CC have/VBP next/VBN to/TO no/DT toys/NN to/TO play/VB with/IN ,/, and/CC oh/UH !/.\n",
            "ever/RB so/RB many/JJ lessons/NNS to/TO learn/VB !/.\n",
            "No/DT ,/, I've/NNP made/VBD up/RP my/PRP$ mind/NN about/IN it/PRP ;/: if/IN I/PRP 'm/VBP Mabel/NNP ,/, I/PRP 'll/MD stay/VB down/RB here/RB !/.\n",
            "It/PRP 'll/MD be/VB no/DT use/VB their/PRP$ putting/VBG their/PRP$ heads/NNS down/RB and/CC saying/VBG ``/`` Come/NNP up/RB again/RB ,/, dear/NN !/. ''/''\n",
            "I/PRP shall/MD only/RB look/VB up/RP and/CC say/VB ``/`` Who/WP am/VBP I/PRP then/RB ?/.\n",
            "Tell/VB me/PRP that/IN first/JJ ,/, and/CC then/RB ,/, if/IN I/PRP like/VBP being/VBG that/IN person/NN ,/, I/PRP 'll/MD come/VB up/RP :/: if/IN not/RB ,/, I/PRP 'll/MD stay/VB down/RB here/RB till/VB I/PRP 'm/VBP somebody/NN else/JJ ''/'' --/: but/CC ,/, oh/JJ dear/NN !/. '/''\n",
            "cried/JJ Alice/NNP ,/, with/IN a/DT sudden/JJ burst/NN of/IN tears/NNS ,/, '/'' I/PRP do/VBP wish/JJ they/PRP WOULD/VBP put/VB their/PRP$ heads/NNS down/RP !/.\n",
            "I/PRP am/VBP so/RB VERY/RB tired/JJ of/IN being/VBG all/DT alone/RB here/RB !/. '/''\n",
            "As/IN she/PRP said/VBD this/DT she/PRP looked/VBD down/RB at/IN her/PRP$ hands/NNS ,/, and/CC was/VBD surprised/VBN to/TO see/VB that/IN she/PRP had/VBD put/VBN on/IN one/CD of/IN the/DT Rabbit/NNP 's/POS little/JJ white/JJ kid/NN gloves/NNS while/IN she/PRP was/VBD talking/VBG ./.\n",
            "'How/CD CAN/NNP I/PRP have/VBP done/VBN that/IN ?/. '/''\n",
            "she/PRP thought/VBD ./.\n",
            "'/POS I/PRP must/MD be/VB growing/VBG small/JJ again/RB ./. '/''\n",
            "She/PRP got/VBD up/RB and/CC went/VBD to/TO the/DT table/NN to/TO measure/VB herself/PRP by/IN it/PRP ,/, and/CC found/VBD that/RB ,/, as/RB nearly/RB as/IN she/PRP could/MD guess/VB ,/, she/PRP was/VBD now/RB about/IN two/CD feet/NNS high/JJ ,/, and/CC was/VBD going/VBG on/IN shrinking/VBG rapidly/RB :/: she/PRP soon/RB found/VBD out/RP that/IN the/DT cause/NN of/IN this/DT was/VBD the/DT fan/NN she/PRP was/VBD holding/VBG ,/, and/CC she/PRP dropped/VBD it/PRP hastily/RB ,/, just/RB in/IN time/NN to/TO avoid/VB shrinking/VBG away/RB altogether/RB ./.\n",
            "'That/DT WAS/VBD a/DT narrow/JJ escape/NN !/. '/''\n",
            "said/VBD Alice/NNP ,/, a/DT good/JJ deal/NN frightened/VBN at/IN the/DT sudden/JJ change/NN ,/, but/CC very/RB glad/JJ to/TO find/VB herself/PRP still/RB in/IN existence/NN ;/: 'and/CC now/RB for/IN the/DT garden/NN !/. '/''\n",
            "and/CC she/PRP ran/VBD with/IN all/DT speed/NN back/RB to/TO the/DT little/JJ door/NN :/: but/CC ,/, alas/UH !/.\n",
            "the/DT little/JJ door/NN was/VBD shut/VBN again/RB ,/, and/CC the/DT little/JJ golden/JJ key/NN was/VBD lying/VBG on/IN the/DT glass/NN table/NN as/IN before/RB ,/, 'and/'' things/NNS are/VBP worse/JJR than/IN ever/RB ,/, '/'' thought/VBD the/DT poor/JJ child/NN ,/, 'for/'' I/PRP never/RB was/VBD so/RB small/JJ as/IN this/DT before/IN ,/, never/RB !/.\n",
            "And/CC I/PRP declare/VBP it/PRP 's/VBZ too/RB bad/JJ ,/, that/IN it/PRP is/VBZ !/. '/''\n",
            "As/IN she/PRP said/VBD these/DT words/NNS her/PRP$ foot/NN slipped/VBD ,/, and/CC in/IN another/DT moment/NN ,/, splash/NN !/.\n",
            "she/PRP was/VBD up/RB to/TO her/PRP$ chin/NN in/IN salt/JJ water/NN ./.\n",
            "Her/PRP$ first/JJ idea/NN was/VBD that/IN she/PRP had/VBD somehow/RB fallen/VBN into/IN the/DT sea/NN ,/, 'and/'' in/IN that/DT case/NN I/PRP can/MD go/VB back/RB by/IN railway/NN ,/, '/'' she/PRP said/VBD to/TO herself/PRP ./.\n",
            "(/( Alice/NNP had/VBD been/VBN to/TO the/DT seaside/NN once/RB in/IN her/PRP$ life/NN ,/, and/CC had/VBD come/VBN to/TO the/DT general/JJ conclusion/NN ,/, that/IN wherever/NN you/PRP go/VBP to/TO on/IN the/DT English/NNP coast/NN you/PRP find/VBP a/DT number/NN of/IN bathing/VBG machines/NNS in/IN the/DT sea/NN ,/, some/DT children/NNS digging/VBG in/IN the/DT sand/NN with/IN wooden/JJ spades/NNS ,/, then/RB a/DT row/NN of/IN lodging/VBG houses/NNS ,/, and/CC behind/IN them/PRP a/DT railway/NN station/NN ./. )/)\n",
            "However/RB ,/, she/PRP soon/RB made/VBD out/RP that/IN she/PRP was/VBD in/IN the/DT pool/NN of/IN tears/NNS which/WDT she/PRP had/VBD wept/NN when/WRB she/PRP was/VBD nine/CD feet/NNS high/JJ ./.\n",
            "'/POS I/PRP wish/VBP I/PRP had/VBD n't/RB cried/VBN so/RB much/JJ !/. '/''\n",
            "said/VBD Alice/NNP ,/, as/IN she/PRP swam/VBZ about/RB ,/, trying/VBG to/TO find/VB her/PRP$ way/NN out/IN ./.\n",
            "'/POS I/PRP shall/MD be/VB punished/VBN for/IN it/PRP now/RB ,/, I/PRP suppose/VBP ,/, by/IN being/VBG drowned/VBN in/IN my/PRP$ own/JJ tears/NNS !/.\n",
            "That/DT WILL/MD be/VB a/DT queer/JJ thing/NN ,/, to/TO be/VB sure/JJ !/.\n",
            "However/RB ,/, everything/NN is/VBZ queer/JJ to-day/JJ ./. '/''\n",
            "Just/RB then/RB she/PRP heard/VBD something/NN splashing/VBG about/IN in/IN the/DT pool/NN a/DT little/JJ way/NN off/IN ,/, and/CC she/PRP swam/VBD nearer/NN to/TO make/VB out/RP what/WP it/PRP was/VBD :/: at/IN first/JJ she/PRP thought/VBD it/PRP must/MD be/VB a/DT walrus/NN or/CC hippopotamus/NN ,/, but/CC then/RB she/PRP remembered/VBD how/WRB small/JJ she/PRP was/VBD now/RB ,/, and/CC she/PRP soon/RB made/VBD out/RP that/IN it/PRP was/VBD only/RB a/DT mouse/NN that/WDT had/VBD slipped/VBN in/IN like/IN herself/NN ./.\n",
            "'Would/MD it/PRP be/VB of/IN any/DT use/NN ,/, now/RB ,/, '/'' thought/JJ Alice/NNP ,/, 'to/'' speak/NN to/TO this/DT mouse/NN ?/.\n",
            "Everything/NN is/VBZ so/RB out-of-the-way/JJ down/IN here/RB ,/, that/IN I/PRP should/MD think/VB very/RB likely/JJ it/PRP can/MD talk/VB :/: at/IN any/DT rate/NN ,/, there/EX 's/VBZ no/DT harm/NN in/IN trying/VBG ./. '/''\n",
            "So/RB she/PRP began/VBD :/: '/'' O/NNP Mouse/NNP ,/, do/VBP you/PRP know/VB the/DT way/NN out/IN of/IN this/DT pool/NN ?/.\n",
            "I/PRP am/VBP very/RB tired/JJ of/IN swimming/VBG about/IN here/RB ,/, O/NNP Mouse/NNP !/. '/''\n",
            "(/( Alice/NNP thought/VBD this/DT must/MD be/VB the/DT right/JJ way/NN of/IN speaking/VBG to/TO a/DT mouse/NN :/: she/PRP had/VBD never/RB done/VBN such/PDT a/DT thing/NN before/IN ,/, but/CC she/PRP remembered/VBD having/VBG seen/VBN in/IN her/PRP$ brother/NN 's/POS Latin/NNP Grammar/NNP ,/, '/'' A/NNP mouse/NN --/: of/IN a/DT mouse/NN --/: to/TO a/DT mouse/NN --/: a/DT mouse/NN --/: O/NNP mouse/NN !/. '/'' )/)\n",
            "The/DT Mouse/NNP looked/VBD at/IN her/PRP$ rather/RB inquisitively/RB ,/, and/CC seemed/VBD to/TO her/PRP$ to/TO wink/VB with/IN one/CD of/IN its/PRP$ little/JJ eyes/NNS ,/, but/CC it/PRP said/VBD nothing/NN ./.\n",
            "'Perhaps/NNS it/PRP does/VBZ n't/RB understand/VB English/NNP ,/, '/'' thought/JJ Alice/NNP ;/: '/POS I/PRP daresay/VBP it's/VB a/DT French/JJ mouse/NN ,/, come/VB over/IN with/IN William/NNP the/DT Conqueror/NNP ./. '/''\n",
            "(/( For/IN ,/, with/IN all/DT her/PRP$ knowledge/NN of/IN history/NN ,/, Alice/NNP had/VBD no/DT very/RB clear/JJ notion/NN how/WRB long/JJ ago/RB anything/NN had/VBD happened/VBN ./. )/)\n",
            "So/RB she/PRP began/VBD again/RB :/: 'Ou/CD est/JJS ma/NN chatte/NN ?/. '/''\n",
            "which/WDT was/VBD the/DT first/JJ sentence/NN in/IN her/PRP$ French/JJ lesson-book/NN ./.\n",
            "The/DT Mouse/NNP gave/VBD a/DT sudden/JJ leap/NN out/IN of/IN the/DT water/NN ,/, and/CC seemed/VBD to/TO quiver/VB all/DT over/IN with/IN fright/NN ./.\n",
            "'Oh/CD ,/, I/PRP beg/VBP your/PRP$ pardon/NN !/. '/''\n",
            "cried/JJ Alice/NNP hastily/RB ,/, afraid/VBD that/IN she/PRP had/VBD hurt/VBN the/DT poor/JJ animal/NN 's/POS feelings/NNS ./.\n",
            "'/POS I/PRP quite/VBP forgot/JJ you/PRP did/VBD n't/RB like/IN cats/NNS ./. '/''\n",
            "'Not/NNS like/IN cats/NNS !/. '/''\n",
            "cried/VBD the/DT Mouse/NNP ,/, in/IN a/DT shrill/NN ,/, passionate/JJ voice/NN ./.\n",
            "'Would/MD YOU/VB like/IN cats/NNS if/IN you/PRP were/VBD me/PRP ?/. '/''\n",
            "'Well/UH ,/, perhaps/RB not/RB ,/, '/'' said/VBD Alice/NNP in/IN a/DT soothing/JJ tone/NN :/: 'do/CD n't/RB be/VB angry/JJ about/IN it/PRP ./.\n",
            "And/CC yet/RB I/PRP wish/VBP I/PRP could/MD show/VB you/PRP our/PRP$ cat/JJ Dinah/NNP :/: I/PRP think/VBP you'd/NNS take/VBP a/DT fancy/NN to/TO cats/VB if/IN you/PRP could/MD only/RB see/VB her/PRP ./.\n",
            "She/PRP is/VBZ such/JJ a/DT dear/JJ quiet/JJ thing/NN ,/, '/'' Alice/NNP went/VBD on/IN ,/, half/NN to/TO herself/VB ,/, as/IN she/PRP swam/VBD lazily/RB about/IN in/IN the/DT pool/NN ,/, 'and/CD she/PRP sits/VBZ purring/VBG so/RB nicely/RB by/IN the/DT fire/NN ,/, licking/VBG her/PRP$ paws/NN and/CC washing/VBG her/PRP$ face/NN --/: and/CC she/PRP is/VBZ such/JJ a/DT nice/JJ soft/JJ thing/NN to/TO nurse/VB --/: and/CC she's/VB such/JJ a/DT capital/NN one/CD for/IN catching/VBG mice/NN --/: oh/UH ,/, I/PRP beg/VBP your/PRP$ pardon/NN !/. '/''\n",
            "cried/VBN Alice/NNP again/RB ,/, for/IN this/DT time/NN the/DT Mouse/NNP was/VBD bristling/VBG all/DT over/IN ,/, and/CC she/PRP felt/VBD certain/JJ it/PRP must/MD be/VB really/RB offended/VBN ./.\n",
            "'We/NNS wo/MD n't/RB talk/VB about/IN her/PRP$ any/DT more/JJR if/IN you/PRP 'd/MD rather/RB not/RB ./. '/''\n",
            "'We/NNS indeed/RB !/. '/''\n",
            "cried/VBD the/DT Mouse/NNP ,/, who/WP was/VBD trembling/VBG down/RB to/TO the/DT end/NN of/IN his/PRP$ tail/NN ./.\n",
            "'As/IN if/IN I/PRP would/MD talk/VB on/IN such/PDT a/DT subject/NN !/.\n",
            "Our/PRP$ family/NN always/RB HATED/NNP cats/NNS :/: nasty/JJ ,/, low/JJ ,/, vulgar/JJ things/NNS !/.\n",
            "Do/VBP n't/RB let/VB me/PRP hear/VB the/DT name/NN again/RB !/. '/''\n",
            "'/POS I/PRP wo/MD n't/RB indeed/RB !/. '/''\n",
            "said/VBD Alice/NNP ,/, in/IN a/DT great/JJ hurry/NN to/TO change/VB the/DT subject/NN of/IN conversation/NN ./.\n",
            "'Are/POS you/PRP --/: are/VBP you/PRP fond/VBP --/: of/IN --/: of/IN dogs/NNS ?/. '/''\n",
            "The/DT Mouse/NNP did/VBD not/RB answer/VB ,/, so/IN Alice/NNP went/VBD on/IN eagerly/NN :/: 'There/EX is/VBZ such/JJ a/DT nice/JJ little/JJ dog/NN near/IN our/PRP$ house/NN I/PRP should/MD like/VB to/TO show/VB you/PRP !/.\n",
            "A/DT little/JJ bright-eyed/JJ terrier/NN ,/, you/PRP know/VBP ,/, with/IN oh/UH ,/, such/JJ long/JJ curly/RB brown/JJ hair/NN !/.\n",
            "And/CC it/PRP 'll/MD fetch/VB things/NNS when/WRB you/PRP throw/VBP them/PRP ,/, and/CC it/PRP 'll/MD sit/VB up/RP and/CC beg/VB for/IN its/PRP$ dinner/NN ,/, and/CC all/DT sorts/NNS of/IN things/NNS --/: I/PRP ca/MD n't/RB remember/VB half/NN of/IN them/PRP --/: and/CC it/PRP belongs/VBZ to/TO a/DT farmer/NN ,/, you/PRP know/VBP ,/, and/CC he/PRP says/VBZ it/PRP 's/VBZ so/RB useful/JJ ,/, it/PRP 's/VBZ worth/IN a/DT hundred/JJ pounds/NNS !/.\n",
            "He/PRP says/VBZ it/PRP kills/VBZ all/PDT the/DT rats/NNS and/CC --/: oh/JJ dear/NN !/. '/''\n",
            "cried/JJ Alice/NNP in/IN a/DT sorrowful/JJ tone/NN ,/, '/'' I/PRP 'm/VBP afraid/JJ I/PRP 've/VBP offended/VBN it/PRP again/RB !/. '/''\n",
            "For/IN the/DT Mouse/NNP was/VBD swimming/VBG away/RB from/IN her/PRP$ as/RB hard/JJ as/IN it/PRP could/MD go/VB ,/, and/CC making/VBG quite/RB a/DT commotion/NN in/IN the/DT pool/NN as/IN it/PRP went/VBD ./.\n",
            "So/IN she/PRP called/VBD softly/RB after/IN it/PRP ,/, 'Mouse/'' dear/NN !/.\n",
            "Do/VBP come/VB back/RB again/RB ,/, and/CC we/PRP wo/MD n't/RB talk/VB about/IN cats/NNS or/CC dogs/NNS either/CC ,/, if/IN you/PRP do/VBP n't/RB like/VB them/PRP !/. '/''\n",
            "When/WRB the/DT Mouse/NNP heard/NN this/DT ,/, it/PRP turned/VBD round/NN and/CC swam/NN slowly/RB back/RB to/TO her/PRP$ :/: its/PRP$ face/NN was/VBD quite/RB pale/JJ (/( with/IN passion/NN ,/, Alice/NNP thought/VBD )/) ,/, and/CC it/PRP said/VBD in/IN a/DT low/JJ trembling/NN voice/NN ,/, 'Let/'' us/PRP get/VB to/TO the/DT shore/NN ,/, and/CC then/RB I/PRP 'll/MD tell/VB you/PRP my/PRP$ history/NN ,/, and/CC you/PRP 'll/MD understand/VB why/WRB it/PRP is/VBZ I/PRP hate/VBP cats/NNS and/CC dogs/NNS ./. '/''\n",
            "It/PRP was/VBD high/JJ time/NN to/TO go/VB ,/, for/IN the/DT pool/NN was/VBD getting/VBG quite/RB crowded/VBN with/IN the/DT birds/NNS and/CC animals/NNS that/WDT had/VBD fallen/VBN into/IN it/PRP :/: there/EX were/VBD a/DT Duck/NNP and/CC a/DT Dodo/NNP ,/, a/DT Lory/NNP and/CC an/DT Eaglet/NNP ,/, and/CC several/JJ other/JJ curious/JJ creatures/NNS ./.\n",
            "Alice/NNP led/VBD the/DT way/NN ,/, and/CC the/DT whole/JJ party/NN swam/NN to/TO the/DT shore/NN ./.\n",
            "CHAPTER/NN III/NNP ./.\n",
            "A/DT Caucus-Race/NNP and/CC a/DT Long/JJ Tale/NN They/PRP were/VBD indeed/RB a/DT queer-looking/JJ party/NN that/WDT assembled/VBD on/IN the/DT bank/NN --/: the/DT birds/NNS with/IN draggled/JJ feathers/NNS ,/, the/DT animals/NNS with/IN their/PRP$ fur/NN clinging/VBG close/JJ to/TO them/PRP ,/, and/CC all/DT dripping/VBG wet/NN ,/, cross/NN ,/, and/CC uncomfortable/JJ ./.\n",
            "The/DT first/JJ question/NN of/IN course/NN was/VBD ,/, how/WRB to/TO get/VB dry/JJ again/RB :/: they/PRP had/VBD a/DT consultation/NN about/IN this/DT ,/, and/CC after/IN a/DT few/JJ minutes/NNS it/PRP seemed/VBD quite/RB natural/JJ to/TO Alice/NNP to/TO find/VB herself/PRP talking/VBG familiarly/RB with/IN them/PRP ,/, as/IN if/IN she/PRP had/VBD known/VBN them/PRP all/DT her/PRP$ life/NN ./.\n",
            "Indeed/RB ,/, she/PRP had/VBD quite/RB a/DT long/JJ argument/NN with/IN the/DT Lory/NNP ,/, who/WP at/IN last/JJ turned/JJ sulky/NN ,/, and/CC would/MD only/RB say/VB ,/, '/'' I/PRP am/VBP older/JJR than/IN you/PRP ,/, and/CC must/MD know/VB better/JJR '/POS ;/: and/CC this/DT Alice/NNP would/MD not/RB allow/VB without/IN knowing/VBG how/WRB old/JJ it/PRP was/VBD ,/, and/CC ,/, as/IN the/DT Lory/NNP positively/RB refused/VBD to/TO tell/VB its/PRP$ age/NN ,/, there/EX was/VBD no/DT more/JJR to/TO be/VB said/VBD ./.\n",
            "At/IN last/JJ the/DT Mouse/NNP ,/, who/WP seemed/VBD to/TO be/VB a/DT person/NN of/IN authority/NN among/IN them/PRP ,/, called/VBN out/RP ,/, 'Sit/'' down/RP ,/, all/DT of/IN you/PRP ,/, and/CC listen/VB to/TO me/PRP !/.\n",
            "I/PRP 'LL/VBP soon/RB make/VBP you/PRP dry/JJ enough/RB !/. '/''\n",
            "They/PRP all/DT sat/VBD down/RP at/IN once/RB ,/, in/IN a/DT large/JJ ring/NN ,/, with/IN the/DT Mouse/NNP in/IN the/DT middle/NN ./.\n",
            "Alice/NNP kept/VBD her/PRP$ eyes/NNS anxiously/RB fixed/VBN on/IN it/PRP ,/, for/IN she/PRP felt/VBD sure/JJ she/PRP would/MD catch/VB a/DT bad/JJ cold/NN if/IN she/PRP did/VBD not/RB get/VB dry/JJ very/RB soon/RB ./.\n",
            "'Ahem/RB !/. '/''\n",
            "said/VBD the/DT Mouse/NNP with/IN an/DT important/JJ air/NN ,/, 'are/'' you/PRP all/DT ready/JJ ?/.\n",
            "This/DT is/VBZ the/DT driest/JJ thing/NN I/PRP know/VBP ./.\n",
            "Silence/NNP all/DT round/NN ,/, if/IN you/PRP please/VBP !/.\n",
            "``/`` William/NNP the/DT Conqueror/NNP ,/, whose/WP$ cause/NN was/VBD favoured/VBN by/IN the/DT pope/NN ,/, was/VBD soon/RB submitted/VBN to/TO by/IN the/DT English/NNP ,/, who/WP wanted/VBD leaders/NNS ,/, and/CC had/VBD been/VBN of/IN late/JJ much/JJ accustomed/VBN to/TO usurpation/NN and/CC conquest/NN ./.\n",
            "Edwin/NNP and/CC Morcar/NNP ,/, the/DT earls/NN of/IN Mercia/NNP and/CC Northumbria/NNP --/: ''/'' '/POS 'Ugh/POS !/. '/''\n",
            "said/VBD the/DT Lory/NNP ,/, with/IN a/DT shiver/NN ./.\n",
            "'/POS I/PRP beg/VBP your/PRP$ pardon/NN !/. '/''\n",
            "said/VBD the/DT Mouse/NNP ,/, frowning/NN ,/, but/CC very/RB politely/RB :/: 'Did/CD you/PRP speak/VB ?/. '/''\n",
            "'Not/CD I/PRP !/. '/''\n",
            "said/VBD the/DT Lory/NNP hastily/RB ./.\n",
            "'/POS I/PRP thought/VBD you/PRP did/VBD ,/, '/'' said/VBD the/DT Mouse/NNP ./. '/''\n",
            "--/: I/PRP proceed/VBP ./.\n",
            "``/`` Edwin/NNP and/CC Morcar/NNP ,/, the/DT earls/NN of/IN Mercia/NNP and/CC Northumbria/NNP ,/, declared/VBD for/IN him/PRP :/: and/CC even/RB Stigand/NNP ,/, the/DT patriotic/JJ archbishop/NN of/IN Canterbury/NNP ,/, found/VBD it/PRP advisable/JJ --/: ''/'' '/POS 'Found/IN WHAT/NNP ?/. '/''\n",
            "said/VBD the/DT Duck/NNP ./.\n",
            "'Found/IN IT/NNP ,/, '/'' the/DT Mouse/NNP replied/VBD rather/RB crossly/RB :/: 'of/JJ course/NN you/PRP know/VBP what/WP ''/'' it/PRP ''/'' means/VBZ ./. '/''\n",
            "'/POS I/PRP know/VBP what/WP ``/`` it/PRP ''/'' means/VBZ well/RB enough/RB ,/, when/WRB I/PRP find/VBP a/DT thing/NN ,/, '/'' said/VBD the/DT Duck/NNP :/: 'it/NN 's/POS generally/RB a/DT frog/NN or/CC a/DT worm/NN ./.\n",
            "The/DT question/NN is/VBZ ,/, what/WP did/VBD the/DT archbishop/NN find/VB ?/. '/''\n",
            "The/DT Mouse/NNP did/VBD not/RB notice/VB this/DT question/NN ,/, but/CC hurriedly/RB went/VBD on/IN ,/, '/'' ''/'' --/: found/VBD it/PRP advisable/JJ to/TO go/VB with/IN Edgar/NNP Atheling/NNP to/TO meet/VB William/NNP and/CC offer/VBP him/PRP the/DT crown/NN ./.\n",
            "William/NNP 's/POS conduct/NN at/IN first/JJ was/VBD moderate/JJ ./.\n",
            "But/CC the/DT insolence/NN of/IN his/PRP$ Normans/NNPS --/: ''/'' How/WRB are/VBP you/PRP getting/VBG on/IN now/RB ,/, my/PRP$ dear/JJ ?/. '/''\n",
            "it/PRP continued/VBD ,/, turning/VBG to/TO Alice/NNP as/IN it/PRP spoke/VBD ./.\n",
            "'As/RB wet/NN as/IN ever/RB ,/, '/'' said/VBD Alice/NNP in/IN a/DT melancholy/JJ tone/NN :/: 'it/NN does/VBZ n't/RB seem/VB to/TO dry/VB me/PRP at/IN all/DT ./. '/''\n",
            "'In/NNS that/WDT case/NN ,/, '/'' said/VBD the/DT Dodo/NNP solemnly/RB ,/, rising/VBG to/TO its/PRP$ feet/NNS ,/, '/'' I/PRP move/VBP that/IN the/DT meeting/NN adjourn/NN ,/, for/IN the/DT immediate/JJ adoption/NN of/IN more/RBR energetic/JJ remedies/NNS --/: '/POS 'Speak/JJ English/JJ !/. '/''\n",
            "said/VBD the/DT Eaglet/NNP ./.\n",
            "'/POS I/PRP do/VBP n't/RB know/VB the/DT meaning/NN of/IN half/PDT those/DT long/JJ words/NNS ,/, and/CC ,/, what/WP 's/VBZ more/JJR ,/, I/PRP do/VBP n't/RB believe/VB you/PRP do/VBP either/DT !/. '/''\n",
            "And/CC the/DT Eaglet/NNP bent/VBD down/RP its/PRP$ head/NN to/TO hide/VB a/DT smile/NN :/: some/DT of/IN the/DT other/JJ birds/NNS tittered/VBN audibly/RB ./.\n",
            "'What/IN I/PRP was/VBD going/VBG to/TO say/VB ,/, '/'' said/VBD the/DT Dodo/NNP in/IN an/DT offended/JJ tone/NN ,/, 'was/UH ,/, that/IN the/DT best/JJS thing/NN to/TO get/VB us/PRP dry/VB would/MD be/VB a/DT Caucus-race/NNP ./. '/''\n",
            "'What/DT IS/VBZ a/DT Caucus-race/JJ ?/. '/''\n",
            "said/VBD Alice/NNP ;/: not/RB that/IN she/PRP wanted/VBD much/RB to/TO know/VB ,/, but/CC the/DT Dodo/NNP had/VBD paused/VBN as/IN if/IN it/PRP thought/VBD that/IN SOMEBODY/NNP ought/MD to/TO speak/VB ,/, and/CC no/DT one/NN else/RB seemed/VBD inclined/JJ to/TO say/VB anything/NN ./.\n",
            "'Why/CD ,/, '/'' said/VBD the/DT Dodo/NNP ,/, 'the/'' best/JJS way/NN to/TO explain/VB it/PRP is/VBZ to/TO do/VB it/PRP ./. '/''\n",
            "(/( And/CC ,/, as/IN you/PRP might/MD like/VB to/TO try/VB the/DT thing/NN yourself/PRP ,/, some/DT winter/NN day/NN ,/, I/PRP will/MD tell/VB you/PRP how/WRB the/DT Dodo/NNP managed/VBD it/PRP ./. )/)\n",
            "First/LS it/PRP marked/VBD out/RP a/DT race-course/NN ,/, in/IN a/DT sort/NN of/IN circle/NN ,/, (/( 'the/POS exact/JJ shape/NN does/VBZ n't/RB matter/VB ,/, '/'' it/PRP said/VBD ,/, )/) and/CC then/RB all/PDT the/DT party/NN were/VBD placed/VBN along/IN the/DT course/NN ,/, here/RB and/CC there/RB ./.\n",
            "There/EX was/VBD no/DT 'One/NN ,/, two/CD ,/, three/CD ,/, and/CC away/RB ,/, '/'' but/CC they/PRP began/VBD running/VBG when/WRB they/PRP liked/VBD ,/, and/CC left/VBD off/RP when/WRB they/PRP liked/VBD ,/, so/IN that/IN it/PRP was/VBD not/RB easy/JJ to/TO know/VB when/WRB the/DT race/NN was/VBD over/RB ./.\n",
            "However/RB ,/, when/WRB they/PRP had/VBD been/VBN running/VBG half/PDT an/DT hour/NN or/CC so/RB ,/, and/CC were/VBD quite/RB dry/JJ again/RB ,/, the/DT Dodo/NNP suddenly/RB called/VBD out/RP 'The/JJ race/NN is/VBZ over/IN !/. '/''\n",
            "and/CC they/PRP all/DT crowded/VBD round/NN it/PRP ,/, panting/VBG ,/, and/CC asking/VBG ,/, 'But/'' who/WP has/VBZ won/VBN ?/. '/''\n",
            "This/DT question/NN the/DT Dodo/NNP could/MD not/RB answer/VB without/IN a/DT great/JJ deal/NN of/IN thought/NN ,/, and/CC it/PRP sat/VBD for/IN a/DT long/JJ time/NN with/IN one/CD finger/NN pressed/VBN upon/IN its/PRP$ forehead/NN (/( the/DT position/NN in/IN which/WDT you/PRP usually/RB see/VBP Shakespeare/NNP ,/, in/IN the/DT pictures/NNS of/IN him/PRP )/) ,/, while/IN the/DT rest/NN waited/VBD in/IN silence/NN ./.\n",
            "At/IN last/JJ the/DT Dodo/NNP said/VBD ,/, 'EVERYBODY/PRP has/VBZ won/VBN ,/, and/CC all/DT must/MD have/VB prizes/NNS ./. '/''\n",
            "'But/NNS who/WP is/VBZ to/TO give/VB the/DT prizes/NNS ?/. '/''\n",
            "quite/RB a/DT chorus/NN of/IN voices/NNS asked/VBN ./.\n",
            "'Why/NN ,/, SHE/NNP ,/, of/IN course/NN ,/, '/'' said/VBD the/DT Dodo/NNP ,/, pointing/VBG to/TO Alice/NNP with/IN one/CD finger/NN ;/: and/CC the/DT whole/JJ party/NN at/IN once/RB crowded/VBN round/NN her/PRP ,/, calling/VBG out/RP in/IN a/DT confused/JJ way/NN ,/, 'Prizes/VBZ !/.\n",
            "Prizes/NNS !/. '/''\n",
            "Alice/NNP had/VBD no/DT idea/NN what/WP to/TO do/VB ,/, and/CC in/IN despair/NN she/PRP put/VBD her/PRP hand/NN in/IN her/PRP$ pocket/NN ,/, and/CC pulled/VBD out/RP a/DT box/NN of/IN comfits/NNS ,/, (/( luckily/RB the/DT salt/NN water/NN had/VBD not/RB got/VBN into/IN it/PRP )/) ,/, and/CC handed/VBD them/PRP round/RP as/IN prizes/NNS ./.\n",
            "There/EX was/VBD exactly/RB one/CD a-piece/NN all/DT round/NN ./.\n",
            "'But/POS she/PRP must/MD have/VB a/DT prize/NN herself/PRP ,/, you/PRP know/VBP ,/, '/'' said/VBD the/DT Mouse/NNP ./.\n",
            "'Of/JJ course/NN ,/, '/'' the/DT Dodo/NNP replied/VBD very/RB gravely/RB ./.\n",
            "'What/WP else/RB have/VBP you/PRP got/VBN in/IN your/PRP$ pocket/NN ?/. '/''\n",
            "he/PRP went/VBD on/IN ,/, turning/VBG to/TO Alice/NNP ./.\n",
            "'Only/RB a/DT thimble/JJ ,/, '/'' said/VBD Alice/NNP sadly/RB ./.\n",
            "'Hand/VB it/PRP over/IN here/RB ,/, '/'' said/VBD the/DT Dodo/NNP ./.\n",
            "Then/RB they/PRP all/DT crowded/VBD round/RP her/PRP$ once/RB more/RBR ,/, while/IN the/DT Dodo/NNP solemnly/RB presented/VBD the/DT thimble/JJ ,/, saying/VBG 'We/CD beg/IN your/PRP$ acceptance/NN of/IN this/DT elegant/JJ thimble/JJ '/POS ;/: and/CC ,/, when/WRB it/PRP had/VBD finished/VBN this/DT short/JJ speech/NN ,/, they/PRP all/DT cheered/VBD ./.\n",
            "Alice/NNP thought/VBD the/DT whole/JJ thing/NN very/RB absurd/JJ ,/, but/CC they/PRP all/DT looked/VBD so/RB grave/JJ that/IN she/PRP did/VBD not/RB dare/VB to/TO laugh/NN ;/: and/CC ,/, as/IN she/PRP could/MD not/RB think/VB of/IN anything/NN to/TO say/VB ,/, she/PRP simply/RB bowed/VBD ,/, and/CC took/VBD the/DT thimble/JJ ,/, looking/VBG as/RB solemn/NN as/IN she/PRP could/MD ./.\n",
            "The/DT next/JJ thing/NN was/VBD to/TO eat/VB the/DT comfits/NNS :/: this/DT caused/VBD some/DT noise/NN and/CC confusion/NN ,/, as/IN the/DT large/JJ birds/NNS complained/VBD that/IN they/PRP could/MD not/RB taste/VB theirs/NNS ,/, and/CC the/DT small/JJ ones/NNS choked/VBN and/CC had/VBD to/TO be/VB patted/VBN on/IN the/DT back/NN ./.\n",
            "However/RB ,/, it/PRP was/VBD over/RB at/IN last/JJ ,/, and/CC they/PRP sat/VBD down/RB again/RB in/IN a/DT ring/NN ,/, and/CC begged/VBD the/DT Mouse/NNP to/TO tell/VB them/PRP something/NN more/RBR ./.\n",
            "'You/NNS promised/VBN to/TO tell/VB me/PRP your/PRP$ history/NN ,/, you/PRP know/VBP ,/, '/'' said/VBD Alice/NNP ,/, 'and/CD why/WRB it/PRP is/VBZ you/PRP hate/VBP --/: C/NNP and/CC D/NNP ,/, '/'' she/PRP added/VBD in/IN a/DT whisper/NN ,/, half/NN afraid/VBD that/IN it/PRP would/MD be/VB offended/VBN again/RB ./.\n",
            "'Mine/NN is/VBZ a/DT long/JJ and/CC a/DT sad/JJ tale/NN !/. '/''\n",
            "said/VBD the/DT Mouse/NNP ,/, turning/VBG to/TO Alice/NNP ,/, and/CC sighing/NN ./.\n",
            "'It/NN IS/VBZ a/DT long/JJ tail/NN ,/, certainly/RB ,/, '/'' said/VBD Alice/NNP ,/, looking/VBG down/RP with/IN wonder/NN at/IN the/DT Mouse/NNP 's/POS tail/NN ;/: 'but/CC why/WRB do/VBP you/PRP call/VB it/PRP sad/JJ ?/. '/''\n",
            "And/CC she/PRP kept/VBD on/IN puzzling/VBG about/IN it/PRP while/IN the/DT Mouse/NNP was/VBD speaking/VBG ,/, so/IN that/IN her/PRP$ idea/NN of/IN the/DT tale/NN was/VBD something/NN like/IN this/DT :/: --/: 'Fury/NN said/VBD to/TO a/DT mouse/NN ,/, That/IN he/PRP met/VBD in/IN the/DT house/NN ,/, ``/`` Let/VB us/PRP both/DT go/VBP to/TO law/NN :/: I/PRP will/MD prosecute/VB YOU./NNP --/: Come/NNP ,/, I/PRP 'll/MD take/VB no/DT denial/NN ;/: We/PRP must/MD have/VB a/DT trial/NN :/: For/IN really/RB this/DT morning/NN I've/NNP nothing/NN to/TO do/VB ./. ''/''\n",
            "Said/VBD the/DT mouse/NN to/TO the/DT cur/NN ,/, ``/`` Such/PDT a/DT trial/NN ,/, dear/JJ Sir/NNP ,/, With/IN no/DT jury/NN or/CC judge/NN ,/, would/MD be/VB wasting/VBG our/PRP$ breath/NN ./. ''/''\n",
            "``/`` I/PRP 'll/MD be/VB judge/NN ,/, I'll/NNP be/VB jury/NN ,/, ''/'' Said/NNP cunning/VBG old/JJ Fury/NN :/: ``/`` I'll/NNP try/VB the/DT whole/JJ cause/NN ,/, and/CC condemn/NN you/PRP to/TO death/NN ./. ''/'' '/''\n",
            "'You/NNS are/VBP not/RB attending/VBG !/. '/''\n",
            "said/VBD the/DT Mouse/NNP to/TO Alice/NNP severely/RB ./.\n",
            "'What/WDT are/VBP you/PRP thinking/VBG of/IN ?/. '/''\n",
            "'/POS I/PRP beg/VBP your/PRP$ pardon/NN ,/, '/'' said/VBD Alice/NNP very/RB humbly/RB :/: 'you/NN had/VBD got/VBN to/TO the/DT fifth/JJ bend/NN ,/, I/PRP think/VBP ?/. '/''\n",
            "'/POS I/PRP had/VBD NOT/NNP !/. '/''\n",
            "cried/VBD the/DT Mouse/NNP ,/, sharply/RB and/CC very/RB angrily/RB ./.\n",
            "'/'' A/DT knot/NN !/. '/''\n",
            "said/VBD Alice/NNP ,/, always/RB ready/JJ to/TO make/VB herself/PRP useful/JJ ,/, and/CC looking/VBG anxiously/RB about/IN her/PRP ./.\n",
            "'Oh/NNS ,/, do/VBP let/VB me/PRP help/VB to/TO undo/VB it/PRP !/. '/''\n",
            "'/POS I/PRP shall/MD do/VB nothing/NN of/IN the/DT sort/NN ,/, '/'' said/VBD the/DT Mouse/NNP ,/, getting/VBG up/RP and/CC walking/VBG away/RB ./.\n",
            "'You/POS insult/NN me/PRP by/IN talking/VBG such/JJ nonsense/NN !/. '/''\n",
            "'/POS I/PRP did/VBD n't/RB mean/VB it/PRP !/. '/''\n",
            "pleaded/VBN poor/JJ Alice/NNP ./.\n",
            "'But/IN you/PRP 're/VBP so/RB easily/RB offended/VBN ,/, you/PRP know/VBP !/. '/''\n",
            "The/DT Mouse/NNP only/RB growled/VBD in/IN reply/NN ./.\n",
            "'Please/POS come/VB back/RB and/CC finish/VB your/PRP$ story/NN !/. '/''\n",
            "Alice/NNP called/VBD after/IN it/PRP ;/: and/CC the/DT others/NNS all/DT joined/VBN in/IN chorus/NN ,/, 'Yes/UH ,/, please/VB do/VB !/. '/''\n",
            "but/CC the/DT Mouse/NNP only/RB shook/VBD its/PRP$ head/NN impatiently/RB ,/, and/CC walked/VBD a/DT little/JJ quicker/NN ./.\n",
            "'What/IN a/DT pity/NN it/PRP would/MD n't/RB stay/VB !/. '/''\n",
            "sighed/VBD the/DT Lory/NNP ,/, as/RB soon/RB as/IN it/PRP was/VBD quite/RB out/IN of/IN sight/NN ;/: and/CC an/DT old/JJ Crab/NN took/VBD the/DT opportunity/NN of/IN saying/VBG to/TO her/PRP$ daughter/NN 'Ah/NN ,/, my/PRP$ dear/NN !/.\n",
            "Let/VB this/DT be/VB a/DT lesson/NN to/TO you/PRP never/RB to/TO lose/VB YOUR/NNP temper/NN !/. '/''\n",
            "'Hold/VB your/PRP$ tongue/NN ,/, Ma/NNP !/. '/''\n",
            "said/VBD the/DT young/JJ Crab/NNP ,/, a/DT little/JJ snappishly/NN ./.\n",
            "'You/POS 're/VBP enough/JJ to/TO try/VB the/DT patience/NN of/IN an/DT oyster/NN !/. '/''\n",
            "'/POS I/PRP wish/VBP I/PRP had/VBD our/PRP$ Dinah/NNP here/RB ,/, I/PRP know/VBP I/PRP do/VBP !/. '/''\n",
            "said/VBD Alice/NNP aloud/NN ,/, addressing/VBG nobody/NN in/IN particular/JJ ./.\n",
            "'She/POS 'd/MD soon/RB fetch/VB it/PRP back/RB !/. '/''\n",
            "'And/NNS who/WP is/VBZ Dinah/NNP ,/, if/IN I/PRP might/MD venture/NN to/TO ask/VB the/DT question/NN ?/. '/''\n",
            "said/VBD the/DT Lory/NNP ./.\n",
            "Alice/NNP replied/VBD eagerly/RB ,/, for/IN she/PRP was/VBD always/RB ready/JJ to/TO talk/VB about/IN her/PRP$ pet/NN :/: 'Dinah/NN 's/POS our/PRP$ cat/NN ./.\n",
            "And/CC she/PRP 's/VBZ such/JJ a/DT capital/NN one/CD for/IN catching/VBG mice/NN you/PRP ca/MD n't/RB think/VB !/.\n",
            "And/CC oh/UH ,/, I/PRP wish/VBP you/PRP could/MD see/VB her/PRP$ after/IN the/DT birds/NNS !/.\n",
            "Why/WRB ,/, she/PRP 'll/MD eat/VB a/DT little/JJ bird/NN as/RB soon/RB as/IN look/NN at/IN it/PRP !/. '/''\n",
            "This/DT speech/NN caused/VBD a/DT remarkable/JJ sensation/NN among/IN the/DT party/NN ./.\n",
            "Some/DT of/IN the/DT birds/NNS hurried/VBD off/RP at/IN once/RB :/: one/CD old/JJ Magpie/NNP began/VBD wrapping/VBG itself/PRP up/RP very/RB carefully/RB ,/, remarking/VBG ,/, '/'' I/PRP really/RB must/MD be/VB getting/VBG home/RB ;/: the/DT night-air/NN does/VBZ n't/RB suit/VB my/PRP$ throat/NN !/. '/''\n",
            "and/CC a/DT Canary/NNP called/VBD out/RP in/IN a/DT trembling/JJ voice/NN to/TO its/PRP$ children/NNS ,/, 'Come/'' away/RB ,/, my/PRP$ dears/NNS !/.\n",
            "It/PRP 's/VBZ high/JJ time/NN you/PRP were/VBD all/DT in/IN bed/NN !/. '/''\n",
            "On/IN various/JJ pretexts/NNS they/PRP all/DT moved/VBD off/RP ,/, and/CC Alice/NNP was/VBD soon/RB left/JJ alone/RB ./.\n",
            "'/POS I/PRP wish/VBP I/PRP had/VBD n't/RB mentioned/VBN Dinah/NNP !/. '/''\n",
            "she/PRP said/VBD to/TO herself/VB in/IN a/DT melancholy/JJ tone/NN ./.\n",
            "'Nobody/NN seems/VBZ to/TO like/VB her/PRP ,/, down/RB here/RB ,/, and/CC I/PRP 'm/VBP sure/JJ she/PRP 's/VBZ the/DT best/JJS cat/NN in/IN the/DT world/NN !/.\n",
            "Oh/UH ,/, my/PRP$ dear/JJ Dinah/NNP !/.\n",
            "I/PRP wonder/VBP if/IN I/PRP shall/MD ever/RB see/VB you/PRP any/DT more/JJR !/. '/''\n",
            "And/CC here/RB poor/JJ Alice/NNP began/VBD to/TO cry/VB again/RB ,/, for/IN she/PRP felt/VBD very/RB lonely/RB and/CC low-spirited/JJ ./.\n",
            "In/IN a/DT little/JJ while/NN ,/, however/RB ,/, she/PRP again/RB heard/VBD a/DT little/JJ pattering/NN of/IN footsteps/NNS in/IN the/DT distance/NN ,/, and/CC she/PRP looked/VBD up/RB eagerly/RB ,/, half/NN hoping/VBG that/IN the/DT Mouse/NNP had/VBD changed/VBN his/PRP$ mind/NN ,/, and/CC was/VBD coming/VBG back/RB to/TO finish/VB his/PRP$ story/NN ./.\n",
            "CHAPTER/NN IV/NNP ./.\n",
            "The/DT Rabbit/NNP Sends/NNPS in/IN a/DT Little/JJ Bill/NNP It/PRP was/VBD the/DT White/NNP Rabbit/NNP ,/, trotting/VBG slowly/RB back/RB again/RB ,/, and/CC looking/VBG anxiously/RB about/IN as/IN it/PRP went/VBD ,/, as/IN if/IN it/PRP had/VBD lost/VBN something/NN ;/: and/CC she/PRP heard/VBD it/PRP muttering/VBG to/TO itself/PRP 'The/JJ Duchess/NN !/.\n",
            "The/DT Duchess/NN !/.\n",
            "Oh/UH my/PRP$ dear/JJ paws/NN !/.\n",
            "Oh/UH my/PRP$ fur/NN and/CC whiskers/NNS !/.\n",
            "She/PRP 'll/MD get/VB me/PRP executed/VBN ,/, as/RB sure/JJ as/IN ferrets/NNS are/VBP ferrets/NNS !/.\n",
            "Where/WRB CAN/NNP I/PRP have/VBP dropped/VBN them/PRP ,/, I/PRP wonder/VBP ?/. '/''\n",
            "Alice/NNP guessed/VBD in/IN a/DT moment/NN that/IN it/PRP was/VBD looking/VBG for/IN the/DT fan/NN and/CC the/DT pair/NN of/IN white/JJ kid/NN gloves/NNS ,/, and/CC she/PRP very/RB good-naturedly/RB began/VBD hunting/VBG about/IN for/IN them/PRP ,/, but/CC they/PRP were/VBD nowhere/RB to/TO be/VB seen/VBN --/: everything/NN seemed/VBD to/TO have/VB changed/VBN since/IN her/PRP$ swim/NN in/IN the/DT pool/NN ,/, and/CC the/DT great/JJ hall/NN ,/, with/IN the/DT glass/NN table/NN and/CC the/DT little/JJ door/NN ,/, had/VBD vanished/VBN completely/RB ./.\n",
            "Very/RB soon/RB the/DT Rabbit/NNP noticed/JJ Alice/NNP ,/, as/IN she/PRP went/VBD hunting/VBG about/RB ,/, and/CC called/VBD out/RP to/TO her/PRP$ in/IN an/DT angry/JJ tone/NN ,/, 'Why/'' ,/, Mary/NNP Ann/NNP ,/, what/WP ARE/NNP you/PRP doing/VBG out/RP here/RB ?/.\n",
            "Run/NNP home/NN this/DT moment/NN ,/, and/CC fetch/VB me/PRP a/DT pair/NN of/IN gloves/NNS and/CC a/DT fan/NN !/.\n",
            "Quick/NNP ,/, now/RB !/. '/''\n",
            "And/CC Alice/NNP was/VBD so/RB much/JJ frightened/VBD that/IN she/PRP ran/VBD off/RP at/IN once/RB in/IN the/DT direction/NN it/PRP pointed/VBD to/TO ,/, without/IN trying/VBG to/TO explain/VB the/DT mistake/NN it/PRP had/VBD made/VBN ./.\n",
            "'He/POS took/VBD me/PRP for/IN his/PRP$ housemaid/NN ,/, '/'' she/PRP said/VBD to/TO herself/VB as/IN she/PRP ran/VBD ./.\n",
            "'How/NNS surprised/VBD he/PRP 'll/MD be/VB when/WRB he/PRP finds/VBZ out/RP who/WP I/PRP am/VBP !/.\n",
            "But/CC I/PRP 'd/MD better/VB take/VB him/PRP his/PRP$ fan/NN and/CC gloves/NNS --/: that/DT is/VBZ ,/, if/IN I/PRP can/MD find/VB them/PRP ./. '/''\n",
            "As/IN she/PRP said/VBD this/DT ,/, she/PRP came/VBD upon/IN a/DT neat/JJ little/JJ house/NN ,/, on/IN the/DT door/NN of/IN which/WDT was/VBD a/DT bright/JJ brass/NN plate/NN with/IN the/DT name/NN '/POS W/NNP ./.\n",
            "RABBIT/NNP '/POS engraved/VBN upon/IN it/PRP ./.\n",
            "She/PRP went/VBD in/IN without/IN knocking/NN ,/, and/CC hurried/VBD upstairs/NNS ,/, in/IN great/JJ fear/NN lest/JJS she/PRP should/MD meet/VB the/DT real/JJ Mary/NNP Ann/NNP ,/, and/CC be/VB turned/VBN out/IN of/IN the/DT house/NN before/IN she/PRP had/VBD found/VBN the/DT fan/NN and/CC gloves/NNS ./.\n",
            "'How/CD queer/NN it/PRP seems/VBZ ,/, '/'' Alice/NNP said/VBD to/TO herself/VB ,/, 'to/FW be/VB going/VBG messages/NNS for/IN a/DT rabbit/NN !/.\n",
            "I/PRP suppose/VBP Dinah/NNP 'll/MD be/VB sending/VBG me/PRP on/IN messages/NNS next/IN !/. '/''\n",
            "And/CC she/PRP began/VBD fancying/VBG the/DT sort/NN of/IN thing/NN that/WDT would/MD happen/VB :/: '/'' ''/'' Miss/NNP Alice/NNP !/.\n",
            "Come/NNP here/RB directly/RB ,/, and/CC get/VB ready/JJ for/IN your/PRP$ walk/NN !/. ''/''\n",
            "``/`` Coming/VBG in/IN a/DT minute/NN ,/, nurse/NN !/.\n",
            "But/CC I/PRP 've/VBP got/VBN to/TO see/VB that/IN the/DT mouse/NN does/VBZ n't/RB get/VB out/RP ./. ''/''\n",
            "Only/RB I/PRP don't/VBP think/VB ,/, '/'' Alice/NNP went/VBD on/IN ,/, 'that/IN they/PRP 'd/MD let/VB Dinah/NNP stop/VB in/IN the/DT house/NN if/IN it/PRP began/VBD ordering/VBG people/NNS about/IN like/IN that/DT !/. '/''\n",
            "By/IN this/DT time/NN she/PRP had/VBD found/VBN her/PRP$ way/NN into/IN a/DT tidy/JJ little/JJ room/NN with/IN a/DT table/NN in/IN the/DT window/NN ,/, and/CC on/IN it/PRP (/( as/IN she/PRP had/VBD hoped/VBN )/) a/DT fan/NN and/CC two/CD or/CC three/CD pairs/NNS of/IN tiny/JJ white/JJ kid/NN gloves/NNS :/: she/PRP took/VBD up/RP the/DT fan/NN and/CC a/DT pair/NN of/IN the/DT gloves/NNS ,/, and/CC was/VBD just/RB going/VBG to/TO leave/VB the/DT room/NN ,/, when/WRB her/PRP$ eye/NN fell/VBD upon/IN a/DT little/JJ bottle/NN that/WDT stood/VBD near/IN the/DT looking-glass/NN ./.\n",
            "There/EX was/VBD no/DT label/NN this/DT time/NN with/IN the/DT words/NNS 'DRINK/POS ME/NNP ,/, '/'' but/CC nevertheless/IN she/PRP uncorked/VBD it/PRP and/CC put/VB it/PRP to/TO her/PRP$ lips/NNS ./.\n",
            "'/POS I/PRP know/VBP SOMETHING/VBG interesting/JJ is/VBZ sure/JJ to/TO happen/VB ,/, '/'' she/PRP said/VBD to/TO herself/VB ,/, 'whenever/'' I/PRP eat/VBP or/CC drink/VBP anything/NN ;/: so/CC I/PRP 'll/MD just/RB see/VB what/WP this/DT bottle/NN does/VBZ ./.\n",
            "I/PRP do/VBP hope/VB it/PRP 'll/MD make/VB me/PRP grow/VB large/JJ again/RB ,/, for/IN really/RB I/PRP 'm/VBP quite/RB tired/VBN of/IN being/VBG such/JJ a/DT tiny/JJ little/JJ thing/NN !/. '/''\n",
            "It/PRP did/VBD so/RB indeed/RB ,/, and/CC much/RB sooner/JJR than/IN she/PRP had/VBD expected/VBN :/: before/IN she/PRP had/VBD drunk/VBN half/PDT the/DT bottle/NN ,/, she/PRP found/VBD her/PRP head/NN pressing/VBG against/IN the/DT ceiling/NN ,/, and/CC had/VBD to/TO stoop/VB to/TO save/VB her/PRP$ neck/NN from/IN being/VBG broken/VBN ./.\n",
            "She/PRP hastily/RB put/VBD down/RP the/DT bottle/NN ,/, saying/VBG to/TO herself/VB 'That/WP 's/VBZ quite/RB enough/JJ --/: I/PRP hope/VBP I/PRP shan't/VBP grow/VB any/DT more/JJR --/: As/IN it/PRP is/VBZ ,/, I/PRP ca/MD n't/RB get/VB out/RP at/IN the/DT door/NN --/: I/PRP do/VBP wish/JJ I/PRP hadn't/VBP drunk/JJ quite/RB so/RB much/JJ !/. '/''\n",
            "Alas/UH !/.\n",
            "it/PRP was/VBD too/RB late/JJ to/TO wish/VB that/DT !/.\n",
            "She/PRP went/VBD on/IN growing/NN ,/, and/CC growing/VBG ,/, and/CC very/RB soon/RB had/VBD to/TO kneel/VB down/RP on/IN the/DT floor/NN :/: in/IN another/DT minute/NN there/RB was/VBD not/RB even/RB room/NN for/IN this/DT ,/, and/CC she/PRP tried/VBD the/DT effect/NN of/IN lying/VBG down/RP with/IN one/CD elbow/NN against/IN the/DT door/NN ,/, and/CC the/DT other/JJ arm/NN curled/VBD round/NN her/PRP$ head/NN ./.\n",
            "Still/RB she/PRP went/VBD on/IN growing/NN ,/, and/CC ,/, as/IN a/DT last/JJ resource/NN ,/, she/PRP put/VBD one/CD arm/NN out/IN of/IN the/DT window/NN ,/, and/CC one/CD foot/NN up/IN the/DT chimney/NN ,/, and/CC said/VBD to/TO herself/VB 'Now/CD I/PRP can/MD do/VB no/DT more/RBR ,/, whatever/WDT happens/VBZ ./.\n",
            "What/WP WILL/VBD become/NN of/IN me/PRP ?/. '/''\n",
            "Luckily/RB for/IN Alice/NNP ,/, the/DT little/JJ magic/JJ bottle/NN had/VBD now/RB had/VBN its/PRP$ full/JJ effect/NN ,/, and/CC she/PRP grew/VBD no/DT larger/JJR :/: still/RB it/PRP was/VBD very/RB uncomfortable/JJ ,/, and/CC ,/, as/IN there/RB seemed/VBN to/TO be/VB no/DT sort/NN of/IN chance/NN of/IN her/PRP$ ever/RB getting/VBG out/IN of/IN the/DT room/NN again/RB ,/, no/DT wonder/NN she/PRP felt/VBD unhappy/JJ ./.\n",
            "'It/NN was/VBD much/JJ pleasanter/NN at/IN home/NN ,/, '/'' thought/VBD poor/JJ Alice/NNP ,/, 'when/'' one/CD wasn't/NN always/RB growing/VBG larger/JJR and/CC smaller/JJR ,/, and/CC being/VBG ordered/VBN about/IN by/IN mice/NNS and/CC rabbits/NNS ./.\n",
            "I/PRP almost/RB wish/JJ I/PRP had/VBD n't/RB gone/VBN down/RP that/DT rabbit-hole/JJ --/: and/CC yet/RB --/: and/CC yet/RB --/: it/PRP 's/VBZ rather/RB curious/JJ ,/, you/PRP know/VBP ,/, this/DT sort/NN of/IN life/NN !/.\n",
            "I/PRP do/VBP wonder/VB what/WP CAN/NNP have/VBP happened/VBN to/TO me/PRP !/.\n",
            "When/WRB I/PRP used/VBD to/TO read/VB fairy-tales/NNS ,/, I/PRP fancied/VBD that/IN kind/NN of/IN thing/NN never/RB happened/VBD ,/, and/CC now/RB here/RB I/PRP am/VBP in/IN the/DT middle/NN of/IN one/CD !/.\n",
            "There/EX ought/MD to/TO be/VB a/DT book/NN written/VBN about/IN me/PRP ,/, that/IN there/EX ought/MD !/.\n",
            "And/CC when/WRB I/PRP grow/VBP up/RB ,/, I/PRP 'll/MD write/VB one/CD --/: but/CC I/PRP 'm/VBP grown/JJ up/RB now/RB ,/, '/'' she/PRP added/VBD in/IN a/DT sorrowful/JJ tone/NN ;/: 'at/CC least/JJS there/EX 's/VBZ no/DT room/NN to/TO grow/VB up/RP any/DT more/JJR HERE/NNP ./. '/''\n",
            "'But/CD then/RB ,/, '/'' thought/JJ Alice/NNP ,/, 'shall/'' I/PRP NEVER/NNP get/VBP any/DT older/JJR than/IN I/PRP am/VBP now/RB ?/.\n",
            "That/DT 'll/MD be/VB a/DT comfort/NN ,/, one/CD way/NN --/: never/RB to/TO be/VB an/DT old/JJ woman/NN --/: but/CC then/RB --/: always/RB to/TO have/VB lessons/NNS to/TO learn/VB !/.\n",
            "Oh/UH ,/, I/PRP should/MD n't/RB like/VB THAT/DT !/. '/''\n",
            "'Oh/CD ,/, you/PRP foolish/JJ Alice/NNP !/. '/''\n",
            "she/PRP answered/VBD herself/PRP ./.\n",
            "'How/NNS can/MD you/PRP learn/VB lessons/NNS in/IN here/RB ?/.\n",
            "Why/WRB ,/, there/EX 's/VBZ hardly/RB room/NN for/IN YOU/NNP ,/, and/CC no/DT room/NN at/IN all/DT for/IN any/DT lesson-books/JJ !/. '/''\n",
            "And/CC so/RB she/PRP went/VBD on/IN ,/, taking/VBG first/JJ one/CD side/NN and/CC then/RB the/DT other/JJ ,/, and/CC making/VBG quite/RB a/DT conversation/NN of/IN it/PRP altogether/RB ;/: but/CC after/IN a/DT few/JJ minutes/NNS she/PRP heard/VBD a/DT voice/NN outside/IN ,/, and/CC stopped/VBD to/TO listen/VB ./.\n",
            "'Mary/JJ Ann/NNP !/.\n",
            "Mary/NNP Ann/NNP !/. '/''\n",
            "said/VBD the/DT voice/NN ./.\n",
            "'Fetch/VB me/PRP my/PRP$ gloves/NNS this/DT moment/NN !/. '/''\n",
            "Then/RB came/VBD a/DT little/JJ pattering/NN of/IN feet/NNS on/IN the/DT stairs/NNS ./.\n",
            "Alice/NNP knew/VBD it/PRP was/VBD the/DT Rabbit/NNP coming/VBG to/TO look/VB for/IN her/PRP ,/, and/CC she/PRP trembled/VBD till/NN she/PRP shook/VBD the/DT house/NN ,/, quite/RB forgetting/VBG that/IN she/PRP was/VBD now/RB about/IN a/DT thousand/JJ times/NNS as/RB large/JJ as/IN the/DT Rabbit/NNP ,/, and/CC had/VBD no/DT reason/NN to/TO be/VB afraid/VBN of/IN it/PRP ./.\n",
            "Presently/RB the/DT Rabbit/NN came/VBD up/RB to/TO the/DT door/NN ,/, and/CC tried/VBD to/TO open/VB it/PRP ;/: but/CC ,/, as/IN the/DT door/NN opened/VBD inwards/NNS ,/, and/CC Alice/NNP 's/POS elbow/NN was/VBD pressed/VBN hard/RB against/IN it/PRP ,/, that/IN attempt/NN proved/VBD a/DT failure/NN ./.\n",
            "Alice/NNP heard/VBD it/PRP say/VB to/TO itself/PRP 'Then/VB I'll/NNP go/VB round/NN and/CC get/VB in/IN at/IN the/DT window/NN ./. '/''\n",
            "'THAT/IN you/PRP wo/MD n't/RB '/VB thought/JJ Alice/NNP ,/, and/CC ,/, after/IN waiting/VBG till/NN she/PRP fancied/VBD she/PRP heard/VBD the/DT Rabbit/NNP just/RB under/IN the/DT window/NN ,/, she/PRP suddenly/RB spread/VBD out/RP her/PRP$ hand/NN ,/, and/CC made/VBD a/DT snatch/NN in/IN the/DT air/NN ./.\n",
            "She/PRP did/VBD not/RB get/VB hold/NN of/IN anything/NN ,/, but/CC she/PRP heard/VBD a/DT little/JJ shriek/NN and/CC a/DT fall/NN ,/, and/CC a/DT crash/NN of/IN broken/JJ glass/NN ,/, from/IN which/WDT she/PRP concluded/VBD that/IN it/PRP was/VBD just/RB possible/JJ it/PRP had/VBD fallen/VBN into/IN a/DT cucumber-frame/JJ ,/, or/CC something/NN of/IN the/DT sort/NN ./.\n",
            "Next/JJ came/VBD an/DT angry/JJ voice/NN --/: the/DT Rabbit/NNP 's/POS --/: 'Pat/CD !/.\n",
            "Pat/NN !/.\n",
            "Where/WRB are/VBP you/PRP ?/. '/''\n",
            "And/CC then/RB a/DT voice/NN she/PRP had/VBD never/RB heard/VBN before/IN ,/, 'Sure/NN then/RB I/PRP 'm/VBP here/RB !/.\n",
            "Digging/VBG for/IN apples/NNS ,/, yer/RB honour/NN !/. '/''\n",
            "'Digging/VBG for/IN apples/NNS ,/, indeed/RB !/. '/''\n",
            "said/VBD the/DT Rabbit/NNP angrily/RB ./.\n",
            "'Here/RB !/.\n",
            "Come/NNP and/CC help/VB me/PRP out/IN of/IN THIS/NNP !/. '/''\n",
            "(/( Sounds/NNPS of/IN more/JJR broken/JJ glass/NN ./. )/)\n",
            "'Now/POS tell/VB me/PRP ,/, Pat/NNP ,/, what/WP 's/VBZ that/DT in/IN the/DT window/NN ?/. '/''\n",
            "'Sure/NN ,/, it/PRP 's/VBZ an/DT arm/NN ,/, yer/VB honour/NN !/. '/''\n",
            "(/( He/PRP pronounced/VBD it/PRP 'arrum/NNP ./. '/'' )/)\n",
            "'An/CD arm/NN ,/, you/PRP goose/VBP !/.\n",
            "Who/WP ever/RB saw/VBD one/CD that/WDT size/NN ?/.\n",
            "Why/WRB ,/, it/PRP fills/VBZ the/DT whole/JJ window/NN !/. '/''\n",
            "'Sure/NN ,/, it/PRP does/VBZ ,/, yer/VB honour/NN :/: but/CC it/PRP 's/VBZ an/DT arm/NN for/IN all/DT that/DT ./. '/''\n",
            "'Well/UH ,/, it/PRP 's/VBZ got/VBD no/DT business/NN there/RB ,/, at/IN any/DT rate/NN :/: go/NN and/CC take/VB it/PRP away/RB !/. '/''\n",
            "There/EX was/VBD a/DT long/JJ silence/NN after/IN this/DT ,/, and/CC Alice/NNP could/MD only/RB hear/VB whispers/NNS now/RB and/CC then/RB ;/: such/JJ as/IN ,/, 'Sure/NN ,/, I/PRP do/VBP n't/RB like/VB it/PRP ,/, yer/RB honour/NN ,/, at/IN all/DT ,/, at/IN all/DT !/. '/''\n",
            "'Do/POS as/IN I/PRP tell/VBP you/PRP ,/, you/PRP coward/VBP !/. '/''\n",
            "and/CC at/IN last/JJ she/PRP spread/VBD out/RP her/PRP$ hand/NN again/RB ,/, and/CC made/VBD another/DT snatch/NN in/IN the/DT air/NN ./.\n",
            "This/DT time/NN there/EX were/VBD TWO/NNP little/JJ shrieks/NN ,/, and/CC more/JJR sounds/NNS of/IN broken/JJ glass/NN ./.\n",
            "'What/IN a/DT number/NN of/IN cucumber-frames/NNS there/EX must/MD be/VB !/. '/''\n",
            "thought/JJ Alice/NNP ./.\n",
            "'/POS I/PRP wonder/VBP what/WP they/PRP 'll/MD do/VB next/RB !/.\n",
            "As/IN for/IN pulling/VBG me/PRP out/IN of/IN the/DT window/NN ,/, I/PRP only/RB wish/VBP they/PRP COULD/VBP !/.\n",
            "I'm/NNP sure/NN I/PRP do/VBP n't/RB want/VB to/TO stay/VB in/IN here/RB any/DT longer/RB !/. '/''\n",
            "She/PRP waited/VBD for/IN some/DT time/NN without/IN hearing/VBG anything/NN more/JJR :/: at/IN last/JJ came/VBD a/DT rumbling/NN of/IN little/JJ cartwheels/NNS ,/, and/CC the/DT sound/NN of/IN a/DT good/JJ many/JJ voices/NNS all/DT talking/VBG together/RB :/: she/PRP made/VBD out/RP the/DT words/NNS :/: 'Where/EX 's/VBZ the/DT other/JJ ladder/NN ?/. --/: Why/WRB ,/, I/PRP had/VBD n't/RB to/TO bring/VB but/CC one/CD ;/: Bill/NNP 's/POS got/VBD the/DT other/JJ --/: Bill/IN !/.\n",
            "fetch/NN it/PRP here/RB ,/, lad/JJ !/. --/: Here/RB ,/, put/VBD 'em/PRP up/RP at/IN this/DT corner/NN --/: No/UH ,/, tie/JJ 'em/POS together/RB first/JJ --/: they/PRP do/VBP n't/RB reach/VB half/JJ high/JJ enough/RB yet/RB --/: Oh/UH !/.\n",
            "they'll/NN do/VBP well/RB enough/RB ;/: do/VB n't/RB be/VB particular/JJ --/: Here/RB ,/, Bill/NNP !/.\n",
            "catch/NN hold/NN of/IN this/DT rope/NN --/: Will/MD the/DT roof/NN bear/NN ?/. --/: Mind/IN that/DT loose/JJ slate/NN --/: Oh/UH ,/, it/PRP 's/VBZ coming/VBG down/RP !/.\n",
            "Heads/NNS below/IN !/. '/''\n",
            "(/( a/DT loud/NN crash/NN )/) --/: 'Now/UH ,/, who/WP did/VBD that/IN ?/. --/: It/PRP was/VBD Bill/NNP ,/, I/PRP fancy/VBP --/: Who/WP 's/VBZ to/TO go/VB down/RP the/DT chimney/NN ?/. --/: Nay/NNP ,/, I/PRP sha/VBP n't/RB !/.\n",
            "YOU/RB do/VBP it/PRP !/. --/: That/IN I/PRP wo/MD n't/RB ,/, then/RB !/. --/: Bill/NNP 's/POS to/TO go/VB down/RP --/: Here/RB ,/, Bill/NNP !/.\n",
            "the/DT master/NN says/VBZ you/PRP 're/VBP to/TO go/VB down/RP the/DT chimney/NN !/. '/''\n",
            "'Oh/CD !/.\n",
            "So/RB Bill/NNP 's/POS got/VBD to/TO come/VB down/RP the/DT chimney/NN ,/, has/VBZ he/PRP ?/. '/''\n",
            "said/VBD Alice/NNP to/TO herself/VB ./.\n",
            "'Shy/LS ,/, they/PRP seem/VBP to/TO put/VB everything/NN upon/IN Bill/NNP !/.\n",
            "I/PRP would/MD n't/RB be/VB in/IN Bill/NNP 's/POS place/NN for/IN a/DT good/JJ deal/NN :/: this/DT fireplace/NN is/VBZ narrow/JJ ,/, to/TO be/VB sure/JJ ;/: but/CC I/PRP THINK/VBP I/PRP can/MD kick/VB a/DT little/JJ !/. '/''\n",
            "She/PRP drew/VBD her/PRP foot/NN as/IN far/RB down/IN the/DT chimney/NN as/IN she/PRP could/MD ,/, and/CC waited/VBD till/NN she/PRP heard/VBD a/DT little/JJ animal/NN (/( she/PRP could/MD n't/RB guess/VB of/IN what/WP sort/NN it/PRP was/VBD )/) scratching/NN and/CC scrambling/VBG about/IN in/IN the/DT chimney/NN close/RB above/IN her/PRP$ :/: then/RB ,/, saying/VBG to/TO herself/VB 'This/NNP is/VBZ Bill/NNP ,/, '/'' she/PRP gave/VBD one/CD sharp/JJ kick/NN ,/, and/CC waited/VBD to/TO see/VB what/WP would/MD happen/VB next/RB ./.\n",
            "The/DT first/JJ thing/NN she/PRP heard/VBD was/VBD a/DT general/JJ chorus/NN of/IN 'There/NNP goes/VBZ Bill/NNP !/. '/''\n",
            "then/RB the/DT Rabbit/NNP 's/POS voice/NN along/RB --/: 'Catch/VB him/PRP ,/, you/PRP by/IN the/DT hedge/NN !/. '/''\n",
            "then/RB silence/NN ,/, and/CC then/RB another/DT confusion/NN of/IN voices/NNS --/: 'Hold/VBD up/RP his/PRP$ head/NN --/: Brandy/NNP now/RB --/: Do/VBP n't/RB choke/VB him/PRP --/: How/WRB was/VBD it/PRP ,/, old/JJ fellow/NN ?/.\n",
            "What/WP happened/VBD to/TO you/PRP ?/.\n",
            "Tell/VB us/PRP all/DT about/IN it/PRP !/. '/''\n",
            "Last/JJ came/VBD a/DT little/JJ feeble/JJ ,/, squeaking/JJ voice/NN ,/, (/( 'That/PRP 's/VBZ Bill/NNP ,/, '/'' thought/JJ Alice/NNP ,/, )/) 'Well/UH ,/, I/PRP hardly/RB know/VBP --/: No/DT more/JJR ,/, thank/JJ ye/NN ;/: I/PRP 'm/VBP better/RB now/RB --/: but/CC I'm/NNP a/DT deal/NN too/RB flustered/VBN to/TO tell/VB you/PRP --/: all/DT I/PRP know/VBP is/VBZ ,/, something/NN comes/VBZ at/IN me/PRP like/IN a/DT Jack-in-the-box/NNP ,/, and/CC up/RB I/PRP goes/VBZ like/IN a/DT sky-rocket/NN !/. '/''\n",
            "'So/IN you/PRP did/VBD ,/, old/JJ fellow/NN !/. '/''\n",
            "said/VBD the/DT others/NNS ./.\n",
            "'We/NNS must/MD burn/VB the/DT house/NN down/RP !/. '/''\n",
            "said/VBD the/DT Rabbit/NNP 's/POS voice/NN ;/: and/CC Alice/NNP called/VBD out/RP as/RB loud/JJ as/IN she/PRP could/MD ,/, 'If/VB you/PRP do/VBP ./.\n",
            "I/PRP 'll/MD set/VB Dinah/NNP at/IN you/PRP !/. '/''\n",
            "There/EX was/VBD a/DT dead/JJ silence/NN instantly/RB ,/, and/CC Alice/NNP thought/VBD to/TO herself/VB ,/, '/'' I/PRP wonder/VBP what/WP they/PRP WILL/VBP do/VBP next/RB !/.\n",
            "If/IN they/PRP had/VBD any/DT sense/NN ,/, they/PRP 'd/MD take/VB the/DT roof/NN off/IN ./. '/''\n",
            "After/IN a/DT minute/NN or/CC two/CD ,/, they/PRP began/VBD moving/VBG about/RB again/RB ,/, and/CC Alice/NNP heard/VBD the/DT Rabbit/NNP say/VBP ,/, '/'' A/DT barrowful/NN will/MD do/VB ,/, to/TO begin/VB with/IN ./. '/''\n",
            "'/'' A/DT barrowful/NN of/IN WHAT/NNP ?/. '/''\n",
            "thought/JJ Alice/NNP ;/: but/CC she/PRP had/VBD not/RB long/RB to/TO doubt/VB ,/, for/IN the/DT next/JJ moment/NN a/DT shower/JJR of/IN little/JJ pebbles/NNS came/VBD rattling/VBG in/IN at/IN the/DT window/NN ,/, and/CC some/DT of/IN them/PRP hit/VBD her/PRP in/IN the/DT face/NN ./.\n",
            "'/POS I/PRP 'll/MD put/VB a/DT stop/NN to/TO this/DT ,/, '/'' she/PRP said/VBD to/TO herself/VB ,/, and/CC shouted/VBD out/RP ,/, 'You/'' 'd/MD better/VB not/RB do/VB that/DT again/RB !/. '/''\n",
            "which/WDT produced/VBD another/DT dead/JJ silence/NN ./.\n",
            "Alice/NNP noticed/VBD with/IN some/DT surprise/NN that/IN the/DT pebbles/NNS were/VBD all/DT turning/VBG into/IN little/JJ cakes/NNS as/IN they/PRP lay/VBP on/IN the/DT floor/NN ,/, and/CC a/DT bright/JJ idea/NN came/VBD into/IN her/PRP$ head/NN ./.\n",
            "'If/POS I/PRP eat/VBP one/CD of/IN these/DT cakes/NNS ,/, '/'' she/PRP thought/VBD ,/, 'it/PRP 's/VBZ sure/JJ to/TO make/VB SOME/NNP change/NN in/IN my/PRP$ size/NN ;/: and/CC as/IN it/PRP ca/MD n't/RB possibly/RB make/VB me/PRP larger/JJR ,/, it/PRP must/MD make/VB me/PRP smaller/JJR ,/, I/PRP suppose/VBP ./. '/''\n",
            "So/IN she/PRP swallowed/VBD one/CD of/IN the/DT cakes/NNS ,/, and/CC was/VBD delighted/VBN to/TO find/VB that/IN she/PRP began/VBD shrinking/VBG directly/RB ./.\n",
            "As/RB soon/RB as/IN she/PRP was/VBD small/JJ enough/RB to/TO get/VB through/IN the/DT door/NN ,/, she/PRP ran/VBD out/RB of/IN the/DT house/NN ,/, and/CC found/VBD quite/RB a/DT crowd/NN of/IN little/JJ animals/NNS and/CC birds/NNS waiting/VBG outside/JJ ./.\n",
            "The/DT poor/JJ little/JJ Lizard/NNP ,/, Bill/NNP ,/, was/VBD in/IN the/DT middle/NN ,/, being/VBG held/VBN up/RP by/IN two/CD guinea-pigs/NNS ,/, who/WP were/VBD giving/VBG it/PRP something/NN out/IN of/IN a/DT bottle/NN ./.\n",
            "They/PRP all/DT made/VBD a/DT rush/NN at/IN Alice/NNP the/DT moment/NN she/PRP appeared/VBD ;/: but/CC she/PRP ran/VBD off/RP as/RB hard/RB as/IN she/PRP could/MD ,/, and/CC soon/RB found/VBD herself/PRP safe/JJ in/IN a/DT thick/JJ wood/NN ./.\n",
            "'The/POS first/JJ thing/NN I/PRP 've/VBP got/VBN to/TO do/VB ,/, '/'' said/VBD Alice/NNP to/TO herself/VB ,/, as/IN she/PRP wandered/VBD about/RB in/IN the/DT wood/NN ,/, 'is/'' to/TO grow/VB to/TO my/PRP$ right/JJ size/NN again/RB ;/: and/CC the/DT second/JJ thing/NN is/VBZ to/TO find/VB my/PRP$ way/NN into/IN that/DT lovely/JJ garden/NN ./.\n",
            "I/PRP think/VBP that/DT will/MD be/VB the/DT best/JJS plan/NN ./. '/''\n",
            "It/PRP sounded/VBD an/DT excellent/JJ plan/NN ,/, no/DT doubt/NN ,/, and/CC very/RB neatly/RB and/CC simply/RB arranged/VBD ;/: the/DT only/JJ difficulty/NN was/VBD ,/, that/IN she/PRP had/VBD not/RB the/DT smallest/JJS idea/NN how/WRB to/TO set/VB about/IN it/PRP ;/: and/CC while/IN she/PRP was/VBD peering/VBG about/RB anxiously/RB among/IN the/DT trees/NNS ,/, a/DT little/JJ sharp/JJ bark/NN just/RB over/IN her/PRP$ head/NN made/VBD her/PRP$ look/NN up/RP in/IN a/DT great/JJ hurry/NN ./.\n",
            "An/DT enormous/JJ puppy/NN was/VBD looking/VBG down/RP at/IN her/PRP$ with/IN large/JJ round/NN eyes/NNS ,/, and/CC feebly/RB stretching/VBG out/RP one/CD paw/NN ,/, trying/VBG to/TO touch/VB her/PRP ./.\n",
            "'Poor/POS little/JJ thing/NN !/. '/''\n",
            "said/VBD Alice/NNP ,/, in/IN a/DT coaxing/VBG tone/NN ,/, and/CC she/PRP tried/VBD hard/JJ to/TO whistle/VB to/TO it/PRP ;/: but/CC she/PRP was/VBD terribly/RB frightened/VBN all/PDT the/DT time/NN at/IN the/DT thought/NN that/IN it/PRP might/MD be/VB hungry/JJ ,/, in/IN which/WDT case/NN it/PRP would/MD be/VB very/RB likely/JJ to/TO eat/VB her/PRP$ up/RP in/IN spite/NN of/IN all/DT her/PRP$ coaxing/NN ./.\n",
            "Hardly/RB knowing/VBG what/WP she/PRP did/VBD ,/, she/PRP picked/VBD up/RP a/DT little/JJ bit/NN of/IN stick/NN ,/, and/CC held/VBD it/PRP out/RP to/TO the/DT puppy/JJ ;/: whereupon/IN the/DT puppy/JJ jumped/VBD into/IN the/DT air/NN off/IN all/DT its/PRP$ feet/NNS at/IN once/RB ,/, with/IN a/DT yelp/NN of/IN delight/NN ,/, and/CC rushed/VBD at/IN the/DT stick/NN ,/, and/CC made/VBD believe/NNS to/TO worry/VB it/PRP ;/: then/RB Alice/NNP dodged/VBD behind/IN a/DT great/JJ thistle/NN ,/, to/TO keep/VB herself/PRP from/IN being/VBG run/VBN over/IN ;/: and/CC the/DT moment/NN she/PRP appeared/VBD on/IN the/DT other/JJ side/NN ,/, the/DT puppy/JJ made/VBD another/DT rush/NN at/IN the/DT stick/NN ,/, and/CC tumbled/VBD head/NN over/IN heels/NNS in/IN its/PRP$ hurry/NN to/TO get/VB hold/NN of/IN it/PRP ;/: then/RB Alice/NNP ,/, thinking/VBG it/PRP was/VBD very/RB like/JJ having/VBG a/DT game/NN of/IN play/NN with/IN a/DT cart-horse/NN ,/, and/CC expecting/VBG every/DT moment/NN to/TO be/VB trampled/VBN under/IN its/PRP$ feet/NNS ,/, ran/VBD round/IN the/DT thistle/NN again/RB ;/: then/RB the/DT puppy/JJ began/VBD a/DT series/NN of/IN short/JJ charges/NNS at/IN the/DT stick/NN ,/, running/VBG a/DT very/RB little/JJ way/NN forwards/NNS each/DT time/NN and/CC a/DT long/JJ way/NN back/RB ,/, and/CC barking/VBG hoarsely/RB all/PDT the/DT while/NN ,/, till/NN at/IN last/JJ it/PRP sat/VBD down/RP a/DT good/JJ way/NN off/IN ,/, panting/VBG ,/, with/IN its/PRP$ tongue/NN hanging/VBG out/IN of/IN its/PRP$ mouth/NN ,/, and/CC its/PRP$ great/JJ eyes/NNS half/NN shut/NN ./.\n",
            "This/DT seemed/VBD to/TO Alice/VB a/DT good/JJ opportunity/NN for/IN making/VBG her/PRP$ escape/NN ;/: so/CC she/PRP set/VBD off/RP at/IN once/RB ,/, and/CC ran/VBD till/NN she/PRP was/VBD quite/RB tired/JJ and/CC out/IN of/IN breath/NN ,/, and/CC till/VB the/DT puppy/NN 's/POS bark/NN sounded/VBD quite/RB faint/NN in/IN the/DT distance/NN ./.\n",
            "'And/POS yet/RB what/WP a/DT dear/JJ little/JJ puppy/JJ it/PRP was/VBD !/. '/''\n",
            "said/VBD Alice/NNP ,/, as/IN she/PRP leant/VBZ against/IN a/DT buttercup/NN to/TO rest/VB herself/PRP ,/, and/CC fanned/VBD herself/PRP with/IN one/CD of/IN the/DT leaves/NNS :/: '/POS I/PRP should/MD have/VB liked/VBN teaching/VBG it/PRP tricks/VBZ very/RB much/JJ ,/, if/IN --/: if/IN I'd/NNP only/RB been/VBN the/DT right/JJ size/NN to/TO do/VB it/PRP !/.\n",
            "Oh/UH dear/NN !/.\n",
            "I/PRP 'd/MD nearly/RB forgotten/VB that/IN I/PRP 've/VBP got/VBN to/TO grow/VB up/RP again/RB !/.\n",
            "Let/VB me/PRP see/VB --/: how/WRB IS/VBZ it/PRP to/TO be/VB managed/VBN ?/.\n",
            "I/PRP suppose/VBP I/PRP ought/MD to/TO eat/VB or/CC drink/VB something/NN or/CC other/JJ ;/: but/CC the/DT great/JJ question/NN is/VBZ ,/, what/WP ?/. '/''\n",
            "The/DT great/JJ question/NN certainly/RB was/VBD ,/, what/WP ?/.\n",
            "Alice/NNP looked/VBD all/DT round/NN her/PRP at/IN the/DT flowers/NNS and/CC the/DT blades/NNS of/IN grass/NN ,/, but/CC she/PRP did/VBD not/RB see/VB anything/NN that/IN looked/VBD like/IN the/DT right/JJ thing/NN to/TO eat/VB or/CC drink/VB under/IN the/DT circumstances/NNS ./.\n",
            "There/EX was/VBD a/DT large/JJ mushroom/NN growing/VBG near/IN her/PRP ,/, about/IN the/DT same/JJ height/NN as/IN herself/NN ;/: and/CC when/WRB she/PRP had/VBD looked/VBN under/IN it/PRP ,/, and/CC on/IN both/DT sides/NNS of/IN it/PRP ,/, and/CC behind/IN it/PRP ,/, it/PRP occurred/VBD to/TO her/PRP$ that/IN she/PRP might/MD as/RB well/RB look/NN and/CC see/VB what/WP was/VBD on/IN the/DT top/NN of/IN it/PRP ./.\n",
            "She/PRP stretched/VBD herself/PRP up/RP on/IN tiptoe/NN ,/, and/CC peeped/VBD over/IN the/DT edge/NN of/IN the/DT mushroom/NN ,/, and/CC her/PRP$ eyes/NNS immediately/RB met/VBD those/DT of/IN a/DT large/JJ caterpillar/NN ,/, that/WDT was/VBD sitting/VBG on/IN the/DT top/JJ with/IN its/PRP$ arms/NNS folded/VBN ,/, quietly/RB smoking/VBG a/DT long/JJ hookah/NN ,/, and/CC taking/VBG not/RB the/DT smallest/JJS notice/NN of/IN her/PRP$ or/CC of/IN anything/NN else/RB ./.\n",
            "CHAPTER/NN V./NNP Advice/NNP from/IN a/DT Caterpillar/NNP The/DT Caterpillar/NNP and/CC Alice/NNP looked/VBD at/IN each/DT other/JJ for/IN some/DT time/NN in/IN silence/NN :/: at/IN last/JJ the/DT Caterpillar/NNP took/VBD the/DT hookah/NN out/IN of/IN its/PRP$ mouth/NN ,/, and/CC addressed/VBD her/PRP$ in/IN a/DT languid/NN ,/, sleepy/JJ voice/NN ./.\n",
            "'Who/NNS are/VBP YOU/NNP ?/. '/''\n",
            "said/VBD the/DT Caterpillar/NNP ./.\n",
            "This/DT was/VBD not/RB an/DT encouraging/JJ opening/NN for/IN a/DT conversation/NN ./.\n",
            "Alice/NNP replied/VBD ,/, rather/RB shyly/NN ,/, '/'' I/PRP --/: I/PRP hardly/RB know/VBP ,/, sir/JJ ,/, just/RB at/IN present/JJ --/: at/IN least/JJS I/PRP know/VBP who/WP I/PRP WAS/VBP when/WRB I/PRP got/VBD up/RP this/DT morning/NN ,/, but/CC I/PRP think/VBP I/PRP must/MD have/VB been/VBN changed/VBN several/JJ times/NNS since/IN then/RB ./. '/''\n",
            "'What/WDT do/VBP you/PRP mean/VB by/IN that/DT ?/. '/''\n",
            "said/VBD the/DT Caterpillar/NNP sternly/RB ./.\n",
            "'Explain/VB yourself/PRP !/. '/''\n",
            "'/POS I/PRP ca/MD n't/RB explain/VB MYSELF/NNP ,/, I/PRP 'm/VBP afraid/JJ ,/, sir/NN '/'' said/VBD Alice/NNP ,/, 'because/IN I/PRP 'm/VBP not/RB myself/PRP ,/, you/PRP see/VBP ./. '/''\n",
            "'/POS I/PRP do/VBP n't/RB see/VB ,/, '/'' said/VBD the/DT Caterpillar/NNP ./.\n",
            "'/POS I/PRP 'm/VBP afraid/JJ I/PRP ca/MD n't/RB put/VB it/PRP more/RBR clearly/RB ,/, '/'' Alice/NNP replied/VBD very/RB politely/RB ,/, 'for/'' I/PRP ca/MD n't/RB understand/VB it/PRP myself/PRP to/TO begin/VB with/IN ;/: and/CC being/VBG so/RB many/JJ different/JJ sizes/NNS in/IN a/DT day/NN is/VBZ very/RB confusing/JJ ./. '/''\n",
            "'It/NN is/VBZ n't/RB ,/, '/'' said/VBD the/DT Caterpillar/NNP ./.\n",
            "'Well/UH ,/, perhaps/RB you/PRP have/VBP n't/RB found/VBN it/PRP so/RB yet/RB ,/, '/'' said/VBD Alice/NNP ;/: 'but/POS when/WRB you/PRP have/VBP to/TO turn/VB into/IN a/DT chrysalis/NN --/: you/PRP will/MD some/DT day/NN ,/, you/PRP know/VBP --/: and/CC then/RB after/IN that/DT into/IN a/DT butterfly/NN ,/, I/PRP should/MD think/VB you/PRP 'll/MD feel/VB it/PRP a/DT little/JJ queer/NN ,/, wo/MD n't/RB you/PRP ?/. '/''\n",
            "'Not/VB a/DT bit/NN ,/, '/'' said/VBD the/DT Caterpillar/NNP ./.\n",
            "'Well/UH ,/, perhaps/RB your/PRP$ feelings/NNS may/MD be/VB different/JJ ,/, '/'' said/VBD Alice/NNP ;/: 'all/CD I/PRP know/VBP is/VBZ ,/, it/PRP would/MD feel/VB very/RB queer/RB to/TO ME/NNP ./. '/''\n",
            "'You/RB !/. '/''\n",
            "said/VBD the/DT Caterpillar/NNP contemptuously/RB ./.\n",
            "'Who/NNS are/VBP YOU/NNP ?/. '/''\n",
            "Which/WDT brought/VBD them/PRP back/RB again/RB to/TO the/DT beginning/NN of/IN the/DT conversation/NN ./.\n",
            "Alice/NNP felt/VBD a/DT little/JJ irritated/JJ at/IN the/DT Caterpillar/NNP 's/POS making/VBG such/JJ VERY/NNP short/JJ remarks/NNS ,/, and/CC she/PRP drew/VBD herself/PRP up/RP and/CC said/VBD ,/, very/RB gravely/RB ,/, '/'' I/PRP think/VBP ,/, you/PRP ought/MD to/TO tell/VB me/PRP who/WP YOU/PRP are/VBP ,/, first/RB ./. '/''\n",
            "'Why/RB ?/. '/''\n",
            "said/VBD the/DT Caterpillar/NNP ./.\n",
            "Here/RB was/VBD another/DT puzzling/JJ question/NN ;/: and/CC as/IN Alice/NNP could/MD not/RB think/VB of/IN any/DT good/JJ reason/NN ,/, and/CC as/IN the/DT Caterpillar/NNP seemed/VBD to/TO be/VB in/IN a/DT VERY/NNP unpleasant/JJ state/NN of/IN mind/NN ,/, she/PRP turned/VBD away/RB ./.\n",
            "'Come/POS back/RB !/. '/''\n",
            "the/DT Caterpillar/NNP called/VBD after/IN her/PRP ./.\n",
            "'/POS I/PRP 've/VBP something/NN important/JJ to/TO say/VB !/. '/''\n",
            "This/DT sounded/VBD promising/NN ,/, certainly/RB :/: Alice/NNP turned/VBD and/CC came/VBD back/RB again/RB ./.\n",
            "'Keep/VB your/PRP$ temper/NN ,/, '/'' said/VBD the/DT Caterpillar/NNP ./.\n",
            "'Is/NNS that/IN all/DT ?/. '/''\n",
            "said/VBD Alice/NNP ,/, swallowing/VBG down/RP her/PRP$ anger/NN as/RB well/RB as/IN she/PRP could/MD ./.\n",
            "'No/CD ,/, '/'' said/VBD the/DT Caterpillar/NNP ./.\n",
            "Alice/NNP thought/VBD she/PRP might/MD as/RB well/RB wait/RB ,/, as/IN she/PRP had/VBD nothing/NN else/RB to/TO do/VB ,/, and/CC perhaps/RB after/IN all/DT it/PRP might/MD tell/VB her/PRP$ something/NN worth/JJ hearing/NN ./.\n",
            "For/IN some/DT minutes/NNS it/PRP puffed/VBD away/RB without/IN speaking/NN ,/, but/CC at/IN last/JJ it/PRP unfolded/VBD its/PRP$ arms/NNS ,/, took/VBD the/DT hookah/NN out/IN of/IN its/PRP$ mouth/NN again/RB ,/, and/CC said/VBD ,/, 'So/'' you/PRP think/VBP you/PRP 're/VBP changed/VBN ,/, do/VB you/PRP ?/. '/''\n",
            "'/POS I/PRP 'm/VBP afraid/JJ I/PRP am/VBP ,/, sir/NN ,/, '/'' said/VBD Alice/NNP ;/: '/POS I/PRP ca/MD n't/RB remember/VB things/NNS as/IN I/PRP used/VBD --/: and/CC I/PRP do/VBP n't/RB keep/VB the/DT same/JJ size/NN for/IN ten/NN minutes/NNS together/RB !/. '/''\n",
            "'Ca/CD n't/RB remember/VB WHAT/NNP things/NNS ?/. '/''\n",
            "said/VBD the/DT Caterpillar/NNP ./.\n",
            "'Well/UH ,/, I/PRP 've/VBP tried/VBN to/TO say/VB ``/`` HOW/NNP DOTH/NNP THE/NNP LITTLE/NNP BUSY/NNP BEE/NNP ,/, ''/'' but/CC it/PRP all/DT came/VBD different/JJ !/. '/''\n",
            "Alice/NNP replied/VBD in/IN a/DT very/RB melancholy/JJ voice/NN ./.\n",
            "'Repeat/NN ,/, ``/`` YOU/NN ARE/VBP OLD/NNP ,/, FATHER/NNP WILLIAM/NNP ,/, ''/'' '/'' said/VBD the/DT Caterpillar/NNP ./.\n",
            "Alice/NNP folded/VBD her/PRP$ hands/NNS ,/, and/CC began/VBD :/: --/: 'You/NNS are/VBP old/JJ ,/, Father/NNP William/NNP ,/, '/'' the/DT young/JJ man/NN said/VBD ,/, 'And/'' your/PRP$ hair/NN has/VBZ become/VBN very/RB white/JJ ;/: And/CC yet/RB you/PRP incessantly/RB stand/VBP on/IN your/PRP$ head/NN --/: Do/VBP you/PRP think/VB ,/, at/IN your/PRP$ age/NN ,/, it/PRP is/VBZ right/JJ ?/. '/''\n",
            "'In/POS my/PRP$ youth/NN ,/, '/'' Father/NNP William/NNP replied/VBD to/TO his/PRP$ son/NN ,/, '/'' I/PRP feared/VBD it/PRP might/MD injure/VB the/DT brain/NN ;/: But/CC ,/, now/RB that/IN I/PRP 'm/VBP perfectly/RB sure/JJ I/PRP have/VBP none/NN ,/, Why/WRB ,/, I/PRP do/VBP it/PRP again/RB and/CC again/RB ./. '/''\n",
            "'You/NNS are/VBP old/JJ ,/, '/'' said/VBD the/DT youth/NN ,/, 'as/'' I/PRP mentioned/VBD before/IN ,/, And/CC have/VBP grown/VBN most/JJS uncommonly/JJ fat/NN ;/: Yet/CC you/PRP turned/VBD a/DT back-somersault/NN in/IN at/IN the/DT door/NN --/: Pray/NNP ,/, what/WP is/VBZ the/DT reason/NN of/IN that/DT ?/. '/''\n",
            "'In/POS my/PRP$ youth/NN ,/, '/'' said/VBD the/DT sage/NN ,/, as/IN he/PRP shook/VBD his/PRP$ grey/NN locks/NNS ,/, '/'' I/PRP kept/VBD all/DT my/PRP$ limbs/NNS very/RB supple/JJ By/IN the/DT use/NN of/IN this/DT ointment/NN --/: one/CD shilling/VBG the/DT box/NN --/: Allow/VB me/PRP to/TO sell/VB you/PRP a/DT couple/NN ?/. '/''\n",
            "'You/NNS are/VBP old/JJ ,/, '/'' said/VBD the/DT youth/NN ,/, 'and/VB your/PRP$ jaws/NNS are/VBP too/RB weak/JJ For/IN anything/NN tougher/JJR than/IN suet/NN ;/: Yet/CC you/PRP finished/VBD the/DT goose/NN ,/, with/IN the/DT bones/NNS and/CC the/DT beak/NN --/: Pray/NNP how/WRB did/VBD you/PRP manage/VB to/TO do/VB it/PRP ?/. '/''\n",
            "'In/POS my/PRP$ youth/NN ,/, '/'' said/VBD his/PRP$ father/NN ,/, '/'' I/PRP took/VBD to/TO the/DT law/NN ,/, And/CC argued/VBD each/DT case/NN with/IN my/PRP$ wife/NN ;/: And/CC the/DT muscular/JJ strength/NN ,/, which/WDT it/PRP gave/VBD to/TO my/PRP$ jaw/NN ,/, Has/NNP lasted/VBN the/DT rest/NN of/IN my/PRP$ life/NN ./. '/''\n",
            "'You/NNS are/VBP old/JJ ,/, '/'' said/VBD the/DT youth/NN ,/, 'one/CD would/MD hardly/RB suppose/VB That/IN your/PRP$ eye/NN was/VBD as/RB steady/JJ as/IN ever/RB ;/: Yet/CC you/PRP balanced/VBD an/DT eel/NN on/IN the/DT end/NN of/IN your/PRP$ nose/NN --/: What/WP made/VBD you/PRP so/RB awfully/RB clever/VB ?/. '/''\n",
            "'/POS I/PRP have/VBP answered/VBN three/CD questions/NNS ,/, and/CC that/DT is/VBZ enough/JJ ,/, '/'' Said/NNP his/PRP$ father/NN ;/: 'do/CC n't/RB give/VB yourself/PRP airs/RB !/.\n",
            "Do/VBP you/PRP think/VB I/PRP can/MD listen/VB all/DT day/NN to/TO such/JJ stuff/NN ?/.\n",
            "Be/VB off/RP ,/, or/CC I/PRP 'll/MD kick/VB you/PRP down/RP stairs/RB !/. '/''\n",
            "'That/DT is/VBZ not/RB said/VBD right/JJ ,/, '/'' said/VBD the/DT Caterpillar/NNP ./.\n",
            "'Not/CD QUITE/NNP right/NN ,/, I/PRP 'm/VBP afraid/JJ ,/, '/'' said/VBD Alice/NNP ,/, timidly/RB ;/: 'some/CD of/IN the/DT words/NNS have/VBP got/VBN altered/VBN ./. '/''\n",
            "'It/NN is/VBZ wrong/JJ from/IN beginning/VBG to/TO end/VB ,/, '/'' said/VBD the/DT Caterpillar/NNP decidedly/RB ,/, and/CC there/RB was/VBD silence/NN for/IN some/DT minutes/NNS ./.\n",
            "The/DT Caterpillar/NNP was/VBD the/DT first/JJ to/TO speak/VB ./.\n",
            "'What/DT size/NN do/VBP you/PRP want/VB to/TO be/VB ?/. '/''\n",
            "it/PRP asked/VBD ./.\n",
            "'Oh/CD ,/, I/PRP 'm/VBP not/RB particular/JJ as/IN to/TO size/NN ,/, '/'' Alice/NNP hastily/RB replied/VBD ;/: 'only/RB one/NN does/VBZ n't/RB like/VB changing/VBG so/RB often/RB ,/, you/PRP know/VBP ./. '/''\n",
            "'/POS I/PRP DO/VBP N'T/RB know/VB ,/, '/'' said/VBD the/DT Caterpillar/NNP ./.\n",
            "Alice/NNP said/VBD nothing/NN :/: she/PRP had/VBD never/RB been/VBN so/RB much/JJ contradicted/VBN in/IN her/PRP$ life/NN before/IN ,/, and/CC she/PRP felt/VBD that/IN she/PRP was/VBD losing/VBG her/PRP$ temper/NN ./.\n",
            "'Are/IN you/PRP content/VBP now/RB ?/. '/''\n",
            "said/VBD the/DT Caterpillar/NNP ./.\n",
            "'Well/UH ,/, I/PRP should/MD like/VB to/TO be/VB a/DT LITTLE/NNP larger/JJR ,/, sir/NN ,/, if/IN you/PRP would/MD n't/RB mind/VB ,/, '/'' said/VBD Alice/NNP :/: 'three/CD inches/NNS is/VBZ such/JJ a/DT wretched/JJ height/NN to/TO be/VB ./. '/''\n",
            "'It/NN is/VBZ a/DT very/RB good/JJ height/NN indeed/RB !/. '/''\n",
            "said/VBD the/DT Caterpillar/NNP angrily/RB ,/, rearing/VBG itself/PRP upright/JJ as/IN it/PRP spoke/VBD (/( it/PRP was/VBD exactly/RB three/CD inches/NNS high/JJ )/) ./.\n",
            "'But/POS I/PRP 'm/VBP not/RB used/VBN to/TO it/PRP !/. '/''\n",
            "pleaded/VBN poor/JJ Alice/NNP in/IN a/DT piteous/JJ tone/NN ./.\n",
            "And/CC she/PRP thought/VBD of/IN herself/PRP ,/, '/'' I/PRP wish/VBP the/DT creatures/NNS would/MD n't/RB be/VB so/RB easily/RB offended/JJ !/. '/''\n",
            "'You/POS 'll/MD get/VB used/VBN to/TO it/PRP in/IN time/NN ,/, '/'' said/VBD the/DT Caterpillar/NNP ;/: and/CC it/PRP put/VBD the/DT hookah/NN into/IN its/PRP$ mouth/NN and/CC began/VBD smoking/VBG again/RB ./.\n",
            "This/DT time/NN Alice/NNP waited/VBD patiently/RB until/IN it/PRP chose/VBD to/TO speak/VB again/RB ./.\n",
            "In/IN a/DT minute/NN or/CC two/CD the/DT Caterpillar/NNP took/VBD the/DT hookah/NN out/IN of/IN its/PRP$ mouth/NN and/CC yawned/VBN once/RB or/CC twice/RB ,/, and/CC shook/VBD itself/PRP ./.\n",
            "Then/RB it/PRP got/VBD down/RB off/IN the/DT mushroom/NN ,/, and/CC crawled/VBD away/RB in/IN the/DT grass/NN ,/, merely/RB remarking/VBG as/IN it/PRP went/VBD ,/, 'One/'' side/NN will/MD make/VB you/PRP grow/VB taller/NN ,/, and/CC the/DT other/JJ side/NN will/MD make/VB you/PRP grow/VB shorter/JJR ./. '/''\n",
            "'One/JJ side/NN of/IN WHAT/WP ?/.\n",
            "The/DT other/JJ side/NN of/IN WHAT/NNP ?/. '/''\n",
            "thought/VBN Alice/NNP to/TO herself/VB ./.\n",
            "'Of/'' the/DT mushroom/NN ,/, '/'' said/VBD the/DT Caterpillar/NNP ,/, just/RB as/IN if/IN she/PRP had/VBD asked/VBN it/PRP aloud/RB ;/: and/CC in/IN another/DT moment/NN it/PRP was/VBD out/IN of/IN sight/NN ./.\n",
            "Alice/NNP remained/VBD looking/VBG thoughtfully/RB at/IN the/DT mushroom/NN for/IN a/DT minute/NN ,/, trying/VBG to/TO make/VB out/RP which/WDT were/VBD the/DT two/CD sides/NNS of/IN it/PRP ;/: and/CC as/IN it/PRP was/VBD perfectly/RB round/VBN ,/, she/PRP found/VBD this/DT a/DT very/RB difficult/JJ question/NN ./.\n",
            "However/RB ,/, at/IN last/JJ she/PRP stretched/VBD her/PRP arms/NNS round/VBP it/PRP as/RB far/RB as/IN they/PRP would/MD go/VB ,/, and/CC broke/VBD off/RP a/DT bit/NN of/IN the/DT edge/NN with/IN each/DT hand/NN ./.\n",
            "'And/NNS now/RB which/WDT is/VBZ which/WDT ?/. '/''\n",
            "she/PRP said/VBD to/TO herself/VB ,/, and/CC nibbled/VBD a/DT little/JJ of/IN the/DT right-hand/JJ bit/NN to/TO try/VB the/DT effect/NN :/: the/DT next/JJ moment/NN she/PRP felt/VBD a/DT violent/JJ blow/NN underneath/IN her/PRP$ chin/NN :/: it/PRP had/VBD struck/VBN her/PRP$ foot/NN !/.\n",
            "She/PRP was/VBD a/DT good/JJ deal/NN frightened/VBN by/IN this/DT very/RB sudden/JJ change/NN ,/, but/CC she/PRP felt/VBD that/IN there/EX was/VBD no/DT time/NN to/TO be/VB lost/VBN ,/, as/IN she/PRP was/VBD shrinking/VBG rapidly/RB ;/: so/RB she/PRP set/VBD to/TO work/VB at/IN once/RB to/TO eat/VB some/DT of/IN the/DT other/JJ bit/NN ./.\n",
            "Her/PRP$ chin/NN was/VBD pressed/VBN so/RB closely/RB against/IN her/PRP$ foot/NN ,/, that/IN there/EX was/VBD hardly/RB room/NN to/TO open/VB her/PRP$ mouth/NN ;/: but/CC she/PRP did/VBD it/PRP at/IN last/JJ ,/, and/CC managed/VBD to/TO swallow/VB a/DT morsel/NN of/IN the/DT lefthand/NN bit/NN ./.\n",
            "*/JJ */NNP */NNP */NNP */NNP */NNP */NNP */NNP */NNP */NNP */NNP */NNP */NNP */NNP */NNP */NNP */NNP */NNP */NNP */NNP 'Come/NNP ,/, my/PRP$ head/NN 's/POS free/JJ at/IN last/JJ !/. '/''\n",
            "said/VBD Alice/NNP in/IN a/DT tone/NN of/IN delight/NN ,/, which/WDT changed/VBD into/IN alarm/NN in/IN another/DT moment/NN ,/, when/WRB she/PRP found/VBD that/IN her/PRP$ shoulders/NNS were/VBD nowhere/RB to/TO be/VB found/VBN :/: all/DT she/PRP could/MD see/VB ,/, when/WRB she/PRP looked/VBD down/RB ,/, was/VBD an/DT immense/JJ length/NN of/IN neck/NN ,/, which/WDT seemed/VBD to/TO rise/VB like/IN a/DT stalk/NN out/IN of/IN a/DT sea/NN of/IN green/JJ leaves/NNS that/WDT lay/VBD far/RB below/IN her/PRP ./.\n",
            "'What/WDT CAN/NNP all/PDT that/DT green/JJ stuff/NN be/VB ?/. '/''\n",
            "said/VBD Alice/NNP ./.\n",
            "'And/CD where/WRB HAVE/NNP my/PRP$ shoulders/NNS got/VBD to/TO ?/.\n",
            "And/CC oh/UH ,/, my/PRP$ poor/JJ hands/NNS ,/, how/WRB is/VBZ it/PRP I/PRP ca/MD n't/RB see/VB you/PRP ?/. '/''\n",
            "She/PRP was/VBD moving/VBG them/PRP about/IN as/IN she/PRP spoke/VBD ,/, but/CC no/DT result/NN seemed/VBD to/TO follow/VB ,/, except/IN a/DT little/JJ shaking/NN among/IN the/DT distant/JJ green/JJ leaves/NNS ./.\n",
            "As/IN there/RB seemed/VBN to/TO be/VB no/DT chance/NN of/IN getting/VBG her/PRP$ hands/NNS up/RB to/TO her/PRP$ head/NN ,/, she/PRP tried/VBD to/TO get/VB her/PRP$ head/NN down/IN to/TO them/PRP ,/, and/CC was/VBD delighted/VBN to/TO find/VB that/IN her/PRP$ neck/NN would/MD bend/VB about/IN easily/RB in/IN any/DT direction/NN ,/, like/IN a/DT serpent/NN ./.\n",
            "She/PRP had/VBD just/RB succeeded/VBN in/IN curving/VBG it/PRP down/RP into/IN a/DT graceful/JJ zigzag/NN ,/, and/CC was/VBD going/VBG to/TO dive/VB in/IN among/IN the/DT leaves/NNS ,/, which/WDT she/PRP found/VBD to/TO be/VB nothing/NN but/CC the/DT tops/NNS of/IN the/DT trees/NNS under/IN which/WDT she/PRP had/VBD been/VBN wandering/VBG ,/, when/WRB a/DT sharp/JJ hiss/NN made/VBD her/PRP$ draw/JJ back/RB in/IN a/DT hurry/NN :/: a/DT large/JJ pigeon/NN had/VBD flown/VBN into/IN her/PRP$ face/NN ,/, and/CC was/VBD beating/VBG her/PRP$ violently/RB with/IN its/PRP$ wings/NNS ./.\n",
            "'Serpent/NN !/. '/''\n",
            "screamed/VBD the/DT Pigeon/NNP ./.\n",
            "'/POS I/PRP 'm/VBP NOT/PDT a/DT serpent/NN !/. '/''\n",
            "said/VBD Alice/NNP indignantly/RB ./.\n",
            "'Let/VB me/PRP alone/RB !/. '/''\n",
            "'Serpent/NN ,/, I/PRP say/VBP again/RB !/. '/''\n",
            "repeated/VBN the/DT Pigeon/NNP ,/, but/CC in/IN a/DT more/RBR subdued/JJ tone/NN ,/, and/CC added/VBD with/IN a/DT kind/NN of/IN sob/NN ,/, '/'' I/PRP 've/VBP tried/VBN every/DT way/NN ,/, and/CC nothing/NN seems/VBZ to/TO suit/VB them/PRP !/. '/''\n",
            "'/POS I/PRP have/VBP n't/RB the/DT least/JJS idea/NN what/WP you/PRP 're/VBP talking/VBG about/IN ,/, '/'' said/VBD Alice/NNP ./.\n",
            "'/POS I/PRP 've/VBP tried/VBN the/DT roots/NNS of/IN trees/NNS ,/, and/CC I/PRP 've/VBP tried/VBN banks/NNS ,/, and/CC I/PRP 've/VBP tried/VBN hedges/NNS ,/, '/'' the/DT Pigeon/NNP went/VBD on/IN ,/, without/IN attending/VBG to/TO her/PRP$ ;/: 'but/CC those/DT serpents/NNS !/.\n",
            "There/EX 's/VBZ no/DT pleasing/VBG them/PRP !/. '/''\n",
            "Alice/NNP was/VBD more/JJR and/CC more/RBR puzzled/JJ ,/, but/CC she/PRP thought/VBD there/EX was/VBD no/DT use/NN in/IN saying/VBG anything/NN more/JJR till/IN the/DT Pigeon/NNP had/VBD finished/VBN ./.\n",
            "'As/CD if/IN it/PRP was/VBD n't/RB trouble/NN enough/JJ hatching/VBG the/DT eggs/NNS ,/, '/'' said/VBD the/DT Pigeon/NNP ;/: 'but/POS I/PRP must/MD be/VB on/IN the/DT look-out/NN for/IN serpents/NNS night/NN and/CC day/NN !/.\n",
            "Why/WRB ,/, I/PRP have/VBP n't/RB had/VBD a/DT wink/NN of/IN sleep/NN these/DT three/CD weeks/NNS !/. '/''\n",
            "'/POS I/PRP 'm/VBP very/RB sorry/JJ you/PRP 've/VBP been/VBN annoyed/VBN ,/, '/'' said/VBD Alice/NNP ,/, who/WP was/VBD beginning/VBG to/TO see/VB its/PRP$ meaning/NN ./.\n",
            "'And/RB just/RB as/IN I/PRP 'd/MD taken/VBN the/DT highest/JJS tree/NN in/IN the/DT wood/NN ,/, '/'' continued/VBD the/DT Pigeon/NNP ,/, raising/VBG its/PRP$ voice/NN to/TO a/DT shriek/NN ,/, 'and/VB just/RB as/IN I/PRP was/VBD thinking/VBG I/PRP should/MD be/VB free/JJ of/IN them/PRP at/IN last/JJ ,/, they/PRP must/MD needs/VB come/VB wriggling/VBG down/IN from/IN the/DT sky/NN !/.\n",
            "Ugh/NNP ,/, Serpent/NNP !/. '/''\n",
            "'But/POS I/PRP 'm/VBP NOT/PDT a/DT serpent/NN ,/, I/PRP tell/VBP you/PRP !/. '/''\n",
            "said/VBD Alice/NNP ./.\n",
            "'/POS I/PRP 'm/VBP a/DT --/: I/PRP 'm/VBP a/DT --/: '/POS 'Well/NN !/.\n",
            "WHAT/WP are/VBP you/PRP ?/. '/''\n",
            "said/VBD the/DT Pigeon/NNP ./.\n",
            "'/POS I/PRP can/MD see/VB you/PRP 're/VBP trying/VBG to/TO invent/VB something/NN !/. '/''\n",
            "'/POS I/PRP --/: I/PRP 'm/VBP a/DT little/JJ girl/NN ,/, '/'' said/VBD Alice/NNP ,/, rather/RB doubtfully/RB ,/, as/IN she/PRP remembered/VBD the/DT number/NN of/IN changes/NNS she/PRP had/VBD gone/VBN through/IN that/DT day/NN ./.\n",
            "'/'' A/DT likely/JJ story/NN indeed/RB !/. '/''\n",
            "said/VBD the/DT Pigeon/NNP in/IN a/DT tone/NN of/IN the/DT deepest/JJS contempt/NN ./.\n",
            "'/POS I/PRP 've/VBP seen/VBN a/DT good/JJ many/JJ little/JJ girls/NNS in/IN my/PRP$ time/NN ,/, but/CC never/RB ONE/NNP with/IN such/PDT a/DT neck/NN as/IN that/DT !/.\n",
            "No/DT ,/, no/DT !/.\n",
            "You/PRP 're/VBP a/DT serpent/NN ;/: and/CC there/EX 's/VBZ no/DT use/NN denying/VBG it/PRP ./.\n",
            "I/PRP suppose/VBP you/PRP 'll/MD be/VB telling/VBG me/PRP next/JJ that/IN you/PRP never/RB tasted/VBD an/DT egg/NN !/. '/''\n",
            "'/POS I/PRP HAVE/VBP tasted/VBN eggs/NNS ,/, certainly/RB ,/, '/'' said/VBD Alice/NNP ,/, who/WP was/VBD a/DT very/RB truthful/JJ child/NN ;/: 'but/CC little/JJ girls/JJ eat/NN eggs/NNS quite/RB as/RB much/JJ as/IN serpents/NNS do/VBP ,/, you/PRP know/VBP ./. '/''\n",
            "'/POS I/PRP do/VBP n't/RB believe/VB it/PRP ,/, '/'' said/VBD the/DT Pigeon/NNP ;/: 'but/POS if/IN they/PRP do/VBP ,/, why/WRB then/RB they're/VBZ a/DT kind/NN of/IN serpent/NN ,/, that/WDT 's/VBZ all/DT I/PRP can/MD say/VB ./. '/''\n",
            "This/DT was/VBD such/JJ a/DT new/JJ idea/NN to/TO Alice/NNP ,/, that/IN she/PRP was/VBD quite/RB silent/JJ for/IN a/DT minute/NN or/CC two/CD ,/, which/WDT gave/VBD the/DT Pigeon/NNP the/DT opportunity/NN of/IN adding/VBG ,/, 'You're/CD looking/VBG for/IN eggs/NNS ,/, I/PRP know/VBP THAT/DT well/RB enough/RB ;/: and/CC what/WP does/VBZ it/PRP matter/VB to/TO me/PRP whether/IN you/PRP 're/VBP a/DT little/JJ girl/NN or/CC a/DT serpent/NN ?/. '/''\n",
            "'It/JJ matters/NNS a/DT good/JJ deal/NN to/TO ME/NNP ,/, '/'' said/VBD Alice/NNP hastily/RB ;/: 'but/CC I/PRP 'm/VBP not/RB looking/VBG for/IN eggs/NNS ,/, as/IN it/PRP happens/VBZ ;/: and/CC if/IN I/PRP was/VBD ,/, I/PRP should/MD n't/RB want/VB YOURS/NN :/: I/PRP don't/VBP like/IN them/PRP raw/VBP ./. '/''\n",
            "'Well/NN ,/, be/VB off/RB ,/, then/RB !/. '/''\n",
            "said/VBD the/DT Pigeon/NNP in/IN a/DT sulky/NN tone/NN ,/, as/IN it/PRP settled/VBD down/RB again/RB into/IN its/PRP$ nest/JJS ./.\n",
            "Alice/NNP crouched/VBD down/RB among/IN the/DT trees/NNS as/RB well/RB as/IN she/PRP could/MD ,/, for/IN her/PRP$ neck/NN kept/VBD getting/VBG entangled/VBN among/IN the/DT branches/NNS ,/, and/CC every/DT now/RB and/CC then/RB she/PRP had/VBD to/TO stop/VB and/CC untwist/VB it/PRP ./.\n",
            "After/IN a/DT while/NN she/PRP remembered/VBD that/IN she/PRP still/RB held/VBD the/DT pieces/NNS of/IN mushroom/NN in/IN her/PRP$ hands/NNS ,/, and/CC she/PRP set/VBD to/TO work/VB very/RB carefully/RB ,/, nibbling/VBG first/RB at/IN one/CD and/CC then/RB at/IN the/DT other/JJ ,/, and/CC growing/VBG sometimes/RB taller/NN and/CC sometimes/RB shorter/JJR ,/, until/IN she/PRP had/VBD succeeded/VBN in/IN bringing/VBG herself/PRP down/RP to/TO her/PRP$ usual/JJ height/NN ./.\n",
            "It/PRP was/VBD so/RB long/JJ since/IN she/PRP had/VBD been/VBN anything/NN near/IN the/DT right/JJ size/NN ,/, that/IN it/PRP felt/VBD quite/RB strange/JJ at/IN first/JJ ;/: but/CC she/PRP got/VBD used/VBN to/TO it/PRP in/IN a/DT few/JJ minutes/NNS ,/, and/CC began/VBD talking/VBG to/TO herself/VB ,/, as/IN usual/JJ ./.\n",
            "'Come/CD ,/, there/EX 's/VBZ half/JJR my/PRP$ plan/NN done/VBN now/RB !/.\n",
            "How/WRB puzzling/VBG all/PDT these/DT changes/NNS are/VBP !/.\n",
            "I/PRP 'm/VBP never/RB sure/JJ what/WP I/PRP 'm/VBP going/VBG to/TO be/VB ,/, from/IN one/CD minute/NN to/TO another/DT !/.\n",
            "However/RB ,/, I/PRP 've/VBP got/VBN back/RB to/TO my/PRP$ right/JJ size/NN :/: the/DT next/JJ thing/NN is/VBZ ,/, to/TO get/VB into/IN that/DT beautiful/JJ garden/NN --/: how/WRB IS/VBZ that/DT to/TO be/VB done/VBN ,/, I/PRP wonder/VBP ?/. '/''\n",
            "As/IN she/PRP said/VBD this/DT ,/, she/PRP came/VBD suddenly/RB upon/IN an/DT open/JJ place/NN ,/, with/IN a/DT little/JJ house/NN in/IN it/PRP about/IN four/CD feet/NNS high/JJ ./.\n",
            "'Whoever/WDT lives/VBZ there/RB ,/, '/'' thought/JJ Alice/NNP ,/, 'it/'' 'll/MD never/RB do/VB to/TO come/VB upon/IN them/PRP THIS/NNP size/NN :/: why/WRB ,/, I/PRP should/MD frighten/VB them/PRP out/IN of/IN their/PRP$ wits/NNS !/. '/''\n",
            "So/RB she/PRP began/VBD nibbling/VBG at/IN the/DT righthand/NN bit/NN again/RB ,/, and/CC did/VBD not/RB venture/NN to/TO go/VB near/IN the/DT house/NN till/NN she/PRP had/VBD brought/VBN herself/PRP down/RP to/TO nine/CD inches/NNS high/JJ ./.\n",
            "CHAPTER/NN VI/NNP ./.\n",
            "Pig/NNP and/CC Pepper/NNP For/IN a/DT minute/NN or/CC two/CD she/PRP stood/VBD looking/VBG at/IN the/DT house/NN ,/, and/CC wondering/VBG what/WP to/TO do/VB next/RB ,/, when/WRB suddenly/RB a/DT footman/NN in/IN livery/NN came/VBD running/VBG out/RB of/IN the/DT wood/NN --/: (/( she/PRP considered/VBD him/PRP to/TO be/VB a/DT footman/NN because/IN he/PRP was/VBD in/IN livery/NN :/: otherwise/RB ,/, judging/VBG by/IN his/PRP$ face/NN only/RB ,/, she/PRP would/MD have/VB called/VBN him/PRP a/DT fish/NN )/) --/: and/CC rapped/VBD loudly/RB at/IN the/DT door/NN with/IN his/PRP$ knuckles/NNS ./.\n",
            "It/PRP was/VBD opened/VBN by/IN another/DT footman/NN in/IN livery/NN ,/, with/IN a/DT round/NN face/NN ,/, and/CC large/JJ eyes/NNS like/IN a/DT frog/NN ;/: and/CC both/DT footmen/NNS ,/, Alice/NNP noticed/VBD ,/, had/VBD powdered/VBN hair/NN that/WDT curled/VBD all/DT over/IN their/PRP$ heads/NNS ./.\n",
            "She/PRP felt/VBD very/RB curious/JJ to/TO know/VB what/WP it/PRP was/VBD all/DT about/IN ,/, and/CC crept/VBD a/DT little/JJ way/NN out/IN of/IN the/DT wood/NN to/TO listen/VB ./.\n",
            "The/DT Fish-Footman/NNP began/VBD by/IN producing/VBG from/IN under/IN his/PRP$ arm/NN a/DT great/JJ letter/NN ,/, nearly/RB as/RB large/JJ as/IN himself/PRP ,/, and/CC this/DT he/PRP handed/VBD over/RP to/TO the/DT other/JJ ,/, saying/VBG ,/, in/IN a/DT solemn/NN tone/NN ,/, 'For/'' the/DT Duchess/NNP ./.\n",
            "An/DT invitation/NN from/IN the/DT Queen/NNP to/TO play/VB croquet/NN ./. '/''\n",
            "The/DT Frog-Footman/NNP repeated/VBD ,/, in/IN the/DT same/JJ solemn/NN tone/NN ,/, only/RB changing/VBG the/DT order/NN of/IN the/DT words/NNS a/DT little/JJ ,/, 'From/IN the/DT Queen/NNP ./.\n",
            "An/DT invitation/NN for/IN the/DT Duchess/NNP to/TO play/VB croquet/NN ./. '/''\n",
            "Then/RB they/PRP both/DT bowed/VBD low/JJ ,/, and/CC their/PRP$ curls/NNS got/VBD entangled/JJ together/RB ./.\n",
            "Alice/NNP laughed/VBD so/RB much/JJ at/IN this/DT ,/, that/IN she/PRP had/VBD to/TO run/VB back/RB into/IN the/DT wood/NN for/IN fear/NN of/IN their/PRP$ hearing/NN her/PRP$ ;/: and/CC when/WRB she/PRP next/RB peeped/VBD out/RP the/DT Fish-Footman/NNP was/VBD gone/VBN ,/, and/CC the/DT other/JJ was/VBD sitting/VBG on/IN the/DT ground/NN near/IN the/DT door/NN ,/, staring/VBG stupidly/RB up/RB into/IN the/DT sky/NN ./.\n",
            "Alice/NNP went/VBD timidly/RB up/IN to/TO the/DT door/NN ,/, and/CC knocked/VBD ./.\n",
            "'There/EX 's/VBZ no/DT sort/NN of/IN use/NN in/IN knocking/NN ,/, '/'' said/VBD the/DT Footman/NNP ,/, 'and/VBZ that/IN for/IN two/CD reasons/NNS ./.\n",
            "First/RB ,/, because/IN I/PRP 'm/VBP on/IN the/DT same/JJ side/NN of/IN the/DT door/NN as/IN you/PRP are/VBP ;/: secondly/RB ,/, because/IN they/PRP 're/VBP making/VBG such/JJ a/DT noise/NN inside/RB ,/, no/DT one/NN could/MD possibly/RB hear/VB you/PRP ./. '/''\n",
            "And/CC certainly/RB there/EX was/VBD a/DT most/RBS extraordinary/JJ noise/NN going/VBG on/IN within/IN --/: a/DT constant/JJ howling/NN and/CC sneezing/NN ,/, and/CC every/DT now/RB and/CC then/RB a/DT great/JJ crash/NN ,/, as/IN if/IN a/DT dish/NN or/CC kettle/VB had/VBD been/VBN broken/VBN to/TO pieces/NNS ./.\n",
            "'Please/NN ,/, then/RB ,/, '/'' said/VBD Alice/NNP ,/, 'how/NNP am/VBP I/PRP to/TO get/VB in/IN ?/. '/''\n",
            "'There/EX might/MD be/VB some/DT sense/NN in/IN your/PRP$ knocking/NN ,/, '/'' the/DT Footman/NNP went/VBD on/IN without/IN attending/VBG to/TO her/PRP$ ,/, 'if/IN we/PRP had/VBD the/DT door/NN between/IN us/PRP ./.\n",
            "For/IN instance/NN ,/, if/IN you/PRP were/VBD INSIDE/NNP ,/, you/PRP might/MD knock/VB ,/, and/CC I/PRP could/MD let/VB you/PRP out/RP ,/, you/PRP know/VBP ./. '/''\n",
            "He/PRP was/VBD looking/VBG up/RP into/IN the/DT sky/NN all/PDT the/DT time/NN he/PRP was/VBD speaking/VBG ,/, and/CC this/DT Alice/NNP thought/VBD decidedly/RB uncivil/JJ ./.\n",
            "'But/POS perhaps/RB he/PRP ca/MD n't/RB help/VB it/PRP ,/, '/'' she/PRP said/VBD to/TO herself/PRP ;/: 'his/CC eyes/NNS are/VBP so/RB VERY/RB nearly/RB at/IN the/DT top/NN of/IN his/PRP$ head/NN ./.\n",
            "But/CC at/IN any/DT rate/NN he/PRP might/MD answer/VB questions./NN --/: How/NNP am/VBP I/PRP to/TO get/VB in/IN ?/. '/''\n",
            "she/PRP repeated/VBD ,/, aloud/NN ./.\n",
            "'/POS I/PRP shall/MD sit/VB here/RB ,/, '/'' the/DT Footman/NNP remarked/VBD ,/, 'till/FW tomorrow/NN --/: '/POS At/IN this/DT moment/NN the/DT door/NN of/IN the/DT house/NN opened/VBD ,/, and/CC a/DT large/JJ plate/NN came/VBD skimming/VBG out/RP ,/, straight/RB at/IN the/DT Footman/NNP 's/POS head/NN :/: it/PRP just/RB grazed/VBD his/PRP$ nose/NN ,/, and/CC broke/VBD to/TO pieces/NNS against/IN one/CD of/IN the/DT trees/NNS behind/IN him./NN '/''\n",
            "--/: or/CC next/JJ day/NN ,/, maybe/RB ,/, '/'' the/DT Footman/NNP continued/VBD in/IN the/DT same/JJ tone/NN ,/, exactly/RB as/IN if/IN nothing/NN had/VBD happened/VBN ./.\n",
            "'How/CD am/VBP I/PRP to/TO get/VB in/IN ?/. '/''\n",
            "asked/VBN Alice/NNP again/RB ,/, in/IN a/DT louder/NN tone/NN ./.\n",
            "'ARE/NN you/PRP to/TO get/VB in/IN at/IN all/DT ?/. '/''\n",
            "said/VBD the/DT Footman/NNP ./.\n",
            "'That/WDT 's/VBZ the/DT first/JJ question/NN ,/, you/PRP know/VBP ./. '/''\n",
            "It/PRP was/VBD ,/, no/DT doubt/NN :/: only/RB Alice/NNP did/VBD not/RB like/IN to/TO be/VB told/VBN so/RB ./.\n",
            "'It/NN 's/POS really/RB dreadful/JJ ,/, '/'' she/PRP muttered/VBD to/TO herself/VB ,/, 'the/VB way/NN all/PDT the/DT creatures/NNS argue/VBP ./.\n",
            "It/PRP 's/VBZ enough/JJ to/TO drive/VB one/CD crazy/NN !/. '/''\n",
            "The/DT Footman/NNP seemed/VBD to/TO think/VB this/DT a/DT good/JJ opportunity/NN for/IN repeating/VBG his/PRP$ remark/NN ,/, with/IN variations/NNS ./.\n",
            "'/POS I/PRP shall/MD sit/VB here/RB ,/, '/'' he/PRP said/VBD ,/, 'on/'' and/CC off/IN ,/, for/IN days/NNS and/CC days/NNS ./. '/''\n",
            "'But/VB what/WP am/VBP I/PRP to/TO do/VB ?/. '/''\n",
            "said/VBD Alice/NNP ./.\n",
            "'Anything/VBG you/PRP like/IN ,/, '/'' said/VBD the/DT Footman/NNP ,/, and/CC began/VBD whistling/VBG ./.\n",
            "'Oh/CD ,/, there/EX 's/VBZ no/DT use/NN in/IN talking/VBG to/TO him/PRP ,/, '/'' said/VBD Alice/NNP desperately/RB :/: 'he's/CD perfectly/RB idiotic/JJ !/. '/''\n",
            "And/CC she/PRP opened/VBD the/DT door/NN and/CC went/VBD in/IN ./.\n",
            "The/DT door/NN led/VBD right/RB into/IN a/DT large/JJ kitchen/NN ,/, which/WDT was/VBD full/JJ of/IN smoke/NN from/IN one/CD end/NN to/TO the/DT other/JJ :/: the/DT Duchess/NNP was/VBD sitting/VBG on/IN a/DT three-legged/JJ stool/NN in/IN the/DT middle/NN ,/, nursing/VBG a/DT baby/NN ;/: the/DT cook/NN was/VBD leaning/VBG over/IN the/DT fire/NN ,/, stirring/VBG a/DT large/JJ cauldron/NN which/WDT seemed/VBD to/TO be/VB full/JJ of/IN soup/NN ./.\n",
            "'There/EX 's/VBZ certainly/RB too/RB much/JJ pepper/NN in/IN that/DT soup/NN !/. '/''\n",
            "Alice/NNP said/VBD to/TO herself/VB ,/, as/RB well/RB as/IN she/PRP could/MD for/IN sneezing/VBG ./.\n",
            "There/EX was/VBD certainly/RB too/RB much/JJ of/IN it/PRP in/IN the/DT air/NN ./.\n",
            "Even/RB the/DT Duchess/NNP sneezed/VBD occasionally/RB ;/: and/CC as/IN for/IN the/DT baby/NN ,/, it/PRP was/VBD sneezing/VBG and/CC howling/VBG alternately/RB without/IN a/DT moment/NN 's/POS pause/NN ./.\n",
            "The/DT only/JJ things/NNS in/IN the/DT kitchen/NN that/WDT did/VBD not/RB sneeze/VB ,/, were/VBD the/DT cook/NN ,/, and/CC a/DT large/JJ cat/NN which/WDT was/VBD sitting/VBG on/IN the/DT hearth/NN and/CC grinning/VBG from/IN ear/NN to/TO ear/VB ./.\n",
            "'Please/NN would/MD you/PRP tell/VB me/PRP ,/, '/'' said/VBD Alice/NNP ,/, a/DT little/JJ timidly/RB ,/, for/IN she/PRP was/VBD not/RB quite/RB sure/JJ whether/IN it/PRP was/VBD good/JJ manners/NNS for/IN her/PRP$ to/TO speak/VB first/JJ ,/, 'why/VB your/PRP$ cat/NN grins/NNS like/IN that/DT ?/. '/''\n",
            "'It/NN 's/POS a/DT Cheshire/NNP cat/NN ,/, '/'' said/VBD the/DT Duchess/NNP ,/, 'and/VBZ that/DT 's/VBZ why/WRB ./.\n",
            "Pig/NN !/. '/''\n",
            "She/PRP said/VBD the/DT last/JJ word/NN with/IN such/JJ sudden/JJ violence/NN that/WDT Alice/NNP quite/RB jumped/VBD ;/: but/CC she/PRP saw/VBD in/IN another/DT moment/NN that/IN it/PRP was/VBD addressed/VBN to/TO the/DT baby/NN ,/, and/CC not/RB to/TO her/PRP$ ,/, so/IN she/PRP took/VBD courage/NN ,/, and/CC went/VBD on/IN again/RB :/: --/: '/POS I/PRP did/VBD n't/RB know/VB that/DT Cheshire/NNP cats/NNS always/RB grinned/VBD ;/: in/IN fact/NN ,/, I/PRP did/VBD n't/RB know/VB that/DT cats/NNS COULD/NNP grin/NN ./. '/''\n",
            "'They/IN all/DT can/MD ,/, '/'' said/VBD the/DT Duchess/NNP ;/: 'and/CD most/JJS of/IN 'em/NNS do/VBP ./. '/''\n",
            "'/POS I/PRP do/VBP n't/RB know/VB of/IN any/DT that/WDT do/VBP ,/, '/'' Alice/NNP said/VBD very/RB politely/RB ,/, feeling/VBG quite/RB pleased/VBN to/TO have/VB got/VBN into/IN a/DT conversation/NN ./.\n",
            "'You/NNS do/VBP n't/RB know/VB much/RB ,/, '/'' said/VBD the/DT Duchess/NNP ;/: 'and/VBZ that/DT 's/VBZ a/DT fact/NN ./. '/''\n",
            "Alice/NNP did/VBD not/RB at/IN all/DT like/IN the/DT tone/NN of/IN this/DT remark/NN ,/, and/CC thought/VBD it/PRP would/MD be/VB as/RB well/RB to/TO introduce/VB some/DT other/JJ subject/NN of/IN conversation/NN ./.\n",
            "While/IN she/PRP was/VBD trying/VBG to/TO fix/VB on/IN one/CD ,/, the/DT cook/NN took/VBD the/DT cauldron/NN of/IN soup/NN off/IN the/DT fire/NN ,/, and/CC at/IN once/RB set/VBN to/TO work/VB throwing/VBG everything/NN within/IN her/PRP$ reach/NN at/IN the/DT Duchess/NNP and/CC the/DT baby/NN --/: the/DT fire-irons/NNS came/VBD first/RB ;/: then/RB followed/VBD a/DT shower/NN of/IN saucepans/NNS ,/, plates/NNS ,/, and/CC dishes/NNS ./.\n",
            "The/DT Duchess/NNP took/VBD no/DT notice/NN of/IN them/PRP even/RB when/WRB they/PRP hit/VBD her/PRP ;/: and/CC the/DT baby/NN was/VBD howling/VBG so/RB much/JJ already/RB ,/, that/IN it/PRP was/VBD quite/RB impossible/JJ to/TO say/VB whether/IN the/DT blows/NNS hurt/VBP it/PRP or/CC not/RB ./.\n",
            "'Oh/CD ,/, PLEASE/NNP mind/VB what/WP you/PRP 're/VBP doing/VBG !/. '/''\n",
            "cried/JJ Alice/NNP ,/, jumping/VBG up/RP and/CC down/RB in/IN an/DT agony/NN of/IN terror/NN ./.\n",
            "'Oh/CD ,/, there/EX goes/VBZ his/PRP$ PRECIOUS/NNP nose/NN '/'' ;/: as/IN an/DT unusually/RB large/JJ saucepan/NN flew/VBD close/JJ by/IN it/PRP ,/, and/CC very/RB nearly/RB carried/VBD it/PRP off/RP ./.\n",
            "'If/POS everybody/NN minded/VBD their/PRP$ own/JJ business/NN ,/, '/'' the/DT Duchess/NNP said/VBD in/IN a/DT hoarse/NN growl/NN ,/, 'the/'' world/NN would/MD go/VB round/VB a/DT deal/NN faster/RBR than/IN it/PRP does/VBZ ./. '/''\n",
            "'Which/NNS would/MD NOT/RB be/VB an/DT advantage/NN ,/, '/'' said/VBD Alice/NNP ,/, who/WP felt/VBD very/RB glad/JJ to/TO get/VB an/DT opportunity/NN of/IN showing/VBG off/RP a/DT little/JJ of/IN her/PRP$ knowledge/NN ./.\n",
            "'Just/JJ think/NN of/IN what/WP work/NN it/PRP would/MD make/VB with/IN the/DT day/NN and/CC night/NN !/.\n",
            "You/PRP see/VBP the/DT earth/NN takes/VBZ twenty-four/JJ hours/NNS to/TO turn/VB round/RP on/IN its/PRP$ axis/NN --/: '/POS 'Talking/NN of/IN axes/NNS ,/, '/'' said/VBD the/DT Duchess/NNP ,/, 'chop/'' off/RP her/PRP$ head/NN !/. '/''\n",
            "Alice/NNP glanced/VBD rather/RB anxiously/RB at/IN the/DT cook/NN ,/, to/TO see/VB if/IN she/PRP meant/VBD to/TO take/VB the/DT hint/NN ;/: but/CC the/DT cook/NN was/VBD busily/RB stirring/VBG the/DT soup/NN ,/, and/CC seemed/VBD not/RB to/TO be/VB listening/JJ ,/, so/IN she/PRP went/VBD on/IN again/RB :/: 'Twenty-four/JJ hours/NNS ,/, I/PRP THINK/VBP ;/: or/CC is/VBZ it/PRP twelve/VB ?/.\n",
            "I/PRP --/: '/'' 'Oh/NNS ,/, do/VBP n't/RB bother/VB ME/NNP ,/, '/'' said/VBD the/DT Duchess/NNP ;/: '/POS I/PRP never/RB could/MD abide/VB figures/NNS !/. '/''\n",
            "And/CC with/IN that/DT she/PRP began/VBD nursing/VBG her/PRP$ child/NN again/RB ,/, singing/VBG a/DT sort/NN of/IN lullaby/NN to/TO it/PRP as/IN she/PRP did/VBD so/RB ,/, and/CC giving/VBG it/PRP a/DT violent/JJ shake/NN at/IN the/DT end/NN of/IN every/DT line/NN :/: 'Speak/VB roughly/RB to/TO your/PRP$ little/JJ boy/NN ,/, And/CC beat/VBD him/PRP when/WRB he/PRP sneezes/VBZ :/: He/PRP only/RB does/VBZ it/PRP to/TO annoy/VB ,/, Because/IN he/PRP knows/VBZ it/PRP teases/VBZ ./. '/''\n",
            "CHORUS/NNP ./.\n",
            "(/( In/IN which/WDT the/DT cook/NN and/CC the/DT baby/NN joined/VBD )/) :/: --/: 'Wow/UH !/.\n",
            "wow/NN !/.\n",
            "wow/NN !/. '/''\n",
            "While/IN the/DT Duchess/NNP sang/VBD the/DT second/JJ verse/NN of/IN the/DT song/NN ,/, she/PRP kept/VBD tossing/VBG the/DT baby/NN violently/RB up/IN and/CC down/RB ,/, and/CC the/DT poor/JJ little/JJ thing/NN howled/VBD so/RB ,/, that/IN Alice/NNP could/MD hardly/RB hear/VB the/DT words/NNS :/: --/: '/POS I/PRP speak/VBP severely/RB to/TO my/PRP$ boy/NN ,/, I/PRP beat/VBP him/PRP when/WRB he/PRP sneezes/VBZ ;/: For/IN he/PRP can/MD thoroughly/VB enjoy/VB The/DT pepper/NN when/WRB he/PRP pleases/VBZ !/. '/''\n",
            "CHORUS/NNP ./.\n",
            "'Wow/CD !/.\n",
            "wow/NN !/.\n",
            "wow/NN !/. '/''\n",
            "'Here/RB !/.\n",
            "you/PRP may/MD nurse/VB it/PRP a/DT bit/NN ,/, if/IN you/PRP like/VBP !/. '/''\n",
            "the/DT Duchess/NNP said/VBD to/TO Alice/NNP ,/, flinging/VBG the/DT baby/NN at/IN her/PRP as/IN she/PRP spoke/VBD ./.\n",
            "'/POS I/PRP must/MD go/VB and/CC get/VB ready/JJ to/TO play/VB croquet/NN with/IN the/DT Queen/NNP ,/, '/'' and/CC she/PRP hurried/VBD out/IN of/IN the/DT room/NN ./.\n",
            "The/DT cook/NN threw/VBD a/DT frying-pan/JJ after/IN her/PRP$ as/IN she/PRP went/VBD out/RB ,/, but/CC it/PRP just/RB missed/VBD her/PRP ./.\n",
            "Alice/NNP caught/VBD the/DT baby/NN with/IN some/DT difficulty/NN ,/, as/IN it/PRP was/VBD a/DT queer-shaped/JJ little/JJ creature/NN ,/, and/CC held/VBD out/RP its/PRP$ arms/NNS and/CC legs/NNS in/IN all/DT directions/NNS ,/, 'just/VBP like/IN a/DT star-fish/JJ ,/, '/'' thought/JJ Alice/NNP ./.\n",
            "The/DT poor/JJ little/JJ thing/NN was/VBD snorting/VBG like/IN a/DT steam-engine/NN when/WRB she/PRP caught/VBD it/PRP ,/, and/CC kept/VBD doubling/VBG itself/PRP up/IN and/CC straightening/VBG itself/PRP out/RB again/RB ,/, so/IN that/IN altogether/NN ,/, for/IN the/DT first/JJ minute/NN or/CC two/CD ,/, it/PRP was/VBD as/RB much/JJ as/IN she/PRP could/MD do/VB to/TO hold/VB it/PRP ./.\n",
            "As/RB soon/RB as/IN she/PRP had/VBD made/VBN out/RP the/DT proper/JJ way/NN of/IN nursing/VBG it/PRP ,/, (/( which/WDT was/VBD to/TO twist/VB it/PRP up/RP into/IN a/DT sort/NN of/IN knot/NN ,/, and/CC then/RB keep/VB tight/JJ hold/NN of/IN its/PRP$ right/JJ ear/NN and/CC left/JJ foot/NN ,/, so/RB as/IN to/TO prevent/VB its/PRP$ undoing/VBG itself/PRP ,/, )/) she/PRP carried/VBD it/PRP out/RP into/IN the/DT open/JJ air/NN ./.\n",
            "'IF/NN I/PRP do/VBP n't/RB take/VB this/DT child/NN away/RB with/IN me/PRP ,/, '/'' thought/JJ Alice/NNP ,/, 'they/NNP 're/VBP sure/JJ to/TO kill/VB it/PRP in/IN a/DT day/NN or/CC two/CD :/: would/MD n't/RB it/PRP be/VB murder/VBN to/TO leave/VB it/PRP behind/IN ?/. '/''\n",
            "She/PRP said/VBD the/DT last/JJ words/NNS out/RP loud/JJ ,/, and/CC the/DT little/JJ thing/NN grunted/VBN in/IN reply/NN (/( it/PRP had/VBD left/VBN off/RP sneezing/VBG by/IN this/DT time/NN )/) ./.\n",
            "'Do/MD n't/RB grunt/VB ,/, '/'' said/VBD Alice/NNP ;/: 'that/WP 's/VBZ not/RB at/IN all/PDT a/DT proper/JJ way/NN of/IN expressing/VBG yourself/PRP ./. '/''\n",
            "The/DT baby/NN grunted/VBD again/RB ,/, and/CC Alice/NNP looked/VBD very/RB anxiously/RB into/IN its/PRP$ face/NN to/TO see/VB what/WP was/VBD the/DT matter/NN with/IN it/PRP ./.\n",
            "There/EX could/MD be/VB no/DT doubt/NN that/IN it/PRP had/VBD a/DT VERY/NNP turn-up/JJ nose/NN ,/, much/RB more/RBR like/IN a/DT snout/NN than/IN a/DT real/JJ nose/NN ;/: also/RB its/PRP$ eyes/NNS were/VBD getting/VBG extremely/RB small/JJ for/IN a/DT baby/NN :/: altogether/RB Alice/NNP did/VBD not/RB like/IN the/DT look/NN of/IN the/DT thing/NN at/IN all/DT ./.\n",
            "'But/CD perhaps/RB it/PRP was/VBD only/RB sobbing/VBG ,/, '/'' she/PRP thought/VBD ,/, and/CC looked/VBD into/IN its/PRP$ eyes/NNS again/RB ,/, to/TO see/VB if/IN there/EX were/VBD any/DT tears/NNS ./.\n",
            "No/DT ,/, there/EX were/VBD no/DT tears/NNS ./.\n",
            "'If/IN you/PRP 're/VBP going/VBG to/TO turn/VB into/IN a/DT pig/NN ,/, my/PRP$ dear/JJ ,/, '/'' said/VBD Alice/NNP ,/, seriously/RB ,/, '/'' I/PRP 'll/MD have/VB nothing/NN more/JJR to/TO do/VB with/IN you/PRP ./.\n",
            "Mind/NN now/RB !/. '/''\n",
            "The/DT poor/JJ little/JJ thing/NN sobbed/VBD again/RB (/( or/CC grunted/VBN ,/, it/PRP was/VBD impossible/JJ to/TO say/VB which/WDT )/) ,/, and/CC they/PRP went/VBD on/IN for/IN some/DT while/NN in/IN silence/NN ./.\n",
            "Alice/NNP was/VBD just/RB beginning/VBG to/TO think/VB to/TO herself/PRP ,/, 'Now/'' ,/, what/WP am/VBP I/PRP to/TO do/VB with/IN this/DT creature/NN when/WRB I/PRP get/VBP it/PRP home/NN ?/. '/''\n",
            "when/WRB it/PRP grunted/VBD again/RB ,/, so/RB violently/RB ,/, that/IN she/PRP looked/VBD down/RB into/IN its/PRP$ face/NN in/IN some/DT alarm/NN ./.\n",
            "This/DT time/NN there/EX could/MD be/VB NO/NNP mistake/VB about/IN it/PRP :/: it/PRP was/VBD neither/RB more/JJR nor/CC less/JJR than/IN a/DT pig/NN ,/, and/CC she/PRP felt/VBD that/IN it/PRP would/MD be/VB quite/RB absurd/JJ for/IN her/PRP$ to/TO carry/VB it/PRP further/RBR ./.\n",
            "So/RB she/PRP set/VBD the/DT little/JJ creature/NN down/RP ,/, and/CC felt/VBD quite/RB relieved/VBN to/TO see/VB it/PRP trot/VB away/RB quietly/RB into/IN the/DT wood/NN ./.\n",
            "'If/VB it/PRP had/VBD grown/VBN up/RP ,/, '/'' she/PRP said/VBD to/TO herself/VB ,/, 'it/PRP would/MD have/VB made/VBN a/DT dreadfully/RB ugly/JJ child/NN :/: but/CC it/PRP makes/VBZ rather/RB a/DT handsome/JJ pig/NN ,/, I/PRP think/VBP ./. '/''\n",
            "And/CC she/PRP began/VBD thinking/VBG over/IN other/JJ children/NNS she/PRP knew/VBD ,/, who/WP might/MD do/VB very/RB well/RB as/IN pigs/NNS ,/, and/CC was/VBD just/RB saying/VBG to/TO herself/VB ,/, 'if/VB one/CD only/RB knew/VBD the/DT right/JJ way/NN to/TO change/VB them/PRP --/: '/'' when/WRB she/PRP was/VBD a/DT little/JJ startled/VBN by/IN seeing/VBG the/DT Cheshire/NNP Cat/NNP sitting/VBG on/IN a/DT bough/NN of/IN a/DT tree/NN a/DT few/JJ yards/NNS off/RP ./.\n",
            "The/DT Cat/NNP only/RB grinned/VBD when/WRB it/PRP saw/VBD Alice/NNP ./.\n",
            "It/PRP looked/VBD good-natured/JJ ,/, she/PRP thought/VBD :/: still/RB it/PRP had/VBD VERY/NNP long/JJ claws/NN and/CC a/DT great/JJ many/JJ teeth/NNS ,/, so/IN she/PRP felt/VBD that/IN it/PRP ought/MD to/TO be/VB treated/VBN with/IN respect/NN ./.\n",
            "'Cheshire/NN Puss/NNP ,/, '/'' she/PRP began/VBD ,/, rather/RB timidly/RB ,/, as/IN she/PRP did/VBD not/RB at/IN all/DT know/VBP whether/IN it/PRP would/MD like/VB the/DT name/NN :/: however/RB ,/, it/PRP only/RB grinned/VBD a/DT little/JJ wider/NN ./.\n",
            "'Come/CD ,/, it/PRP 's/VBZ pleased/VBN so/RB far/RB ,/, '/'' thought/JJ Alice/NNP ,/, and/CC she/PRP went/VBD on/IN ./.\n",
            "'Would/MD you/PRP tell/VB me/PRP ,/, please/NN ,/, which/WDT way/NN I/PRP ought/MD to/TO go/VB from/IN here/RB ?/. '/''\n",
            "'That/DT depends/VBZ a/DT good/JJ deal/NN on/IN where/WRB you/PRP want/VBP to/TO get/VB to/TO ,/, '/'' said/VBD the/DT Cat/NNP ./.\n",
            "'/POS I/PRP do/VBP n't/RB much/RB care/VB where/WRB --/: '/'' said/VBD Alice/NNP ./.\n",
            "'Then/IN it/PRP does/VBZ n't/RB matter/VB which/WDT way/NN you/PRP go/VBP ,/, '/'' said/VBD the/DT Cat./NNP '/POS\n",
            "--/: so/RB long/RB as/IN I/PRP get/VBP SOMEWHERE/RB ,/, '/'' Alice/NNP added/VBD as/IN an/DT explanation/NN ./.\n",
            "'Oh/CD ,/, you/PRP 're/VBP sure/JJ to/TO do/VB that/DT ,/, '/'' said/VBD the/DT Cat/NNP ,/, 'if/'' you/PRP only/RB walk/VBP long/RB enough/RB ./. '/''\n",
            "Alice/NNP felt/VBD that/IN this/DT could/MD not/RB be/VB denied/VBN ,/, so/IN she/PRP tried/VBD another/DT question/NN ./.\n",
            "'What/DT sort/NN of/IN people/NNS live/VBP about/IN here/RB ?/. '/''\n",
            "'In/NNS THAT/DT direction/NN ,/, '/'' the/DT Cat/NNP said/VBD ,/, waving/VBG its/PRP$ right/NN paw/NN round/NN ,/, 'lives/VBZ a/DT Hatter/NN :/: and/CC in/IN THAT/DT direction/NN ,/, '/'' waving/VBG the/DT other/JJ paw/NN ,/, 'lives/VBZ a/DT March/NNP Hare/NNP ./.\n",
            "Visit/NNP either/CC you/PRP like/VBP :/: they/PRP 're/VBP both/DT mad/JJ ./. '/''\n",
            "'But/NN I/PRP do/VBP n't/RB want/VB to/TO go/VB among/IN mad/JJ people/NNS ,/, '/'' Alice/NNP remarked/VBD ./.\n",
            "'Oh/CD ,/, you/PRP ca/MD n't/RB help/VB that/DT ,/, '/'' said/VBD the/DT Cat/NNP :/: 'we/POS 're/VBP all/DT mad/NN here/RB ./.\n",
            "I/PRP 'm/VBP mad/JJ ./.\n",
            "You/PRP 're/VBP mad/JJ ./. '/''\n",
            "'How/WRB do/VBP you/PRP know/VB I/PRP 'm/VBP mad/JJ ?/. '/''\n",
            "said/VBD Alice/NNP ./.\n",
            "'You/NNS must/MD be/VB ,/, '/'' said/VBD the/DT Cat/NNP ,/, 'or/'' you/PRP would/MD n't/RB have/VB come/VBN here/RB ./. '/''\n",
            "Alice/NNP did/VBD n't/RB think/VB that/DT proved/VBD it/PRP at/IN all/DT ;/: however/RB ,/, she/PRP went/VBD on/IN 'And/NNP how/WRB do/VBP you/PRP know/VB that/IN you/PRP 're/VBP mad/JJ ?/. '/''\n",
            "'To/POS begin/NN with/IN ,/, '/'' said/VBD the/DT Cat/NNP ,/, '/'' a/DT dog/NN 's/POS not/RB mad/JJ ./.\n",
            "You/PRP grant/VBP that/IN ?/. '/''\n",
            "'/POS I/PRP suppose/VBP so/RB ,/, '/'' said/VBD Alice/NNP ./.\n",
            "'Well/RB ,/, then/RB ,/, '/'' the/DT Cat/NNP went/VBD on/IN ,/, 'you/'' see/VBP ,/, a/DT dog/NN growls/NN when/WRB it/PRP 's/VBZ angry/JJ ,/, and/CC wags/VBZ its/PRP$ tail/NN when/WRB it/PRP 's/VBZ pleased/JJ ./.\n",
            "Now/RB I/PRP growl/VBP when/WRB I/PRP 'm/VBP pleased/JJ ,/, and/CC wag/VB my/PRP$ tail/NN when/WRB I/PRP 'm/VBP angry/JJ ./.\n",
            "Therefore/RB I/PRP 'm/VBP mad/JJ ./. '/''\n",
            "'/POS I/PRP call/VBP it/PRP purring/VBG ,/, not/RB growling/VBG ,/, '/'' said/VBD Alice/NNP ./.\n",
            "'Call/VB it/PRP what/WP you/PRP like/VBP ,/, '/'' said/VBD the/DT Cat/NNP ./.\n",
            "'Do/NN you/PRP play/VBP croquet/NNS with/IN the/DT Queen/NNP to-day/JJ ?/. '/''\n",
            "'/POS I/PRP should/MD like/VB it/PRP very/RB much/RB ,/, '/'' said/VBD Alice/NNP ,/, 'but/'' I/PRP have/VBP n't/RB been/VBN invited/VBN yet/RB ./. '/''\n",
            "'You/POS 'll/MD see/VB me/PRP there/RB ,/, '/'' said/VBD the/DT Cat/NNP ,/, and/CC vanished/VBD ./.\n",
            "Alice/NNP was/VBD not/RB much/JJ surprised/VBN at/IN this/DT ,/, she/PRP was/VBD getting/VBG so/RB used/VBN to/TO queer/VB things/NNS happening/VBG ./.\n",
            "While/IN she/PRP was/VBD looking/VBG at/IN the/DT place/NN where/WRB it/PRP had/VBD been/VBN ,/, it/PRP suddenly/RB appeared/VBD again/RB ./.\n",
            "'By-the-bye/CD ,/, what/WP became/VBD of/IN the/DT baby/NN ?/. '/''\n",
            "said/VBD the/DT Cat/NNP ./.\n",
            "'/POS I/PRP 'd/MD nearly/RB forgotten/VB to/TO ask/VB ./. '/''\n",
            "'It/NNS turned/VBD into/IN a/DT pig/NN ,/, '/'' Alice/NNP quietly/RB said/VBD ,/, just/RB as/IN if/IN it/PRP had/VBD come/VBN back/RB in/IN a/DT natural/JJ way/NN ./.\n",
            "'/POS I/PRP thought/VBD it/PRP would/MD ,/, '/'' said/VBD the/DT Cat/NNP ,/, and/CC vanished/VBD again/RB ./.\n",
            "Alice/NNP waited/VBD a/DT little/JJ ,/, half/JJ expecting/VBG to/TO see/VB it/PRP again/RB ,/, but/CC it/PRP did/VBD not/RB appear/VB ,/, and/CC after/IN a/DT minute/NN or/CC two/CD she/PRP walked/VBD on/IN in/IN the/DT direction/NN in/IN which/WDT the/DT March/NNP Hare/NNP was/VBD said/VBD to/TO live/VB ./.\n",
            "'/POS I/PRP 've/VBP seen/VBN hatters/NNS before/IN ,/, '/'' she/PRP said/VBD to/TO herself/PRP ;/: 'the/CC March/NNP Hare/NNP will/MD be/VB much/RB the/DT most/RBS interesting/JJ ,/, and/CC perhaps/RB as/IN this/DT is/VBZ May/NNP it/PRP wo/MD n't/RB be/VB raving/VBG mad/JJ --/: at/IN least/JJS not/RB so/RB mad/JJ as/IN it/PRP was/VBD in/IN March/NNP ./. '/''\n",
            "As/IN she/PRP said/VBD this/DT ,/, she/PRP looked/VBD up/RB ,/, and/CC there/EX was/VBD the/DT Cat/NNP again/RB ,/, sitting/VBG on/IN a/DT branch/NN of/IN a/DT tree/NN ./.\n",
            "'Did/IN you/PRP say/VBP pig/JJ ,/, or/CC fig/VB ?/. '/''\n",
            "said/VBD the/DT Cat/NNP ./.\n",
            "'/POS I/PRP said/VBD pig/NN ,/, '/'' replied/JJ Alice/NNP ;/: 'and/CD I/PRP wish/VBP you/PRP would/MD n't/RB keep/VB appearing/VBG and/CC vanishing/VBG so/RB suddenly/RB :/: you/PRP make/VBP one/CD quite/NN giddy/NN ./. '/''\n",
            "'All/RB right/RB ,/, '/'' said/VBD the/DT Cat/NNP ;/: and/CC this/DT time/NN it/PRP vanished/VBD quite/RB slowly/RB ,/, beginning/VBG with/IN the/DT end/NN of/IN the/DT tail/NN ,/, and/CC ending/VBG with/IN the/DT grin/NN ,/, which/WDT remained/VBD some/DT time/NN after/IN the/DT rest/NN of/IN it/PRP had/VBD gone/VBN ./.\n",
            "'Well/NN !/.\n",
            "I/PRP 've/VBP often/RB seen/VBN a/DT cat/NN without/IN a/DT grin/NN ,/, '/'' thought/JJ Alice/NNP ;/: 'but/VBZ a/DT grin/NN without/IN a/DT cat/NN !/.\n",
            "It/PRP 's/VBZ the/DT most/RBS curious/JJ thing/NN I/PRP ever/RB saw/VBD in/IN my/PRP$ life/NN !/. '/''\n",
            "She/PRP had/VBD not/RB gone/VBN much/RB farther/RBR before/IN she/PRP came/VBD in/IN sight/NN of/IN the/DT house/NN of/IN the/DT March/NNP Hare/NNP :/: she/PRP thought/VBD it/PRP must/MD be/VB the/DT right/JJ house/NN ,/, because/IN the/DT chimneys/NNS were/VBD shaped/VBN like/IN ears/NNS and/CC the/DT roof/NN was/VBD thatched/VBN with/IN fur/NN ./.\n",
            "It/PRP was/VBD so/RB large/JJ a/DT house/NN ,/, that/IN she/PRP did/VBD not/RB like/IN to/TO go/VB nearer/NN till/IN she/PRP had/VBD nibbled/VBN some/DT more/JJR of/IN the/DT lefthand/NN bit/NN of/IN mushroom/NN ,/, and/CC raised/VBD herself/PRP to/TO about/IN two/CD feet/NNS high/JJ :/: even/RB then/RB she/PRP walked/VBD up/RP towards/NNS it/PRP rather/RB timidly/RB ,/, saying/VBG to/TO herself/PRP 'Suppose/VB it/PRP should/MD be/VB raving/VBG mad/JJ after/IN all/DT !/.\n",
            "I/PRP almost/RB wish/JJ I/PRP 'd/MD gone/VBN to/TO see/VB the/DT Hatter/NNP instead/RB !/. '/''\n",
            "CHAPTER/NN VII/NNP ./.\n",
            "A/DT Mad/NNP Tea-Party/NNP There/EX was/VBD a/DT table/NN set/VBN out/RP under/IN a/DT tree/NN in/IN front/NN of/IN the/DT house/NN ,/, and/CC the/DT March/NNP Hare/NNP and/CC the/DT Hatter/NNP were/VBD having/VBG tea/NN at/IN it/PRP :/: a/DT Dormouse/NNP was/VBD sitting/VBG between/IN them/PRP ,/, fast/RB asleep/JJ ,/, and/CC the/DT other/JJ two/CD were/VBD using/VBG it/PRP as/IN a/DT cushion/NN ,/, resting/VBG their/PRP$ elbows/NNS on/IN it/PRP ,/, and/CC talking/VBG over/IN its/PRP$ head/NN ./.\n",
            "'Very/POS uncomfortable/JJ for/IN the/DT Dormouse/NNP ,/, '/'' thought/JJ Alice/NNP ;/: 'only/RB ,/, as/IN it/PRP 's/VBZ asleep/JJ ,/, I/PRP suppose/VBP it/PRP does/VBZ n't/RB mind/VB ./. '/''\n",
            "The/DT table/NN was/VBD a/DT large/JJ one/CD ,/, but/CC the/DT three/CD were/VBD all/DT crowded/VBN together/RB at/IN one/CD corner/NN of/IN it/PRP :/: 'No/JJ room/NN !/.\n",
            "No/DT room/NN !/. '/''\n",
            "they/PRP cried/VBD out/RP when/WRB they/PRP saw/VBD Alice/NNP coming/VBG ./.\n",
            "'There/EX 's/VBZ PLENTY/NNP of/IN room/NN !/. '/''\n",
            "said/VBD Alice/NNP indignantly/RB ,/, and/CC she/PRP sat/VBD down/RB in/IN a/DT large/JJ arm-chair/NN at/IN one/CD end/NN of/IN the/DT table/NN ./.\n",
            "'Have/VB some/DT wine/NN ,/, '/'' the/DT March/NNP Hare/NNP said/VBD in/IN an/DT encouraging/JJ tone/NN ./.\n",
            "Alice/NNP looked/VBD all/DT round/VBP the/DT table/NN ,/, but/CC there/EX was/VBD nothing/NN on/IN it/PRP but/CC tea/NN ./.\n",
            "'/POS I/PRP do/VBP n't/RB see/VB any/DT wine/NN ,/, '/'' she/PRP remarked/VBD ./.\n",
            "'There/EX is/VBZ n't/RB any/DT ,/, '/'' said/VBD the/DT March/NNP Hare/NNP ./.\n",
            "'Then/IN it/PRP was/VBD n't/RB very/RB civil/JJ of/IN you/PRP to/TO offer/VB it/PRP ,/, '/'' said/VBD Alice/NNP angrily/RB ./.\n",
            "'It/NN was/VBD n't/RB very/RB civil/JJ of/IN you/PRP to/TO sit/VB down/RP without/IN being/VBG invited/VBN ,/, '/'' said/VBD the/DT March/NNP Hare/NNP ./.\n",
            "'/POS I/PRP did/VBD n't/RB know/VB it/PRP was/VBD YOUR/NNP table/NN ,/, '/'' said/VBD Alice/NNP ;/: 'it/PRP 's/VBZ laid/VBN for/IN a/DT great/JJ many/JJ more/JJR than/IN three/CD ./. '/''\n",
            "'Your/CD hair/NN wants/VBZ cutting/VBG ,/, '/'' said/VBD the/DT Hatter/NNP ./.\n",
            "He/PRP had/VBD been/VBN looking/VBG at/IN Alice/NNP for/IN some/DT time/NN with/IN great/JJ curiosity/NN ,/, and/CC this/DT was/VBD his/PRP$ first/JJ speech/NN ./.\n",
            "'You/NNS should/MD learn/VB not/RB to/TO make/VB personal/JJ remarks/NNS ,/, '/'' Alice/NNP said/VBD with/IN some/DT severity/NN ;/: 'it/CC 's/POS very/RB rude/JJ ./. '/''\n",
            "The/DT Hatter/NNP opened/VBD his/PRP$ eyes/NNS very/RB wide/JJ on/IN hearing/VBG this/DT ;/: but/CC all/DT he/PRP SAID/NNP was/VBD ,/, 'Why/'' is/VBZ a/DT raven/NN like/IN a/DT writing-desk/NN ?/. '/''\n",
            "'Come/CD ,/, we/PRP shall/MD have/VB some/DT fun/NN now/RB !/. '/''\n",
            "thought/JJ Alice/NNP ./.\n",
            "'/POS I/PRP 'm/VBP glad/JJ they've/NN begun/VBN asking/VBG riddles./NN --/: I/PRP believe/VBP I/PRP can/MD guess/VB that/IN ,/, '/'' she/PRP added/VBD aloud/NN ./.\n",
            "'Do/POS you/PRP mean/VBP that/IN you/PRP think/VBP you/PRP can/MD find/VB out/RP the/DT answer/NN to/TO it/PRP ?/. '/''\n",
            "said/VBD the/DT March/NNP Hare/NNP ./.\n",
            "'Exactly/RB so/RB ,/, '/'' said/VBD Alice/NNP ./.\n",
            "'Then/IN you/PRP should/MD say/VB what/WP you/PRP mean/VBP ,/, '/'' the/DT March/NNP Hare/NNP went/VBD on/IN ./.\n",
            "'/POS I/PRP do/VBP ,/, '/'' Alice/NNP hastily/RB replied/VBD ;/: 'at/CC least/JJS --/: at/IN least/JJS I/PRP mean/VBP what/WP I/PRP say/VBP --/: that/WDT 's/VBZ the/DT same/JJ thing/NN ,/, you/PRP know/VBP ./. '/''\n",
            "'Not/IN the/DT same/JJ thing/NN a/DT bit/NN !/. '/''\n",
            "said/VBD the/DT Hatter/NNP ./.\n",
            "'You/POS might/MD just/RB as/RB well/RB say/VB that/IN ``/`` I/PRP see/VBP what/WP I/PRP eat/VBP ''/'' is/VBZ the/DT same/JJ thing/NN as/IN ``/`` I/PRP eat/VBP what/WP I/PRP see/VBP ''/'' !/. '/''\n",
            "'You/POS might/MD just/RB as/RB well/RB say/VB ,/, '/'' added/VBD the/DT March/NNP Hare/NNP ,/, 'that/IN ``/`` I/PRP like/VBP what/WP I/PRP get/VBP ''/'' is/VBZ the/DT same/JJ thing/NN as/IN ``/`` I/PRP get/VBP what/WP I/PRP like/VBP ''/'' !/. '/''\n",
            "'You/POS might/MD just/RB as/RB well/RB say/VB ,/, '/'' added/VBD the/DT Dormouse/NNP ,/, who/WP seemed/VBD to/TO be/VB talking/VBG in/IN his/PRP$ sleep/NN ,/, 'that/IN ``/`` I/PRP breathe/VBP when/WRB I/PRP sleep/VBP ''/'' is/VBZ the/DT same/JJ thing/NN as/IN ``/`` I/PRP sleep/VBP when/WRB I/PRP breathe/VBP ''/'' !/. '/''\n",
            "'It/NN IS/VBZ the/DT same/JJ thing/NN with/IN you/PRP ,/, '/'' said/VBD the/DT Hatter/NNP ,/, and/CC here/RB the/DT conversation/NN dropped/VBD ,/, and/CC the/DT party/NN sat/VBD silent/NN for/IN a/DT minute/NN ,/, while/IN Alice/NNP thought/VBD over/IN all/DT she/PRP could/MD remember/VB about/IN ravens/NNS and/CC writing-desks/NNS ,/, which/WDT was/VBD n't/RB much/JJ ./.\n",
            "The/DT Hatter/NNP was/VBD the/DT first/JJ to/TO break/VB the/DT silence/NN ./.\n",
            "'What/DT day/NN of/IN the/DT month/NN is/VBZ it/PRP ?/. '/''\n",
            "he/PRP said/VBD ,/, turning/VBG to/TO Alice/NNP :/: he/PRP had/VBD taken/VBN his/PRP$ watch/NN out/IN of/IN his/PRP$ pocket/NN ,/, and/CC was/VBD looking/VBG at/IN it/PRP uneasily/RB ,/, shaking/VBG it/PRP every/DT now/RB and/CC then/RB ,/, and/CC holding/VBG it/PRP to/TO his/PRP$ ear/NN ./.\n",
            "Alice/NNP considered/VBD a/DT little/JJ ,/, and/CC then/RB said/VBD 'The/CD fourth/JJ ./. '/''\n",
            "'Two/CD days/NNS wrong/RB !/. '/''\n",
            "sighed/VBD the/DT Hatter/NNP ./.\n",
            "'/POS I/PRP told/VBD you/PRP butter/NN would/MD n't/RB suit/VB the/DT works/NN !/. '/''\n",
            "he/PRP added/VBD looking/VBG angrily/RB at/IN the/DT March/NNP Hare/NNP ./.\n",
            "'It/NN was/VBD the/DT BEST/NNP butter/NN ,/, '/'' the/DT March/NNP Hare/NNP meekly/RB replied/VBD ./.\n",
            "'Yes/CD ,/, but/CC some/DT crumbs/NNS must/MD have/VB got/VBN in/IN as/RB well/RB ,/, '/'' the/DT Hatter/NNP grumbled/VBD :/: 'you/NN should/MD n't/RB have/VB put/VBN it/PRP in/IN with/IN the/DT bread-knife/NN ./. '/''\n",
            "The/DT March/NNP Hare/NNP took/VBD the/DT watch/NN and/CC looked/VBD at/IN it/PRP gloomily/RB :/: then/RB he/PRP dipped/VBD it/PRP into/IN his/PRP$ cup/NN of/IN tea/NN ,/, and/CC looked/VBD at/IN it/PRP again/RB :/: but/CC he/PRP could/MD think/VB of/IN nothing/NN better/NN to/TO say/VB than/IN his/PRP$ first/JJ remark/NN ,/, 'It/'' was/VBD the/DT BEST/NNP butter/NN ,/, you/PRP know/VBP ./. '/''\n",
            "Alice/NNP had/VBD been/VBN looking/VBG over/IN his/PRP$ shoulder/NN with/IN some/DT curiosity/NN ./.\n",
            "'What/IN a/DT funny/JJ watch/NN !/. '/''\n",
            "she/PRP remarked/VBD ./.\n",
            "'It/CD tells/VBZ the/DT day/NN of/IN the/DT month/NN ,/, and/CC doesn't/VB tell/VB what/WP o'clock/IN it/PRP is/VBZ !/. '/''\n",
            "'Why/NNS should/MD it/PRP ?/. '/''\n",
            "muttered/VBD the/DT Hatter/NNP ./.\n",
            "'Does/NNS YOUR/NNP watch/NN tell/NN you/PRP what/WP year/NN it/PRP is/VBZ ?/. '/''\n",
            "'Of/'' course/NN not/RB ,/, '/'' Alice/NNP replied/VBD very/RB readily/RB :/: 'but/NN that/DT 's/VBZ because/IN it/PRP stays/VBZ the/DT same/JJ year/NN for/IN such/PDT a/DT long/JJ time/NN together/RB ./. '/''\n",
            "'Which/'' is/VBZ just/RB the/DT case/NN with/IN MINE/NNP ,/, '/'' said/VBD the/DT Hatter/NNP ./.\n",
            "Alice/NNP felt/VBD dreadfully/RB puzzled/VBN ./.\n",
            "The/DT Hatter/NNP 's/POS remark/NN seemed/VBD to/TO have/VB no/DT sort/NN of/IN meaning/NN in/IN it/PRP ,/, and/CC yet/RB it/PRP was/VBD certainly/RB English/NNP ./.\n",
            "'/POS I/PRP do/VBP n't/RB quite/RB understand/VB you/PRP ,/, '/'' she/PRP said/VBD ,/, as/RB politely/RB as/IN she/PRP could/MD ./.\n",
            "'The/POS Dormouse/NNP is/VBZ asleep/RB again/RB ,/, '/'' said/VBD the/DT Hatter/NNP ,/, and/CC he/PRP poured/VBD a/DT little/JJ hot/JJ tea/NN upon/IN its/PRP$ nose/NN ./.\n",
            "The/DT Dormouse/NNP shook/VBD its/PRP$ head/NN impatiently/RB ,/, and/CC said/VBD ,/, without/IN opening/VBG its/PRP$ eyes/NNS ,/, 'Of/'' course/NN ,/, of/IN course/NN ;/: just/RB what/WP I/PRP was/VBD going/VBG to/TO remark/VB myself/PRP ./. '/''\n",
            "'Have/VB you/PRP guessed/VBN the/DT riddle/NN yet/RB ?/. '/''\n",
            "the/DT Hatter/NNP said/VBD ,/, turning/VBG to/TO Alice/NNP again/RB ./.\n",
            "'No/CD ,/, I/PRP give/VBP it/PRP up/RP ,/, '/'' Alice/NNP replied/VBD :/: 'what/WP 's/VBZ the/DT answer/NN ?/. '/''\n",
            "'/POS I/PRP have/VBP n't/RB the/DT slightest/JJS idea/NN ,/, '/'' said/VBD the/DT Hatter/NNP ./.\n",
            "'Nor/CC I/PRP ,/, '/'' said/VBD the/DT March/NNP Hare/NNP ./.\n",
            "Alice/NNP sighed/VBD wearily/RB ./.\n",
            "'/POS I/PRP think/VBP you/PRP might/MD do/VB something/NN better/RBR with/IN the/DT time/NN ,/, '/'' she/PRP said/VBD ,/, 'than/'' waste/NN it/PRP in/IN asking/VBG riddles/NNS that/WDT have/VBP no/DT answers/NNS ./. '/''\n",
            "'If/IN you/PRP knew/VBD Time/NNP as/RB well/RB as/IN I/PRP do/VBP ,/, '/'' said/VBD the/DT Hatter/NNP ,/, 'you/NNP would/MD n't/RB talk/VB about/IN wasting/VBG IT/NNP ./.\n",
            "It/PRP 's/VBZ HIM/NNP ./. '/''\n",
            "'/POS I/PRP do/VBP n't/RB know/VB what/WP you/PRP mean/VBP ,/, '/'' said/VBD Alice/NNP ./.\n",
            "'Of/POS course/NN you/PRP do/VBP n't/RB !/. '/''\n",
            "the/DT Hatter/NNP said/VBD ,/, tossing/VBG his/PRP$ head/NN contemptuously/RB ./.\n",
            "'/POS I/PRP dare/VBP say/VB you/PRP never/RB even/RB spoke/VBD to/TO Time/NNP !/. '/''\n",
            "'Perhaps/NNS not/RB ,/, '/'' Alice/NNP cautiously/RB replied/VBD :/: 'but/NN I/PRP know/VBP I/PRP have/VBP to/TO beat/VB time/NN when/WRB I/PRP learn/VBP music/NN ./. '/''\n",
            "'Ah/CD !/.\n",
            "that/DT accounts/VBZ for/IN it/PRP ,/, '/'' said/VBD the/DT Hatter/NNP ./.\n",
            "'He/NNS wo/MD n't/RB stand/VB beating/NN ./.\n",
            "Now/RB ,/, if/IN you/PRP only/RB kept/VBD on/IN good/JJ terms/NNS with/IN him/PRP ,/, he/PRP 'd/MD do/VB almost/RB anything/NN you/PRP liked/VBD with/IN the/DT clock/NN ./.\n",
            "For/IN instance/NN ,/, suppose/VB it/PRP were/VBD nine/CD o'clock/NN in/IN the/DT morning/NN ,/, just/RB time/NN to/TO begin/VB lessons/NNS :/: you/PRP 'd/MD only/RB have/VB to/TO whisper/VB a/DT hint/NN to/TO Time/NNP ,/, and/CC round/NN goes/VBZ the/DT clock/NN in/IN a/DT twinkling/NN !/.\n",
            "Half-past/NNP one/CD ,/, time/NN for/IN dinner/NN !/. '/''\n",
            "(/( '/'' I/PRP only/RB wish/VBD it/PRP was/VBD ,/, '/'' the/DT March/NNP Hare/NNP said/VBD to/TO itself/PRP in/IN a/DT whisper/NN ./. )/)\n",
            "'That/WDT would/MD be/VB grand/JJ ,/, certainly/RB ,/, '/'' said/VBD Alice/NNP thoughtfully/RB :/: 'but/NN then/RB --/: I/PRP should/MD n't/RB be/VB hungry/JJ for/IN it/PRP ,/, you/PRP know/VBP ./. '/''\n",
            "'Not/NNS at/IN first/JJ ,/, perhaps/RB ,/, '/'' said/VBD the/DT Hatter/NNP :/: 'but/NN you/PRP could/MD keep/VB it/PRP to/TO half-past/JJ one/CD as/RB long/RB as/IN you/PRP liked/VBD ./. '/''\n",
            "'Is/NNS that/IN the/DT way/NN YOU/NNP manage/NN ?/. '/''\n",
            "Alice/NNP asked/VBD ./.\n",
            "The/DT Hatter/NNP shook/VBD his/PRP$ head/NN mournfully/RB ./.\n",
            "'Not/CD I/PRP !/. '/''\n",
            "he/PRP replied/VBD ./.\n",
            "'We/POS quarrelled/VBN last/JJ March/NNP --/: just/RB before/IN HE/NNP went/VBD mad/JJ ,/, you/PRP know/VBP --/: '/'' (/( pointing/VBG with/IN his/PRP$ tea/NN spoon/NN at/IN the/DT March/NNP Hare/NNP ,/, )/) '/'' --/: it/PRP was/VBD at/IN the/DT great/JJ concert/NN given/VBN by/IN the/DT Queen/NNP of/IN Hearts/NNP ,/, and/CC I/PRP had/VBD to/TO sing/VBG ``/`` Twinkle/NNP ,/, twinkle/NN ,/, little/JJ bat/NN !/.\n",
            "How/WRB I/PRP wonder/VBP what/WP you/PRP 're/VBP at/IN !/. ''/''\n",
            "You/PRP know/VBP the/DT song/NN ,/, perhaps/RB ?/. '/''\n",
            "'/POS I/PRP 've/VBP heard/VBN something/NN like/IN it/PRP ,/, '/'' said/VBD Alice/NNP ./.\n",
            "'It/NN goes/VBZ on/IN ,/, you/PRP know/VBP ,/, '/'' the/DT Hatter/NNP continued/VBD ,/, 'in/'' this/DT way/NN :/: --/: ``/`` Up/IN above/IN the/DT world/NN you/PRP fly/VBP ,/, Like/IN a/DT tea-tray/NN in/IN the/DT sky/NN ./.\n",
            "Twinkle/NNP ,/, twinkle/NN --/: ''/'' '/POS Here/RB the/DT Dormouse/NNP shook/VBD itself/PRP ,/, and/CC began/VBD singing/VBG in/IN its/PRP$ sleep/NN 'Twinkle/NN ,/, twinkle/NN ,/, twinkle/NN ,/, twinkle/NN --/: '/POS and/CC went/VBD on/IN so/IN long/JJ that/IN they/PRP had/VBD to/TO pinch/VB it/PRP to/TO make/VB it/PRP stop/VB ./.\n",
            "'Well/UH ,/, I/PRP 'd/MD hardly/RB finished/VB the/DT first/JJ verse/NN ,/, '/'' said/VBD the/DT Hatter/NNP ,/, 'when/VBZ the/DT Queen/NNP jumped/VBD up/RP and/CC bawled/VBN out/RP ,/, ``/`` He/PRP 's/VBZ murdering/VBG the/DT time/NN !/.\n",
            "Off/IN with/IN his/PRP$ head/NN !/. ''/'' '/''\n",
            "'How/POS dreadfully/RB savage/JJ !/. '/''\n",
            "exclaimed/VBN Alice/NNP ./.\n",
            "'And/CD ever/RB since/IN that/DT ,/, '/'' the/DT Hatter/NNP went/VBD on/IN in/IN a/DT mournful/JJ tone/NN ,/, 'he/'' won't/WRB do/VB a/DT thing/NN I/PRP ask/VBP !/.\n",
            "It/PRP 's/VBZ always/RB six/CD o'clock/NN now/RB ./. '/''\n",
            "A/DT bright/JJ idea/NN came/VBD into/IN Alice/NNP 's/POS head/NN ./.\n",
            "'Is/NNS that/IN the/DT reason/NN so/RB many/JJ tea-things/NNS are/VBP put/VBN out/RP here/RB ?/. '/''\n",
            "she/PRP asked/VBD ./.\n",
            "'Yes/UH ,/, that/DT 's/VBZ it/PRP ,/, '/'' said/VBD the/DT Hatter/NNP with/IN a/DT sigh/NN :/: 'it/NN 's/POS always/RB tea-time/NN ,/, and/CC we/PRP 've/VBP no/DT time/NN to/TO wash/VB the/DT things/NNS between/IN whiles/NNS ./. '/''\n",
            "'Then/IN you/PRP keep/VBP moving/VBG round/NN ,/, I/PRP suppose/VBP ?/. '/''\n",
            "said/VBD Alice/NNP ./.\n",
            "'Exactly/RB so/RB ,/, '/'' said/VBD the/DT Hatter/NNP :/: 'as/CD the/DT things/NNS get/VBP used/VBN up/RP ./. '/''\n",
            "'But/VB what/WP happens/VBZ when/WRB you/PRP come/VBP to/TO the/DT beginning/NN again/RB ?/. '/''\n",
            "Alice/RB ventured/VBN to/TO ask/VB ./.\n",
            "'Suppose/IN we/PRP change/VBP the/DT subject/NN ,/, '/'' the/DT March/NNP Hare/NNP interrupted/VBD ,/, yawning/VBG ./.\n",
            "'/POS I/PRP 'm/VBP getting/VBG tired/VBN of/IN this/DT ./.\n",
            "I/PRP vote/VBP the/DT young/JJ lady/NN tells/VBZ us/PRP a/DT story/NN ./. '/''\n",
            "'/POS I/PRP 'm/VBP afraid/JJ I/PRP do/VBP n't/RB know/VB one/CD ,/, '/'' said/VBD Alice/NNP ,/, rather/RB alarmed/VBD at/IN the/DT proposal/NN ./.\n",
            "'Then/'' the/DT Dormouse/NNP shall/MD !/. '/''\n",
            "they/PRP both/DT cried/VBD ./.\n",
            "'Wake/VB up/RP ,/, Dormouse/NNP !/. '/''\n",
            "And/CC they/PRP pinched/VBD it/PRP on/IN both/DT sides/NNS at/IN once/RB ./.\n",
            "The/DT Dormouse/NNP slowly/NN opened/VBD his/PRP$ eyes/NNS ./.\n",
            "'/'' I/PRP was/VBD n't/RB asleep/RB ,/, '/'' he/PRP said/VBD in/IN a/DT hoarse/NN ,/, feeble/JJ voice/NN :/: '/POS I/PRP heard/VBP every/DT word/NN you/PRP fellows/VBP were/VBD saying/VBG ./. '/''\n",
            "'Tell/VB us/PRP a/DT story/NN !/. '/''\n",
            "said/VBD the/DT March/NNP Hare/NNP ./.\n",
            "'Yes/CD ,/, please/VB do/VB !/. '/''\n",
            "pleaded/JJ Alice/NNP ./.\n",
            "'And/RB be/VB quick/JJ about/IN it/PRP ,/, '/'' added/VBD the/DT Hatter/NNP ,/, 'or/'' you/PRP 'll/MD be/VB asleep/RB again/RB before/IN it/PRP 's/VBZ done/VBN ./. '/''\n",
            "'Once/NN upon/IN a/DT time/NN there/EX were/VBD three/CD little/JJ sisters/NNS ,/, '/'' the/DT Dormouse/NNP began/VBD in/IN a/DT great/JJ hurry/NN ;/: 'and/CC their/PRP$ names/NNS were/VBD Elsie/NNP ,/, Lacie/NNP ,/, and/CC Tillie/NNP ;/: and/CC they/PRP lived/VBD at/IN the/DT bottom/NN of/IN a/DT well/NN --/: '/POS 'What/WP did/VBD they/PRP live/VB on/IN ?/. '/''\n",
            "said/VBD Alice/NNP ,/, who/WP always/RB took/VBD a/DT great/JJ interest/NN in/IN questions/NNS of/IN eating/NN and/CC drinking/NN ./.\n",
            "'They/CD lived/VBD on/IN treacle/NN ,/, '/'' said/VBD the/DT Dormouse/NNP ,/, after/IN thinking/VBG a/DT minute/NN or/CC two/CD ./.\n",
            "'They/NNS could/MD n't/RB have/VB done/VBN that/DT ,/, you/PRP know/VBP ,/, '/'' Alice/NNP gently/RB remarked/VBD ;/: 'they'd/NNS have/VBP been/VBN ill.'/VBN 'So/IN they/PRP were/VBD ,/, '/'' said/VBD the/DT Dormouse/NNP ;/: 'VERY/CD ill.'/NN Alice/NNP tried/VBD to/TO fancy/VB to/TO herself/VB what/WP such/PDT an/DT extraordinary/JJ ways/NNS of/IN living/NN would/MD be/VB like/IN ,/, but/CC it/PRP puzzled/VBD her/PRP too/RB much/JJ ,/, so/IN she/PRP went/VBD on/IN :/: 'But/CD why/WRB did/VBD they/PRP live/VBP at/IN the/DT bottom/NN of/IN a/DT well/NN ?/. '/''\n",
            "'Take/VB some/DT more/RBR tea/JJ ,/, '/'' the/DT March/NNP Hare/NNP said/VBD to/TO Alice/NNP ,/, very/RB earnestly/RB ./.\n",
            "'/POS I/PRP 've/VBP had/VBD nothing/NN yet/RB ,/, '/'' Alice/NNP replied/VBD in/IN an/DT offended/JJ tone/NN ,/, 'so/'' I/PRP can't/VBP take/VB more/JJR ./. '/''\n",
            "'You/POS mean/NN you/PRP ca/MD n't/RB take/VB LESS/JJR ,/, '/'' said/VBD the/DT Hatter/NNP :/: 'it/NN 's/POS very/RB easy/JJ to/TO take/VB MORE/JJR than/IN nothing/NN ./. '/''\n",
            "'Nobody/NN asked/VBD YOUR/JJ opinion/NN ,/, '/'' said/VBD Alice/NNP ./.\n",
            "'Who/NN 's/POS making/VBG personal/JJ remarks/NNS now/RB ?/. '/''\n",
            "the/DT Hatter/NNP asked/VBD triumphantly/RB ./.\n",
            "Alice/NNP did/VBD not/RB quite/RB know/VB what/WP to/TO say/VB to/TO this/DT :/: so/RB she/PRP helped/VBD herself/PRP to/TO some/DT tea/NN and/CC bread-and-butter/NN ,/, and/CC then/RB turned/VBD to/TO the/DT Dormouse/NNP ,/, and/CC repeated/VBD her/PRP$ question/NN ./.\n",
            "'Why/NNS did/VBD they/PRP live/VBP at/IN the/DT bottom/NN of/IN a/DT well/NN ?/. '/''\n",
            "The/DT Dormouse/NNP again/RB took/VBD a/DT minute/NN or/CC two/CD to/TO think/VB about/IN it/PRP ,/, and/CC then/RB said/VBD ,/, 'It/NNP was/VBD a/DT treacle-well/NN ./. '/''\n",
            "'There/EX 's/VBZ no/DT such/JJ thing/NN !/. '/''\n",
            "Alice/NNP was/VBD beginning/VBG very/RB angrily/RB ,/, but/CC the/DT Hatter/NNP and/CC the/DT March/NNP Hare/NNP went/VBD 'Sh/CD !/.\n",
            "sh/NN !/. '/''\n",
            "and/CC the/DT Dormouse/NNP sulkily/RB remarked/VBD ,/, 'If/'' you/PRP ca/MD n't/RB be/VB civil/JJ ,/, you/PRP 'd/MD better/VB finish/VB the/DT story/NN for/IN yourself/PRP ./. '/''\n",
            "'No/CD ,/, please/NN go/VB on/IN !/. '/''\n",
            "Alice/NNP said/VBD very/RB humbly/RB ;/: '/'' I/PRP wo/MD n't/RB interrupt/VB again/RB ./.\n",
            "I/PRP dare/VBP say/VB there/EX may/MD be/VB ONE/CD ./. '/''\n",
            "'One/CD ,/, indeed/RB !/. '/''\n",
            "said/VBD the/DT Dormouse/NNP indignantly/RB ./.\n",
            "However/RB ,/, he/PRP consented/VBD to/TO go/VB on/IN ./.\n",
            "'And/NNS so/RB these/DT three/CD little/JJ sisters/NNS --/: they/PRP were/VBD learning/VBG to/TO draw/VB ,/, you/PRP know/VBP --/: '/'' 'What/WDT did/VBD they/PRP draw/VB ?/. '/''\n",
            "said/VBD Alice/NNP ,/, quite/RB forgetting/VBG her/PRP$ promise/NN ./.\n",
            "'Treacle/NN ,/, '/'' said/VBD the/DT Dormouse/NNP ,/, without/IN considering/VBG at/IN all/PDT this/DT time/NN ./.\n",
            "'/POS I/PRP want/VBP a/DT clean/JJ cup/NN ,/, '/'' interrupted/VBD the/DT Hatter/NN :/: 'let/NN 's/POS all/DT move/VBP one/CD place/NN on/IN ./. '/''\n",
            "He/PRP moved/VBD on/IN as/IN he/PRP spoke/VBD ,/, and/CC the/DT Dormouse/NNP followed/VBD him/PRP :/: the/DT March/NNP Hare/NNP moved/VBD into/IN the/DT Dormouse/NNP 's/POS place/NN ,/, and/CC Alice/NNP rather/RB unwillingly/RB took/VBD the/DT place/NN of/IN the/DT March/NNP Hare/NNP ./.\n",
            "The/DT Hatter/NNP was/VBD the/DT only/JJ one/NN who/WP got/VBD any/DT advantage/NN from/IN the/DT change/NN :/: and/CC Alice/NNP was/VBD a/DT good/JJ deal/NN worse/JJR off/RP than/IN before/RB ,/, as/IN the/DT March/NNP Hare/NNP had/VBD just/RB upset/VBN the/DT milk-jug/NN into/IN his/PRP$ plate/NN ./.\n",
            "Alice/NNP did/VBD not/RB wish/VB to/TO offend/VB the/DT Dormouse/NNP again/RB ,/, so/IN she/PRP began/VBD very/RB cautiously/RB :/: 'But/NN I/PRP do/VBP n't/RB understand/VB ./.\n",
            "Where/WRB did/VBD they/PRP draw/VB the/DT treacle/NN from/IN ?/. '/''\n",
            "'You/NNS can/MD draw/VB water/NN out/IN of/IN a/DT water-well/NN ,/, '/'' said/VBD the/DT Hatter/NNP ;/: 'so/CD I/PRP should/MD think/VB you/PRP could/MD draw/VB treacle/VB out/IN of/IN a/DT treacle-well/NN --/: eh/NN ,/, stupid/JJ ?/. '/''\n",
            "'But/IN they/PRP were/VBD IN/NNP the/DT well/RB ,/, '/'' Alice/NNP said/VBD to/TO the/DT Dormouse/NNP ,/, not/RB choosing/VBG to/TO notice/VB this/DT last/JJ remark/NN ./.\n",
            "'Of/POS course/NN they/PRP were/VBD '/'' ,/, said/VBD the/DT Dormouse/NNP ;/: '/POS --/: well/RB in/IN ./. '/''\n",
            "This/DT answer/NN so/RB confused/JJ poor/JJ Alice/NNP ,/, that/IN she/PRP let/VBD the/DT Dormouse/NNP go/VBP on/IN for/IN some/DT time/NN without/IN interrupting/VBG it/PRP ./.\n",
            "'They/NNS were/VBD learning/VBG to/TO draw/VB ,/, '/'' the/DT Dormouse/NNP went/VBD on/IN ,/, yawning/VBG and/CC rubbing/VBG its/PRP$ eyes/NNS ,/, for/IN it/PRP was/VBD getting/VBG very/RB sleepy/RB ;/: 'and/CC they/PRP drew/VBD all/DT manner/NN of/IN things/NNS --/: everything/NN that/IN begins/VBZ with/IN an/DT M/NNP --/: '/POS 'Why/POS with/IN an/DT M/NNP ?/. '/''\n",
            "said/VBD Alice/NNP ./.\n",
            "'Why/MD not/RB ?/. '/''\n",
            "said/VBD the/DT March/NNP Hare/NNP ./.\n",
            "Alice/NNP was/VBD silent/JJ ./.\n",
            "The/DT Dormouse/NNP had/VBD closed/VBN its/PRP$ eyes/NNS by/IN this/DT time/NN ,/, and/CC was/VBD going/VBG off/RP into/IN a/DT doze/NN ;/: but/CC ,/, on/IN being/VBG pinched/VBN by/IN the/DT Hatter/NNP ,/, it/PRP woke/VBD up/RP again/RB with/IN a/DT little/JJ shriek/NN ,/, and/CC went/VBD on/IN :/: '/POS --/: that/IN begins/VBZ with/IN an/DT M/NNP ,/, such/JJ as/IN mouse-traps/NNS ,/, and/CC the/DT moon/NN ,/, and/CC memory/NN ,/, and/CC muchness/NN --/: you/PRP know/VBP you/PRP say/VBP things/NNS are/VBP ``/`` much/JJ of/IN a/DT muchness/NN ''/'' --/: did/VBD you/PRP ever/RB see/VB such/JJ a/DT thing/NN as/IN a/DT drawing/NN of/IN a/DT muchness/NN ?/. '/''\n",
            "'Really/RB ,/, now/RB you/PRP ask/VBP me/PRP ,/, '/'' said/VBD Alice/NNP ,/, very/RB much/RB confused/VBN ,/, '/'' I/PRP don't/VBP think/VB --/: '/POS 'Then/IN you/PRP should/MD n't/RB talk/VB ,/, '/'' said/VBD the/DT Hatter/NNP ./.\n",
            "This/DT piece/NN of/IN rudeness/NN was/VBD more/JJR than/IN Alice/NNP could/MD bear/VB :/: she/PRP got/VBD up/RB in/IN great/JJ disgust/NN ,/, and/CC walked/VBD off/RP ;/: the/DT Dormouse/NNP fell/VBD asleep/RB instantly/RB ,/, and/CC neither/DT of/IN the/DT others/NNS took/VBD the/DT least/JJS notice/NN of/IN her/PRP$ going/VBG ,/, though/IN she/PRP looked/VBD back/RB once/RB or/CC twice/RB ,/, half/NN hoping/VBG that/IN they/PRP would/MD call/VB after/IN her/PRP :/: the/DT last/JJ time/NN she/PRP saw/VBD them/PRP ,/, they/PRP were/VBD trying/VBG to/TO put/VB the/DT Dormouse/NNP into/IN the/DT teapot/NN ./.\n",
            "'At/CD any/DT rate/NN I/PRP 'll/MD never/RB go/VB THERE/NNP again/RB !/. '/''\n",
            "said/VBD Alice/NNP as/IN she/PRP picked/VBD her/PRP way/NN through/IN the/DT wood/NN ./.\n",
            "'It/NN 's/POS the/DT stupidest/JJS tea-party/NN I/PRP ever/RB was/VBD at/IN in/IN all/DT my/PRP$ life/NN !/. '/''\n",
            "Just/RB as/IN she/PRP said/VBD this/DT ,/, she/PRP noticed/VBD that/IN one/CD of/IN the/DT trees/NNS had/VBD a/DT door/NN leading/VBG right/RB into/IN it/PRP ./.\n",
            "'That/WP 's/VBZ very/RB curious/JJ !/. '/''\n",
            "she/PRP thought/VBD ./.\n",
            "'But/CD everything/NN 's/POS curious/JJ today/NN ./.\n",
            "I/PRP think/VBP I/PRP may/MD as/RB well/RB go/VB in/IN at/IN once/RB ./. '/''\n",
            "And/CC in/IN she/PRP went/VBD ./.\n",
            "Once/RB more/JJR she/PRP found/VBD herself/PRP in/IN the/DT long/JJ hall/NN ,/, and/CC close/RB to/TO the/DT little/JJ glass/NN table/NN ./.\n",
            "'Now/CD ,/, I/PRP 'll/MD manage/VB better/RBR this/DT time/NN ,/, '/'' she/PRP said/VBD to/TO herself/VB ,/, and/CC began/VBD by/IN taking/VBG the/DT little/JJ golden/JJ key/NN ,/, and/CC unlocking/VBG the/DT door/NN that/WDT led/VBD into/IN the/DT garden/NN ./.\n",
            "Then/RB she/PRP went/VBD to/TO work/VB nibbling/VBG at/IN the/DT mushroom/NN (/( she/PRP had/VBD kept/VBN a/DT piece/NN of/IN it/PRP in/IN her/PRP$ pocket/NN )/) till/NN she/PRP was/VBD about/IN a/DT foot/NN high/JJ :/: then/RB she/PRP walked/VBD down/RP the/DT little/JJ passage/NN :/: and/CC THEN/NNP --/: she/PRP found/VBD herself/PRP at/IN last/JJ in/IN the/DT beautiful/JJ garden/NN ,/, among/IN the/DT bright/JJ flower-beds/NNS and/CC the/DT cool/NN fountains/NNS ./.\n",
            "CHAPTER/NN VIII/NNP ./.\n",
            "The/DT Queen/NNP 's/POS Croquet-Ground/NN A/NNP large/JJ rose-tree/JJ stood/NN near/IN the/DT entrance/NN of/IN the/DT garden/NN :/: the/DT roses/NNS growing/VBG on/IN it/PRP were/VBD white/JJ ,/, but/CC there/EX were/VBD three/CD gardeners/NNS at/IN it/PRP ,/, busily/RB painting/VBG them/PRP red/JJ ./.\n",
            "Alice/NNP thought/VBD this/DT a/DT very/RB curious/JJ thing/NN ,/, and/CC she/PRP went/VBD nearer/RB to/TO watch/VB them/PRP ,/, and/CC just/RB as/IN she/PRP came/VBD up/RB to/TO them/PRP she/PRP heard/VBD one/CD of/IN them/PRP say/VBP ,/, 'Look/PRP out/RB now/RB ,/, Five/CD !/.\n",
            "Do/VBP n't/RB go/VB splashing/VBG paint/NN over/IN me/PRP like/IN that/DT !/. '/''\n",
            "'/POS I/PRP could/MD n't/RB help/VB it/PRP ,/, '/'' said/VBD Five/CD ,/, in/IN a/DT sulky/JJ tone/NN ;/: 'Seven/CC jogged/VBD my/PRP$ elbow/NN ./. '/''\n",
            "On/IN which/WDT Seven/NNP looked/VBD up/RP and/CC said/VBD ,/, 'That/WP 's/VBZ right/JJ ,/, Five/CD !/.\n",
            "Always/NNS lay/VBD the/DT blame/NN on/IN others/NNS !/. '/''\n",
            "'YOU/POS 'D/MD better/RBR not/RB talk/VB !/. '/''\n",
            "said/VBD Five/CD ./.\n",
            "'/POS I/PRP heard/VBD the/DT Queen/NNP say/VBP only/RB yesterday/NN you/PRP deserved/VBD to/TO be/VB beheaded/VBN !/. '/''\n",
            "'What/DT for/IN ?/. '/''\n",
            "said/VBD the/DT one/NN who/WP had/VBD spoken/VBN first/RB ./.\n",
            "'That/DT 's/VBZ none/NN of/IN YOUR/NNP business/NN ,/, Two/CD !/. '/''\n",
            "said/VBD Seven/NNP ./.\n",
            "'Yes/UH ,/, it/PRP IS/VBZ his/PRP$ business/NN !/. '/''\n",
            "said/VBD Five/CD ,/, 'and/VBP I/PRP 'll/MD tell/VB him/PRP --/: it/PRP was/VBD for/IN bringing/VBG the/DT cook/NN tulip-roots/JJ instead/RB of/IN onions/NNS ./. '/''\n",
            "Seven/NNP flung/VBD down/RP his/PRP$ brush/NN ,/, and/CC had/VBD just/RB begun/VBN 'Well/UH ,/, of/IN all/PDT the/DT unjust/JJ things/NNS --/: '/'' when/WRB his/PRP$ eye/NN chanced/VBD to/TO fall/VB upon/JJ Alice/NNP ,/, as/IN she/PRP stood/VBD watching/VBG them/PRP ,/, and/CC he/PRP checked/VBD himself/PRP suddenly/RB :/: the/DT others/NNS looked/VBD round/NN also/RB ,/, and/CC all/DT of/IN them/PRP bowed/VBD low/JJ ./.\n",
            "'Would/MD you/PRP tell/VB me/PRP ,/, '/'' said/VBD Alice/NNP ,/, a/DT little/JJ timidly/RB ,/, 'why/IN you/PRP are/VBP painting/VBG those/DT roses/NNS ?/. '/''\n",
            "Five/CD and/CC Seven/NNP said/VBD nothing/NN ,/, but/CC looked/VBD at/IN Two/CD ./.\n",
            "Two/CD began/VBD in/IN a/DT low/JJ voice/NN ,/, 'Why/'' the/DT fact/NN is/VBZ ,/, you/PRP see/VBP ,/, Miss/NNP ,/, this/DT here/RB ought/MD to/TO have/VB been/VBN a/DT RED/JJ rose-tree/NN ,/, and/CC we/PRP put/VBD a/DT white/JJ one/CD in/IN by/IN mistake/NN ;/: and/CC if/IN the/DT Queen/NNP was/VBD to/TO find/VB it/PRP out/RP ,/, we/PRP should/MD all/DT have/VB our/PRP$ heads/NNS cut/VBD off/RP ,/, you/PRP know/VBP ./.\n",
            "So/RB you/PRP see/VBP ,/, Miss/NNP ,/, we/PRP 're/VBP doing/VBG our/PRP$ best/JJS ,/, afore/IN she/PRP comes/VBZ ,/, to/TO --/: '/'' At/IN this/DT moment/NN Five/CD ,/, who/WP had/VBD been/VBN anxiously/RB looking/VBG across/IN the/DT garden/NN ,/, called/VBN out/RP 'The/CD Queen/JJ !/.\n",
            "The/DT Queen/NNP !/. '/''\n",
            "and/CC the/DT three/CD gardeners/NNS instantly/RB threw/VBD themselves/PRP flat/JJ upon/IN their/PRP$ faces/VBZ ./.\n",
            "There/EX was/VBD a/DT sound/NN of/IN many/JJ footsteps/NNS ,/, and/CC Alice/NNP looked/VBD round/NN ,/, eager/JJ to/TO see/VB the/DT Queen/NNP ./.\n",
            "First/RB came/VBD ten/JJ soldiers/NNS carrying/VBG clubs/NNS ;/: these/DT were/VBD all/DT shaped/VBN like/IN the/DT three/CD gardeners/NNS ,/, oblong/RB and/CC flat/JJ ,/, with/IN their/PRP$ hands/NNS and/CC feet/NNS at/IN the/DT corners/NNS :/: next/IN the/DT ten/JJ courtiers/NNS ;/: these/DT were/VBD ornamented/VBN all/DT over/IN with/IN diamonds/NNS ,/, and/CC walked/VBD two/CD and/CC two/CD ,/, as/IN the/DT soldiers/NNS did/VBD ./.\n",
            "After/IN these/DT came/VBD the/DT royal/JJ children/NNS ;/: there/EX were/VBD ten/NNS of/IN them/PRP ,/, and/CC the/DT little/JJ dears/NNS came/VBD jumping/VBG merrily/RB along/RB hand/NN in/IN hand/NN ,/, in/IN couples/NNS :/: they/PRP were/VBD all/DT ornamented/VBN with/IN hearts/NNS ./.\n",
            "Next/JJ came/VBD the/DT guests/NNS ,/, mostly/RB Kings/NNP and/CC Queens/NNP ,/, and/CC among/IN them/PRP Alice/NNP recognised/VBD the/DT White/NNP Rabbit/NN :/: it/PRP was/VBD talking/VBG in/IN a/DT hurried/JJ nervous/JJ manner/NN ,/, smiling/VBG at/IN everything/NN that/WDT was/VBD said/VBD ,/, and/CC went/VBD by/IN without/IN noticing/VBG her/PRP$ ./.\n",
            "Then/RB followed/VBD the/DT Knave/NNP of/IN Hearts/NNP ,/, carrying/VBG the/DT King's/NNP crown/NN on/IN a/DT crimson/NN velvet/NN cushion/NN ;/: and/CC ,/, last/JJ of/IN all/PDT this/DT grand/JJ procession/NN ,/, came/VBD THE/NNP KING/NNP AND/NNP QUEEN/NNP OF/NNP HEARTS/NNP ./.\n",
            "Alice/NNP was/VBD rather/RB doubtful/JJ whether/IN she/PRP ought/MD not/RB to/TO lie/VB down/RP on/IN her/PRP$ face/NN like/IN the/DT three/CD gardeners/NNS ,/, but/CC she/PRP could/MD not/RB remember/VB ever/RB having/VBG heard/VBN of/IN such/JJ a/DT rule/NN at/IN processions/NNS ;/: 'and/CD besides/NNS ,/, what/WP would/MD be/VB the/DT use/NN of/IN a/DT procession/NN ,/, '/'' thought/VBD she/PRP ,/, 'if/'' people/NNS had/VBD all/DT to/TO lie/VB down/RP upon/IN their/PRP$ faces/VBZ ,/, so/IN that/IN they/PRP could/MD n't/RB see/VB it/PRP ?/. '/''\n",
            "So/IN she/PRP stood/VBD still/RB where/WRB she/PRP was/VBD ,/, and/CC waited/VBD ./.\n",
            "When/WRB the/DT procession/NN came/VBD opposite/RB to/TO Alice/NNP ,/, they/PRP all/DT stopped/VBD and/CC looked/VBD at/IN her/PRP ,/, and/CC the/DT Queen/NNP said/VBD severely/RB 'Who/VBN is/VBZ this/DT ?/. '/''\n",
            "She/PRP said/VBD it/PRP to/TO the/DT Knave/NNP of/IN Hearts/NNP ,/, who/WP only/RB bowed/VBD and/CC smiled/VBD in/IN reply/NN ./.\n",
            "'Idiot/NN !/. '/''\n",
            "said/VBD the/DT Queen/NNP ,/, tossing/VBG her/PRP$ head/NN impatiently/RB ;/: and/CC ,/, turning/VBG to/TO Alice/NNP ,/, she/PRP went/VBD on/IN ,/, 'What/WP 's/VBZ your/PRP$ name/NN ,/, child/NN ?/. '/''\n",
            "'My/POS name/NN is/VBZ Alice/NNP ,/, so/IN please/VB your/PRP$ Majesty/NNP ,/, '/'' said/VBD Alice/NNP very/RB politely/RB ;/: but/CC she/PRP added/VBD ,/, to/TO herself/VB ,/, 'Why/FW ,/, they/PRP 're/VBP only/RB a/DT pack/NN of/IN cards/NNS ,/, after/IN all/DT ./.\n",
            "I/PRP need/VBP n't/RB be/VB afraid/VBN of/IN them/PRP !/. '/''\n",
            "'And/NNS who/WP are/VBP THESE/NNP ?/. '/''\n",
            "said/VBD the/DT Queen/NNP ,/, pointing/VBG to/TO the/DT three/CD gardeners/NNS who/WP were/VBD lying/VBG round/NN the/DT rosetree/NN ;/: for/IN ,/, you/PRP see/VBP ,/, as/IN they/PRP were/VBD lying/VBG on/IN their/PRP$ faces/VBZ ,/, and/CC the/DT pattern/NN on/IN their/PRP$ backs/NNS was/VBD the/DT same/JJ as/IN the/DT rest/NN of/IN the/DT pack/NN ,/, she/PRP could/MD not/RB tell/VB whether/IN they/PRP were/VBD gardeners/NNS ,/, or/CC soldiers/NNS ,/, or/CC courtiers/NNS ,/, or/CC three/CD of/IN her/PRP$ own/JJ children/NNS ./.\n",
            "'How/WRB should/MD I/PRP know/VB ?/. '/''\n",
            "said/VBD Alice/NNP ,/, surprised/VBD at/IN her/PRP$ own/JJ courage/NN ./.\n",
            "'It/EX 's/VBZ no/DT business/NN of/IN MINE/NNP ./. '/''\n",
            "The/DT Queen/NNP turned/VBD crimson/JJ with/IN fury/NN ,/, and/CC ,/, after/IN glaring/VBG at/IN her/PRP$ for/IN a/DT moment/NN like/IN a/DT wild/JJ beast/NN ,/, screamed/VBD 'Off/POS with/IN her/PRP$ head/NN !/.\n",
            "Off/NNP --/: '/POS 'Nonsense/NN !/. '/''\n",
            "said/VBD Alice/NNP ,/, very/RB loudly/RB and/CC decidedly/RB ,/, and/CC the/DT Queen/NNP was/VBD silent/JJ ./.\n",
            "The/DT King/NNP laid/VBD his/PRP$ hand/NN upon/IN her/PRP$ arm/NN ,/, and/CC timidly/RB said/VBD 'Consider/UH ,/, my/PRP$ dear/NN :/: she/PRP is/VBZ only/RB a/DT child/NN !/. '/''\n",
            "The/DT Queen/NNP turned/VBD angrily/RB away/RB from/IN him/PRP ,/, and/CC said/VBD to/TO the/DT Knave/NNP 'Turn/NNP them/PRP over/RP !/. '/''\n",
            "The/DT Knave/NNP did/VBD so/RB ,/, very/RB carefully/RB ,/, with/IN one/CD foot/NN ./.\n",
            "'Get/VB up/RP !/. '/''\n",
            "said/VBD the/DT Queen/NNP ,/, in/IN a/DT shrill/NN ,/, loud/JJ voice/NN ,/, and/CC the/DT three/CD gardeners/NNS instantly/RB jumped/VBD up/RP ,/, and/CC began/VBD bowing/VBG to/TO the/DT King/NNP ,/, the/DT Queen/NNP ,/, the/DT royal/NN children/NNS ,/, and/CC everybody/NN else/RB ./.\n",
            "'Leave/VB off/RP that/DT !/. '/''\n",
            "screamed/VBD the/DT Queen/NNP ./.\n",
            "'You/NNS make/VBP me/PRP giddy/JJ ./. '/''\n",
            "And/CC then/RB ,/, turning/VBG to/TO the/DT rose-tree/JJ ,/, she/PRP went/VBD on/IN ,/, 'What/WP HAVE/NNP you/PRP been/VBN doing/VBG here/RB ?/. '/''\n",
            "'May/IN it/PRP please/VB your/PRP$ Majesty/NNP ,/, '/'' said/VBD Two/CD ,/, in/IN a/DT very/RB humble/JJ tone/NN ,/, going/VBG down/RP on/IN one/CD knee/NN as/IN he/PRP spoke/VBD ,/, 'we/'' were/VBD trying/VBG --/: '/'' '/POS I/PRP see/VBP !/. '/''\n",
            "said/VBD the/DT Queen/NNP ,/, who/WP had/VBD meanwhile/RB been/VBN examining/VBG the/DT roses/NNS ./.\n",
            "'Off/NNS with/IN their/PRP$ heads/NNS !/. '/''\n",
            "and/CC the/DT procession/NN moved/VBD on/IN ,/, three/CD of/IN the/DT soldiers/NNS remaining/VBG behind/IN to/TO execute/VB the/DT unfortunate/JJ gardeners/NNS ,/, who/WP ran/VBD to/TO Alice/NNP for/IN protection/NN ./.\n",
            "'You/NNS sha/VBP n't/RB be/VB beheaded/VBN !/. '/''\n",
            "said/VBD Alice/NNP ,/, and/CC she/PRP put/VBD them/PRP into/IN a/DT large/JJ flower-pot/NN that/WDT stood/VBD near/IN ./.\n",
            "The/DT three/CD soldiers/NNS wandered/VBD about/IN for/IN a/DT minute/NN or/CC two/CD ,/, looking/VBG for/IN them/PRP ,/, and/CC then/RB quietly/RB marched/VBN off/RP after/IN the/DT others/NNS ./.\n",
            "'Are/POS their/PRP$ heads/NNS off/IN ?/. '/''\n",
            "shouted/VBD the/DT Queen/NNP ./.\n",
            "'Their/PRP$ heads/NNS are/VBP gone/VBN ,/, if/IN it/PRP please/VB your/PRP$ Majesty/NNP !/. '/''\n",
            "the/DT soldiers/NNS shouted/VBD in/IN reply/NN ./.\n",
            "'That/DT 's/VBZ right/JJ !/. '/''\n",
            "shouted/VBD the/DT Queen/NNP ./.\n",
            "'Can/MD you/PRP play/VB croquet/VB ?/. '/''\n",
            "The/DT soldiers/NNS were/VBD silent/JJ ,/, and/CC looked/VBD at/IN Alice/NNP ,/, as/IN the/DT question/NN was/VBD evidently/RB meant/VBN for/IN her/PRP ./.\n",
            "'Yes/UH !/. '/''\n",
            "shouted/VBN Alice/NNP ./.\n",
            "'Come/VBN on/IN ,/, then/RB !/. '/''\n",
            "roared/VBD the/DT Queen/NNP ,/, and/CC Alice/NNP joined/VBD the/DT procession/NN ,/, wondering/VBG very/RB much/JJ what/WP would/MD happen/VB next/RB ./.\n",
            "'It/NN 's/POS --/: it/PRP 's/VBZ a/DT very/RB fine/JJ day/NN !/. '/''\n",
            "said/VBD a/DT timid/JJ voice/NN at/IN her/PRP$ side/NN ./.\n",
            "She/PRP was/VBD walking/VBG by/IN the/DT White/NNP Rabbit/NNP ,/, who/WP was/VBD peeping/VBG anxiously/RB into/IN her/PRP$ face/NN ./.\n",
            "'Very/RB ,/, '/'' said/VBD Alice/NNP :/: '/POS --/: where/WRB 's/VBZ the/DT Duchess/NNP ?/. '/''\n",
            "'Hush/NN !/.\n",
            "Hush/NN !/. '/''\n",
            "said/VBD the/DT Rabbit/NNP in/IN a/DT low/JJ ,/, hurried/VBD tone/NN ./.\n",
            "He/PRP looked/VBD anxiously/RB over/IN his/PRP$ shoulder/NN as/IN he/PRP spoke/VBD ,/, and/CC then/RB raised/VBD himself/PRP upon/IN tiptoe/NN ,/, put/VBD his/PRP$ mouth/NN close/RB to/TO her/PRP$ ear/NN ,/, and/CC whispered/VBD 'She/PRP 's/VBZ under/IN sentence/NN of/IN execution/NN ./. '/''\n",
            "'What/DT for/IN ?/. '/''\n",
            "said/VBD Alice/NNP ./.\n",
            "'Did/IN you/PRP say/VBP ``/`` What/WP a/DT pity/NN !/. ''/'' ?/. '/''\n",
            "the/DT Rabbit/NNP asked/VBD ./.\n",
            "'No/CD ,/, I/PRP did/VBD n't/RB ,/, '/'' said/VBD Alice/NNP :/: '/POS I/PRP do/VBP n't/RB think/VB it/PRP 's/VBZ at/IN all/PDT a/DT pity/NN ./.\n",
            "I/PRP said/VBD ''/'' What/WP for/IN ?/. ''/'' '/''\n",
            "'She/CD boxed/VBD the/DT Queen/NNP 's/POS ears/NNS --/: '/'' the/DT Rabbit/NNP began/VBD ./.\n",
            "Alice/NNP gave/VBD a/DT little/JJ scream/NN of/IN laughter/NN ./.\n",
            "'Oh/CD ,/, hush/NN !/. '/''\n",
            "the/DT Rabbit/NNP whispered/VBD in/IN a/DT frightened/JJ tone/NN ./.\n",
            "'The/POS Queen/NNP will/MD hear/VB you/PRP !/.\n",
            "You/PRP see/VBP ,/, she/PRP came/VBD rather/RB late/JJ ,/, and/CC the/DT Queen/NNP said/VBD --/: '/'' 'Get/MD to/TO your/PRP$ places/NNS !/. '/''\n",
            "shouted/VBD the/DT Queen/NNP in/IN a/DT voice/NN of/IN thunder/NN ,/, and/CC people/NNS began/VBD running/VBG about/RB in/IN all/DT directions/NNS ,/, tumbling/VBG up/RP against/IN each/DT other/JJ ;/: however/RB ,/, they/PRP got/VBD settled/VBN down/RB in/IN a/DT minute/NN or/CC two/CD ,/, and/CC the/DT game/NN began/VBD ./.\n",
            "Alice/NNP thought/VBD she/PRP had/VBD never/RB seen/VBN such/PDT a/DT curious/JJ croquet-ground/NN in/IN her/PRP$ life/NN ;/: it/PRP was/VBD all/DT ridges/NNS and/CC furrows/NNS ;/: the/DT balls/NNS were/VBD live/JJ hedgehogs/NNS ,/, the/DT mallets/NNS live/VBP flamingoes/NNS ,/, and/CC the/DT soldiers/NNS had/VBD to/TO double/VB themselves/PRP up/RB and/CC to/TO stand/VB on/IN their/PRP$ hands/NNS and/CC feet/NNS ,/, to/TO make/VB the/DT arches/NNS ./.\n",
            "The/DT chief/NN difficulty/NN Alice/NNP found/VBD at/IN first/JJ was/VBD in/IN managing/VBG her/PRP$ flamingo/NN :/: she/PRP succeeded/VBD in/IN getting/VBG its/PRP$ body/NN tucked/VBD away/RB ,/, comfortably/RB enough/RB ,/, under/IN her/PRP$ arm/NN ,/, with/IN its/PRP$ legs/NNS hanging/VBG down/RP ,/, but/CC generally/RB ,/, just/RB as/IN she/PRP had/VBD got/VBN its/PRP$ neck/NN nicely/RB straightened/VBD out/RP ,/, and/CC was/VBD going/VBG to/TO give/VB the/DT hedgehog/NN a/DT blow/NN with/IN its/PRP$ head/NN ,/, it/PRP WOULD/NNP twist/VB itself/PRP round/JJ and/CC look/VB up/RP in/IN her/PRP$ face/NN ,/, with/IN such/PDT a/DT puzzled/JJ expression/NN that/IN she/PRP could/MD not/RB help/VB bursting/VBG out/RP laughing/VBG :/: and/CC when/WRB she/PRP had/VBD got/VBN its/PRP$ head/NN down/RB ,/, and/CC was/VBD going/VBG to/TO begin/VB again/RB ,/, it/PRP was/VBD very/RB provoking/VBG to/TO find/VB that/IN the/DT hedgehog/NN had/VBD unrolled/VBN itself/PRP ,/, and/CC was/VBD in/IN the/DT act/NN of/IN crawling/VBG away/RB :/: besides/IN all/PDT this/DT ,/, there/EX was/VBD generally/RB a/DT ridge/NN or/CC furrow/NN in/IN the/DT way/NN wherever/IN she/PRP wanted/VBD to/TO send/VB the/DT hedgehog/NN to/TO ,/, and/CC ,/, as/IN the/DT doubled-up/JJ soldiers/NNS were/VBD always/RB getting/VBG up/RP and/CC walking/VBG off/RP to/TO other/JJ parts/NNS of/IN the/DT ground/NN ,/, Alice/NNP soon/RB came/VBD to/TO the/DT conclusion/NN that/IN it/PRP was/VBD a/DT very/RB difficult/JJ game/NN indeed/RB ./.\n",
            "The/DT players/NNS all/DT played/VBN at/IN once/RB without/IN waiting/VBG for/IN turns/NNS ,/, quarrelling/VBG all/PDT the/DT while/NN ,/, and/CC fighting/VBG for/IN the/DT hedgehogs/NNS ;/: and/CC in/IN a/DT very/RB short/JJ time/NN the/DT Queen/NNP was/VBD in/IN a/DT furious/JJ passion/NN ,/, and/CC went/VBD stamping/VBG about/RB ,/, and/CC shouting/VBG 'Off/PRP with/IN his/PRP$ head/NN !/. '/''\n",
            "or/CC 'Off/POS with/IN her/PRP$ head/NN !/. '/''\n",
            "about/RB once/RB in/IN a/DT minute/NN ./.\n",
            "Alice/NNP began/VBD to/TO feel/VB very/RB uneasy/JJ :/: to/TO be/VB sure/JJ ,/, she/PRP had/VBD not/RB as/IN yet/RB had/VBD any/DT dispute/NN with/IN the/DT Queen/NNP ,/, but/CC she/PRP knew/VBD that/IN it/PRP might/MD happen/VB any/DT minute/NN ,/, 'and/'' then/RB ,/, '/'' thought/VBD she/PRP ,/, 'what/WP would/MD become/VB of/IN me/PRP ?/.\n",
            "They/PRP 're/VBP dreadfully/RB fond/NN of/IN beheading/VBG people/NNS here/RB ;/: the/DT great/JJ wonder/NN is/VBZ ,/, that/IN there/EX 's/VBZ any/DT one/CD left/VBD alive/JJ !/. '/''\n",
            "She/PRP was/VBD looking/VBG about/IN for/IN some/DT way/NN of/IN escape/NN ,/, and/CC wondering/VBG whether/IN she/PRP could/MD get/VB away/RB without/IN being/VBG seen/VBN ,/, when/WRB she/PRP noticed/VBD a/DT curious/JJ appearance/NN in/IN the/DT air/NN :/: it/PRP puzzled/VBD her/PRP very/RB much/RB at/IN first/JJ ,/, but/CC ,/, after/IN watching/VBG it/PRP a/DT minute/NN or/CC two/CD ,/, she/PRP made/VBD it/PRP out/RP to/TO be/VB a/DT grin/NN ,/, and/CC she/PRP said/VBD to/TO herself/VB 'It/PRP 's/VBZ the/DT Cheshire/NNP Cat/NNP :/: now/RB I/PRP shall/MD have/VB somebody/NN to/TO talk/VB to/TO ./. '/''\n",
            "'How/NNS are/VBP you/PRP getting/VBG on/IN ?/. '/''\n",
            "said/VBD the/DT Cat/NNP ,/, as/RB soon/RB as/IN there/EX was/VBD mouth/NN enough/RB for/IN it/PRP to/TO speak/VB with/IN ./.\n",
            "Alice/NNP waited/VBD till/IN the/DT eyes/NNS appeared/VBD ,/, and/CC then/RB nodded/VBD ./.\n",
            "'It/EX 's/VBZ no/DT use/NN speaking/VBG to/TO it/PRP ,/, '/'' she/PRP thought/VBD ,/, 'till/VB its/PRP$ ears/NNS have/VBP come/VBN ,/, or/CC at/IN least/JJS one/CD of/IN them/PRP ./. '/''\n",
            "In/IN another/DT minute/NN the/DT whole/JJ head/NN appeared/VBD ,/, and/CC then/RB Alice/NNP put/VBD down/RP her/PRP$ flamingo/NN ,/, and/CC began/VBD an/DT account/NN of/IN the/DT game/NN ,/, feeling/VBG very/RB glad/JJ she/PRP had/VBD someone/NN to/TO listen/VB to/TO her/PRP$ ./.\n",
            "The/DT Cat/NNP seemed/VBD to/TO think/VB that/IN there/EX was/VBD enough/RB of/IN it/PRP now/RB in/IN sight/NN ,/, and/CC no/DT more/JJR of/IN it/PRP appeared/VBD ./.\n",
            "'/POS I/PRP do/VBP n't/RB think/VB they/PRP play/VBP at/IN all/DT fairly/RB ,/, '/'' Alice/NNP began/VBD ,/, in/IN rather/RB a/DT complaining/VBG tone/NN ,/, 'and/'' they/PRP all/DT quarrel/VBP so/RB dreadfully/RB one/CD ca/MD n't/RB hear/VB oneself/PRP speak/VB --/: and/CC they/PRP do/VBP n't/RB seem/VB to/TO have/VB any/DT rules/NNS in/IN particular/JJ ;/: at/IN least/JJS ,/, if/IN there/EX are/VBP ,/, nobody/JJ attends/NNS to/TO them/PRP --/: and/CC you/PRP 've/VBP no/DT idea/NN how/WRB confusing/JJ it/PRP is/VBZ all/PDT the/DT things/NNS being/VBG alive/JJ ;/: for/IN instance/NN ,/, there/EX 's/VBZ the/DT arch/NN I/PRP 've/VBP got/VBN to/TO go/VB through/IN next/JJ walking/NN about/RB at/IN the/DT other/JJ end/NN of/IN the/DT ground/NN --/: and/CC I/PRP should/MD have/VB croqueted/VBN the/DT Queen/NNP 's/POS hedgehog/NN just/RB now/RB ,/, only/RB it/PRP ran/VBD away/RB when/WRB it/PRP saw/VBD mine/JJ coming/VBG !/. '/''\n",
            "'How/WRB do/VBP you/PRP like/IN the/DT Queen/NNP ?/. '/''\n",
            "said/VBD the/DT Cat/NNP in/IN a/DT low/JJ voice/NN ./.\n",
            "'Not/NNS at/IN all/DT ,/, '/'' said/VBD Alice/NNP :/: 'she/NN 's/POS so/RB extremely/RB --/: '/'' Just/RB then/RB she/PRP noticed/VBD that/IN the/DT Queen/NNP was/VBD close/JJ behind/IN her/PRP ,/, listening/VBG :/: so/RB she/PRP went/VBD on/IN ,/, '/'' --/: likely/JJ to/TO win/VB ,/, that/IN it/PRP 's/VBZ hardly/RB worth/JJ while/IN finishing/VBG the/DT game/NN ./. '/''\n",
            "The/DT Queen/NNP smiled/VBD and/CC passed/VBD on/IN ./.\n",
            "'Who/NNS ARE/VBP you/PRP talking/VBG to/TO ?/. '/''\n",
            "said/VBD the/DT King/NNP ,/, going/VBG up/RP to/TO Alice/NNP ,/, and/CC looking/VBG at/IN the/DT Cat/NNP 's/POS head/NN with/IN great/JJ curiosity/NN ./.\n",
            "'It/NN 's/POS a/DT friend/NN of/IN mine/NN --/: a/DT Cheshire/NNP Cat/NNP ,/, '/'' said/VBD Alice/NNP :/: 'allow/VB me/PRP to/TO introduce/VB it/PRP ./. '/''\n",
            "'/POS I/PRP do/VBP n't/RB like/VB the/DT look/NN of/IN it/PRP at/IN all/DT ,/, '/'' said/VBD the/DT King/NNP :/: 'however/CD ,/, it/PRP may/MD kiss/VB my/PRP$ hand/NN if/IN it/PRP likes/VBZ ./. '/''\n",
            "'/POS I/PRP 'd/MD rather/RB not/RB ,/, '/'' the/DT Cat/NNP remarked/VBD ./.\n",
            "'Do/MD n't/RB be/VB impertinent/JJ ,/, '/'' said/VBD the/DT King/NNP ,/, 'and/NNP do/VBP n't/RB look/VB at/IN me/PRP like/IN that/DT !/. '/''\n",
            "He/PRP got/VBD behind/RB Alice/NNP as/IN he/PRP spoke/VBD ./.\n",
            "'/'' A/DT cat/NN may/MD look/VB at/IN a/DT king/NN ,/, '/'' said/VBD Alice/NNP ./.\n",
            "'/POS I/PRP 've/VBP read/VBN that/IN in/IN some/DT book/NN ,/, but/CC I/PRP do/VBP n't/RB remember/VB where/WRB ./. '/''\n",
            "'Well/UH ,/, it/PRP must/MD be/VB removed/VBN ,/, '/'' said/VBD the/DT King/NNP very/RB decidedly/RB ,/, and/CC he/PRP called/VBD the/DT Queen/NNP ,/, who/WP was/VBD passing/VBG at/IN the/DT moment/NN ,/, 'My/'' dear/NN !/.\n",
            "I/PRP wish/VBP you/PRP would/MD have/VB this/DT cat/NN removed/VBD !/. '/''\n",
            "The/DT Queen/NNP had/VBD only/RB one/CD way/NN of/IN settling/VBG all/DT difficulties/NNS ,/, great/JJ or/CC small/JJ ./.\n",
            "'Off/NN with/IN his/PRP$ head/NN !/. '/''\n",
            "she/PRP said/VBD ,/, without/IN even/RB looking/VBG round/NN ./.\n",
            "'/POS I/PRP 'll/MD fetch/VB the/DT executioner/NN myself/PRP ,/, '/'' said/VBD the/DT King/NNP eagerly/RB ,/, and/CC he/PRP hurried/VBD off/RP ./.\n",
            "Alice/NNP thought/VBD she/PRP might/MD as/RB well/RB go/VB back/RB ,/, and/CC see/VB how/WRB the/DT game/NN was/VBD going/VBG on/IN ,/, as/IN she/PRP heard/VBD the/DT Queen/NNP 's/POS voice/NN in/IN the/DT distance/NN ,/, screaming/VBG with/IN passion/NN ./.\n",
            "She/PRP had/VBD already/RB heard/VBN her/PRP$ sentence/NN three/CD of/IN the/DT players/NNS to/TO be/VB executed/VBN for/IN having/VBG missed/VBN their/PRP$ turns/NNS ,/, and/CC she/PRP did/VBD not/RB like/IN the/DT look/NN of/IN things/NNS at/IN all/DT ,/, as/IN the/DT game/NN was/VBD in/IN such/JJ confusion/NN that/IN she/PRP never/RB knew/VBD whether/IN it/PRP was/VBD her/PRP turn/NN or/CC not/RB ./.\n",
            "So/IN she/PRP went/VBD in/IN search/NN of/IN her/PRP$ hedgehog/NN ./.\n",
            "The/DT hedgehog/NN was/VBD engaged/VBN in/IN a/DT fight/NN with/IN another/DT hedgehog/NN ,/, which/WDT seemed/VBD to/TO Alice/NNP an/DT excellent/JJ opportunity/NN for/IN croqueting/VBG one/CD of/IN them/PRP with/IN the/DT other/JJ :/: the/DT only/JJ difficulty/NN was/VBD ,/, that/IN her/PRP$ flamingo/NN was/VBD gone/VBN across/IN to/TO the/DT other/JJ side/NN of/IN the/DT garden/NN ,/, where/WRB Alice/NNP could/MD see/VB it/PRP trying/VBG in/IN a/DT helpless/JJ sort/NN of/IN way/NN to/TO fly/VB up/RP into/IN a/DT tree/NN ./.\n",
            "By/IN the/DT time/NN she/PRP had/VBD caught/VBN the/DT flamingo/NN and/CC brought/VBD it/PRP back/RB ,/, the/DT fight/NN was/VBD over/IN ,/, and/CC both/DT the/DT hedgehogs/NNS were/VBD out/IN of/IN sight/NN :/: 'but/VB it/PRP doesn't/VB matter/RB much/RB ,/, '/'' thought/JJ Alice/NNP ,/, 'as/'' all/PDT the/DT arches/NNS are/VBP gone/VBN from/IN this/DT side/NN of/IN the/DT ground/NN ./. '/''\n",
            "So/IN she/PRP tucked/VBD it/PRP away/RP under/IN her/PRP$ arm/NN ,/, that/IN it/PRP might/MD not/RB escape/VB again/RB ,/, and/CC went/VBD back/RB for/IN a/DT little/RB more/JJR conversation/NN with/IN her/PRP$ friend/NN ./.\n",
            "When/WRB she/PRP got/VBD back/RB to/TO the/DT Cheshire/NNP Cat/NNP ,/, she/PRP was/VBD surprised/VBN to/TO find/VB quite/PDT a/DT large/JJ crowd/NN collected/VBD round/NN it/PRP :/: there/EX was/VBD a/DT dispute/NN going/VBG on/IN between/IN the/DT executioner/NN ,/, the/DT King/NNP ,/, and/CC the/DT Queen/NNP ,/, who/WP were/VBD all/DT talking/VBG at/IN once/RB ,/, while/IN all/PDT the/DT rest/NN were/VBD quite/RB silent/JJ ,/, and/CC looked/VBD very/RB uncomfortable/JJ ./.\n",
            "The/DT moment/NN Alice/NNP appeared/VBD ,/, she/PRP was/VBD appealed/VBN to/TO by/IN all/DT three/CD to/TO settle/VB the/DT question/NN ,/, and/CC they/PRP repeated/VBD their/PRP$ arguments/NNS to/TO her/PRP$ ,/, though/RB ,/, as/IN they/PRP all/DT spoke/VBD at/IN once/RB ,/, she/PRP found/VBD it/PRP very/RB hard/RB indeed/RB to/TO make/VB out/RP exactly/RB what/WP they/PRP said/VBD ./.\n",
            "The/DT executioner/NN 's/POS argument/NN was/VBD ,/, that/IN you/PRP could/MD n't/RB cut/VB off/RP a/DT head/NN unless/IN there/EX was/VBD a/DT body/NN to/TO cut/VB it/PRP off/RP from/IN :/: that/IN he/PRP had/VBD never/RB had/VBN to/TO do/VB such/PDT a/DT thing/NN before/IN ,/, and/CC he/PRP was/VBD n't/RB going/VBG to/TO begin/VB at/IN HIS/NNP time/NN of/IN life/NN ./.\n",
            "The/DT King/NNP 's/POS argument/NN was/VBD ,/, that/IN anything/NN that/WDT had/VBD a/DT head/NN could/MD be/VB beheaded/VBN ,/, and/CC that/IN you/PRP were/VBD n't/RB to/TO talk/VB nonsense/NN ./.\n",
            "The/DT Queen/NNP 's/POS argument/NN was/VBD ,/, that/IN if/IN something/NN was/VBD n't/RB done/VBN about/IN it/PRP in/IN less/JJR than/IN no/DT time/NN she/PRP 'd/MD have/VB everybody/NN executed/VBN ,/, all/DT round/NN ./.\n",
            "(/( It/PRP was/VBD this/DT last/JJ remark/NN that/WDT had/VBD made/VBN the/DT whole/JJ party/NN look/NN so/RB grave/JJ and/CC anxious/JJ ./. )/)\n",
            "Alice/NNP could/MD think/VB of/IN nothing/NN else/RB to/TO say/VB but/CC 'It/NNP belongs/VBZ to/TO the/DT Duchess/NN :/: you/PRP 'd/MD better/VB ask/VB HER/PRP about/IN it/PRP ./. '/''\n",
            "'She/NN 's/POS in/IN prison/NN ,/, '/'' the/DT Queen/NNP said/VBD to/TO the/DT executioner/NN :/: 'fetch/VB her/PRP$ here/RB ./. '/''\n",
            "And/CC the/DT executioner/NN went/VBD off/IN like/IN an/DT arrow/NN ./.\n",
            "The/DT Cat/NNP 's/POS head/NN began/VBD fading/VBG away/RB the/DT moment/NN he/PRP was/VBD gone/VBN ,/, and/CC ,/, by/IN the/DT time/NN he/PRP had/VBD come/VBN back/RB with/IN the/DT Duchess/NNP ,/, it/PRP had/VBD entirely/RB disappeared/VBN ;/: so/IN the/DT King/NNP and/CC the/DT executioner/NN ran/VBD wildly/RB up/IN and/CC down/IN looking/VBG for/IN it/PRP ,/, while/IN the/DT rest/NN of/IN the/DT party/NN went/VBD back/RB to/TO the/DT game/NN ./.\n",
            "CHAPTER/NN IX/NNP ./.\n",
            "The/DT Mock/NNP Turtle/NNP 's/POS Story/NNP 'You/NNP ca/MD n't/RB think/VB how/WRB glad/JJ I/PRP am/VBP to/TO see/VB you/PRP again/RB ,/, you/PRP dear/VBP old/JJ thing/NN !/. '/''\n",
            "said/VBD the/DT Duchess/NNP ,/, as/IN she/PRP tucked/VBD her/PRP arm/NN affectionately/RB into/IN Alice/NNP 's/POS ,/, and/CC they/PRP walked/VBD off/RP together/RB ./.\n",
            "Alice/NNP was/VBD very/RB glad/JJ to/TO find/VB her/PRP$ in/IN such/JJ a/DT pleasant/JJ temper/NN ,/, and/CC thought/VBD to/TO herself/VB that/IN perhaps/RB it/PRP was/VBD only/RB the/DT pepper/NN that/WDT had/VBD made/VBN her/PRP$ so/RB savage/JJ when/WRB they/PRP met/VBD in/IN the/DT kitchen/NN ./.\n",
            "'When/POS I/PRP 'M/VBP a/DT Duchess/NNP ,/, '/'' she/PRP said/VBD to/TO herself/VB ,/, (/( not/RB in/IN a/DT very/RB hopeful/JJ tone/NN though/IN )/) ,/, '/'' I/PRP wo/MD n't/RB have/VB any/DT pepper/NN in/IN my/PRP$ kitchen/NN AT/NNP ALL/NNP ./.\n",
            "Soup/NN does/VBZ very/RB well/RB without/IN --/: Maybe/VBP it/PRP 's/VBZ always/RB pepper/JJ that/IN makes/VBZ people/NNS hot-tempered/JJ ,/, '/'' she/PRP went/VBD on/IN ,/, very/RB much/RB pleased/VBN at/IN having/VBG found/VBN out/RP a/DT new/JJ kind/NN of/IN rule/NN ,/, 'and/CD vinegar/NN that/WDT makes/VBZ them/PRP sour/VB --/: and/CC camomile/JJ that/WDT makes/VBZ them/PRP bitter/JJ --/: and/CC --/: and/CC barley-sugar/JJ and/CC such/JJ things/NNS that/WDT make/VBP children/NNS sweet-tempered/JJ ./.\n",
            "I/PRP only/RB wish/JJ people/NNS knew/VBD that/IN :/: then/RB they/PRP would/MD n't/RB be/VB so/RB stingy/JJ about/IN it/PRP ,/, you/PRP know/VBP --/: '/POS She/PRP had/VBD quite/RB forgotten/VBN the/DT Duchess/NNP by/IN this/DT time/NN ,/, and/CC was/VBD a/DT little/JJ startled/JJ when/WRB she/PRP heard/VBD her/PRP voice/NN close/RB to/TO her/PRP$ ear/NN ./.\n",
            "'You/POS 're/VBP thinking/VBG about/IN something/NN ,/, my/PRP$ dear/NN ,/, and/CC that/IN makes/VBZ you/PRP forget/VB to/TO talk/VB ./.\n",
            "I/PRP can't/VBP tell/VB you/PRP just/RB now/RB what/WP the/DT moral/NN of/IN that/DT is/VBZ ,/, but/CC I/PRP shall/MD remember/VB it/PRP in/IN a/DT bit/NN ./. '/''\n",
            "'Perhaps/NNS it/PRP has/VBZ n't/RB one/CD ,/, '/'' Alice/NNP ventured/VBD to/TO remark/VB ./.\n",
            "'Tut/CD ,/, tut/NN ,/, child/NN !/. '/''\n",
            "said/VBD the/DT Duchess/NNP ./.\n",
            "'Everything/VBG 's/POS got/VBD a/DT moral/JJ ,/, if/IN only/RB you/PRP can/MD find/VB it/PRP ./. '/''\n",
            "And/CC she/PRP squeezed/VBD herself/PRP up/RP closer/RBR to/TO Alice/NNP 's/POS side/NN as/IN she/PRP spoke/VBD ./.\n",
            "Alice/NNP did/VBD not/RB much/JJ like/IN keeping/VBG so/RB close/RB to/TO her/PRP$ :/: first/RB ,/, because/IN the/DT Duchess/NNP was/VBD VERY/NNP ugly/RB ;/: and/CC secondly/RB ,/, because/IN she/PRP was/VBD exactly/RB the/DT right/JJ height/NN to/TO rest/VB her/PRP$ chin/JJ upon/IN Alice/NNP 's/POS shoulder/NN ,/, and/CC it/PRP was/VBD an/DT uncomfortably/JJ sharp/JJ chin/NN ./.\n",
            "However/RB ,/, she/PRP did/VBD not/RB like/IN to/TO be/VB rude/JJ ,/, so/IN she/PRP bore/VBD it/PRP as/RB well/RB as/IN she/PRP could/MD ./.\n",
            "'The/JJ game/NN 's/POS going/VBG on/IN rather/RB better/JJR now/RB ,/, '/'' she/PRP said/VBD ,/, by/IN way/NN of/IN keeping/VBG up/RP the/DT conversation/NN a/DT little/JJ ./.\n",
            "''/'' Tis/NNP so/RB ,/, '/'' said/VBD the/DT Duchess/NN :/: 'and/CD the/DT moral/NN of/IN that/DT is/VBZ --/: ''/'' Oh/UH ,/, 't/'' is/VBZ love/NN ,/, 'tis/'' love/NN ,/, that/WDT makes/VBZ the/DT world/NN go/VBP round/NN !/. ''/'' '/''\n",
            "'Somebody/NN said/VBD ,/, '/'' Alice/NNP whispered/VBD ,/, 'that/IN it/PRP 's/VBZ done/VBN by/IN everybody/NN minding/VBG their/PRP$ own/JJ business/NN !/. '/''\n",
            "'Ah/NN ,/, well/RB !/.\n",
            "It/PRP means/VBZ much/RB the/DT same/JJ thing/NN ,/, '/'' said/VBD the/DT Duchess/NNP ,/, digging/VBG her/PRP$ sharp/JJ little/JJ chin/NN into/IN Alice/NNP 's/POS shoulder/NN as/IN she/PRP added/VBD ,/, 'and/'' the/DT moral/NN of/IN THAT/DT is/VBZ --/: ''/'' Take/NNP care/NN of/IN the/DT sense/NN ,/, and/CC the/DT sounds/NNS will/MD take/VB care/NN of/IN themselves/PRP ./. ''/'' '/''\n",
            "'How/CD fond/NN she/PRP is/VBZ of/IN finding/VBG morals/NNS in/IN things/NNS !/. '/''\n",
            "Alice/NNP thought/VBD to/TO herself/VB ./.\n",
            "'/POS I/PRP dare/VBP say/VB you/PRP 're/VBP wondering/VBG why/WRB I/PRP do/VBP n't/RB put/VB my/PRP$ arm/NN round/VB your/PRP$ waist/NN ,/, '/'' the/DT Duchess/NNP said/VBD after/IN a/DT pause/NN :/: 'the/CD reason/NN is/VBZ ,/, that/IN I/PRP 'm/VBP doubtful/JJ about/IN the/DT temper/NN of/IN your/PRP$ flamingo/NN ./.\n",
            "Shall/NN I/PRP try/VBP the/DT experiment/NN ?/. '/''\n",
            "'HE/NN might/MD bite/VB ,/, '/'' Alice/NNP cautiously/RB replied/VBD ,/, not/RB feeling/VBG at/IN all/DT anxious/JJ to/TO have/VB the/DT experiment/NN tried/VBD ./.\n",
            "'Very/DT true/JJ ,/, '/'' said/VBD the/DT Duchess/NN :/: 'flamingoes/NNS and/CC mustard/VB both/DT bite/NN ./.\n",
            "And/CC the/DT moral/NN of/IN that/DT is/VBZ --/: ''/'' Birds/NNS of/IN a/DT feather/NN flock/NN together/RB ./. ''/'' '/''\n",
            "'Only/RB mustard/NN is/VBZ n't/RB a/DT bird/NN ,/, '/'' Alice/NNP remarked/VBD ./.\n",
            "'Right/RB ,/, as/IN usual/JJ ,/, '/'' said/VBD the/DT Duchess/NN :/: 'what/WP a/DT clear/JJ way/NN you/PRP have/VBP of/IN putting/VBG things/NNS !/. '/''\n",
            "'It/NN 's/POS a/DT mineral/NN ,/, I/PRP THINK/VBP ,/, '/'' said/VBD Alice/NNP ./.\n",
            "'Of/CD course/NN it/PRP is/VBZ ,/, '/'' said/VBD the/DT Duchess/NNP ,/, who/WP seemed/VBD ready/JJ to/TO agree/VB to/TO everything/NN that/WDT Alice/NNP said/VBD ;/: 'there/EX 's/VBZ a/DT large/JJ mustard-mine/NN near/IN here/RB ./.\n",
            "And/CC the/DT moral/NN of/IN that/DT is/VBZ --/: ''/'' The/DT more/RBR there/EX is/VBZ of/IN mine/NN ,/, the/DT less/JJR there/EX is/VBZ of/IN yours/NNS ./. ''/'' '/''\n",
            "'Oh/CD ,/, I/PRP know/VBP !/. '/''\n",
            "exclaimed/JJ Alice/NNP ,/, who/WP had/VBD not/RB attended/VBN to/TO this/DT last/JJ remark/NN ,/, 'it/EX 's/VBZ a/DT vegetable/JJ ./.\n",
            "It/PRP does/VBZ n't/RB look/VB like/IN one/CD ,/, but/CC it/PRP is/VBZ ./. '/''\n",
            "'/POS I/PRP quite/VBP agree/JJ with/IN you/PRP ,/, '/'' said/VBD the/DT Duchess/NNP ;/: 'and/CD the/DT moral/NN of/IN that/DT is/VBZ --/: ''/'' Be/VB what/WP you/PRP would/MD seem/VB to/TO be/VB ''/'' --/: or/CC if/IN you/PRP 'd/MD like/VB it/PRP put/VB more/RBR simply/RB --/: ''/'' Never/RB imagine/VB yourself/PRP not/RB to/TO be/VB otherwise/RB than/IN what/WP it/PRP might/MD appear/VB to/TO others/NNS that/IN what/WP you/PRP were/VBD or/CC might/MD have/VB been/VBN was/VBD not/RB otherwise/RB than/IN what/WP you/PRP had/VBD been/VBN would/MD have/VB appeared/VBN to/TO them/PRP to/TO be/VB otherwise/RB ./. ''/'' '/''\n",
            "'/POS I/PRP think/VBP I/PRP should/MD understand/VB that/IN better/JJR ,/, '/'' Alice/NNP said/VBD very/RB politely/RB ,/, 'if/'' I/PRP had/VBD it/PRP written/VBN down/RP :/: but/CC I/PRP ca/MD n't/RB quite/RB follow/VB it/PRP as/IN you/PRP say/VBP it/PRP ./. '/''\n",
            "'That/DT 's/VBZ nothing/NN to/TO what/WP I/PRP could/MD say/VB if/IN I/PRP chose/VBD ,/, '/'' the/DT Duchess/NNP replied/VBD ,/, in/IN a/DT pleased/JJ tone/NN ./.\n",
            "'Pray/NNS do/VBP n't/RB trouble/NN yourself/PRP to/TO say/VB it/PRP any/DT longer/JJR than/IN that/DT ,/, '/'' said/VBD Alice/NNP ./.\n",
            "'Oh/NNS ,/, do/VBP n't/RB talk/VB about/IN trouble/NN !/. '/''\n",
            "said/VBD the/DT Duchess/NNP ./.\n",
            "'/POS I/PRP make/VBP you/PRP a/DT present/JJ of/IN everything/NN I/PRP 've/VBP said/VBD as/IN yet/RB ./. '/''\n",
            "'/'' A/DT cheap/JJ sort/NN of/IN present/JJ !/. '/''\n",
            "thought/JJ Alice/NNP ./.\n",
            "'/POS I/PRP 'm/VBP glad/JJ they/PRP do/VBP n't/RB give/VB birthday/JJ presents/NNS like/IN that/DT !/. '/''\n",
            "But/CC she/PRP did/VBD not/RB venture/NN to/TO say/VB it/PRP out/RP loud/JJ ./.\n",
            "'Thinking/VBG again/RB ?/. '/''\n",
            "the/DT Duchess/NNP asked/VBD ,/, with/IN another/DT dig/NN of/IN her/PRP$ sharp/JJ little/JJ chin/NN ./.\n",
            "'/POS I/PRP 've/VBP a/DT right/NN to/TO think/VB ,/, '/'' said/VBD Alice/NNP sharply/RB ,/, for/IN she/PRP was/VBD beginning/VBG to/TO feel/VB a/DT little/JJ worried/JJ ./.\n",
            "'Just/RB about/RB as/RB much/JJ right/NN ,/, '/'' said/VBD the/DT Duchess/NNP ,/, 'as/'' pigs/NNS have/VBP to/TO fly/VB ;/: and/CC the/DT m/NN --/: '/'' But/CC here/RB ,/, to/TO Alice/NNP 's/POS great/JJ surprise/NN ,/, the/DT Duchess/NNP 's/POS voice/NN died/VBD away/RB ,/, even/RB in/IN the/DT middle/NN of/IN her/PRP$ favourite/JJ word/NN 'moral/NNP ,/, '/'' and/CC the/DT arm/NN that/WDT was/VBD linked/VBN into/IN hers/NNS began/VBD to/TO tremble/VB ./.\n",
            "Alice/NN looked/VBD up/RB ,/, and/CC there/RB stood/VBD the/DT Queen/NNP in/IN front/NN of/IN them/PRP ,/, with/IN her/PRP$ arms/NNS folded/VBN ,/, frowning/VBG like/IN a/DT thunderstorm/NN ./.\n",
            "'/'' A/DT fine/JJ day/NN ,/, your/PRP$ Majesty/JJ !/. '/''\n",
            "the/DT Duchess/NNP began/VBD in/IN a/DT low/JJ ,/, weak/JJ voice/NN ./.\n",
            "'Now/CD ,/, I/PRP give/VBP you/PRP fair/JJ warning/VBG ,/, '/'' shouted/VBD the/DT Queen/NNP ,/, stamping/VBG on/IN the/DT ground/NN as/IN she/PRP spoke/VBD ;/: 'either/CC you/PRP or/CC your/PRP$ head/NN must/MD be/VB off/RP ,/, and/CC that/IN in/IN about/IN half/NN no/DT time/NN !/.\n",
            "Take/VB your/PRP$ choice/NN !/. '/''\n",
            "The/DT Duchess/NNP took/VBD her/PRP$ choice/NN ,/, and/CC was/VBD gone/VBN in/IN a/DT moment/NN ./.\n",
            "'Let/NN 's/POS go/VB on/IN with/IN the/DT game/NN ,/, '/'' the/DT Queen/NNP said/VBD to/TO Alice/NNP ;/: and/CC Alice/NNP was/VBD too/RB much/JJ frightened/VBN to/TO say/VB a/DT word/NN ,/, but/CC slowly/RB followed/VBD her/PRP back/RB to/TO the/DT croquet-ground/NN ./.\n",
            "The/DT other/JJ guests/NNS had/VBD taken/VBN advantage/NN of/IN the/DT Queen/NNP 's/POS absence/NN ,/, and/CC were/VBD resting/VBG in/IN the/DT shade/NN :/: however/RB ,/, the/DT moment/NN they/PRP saw/VBD her/PRP ,/, they/PRP hurried/VBD back/RB to/TO the/DT game/NN ,/, the/DT Queen/NNP merely/RB remarking/VBG that/IN a/DT moment/NN 's/POS delay/NN would/MD cost/VB them/PRP their/PRP$ lives/NNS ./.\n",
            "All/PDT the/DT time/NN they/PRP were/VBD playing/VBG the/DT Queen/NNP never/RB left/VBD off/RP quarrelling/VBG with/IN the/DT other/JJ players/NNS ,/, and/CC shouting/VBG 'Off/PRP with/IN his/PRP$ head/NN !/. '/''\n",
            "or/CC 'Off/POS with/IN her/PRP$ head/NN !/. '/''\n",
            "Those/DT whom/WP she/PRP sentenced/VBD were/VBD taken/VBN into/IN custody/NN by/IN the/DT soldiers/NNS ,/, who/WP of/IN course/NN had/VBD to/TO leave/VB off/RP being/VBG arches/NNS to/TO do/VB this/DT ,/, so/IN that/IN by/IN the/DT end/NN of/IN half/PDT an/DT hour/NN or/CC so/RB there/EX were/VBD no/DT arches/NNS left/VBD ,/, and/CC all/PDT the/DT players/NNS ,/, except/IN the/DT King/NNP ,/, the/DT Queen/NNP ,/, and/CC Alice/NNP ,/, were/VBD in/IN custody/NN and/CC under/IN sentence/NN of/IN execution/NN ./.\n",
            "Then/RB the/DT Queen/NNP left/VBD off/RP ,/, quite/RB out/IN of/IN breath/NN ,/, and/CC said/VBD to/TO Alice/NNP ,/, 'Have/VBP you/PRP seen/VBN the/DT Mock/NNP Turtle/NNP yet/RB ?/. '/''\n",
            "'No/CD ,/, '/'' said/VBD Alice/NNP ./.\n",
            "'/POS I/PRP do/VBP n't/RB even/RB know/VB what/WP a/DT Mock/NNP Turtle/NNP is/VBZ ./. '/''\n",
            "'It/NN 's/POS the/DT thing/NN Mock/NNP Turtle/NNP Soup/NNP is/VBZ made/VBN from/IN ,/, '/'' said/VBD the/DT Queen/NNP ./.\n",
            "'/POS I/PRP never/RB saw/VBD one/CD ,/, or/CC heard/NN of/IN one/CD ,/, '/'' said/VBD Alice/NNP ./.\n",
            "'Come/VBN on/IN ,/, then/RB ,/, '/'' said/VBD the/DT Queen/NNP ,/, 'and/NN he/PRP shall/MD tell/VB you/PRP his/PRP$ history/NN ,/, '/'' As/IN they/PRP walked/VBD off/RP together/RB ,/, Alice/NNP heard/VBD the/DT King/NNP say/VBP in/IN a/DT low/JJ voice/NN ,/, to/TO the/DT company/NN generally/RB ,/, 'You/EX are/VBP all/DT pardoned/VBN ./. '/''\n",
            "'Come/CD ,/, THAT/NNP 'S/VBZ a/DT good/JJ thing/NN !/. '/''\n",
            "she/PRP said/VBD to/TO herself/VB ,/, for/IN she/PRP had/VBD felt/VBN quite/RB unhappy/JJ at/IN the/DT number/NN of/IN executions/NNS the/DT Queen/NNP had/VBD ordered/VBN ./.\n",
            "They/PRP very/RB soon/RB came/VBD upon/IN a/DT Gryphon/NNP ,/, lying/VBG fast/RB asleep/RB in/IN the/DT sun/NN ./.\n",
            "(/( IF/NNP you/PRP do/VBP n't/RB know/VB what/WP a/DT Gryphon/NNP is/VBZ ,/, look/NN at/IN the/DT picture/NN ./. )/)\n",
            "'Up/CD ,/, lazy/JJ thing/NN !/. '/''\n",
            "said/VBD the/DT Queen/NNP ,/, 'and/NNP take/VB this/DT young/JJ lady/NN to/TO see/VB the/DT Mock/NNP Turtle/NNP ,/, and/CC to/TO hear/VB his/PRP$ history/NN ./.\n",
            "I/PRP must/MD go/VB back/RB and/CC see/VB after/IN some/DT executions/NNS I/PRP have/VBP ordered/VBN '/POS ;/: and/CC she/PRP walked/VBD off/RP ,/, leaving/VBG Alice/NNP alone/RB with/IN the/DT Gryphon/NNP ./.\n",
            "Alice/NNP did/VBD not/RB quite/RB like/IN the/DT look/NN of/IN the/DT creature/NN ,/, but/CC on/IN the/DT whole/JJ she/PRP thought/VBD it/PRP would/MD be/VB quite/RB as/IN safe/JJ to/TO stay/VB with/IN it/PRP as/IN to/TO go/VB after/IN that/DT savage/NN Queen/VBZ :/: so/RB she/PRP waited/VBD ./.\n",
            "The/DT Gryphon/NNP sat/VBD up/RP and/CC rubbed/VB its/PRP$ eyes/NNS :/: then/RB it/PRP watched/VBD the/DT Queen/NNP till/NN she/PRP was/VBD out/IN of/IN sight/NN :/: then/RB it/PRP chuckled/VBD ./.\n",
            "'What/DT fun/NN !/. '/''\n",
            "said/VBD the/DT Gryphon/NNP ,/, half/NN to/TO itself/PRP ,/, half/NN to/TO Alice/NNP ./.\n",
            "'What/WDT IS/VBZ the/DT fun/NN ?/. '/''\n",
            "said/VBD Alice/NNP ./.\n",
            "'Why/NN ,/, SHE/NNP ,/, '/'' said/VBD the/DT Gryphon/NNP ./.\n",
            "'It/NN 's/POS all/DT her/PRP$ fancy/NN ,/, that/IN :/: they/PRP never/RB executes/VBZ nobody/NN ,/, you/PRP know/VBP ./.\n",
            "Come/VBN on/IN !/. '/''\n",
            "'Everybody/NN says/VBZ ``/`` come/VB on/IN !/. ''/''\n",
            "here/RB ,/, '/'' thought/JJ Alice/NNP ,/, as/IN she/PRP went/VBD slowly/RB after/IN it/PRP :/: '/'' I/PRP never/RB was/VBD so/RB ordered/JJ about/IN in/IN all/DT my/PRP$ life/NN ,/, never/RB !/. '/''\n",
            "They/PRP had/VBD not/RB gone/VBN far/RB before/IN they/PRP saw/VBD the/DT Mock/NNP Turtle/NNP in/IN the/DT distance/NN ,/, sitting/VBG sad/JJ and/CC lonely/RB on/IN a/DT little/JJ ledge/NN of/IN rock/NN ,/, and/CC ,/, as/IN they/PRP came/VBD nearer/RB ,/, Alice/NNP could/MD hear/VB him/PRP sighing/VBG as/IN if/IN his/PRP$ heart/NN would/MD break/VB ./.\n",
            "She/PRP pitied/VBD him/PRP deeply/RB ./.\n",
            "'What/DT is/VBZ his/PRP$ sorrow/NN ?/. '/''\n",
            "she/PRP asked/VBD the/DT Gryphon/NNP ,/, and/CC the/DT Gryphon/NNP answered/VBD ,/, very/RB nearly/RB in/IN the/DT same/JJ words/NNS as/IN before/RB ,/, 'It/PRP 's/VBZ all/DT his/PRP$ fancy/NN ,/, that/IN :/: he/PRP has/VBZ n't/RB got/VBD no/DT sorrow/NN ,/, you/PRP know/VBP ./.\n",
            "Come/VBN on/IN !/. '/''\n",
            "So/IN they/PRP went/VBD up/RB to/TO the/DT Mock/NNP Turtle/NNP ,/, who/WP looked/VBD at/IN them/PRP with/IN large/JJ eyes/NNS full/JJ of/IN tears/NNS ,/, but/CC said/VBD nothing/NN ./.\n",
            "'This/CD here/RB young/JJ lady/NN ,/, '/'' said/VBD the/DT Gryphon/NNP ,/, 'she/'' wants/VBZ for/IN to/TO know/VB your/PRP$ history/NN ,/, she/PRP do/VBP ./. '/''\n",
            "'/POS I/PRP 'll/MD tell/VB it/PRP her/PRP ,/, '/'' said/VBD the/DT Mock/NNP Turtle/NNP in/IN a/DT deep/JJ ,/, hollow/JJ tone/NN :/: 'sit/POS down/RP ,/, both/DT of/IN you/PRP ,/, and/CC do/VBP n't/RB speak/VB a/DT word/NN till/NN I/PRP 've/VBP finished/VBN ./. '/''\n",
            "So/IN they/PRP sat/VBD down/RB ,/, and/CC nobody/NN spoke/VBD for/IN some/DT minutes/NNS ./.\n",
            "Alice/NNP thought/VBD to/TO herself/VB ,/, '/'' I/PRP do/VBP n't/RB see/VB how/WRB he/PRP can/MD EVEN/RB finish/VB ,/, if/IN he/PRP does/VBZ n't/RB begin/VB ./. '/''\n",
            "But/CC she/PRP waited/VBD patiently/RB ./.\n",
            "'Once/NN ,/, '/'' said/VBD the/DT Mock/NNP Turtle/NNP at/IN last/JJ ,/, with/IN a/DT deep/JJ sigh/NN ,/, '/'' I/PRP was/VBD a/DT real/JJ Turtle/NNP ./. '/''\n",
            "These/DT words/NNS were/VBD followed/VBN by/IN a/DT very/RB long/JJ silence/NN ,/, broken/VBN only/RB by/IN an/DT occasional/JJ exclamation/NN of/IN 'Hjckrrh/NN !/. '/''\n",
            "from/IN the/DT Gryphon/NNP ,/, and/CC the/DT constant/JJ heavy/JJ sobbing/NN of/IN the/DT Mock/NNP Turtle/NNP ./.\n",
            "Alice/NNP was/VBD very/RB nearly/RB getting/VBG up/RP and/CC saying/VBG ,/, 'Thank/'' you/PRP ,/, sir/VB ,/, for/IN your/PRP$ interesting/JJ story/NN ,/, '/'' but/CC she/PRP could/MD not/RB help/VB thinking/VBG there/EX MUST/NNP be/VB more/JJR to/TO come/VB ,/, so/IN she/PRP sat/VBD still/RB and/CC said/VBD nothing/NN ./.\n",
            "'When/IN we/PRP were/VBD little/JJ ,/, '/'' the/DT Mock/NNP Turtle/NNP went/VBD on/IN at/IN last/JJ ,/, more/RBR calmly/JJ ,/, though/IN still/RB sobbing/VBG a/DT little/JJ now/RB and/CC then/RB ,/, 'we/PRP went/VBD to/TO school/NN in/IN the/DT sea/NN ./.\n",
            "The/DT master/NN was/VBD an/DT old/JJ Turtle/NNP --/: we/PRP used/VBD to/TO call/VB him/PRP Tortoise/NNP --/: '/POS 'Why/POS did/VBD you/PRP call/VB him/PRP Tortoise/NNP ,/, if/IN he/PRP was/VBD n't/RB one/CD ?/. '/''\n",
            "Alice/NNP asked/VBD ./.\n",
            "'We/NNS called/VBD him/PRP Tortoise/NNP because/IN he/PRP taught/VBD us/PRP ,/, '/'' said/VBD the/DT Mock/NNP Turtle/NNP angrily/RB :/: 'really/RB you/PRP are/VBP very/RB dull/JJ !/. '/''\n",
            "'You/NNS ought/MD to/TO be/VB ashamed/VBN of/IN yourself/PRP for/IN asking/VBG such/PDT a/DT simple/JJ question/NN ,/, '/'' added/VBD the/DT Gryphon/NNP ;/: and/CC then/RB they/PRP both/DT sat/VBD silent/NN and/CC looked/VBD at/IN poor/JJ Alice/NNP ,/, who/WP felt/VBD ready/JJ to/TO sink/VB into/IN the/DT earth/NN ./.\n",
            "At/IN last/JJ the/DT Gryphon/NNP said/VBD to/TO the/DT Mock/NNP Turtle/NNP ,/, 'Drive/'' on/IN ,/, old/JJ fellow/NN !/.\n",
            "Do/VBP n't/RB be/VB all/DT day/NN about/IN it/PRP !/. '/''\n",
            "and/CC he/PRP went/VBD on/IN in/IN these/DT words/NNS :/: 'Yes/CD ,/, we/PRP went/VBD to/TO school/NN in/IN the/DT sea/NN ,/, though/IN you/PRP may/MD n't/RB believe/VB it/PRP --/: '/'' '/POS I/PRP never/RB said/VBD I/PRP did/VBD n't/RB !/. '/''\n",
            "interrupted/JJ Alice/NNP ./.\n",
            "'You/NN did/VBD ,/, '/'' said/VBD the/DT Mock/NNP Turtle/NNP ./.\n",
            "'Hold/VB your/PRP$ tongue/NN !/. '/''\n",
            "added/VBD the/DT Gryphon/NNP ,/, before/IN Alice/NNP could/MD speak/VB again/RB ./.\n",
            "The/DT Mock/NNP Turtle/NNP went/VBD on/IN ./.\n",
            "'We/NNS had/VBD the/DT best/JJS of/IN educations/NNS --/: in/IN fact/NN ,/, we/PRP went/VBD to/TO school/NN every/DT day/NN --/: '/POS '/POS I/PRP 'VE/VBP been/VBN to/TO a/DT day-school/NN ,/, too/RB ,/, '/'' said/VBD Alice/NNP ;/: 'you/CC need/VBP n't/RB be/VB so/RB proud/JJ as/IN all/DT that/IN ./. '/''\n",
            "'With/CD extras/NNS ?/. '/''\n",
            "asked/VBN the/DT Mock/NNP Turtle/NNP a/DT little/JJ anxiously/RB ./.\n",
            "'Yes/CD ,/, '/'' said/VBD Alice/NNP ,/, 'we/'' learned/VBD French/NNP and/CC music/NN ./. '/''\n",
            "'And/CD washing/VBG ?/. '/''\n",
            "said/VBD the/DT Mock/NNP Turtle/NNP ./.\n",
            "'Certainly/RB not/RB !/. '/''\n",
            "said/VBD Alice/NNP indignantly/RB ./.\n",
            "'Ah/CD !/.\n",
            "then/RB yours/NN was/VBD n't/RB a/DT really/RB good/JJ school/NN ,/, '/'' said/VBD the/DT Mock/NNP Turtle/NNP in/IN a/DT tone/NN of/IN great/JJ relief/NN ./.\n",
            "'Now/NNS at/IN OURS/NNP they/PRP had/VBD at/IN the/DT end/NN of/IN the/DT bill/NN ,/, ''/'' French/NNP ,/, music/NN ,/, AND/CC WASHING/NNP --/: extra/JJ ./. ''/'' '/''\n",
            "'You/NNS could/MD n't/RB have/VB wanted/VBN it/PRP much/RB ,/, '/'' said/VBD Alice/NNP ;/: 'living/VBG at/IN the/DT bottom/NN of/IN the/DT sea/NN ./. '/''\n",
            "'/POS I/PRP could/MD n't/RB afford/VB to/TO learn/VB it/PRP ./. '/''\n",
            "said/VBD the/DT Mock/NNP Turtle/NNP with/IN a/DT sigh/NN ./.\n",
            "'/POS I/PRP only/RB took/VBD the/DT regular/JJ course/NN ./. '/''\n",
            "'What/DT was/VBD that/IN ?/. '/''\n",
            "inquired/JJ Alice/NNP ./.\n",
            "'Reeling/VBG and/CC Writhing/NNP ,/, of/IN course/NN ,/, to/TO begin/VB with/IN ,/, '/'' the/DT Mock/NNP Turtle/NNP replied/VBD ;/: 'and/CD then/RB the/DT different/JJ branches/NNS of/IN Arithmetic/NNP --/: Ambition/NNP ,/, Distraction/NNP ,/, Uglification/NNP ,/, and/CC Derision/NNP ./. '/''\n",
            "'/POS I/PRP never/RB heard/NN of/IN ``/`` Uglification/NNP ,/, ''/'' '/POS Alice/NNP ventured/VBD to/TO say/VB ./.\n",
            "'What/DT is/VBZ it/PRP ?/. '/''\n",
            "The/DT Gryphon/NNP lifted/VBD up/RP both/DT its/PRP$ paws/NN in/IN surprise/NN ./.\n",
            "'What/CD !/.\n",
            "Never/RB heard/NN of/IN uglifying/VBG !/. '/''\n",
            "it/PRP exclaimed/VBD ./.\n",
            "'You/NNS know/VBP what/WP to/TO beautify/VB is/VBZ ,/, I/PRP suppose/VBP ?/. '/''\n",
            "'Yes/CD ,/, '/'' said/VBD Alice/NNP doubtfully/RB :/: 'it/NN means/VBZ --/: to/TO --/: make/VB --/: anything/NN --/: prettier/NN ./. '/''\n",
            "'Well/RB ,/, then/RB ,/, '/'' the/DT Gryphon/NNP went/VBD on/IN ,/, 'if/'' you/PRP do/VBP n't/RB know/VB what/WP to/TO uglify/VB is/VBZ ,/, you/PRP ARE/VBP a/DT simpleton/NN ./. '/''\n",
            "Alice/NNP did/VBD not/RB feel/VB encouraged/VBN to/TO ask/VB any/DT more/JJR questions/NNS about/IN it/PRP ,/, so/IN she/PRP turned/VBD to/TO the/DT Mock/NNP Turtle/NNP ,/, and/CC said/VBD 'What/WP else/RB had/VBD you/PRP to/TO learn/VB ?/. '/''\n",
            "'Well/RB ,/, there/EX was/VBD Mystery/NNP ,/, '/'' the/DT Mock/NNP Turtle/NNP replied/VBD ,/, counting/VBG off/RP the/DT subjects/NNS on/IN his/PRP$ flappers/NNS ,/, '/'' --/: Mystery/NNP ,/, ancient/NN and/CC modern/JJ ,/, with/IN Seaography/NNP :/: then/RB Drawling/NNP --/: the/DT Drawling-master/NNP was/VBD an/DT old/JJ conger-eel/NN ,/, that/WDT used/VBD to/TO come/VB once/RB a/DT week/NN :/: HE/NNP taught/VBD us/PRP Drawling/NNP ,/, Stretching/NNP ,/, and/CC Fainting/NNP in/IN Coils/NNP ./. '/''\n",
            "'What/DT was/VBD THAT/IN like/IN ?/. '/''\n",
            "said/VBD Alice/NNP ./.\n",
            "'Well/UH ,/, I/PRP ca/MD n't/RB show/VB it/PRP you/PRP myself/PRP ,/, '/'' the/DT Mock/NNP Turtle/NNP said/VBD :/: '/'' I/PRP 'm/VBP too/RB stiff/JJ ./.\n",
            "And/CC the/DT Gryphon/NNP never/RB learnt/VBD it/PRP ./. '/''\n",
            "'Had/MD n't/RB time/NN ,/, '/'' said/VBD the/DT Gryphon/NNP :/: '/POS I/PRP went/VBD to/TO the/DT Classics/NNPS master/NN ,/, though/RB ./.\n",
            "He/PRP was/VBD an/DT old/JJ crab/NN ,/, HE/NNP was/VBD ./. '/''\n",
            "'/POS I/PRP never/RB went/VBD to/TO him/PRP ,/, '/'' the/DT Mock/NNP Turtle/NNP said/VBD with/IN a/DT sigh/NN :/: 'he/POS taught/NN Laughing/NNP and/CC Grief/NNP ,/, they/PRP used/VBD to/TO say/VB ./. '/''\n",
            "'So/IN he/PRP did/VBD ,/, so/IN he/PRP did/VBD ,/, '/'' said/VBD the/DT Gryphon/NNP ,/, sighing/VBG in/IN his/PRP$ turn/NN ;/: and/CC both/DT creatures/NNS hid/VBP their/PRP$ faces/VBZ in/IN their/PRP$ paws/NN ./.\n",
            "'And/POS how/WRB many/JJ hours/NNS a/DT day/NN did/VBD you/PRP do/VB lessons/NNS ?/. '/''\n",
            "said/VBD Alice/NNP ,/, in/IN a/DT hurry/NN to/TO change/VB the/DT subject/NN ./.\n",
            "'Ten/CD hours/NNS the/DT first/JJ day/NN ,/, '/'' said/VBD the/DT Mock/NNP Turtle/NNP :/: 'nine/CD the/DT next/JJ ,/, and/CC so/RB on/IN ./. '/''\n",
            "'What/IN a/DT curious/JJ plan/NN !/. '/''\n",
            "exclaimed/VBN Alice/NNP ./.\n",
            "'That/WDT 's/VBZ the/DT reason/NN they/PRP 're/VBP called/VBN lessons/NNS ,/, '/'' the/DT Gryphon/NNP remarked/VBD :/: 'because/IN they/PRP lessen/VBP from/IN day/NN to/TO day/NN ./. '/''\n",
            "This/DT was/VBD quite/RB a/DT new/JJ idea/NN to/TO Alice/NNP ,/, and/CC she/PRP thought/VBD it/PRP over/RP a/DT little/JJ before/IN she/PRP made/VBD her/PRP next/JJ remark/NN ./.\n",
            "'Then/'' the/DT eleventh/JJ day/NN must/MD have/VB been/VBN a/DT holiday/NN ?/. '/''\n",
            "'Of/CD course/NN it/PRP was/VBD ,/, '/'' said/VBD the/DT Mock/NNP Turtle/NNP ./.\n",
            "'And/POS how/WRB did/VBD you/PRP manage/VB on/IN the/DT twelfth/NN ?/. '/''\n",
            "Alice/NNP went/VBD on/IN eagerly/RB ./.\n",
            "'That/DT 's/VBZ enough/JJ about/IN lessons/NNS ,/, '/'' the/DT Gryphon/NNP interrupted/VBN in/IN a/DT very/RB decided/JJ tone/NN :/: 'tell/VB her/PRP$ something/NN about/IN the/DT games/NNS now/RB ./. '/''\n",
            "CHAPTER/NN X/NN ./.\n",
            "The/DT Lobster/NNP Quadrille/NNP The/DT Mock/NNP Turtle/NNP sighed/VBD deeply/RB ,/, and/CC drew/VBD the/DT back/NN of/IN one/CD flapper/NN across/IN his/PRP$ eyes/NNS ./.\n",
            "He/PRP looked/VBD at/IN Alice/NNP ,/, and/CC tried/VBD to/TO speak/VB ,/, but/CC for/IN a/DT minute/NN or/CC two/CD sobs/NN choked/VBD his/PRP$ voice/NN ./.\n",
            "'Same/POS as/IN if/IN he/PRP had/VBD a/DT bone/NN in/IN his/PRP$ throat/NN ,/, '/'' said/VBD the/DT Gryphon/NNP :/: and/CC it/PRP set/VBD to/TO work/VB shaking/VBG him/PRP and/CC punching/VBG him/PRP in/IN the/DT back/NN ./.\n",
            "At/IN last/JJ the/DT Mock/NNP Turtle/NNP recovered/VBD his/PRP$ voice/NN ,/, and/CC ,/, with/IN tears/NNS running/VBG down/RP his/PRP$ cheeks/NN ,/, he/PRP went/VBD on/IN again/RB :/: --/: 'You/NNS may/MD not/RB have/VB lived/VBN much/JJ under/IN the/DT sea/NN --/: '/POS (/( '/POS I/PRP have/VBP n't/RB ,/, '/'' said/VBD Alice/NNP )/) --/: 'and/POS perhaps/RB you/PRP were/VBD never/RB even/RB introduced/VBD to/TO a/DT lobster/NN --/: '/POS (/( Alice/NNP began/VBD to/TO say/VB '/'' I/PRP once/RB tasted/VBD --/: '/'' but/CC checked/VBD herself/PRP hastily/RB ,/, and/CC said/VBD 'No/NNS ,/, never/RB '/POS )/) '/POS --/: so/IN you/PRP can/MD have/VB no/DT idea/NN what/WP a/DT delightful/JJ thing/NN a/DT Lobster/NNP Quadrille/NNP is/VBZ !/. '/''\n",
            "'No/CD ,/, indeed/RB ,/, '/'' said/VBD Alice/NNP ./.\n",
            "'What/DT sort/NN of/IN a/DT dance/NN is/VBZ it/PRP ?/. '/''\n",
            "'Why/CD ,/, '/'' said/VBD the/DT Gryphon/NNP ,/, 'you/NNP first/RB form/VBZ into/IN a/DT line/NN along/IN the/DT sea-shore/NN --/: '/POS 'Two/JJ lines/NNS !/. '/''\n",
            "cried/VBD the/DT Mock/NNP Turtle/NNP ./.\n",
            "'Seals/NNS ,/, turtles/NNS ,/, salmon/NN ,/, and/CC so/RB on/IN ;/: then/RB ,/, when/WRB you/PRP 've/VBP cleared/VBN all/PDT the/DT jelly-fish/JJ out/IN of/IN the/DT way/NN --/: '/POS 'THAT/POS generally/RB takes/VBZ some/DT time/NN ,/, '/'' interrupted/VBD the/DT Gryphon./NNP '/POS\n",
            "--/: you/PRP advance/VBP twice/RB --/: '/'' 'Each/MD with/IN a/DT lobster/NN as/IN a/DT partner/NN !/. '/''\n",
            "cried/VBD the/DT Gryphon/NNP ./.\n",
            "'Of/JJ course/NN ,/, '/'' the/DT Mock/NNP Turtle/NNP said/VBD :/: 'advance/NN twice/RB ,/, set/VBN to/TO partners/NNS --/: '/POS '/POS --/: change/NN lobsters/NNS ,/, and/CC retire/NN in/IN same/JJ order/NN ,/, '/'' continued/VBD the/DT Gryphon/NNP ./.\n",
            "'Then/CD ,/, you/PRP know/VBP ,/, '/'' the/DT Mock/NNP Turtle/NNP went/VBD on/IN ,/, 'you/'' throw/VBP the/DT --/: '/POS 'The/JJ lobsters/NNS !/. '/''\n",
            "shouted/VBD the/DT Gryphon/NNP ,/, with/IN a/DT bound/NN into/IN the/DT air./NN '/POS\n",
            "--/: as/IN far/RB out/IN to/TO sea/VB as/IN you/PRP can/MD --/: '/POS 'Swim/NNS after/IN them/PRP !/. '/''\n",
            "screamed/VBD the/DT Gryphon/NNP ./.\n",
            "'Turn/VB a/DT somersault/NN in/IN the/DT sea/NN !/. '/''\n",
            "cried/VBD the/DT Mock/NNP Turtle/NNP ,/, capering/VBG wildly/RB about/IN ./.\n",
            "'Change/NN lobsters/NNS again/RB !/. '/''\n",
            "yelled/VBN the/DT Gryphon/NNP at/IN the/DT top/NN of/IN its/PRP$ voice/NN ./.\n",
            "'Back/NN to/TO land/VB again/RB ,/, and/CC that/DT 's/VBZ all/PDT the/DT first/JJ figure/NN ,/, '/'' said/VBD the/DT Mock/NNP Turtle/NNP ,/, suddenly/RB dropping/VBG his/PRP$ voice/NN ;/: and/CC the/DT two/CD creatures/NNS ,/, who/WP had/VBD been/VBN jumping/VBG about/IN like/IN mad/JJ things/NNS all/PDT this/DT time/NN ,/, sat/VBD down/RB again/RB very/RB sadly/RB and/CC quietly/RB ,/, and/CC looked/VBD at/IN Alice/NNP ./.\n",
            "'It/NNS must/MD be/VB a/DT very/RB pretty/JJ dance/NN ,/, '/'' said/VBD Alice/NNP timidly/RB ./.\n",
            "'Would/MD you/PRP like/VB to/TO see/VB a/DT little/JJ of/IN it/PRP ?/. '/''\n",
            "said/VBD the/DT Mock/NNP Turtle/NNP ./.\n",
            "'Very/RB much/JJ indeed/RB ,/, '/'' said/VBD Alice/NNP ./.\n",
            "'Come/CD ,/, let/NN 's/POS try/VB the/DT first/JJ figure/NN !/. '/''\n",
            "said/VBD the/DT Mock/NNP Turtle/NNP to/TO the/DT Gryphon/NNP ./.\n",
            "'We/NNS can/MD do/VB without/IN lobsters/NNS ,/, you/PRP know/VBP ./.\n",
            "Which/WDT shall/MD sing/VB ?/. '/''\n",
            "'Oh/CD ,/, YOU/NNP sing/NN ,/, '/'' said/VBD the/DT Gryphon/NNP ./.\n",
            "'/POS I/PRP 've/VBP forgotten/VBN the/DT words/NNS ./. '/''\n",
            "So/IN they/PRP began/VBD solemnly/RB dancing/VBG round/NN and/CC round/NN Alice/NNP ,/, every/DT now/RB and/CC then/RB treading/VBG on/IN her/PRP$ toes/NNS when/WRB they/PRP passed/VBD too/RB close/JJ ,/, and/CC waving/VBG their/PRP$ forepaws/NN to/TO mark/VB the/DT time/NN ,/, while/IN the/DT Mock/NNP Turtle/NNP sang/VBD this/DT ,/, very/RB slowly/RB and/CC sadly/RB :/: --/: '/'' ''/'' Will/NNP you/PRP walk/VBP a/DT little/JJ faster/NN ?/. ''/''\n",
            "said/VBD a/DT whiting/NN to/TO a/DT snail/NN ./.\n",
            "``/`` There/EX 's/VBZ a/DT porpoise/NN close/RB behind/IN us/PRP ,/, and/CC he/PRP 's/VBZ treading/VBG on/IN my/PRP$ tail/NN ./.\n",
            "See/VB how/WRB eagerly/RB the/DT lobsters/NNS and/CC the/DT turtles/NNS all/DT advance/NN !/.\n",
            "They/PRP are/VBP waiting/VBG on/IN the/DT shingle/NN --/: will/MD you/PRP come/VB and/CC join/VB the/DT dance/NN ?/.\n",
            "Will/MD you/PRP ,/, wo/MD n't/RB you/PRP ,/, will/MD you/PRP ,/, wo/MD n't/RB you/PRP ,/, will/MD you/PRP join/VB the/DT dance/NN ?/.\n",
            "Will/MD you/PRP ,/, wo/MD n't/RB you/PRP ,/, will/MD you/PRP ,/, wo/MD n't/RB you/PRP ,/, wo/MD n't/RB you/PRP join/VB the/DT dance/NN ?/.\n",
            "``/`` You/PRP can/MD really/RB have/VB no/DT notion/NN how/WRB delightful/JJ it/PRP will/MD be/VB When/WRB they/PRP take/VBP us/PRP up/RP and/CC throw/VB us/PRP ,/, with/IN the/DT lobsters/NNS ,/, out/IN to/TO sea/VB !/. ''/''\n",
            "But/CC the/DT snail/NN replied/VBD ``/`` Too/NNP far/RB ,/, too/RB far/RB !/. ''/''\n",
            "and/CC gave/VBD a/DT look/NN askance/NN --/: Said/VBD he/PRP thanked/VBD the/DT whiting/NN kindly/RB ,/, but/CC he/PRP would/MD not/RB join/VB the/DT dance/NN ./.\n",
            "Would/MD not/RB ,/, could/MD not/RB ,/, would/MD not/RB ,/, could/MD not/RB ,/, would/MD not/RB join/VB the/DT dance/NN ./.\n",
            "Would/MD not/RB ,/, could/MD not/RB ,/, would/MD not/RB ,/, could/MD not/RB ,/, could/MD not/RB join/VB the/DT dance/NN ./.\n",
            "'/'' ''/'' What/WP matters/VBZ it/PRP how/WRB far/RB we/PRP go/VBP ?/. ''/''\n",
            "his/PRP$ scaly/NN friend/NN replied/VBD ./.\n",
            "``/`` There/EX is/VBZ another/DT shore/NN ,/, you/PRP know/VBP ,/, upon/IN the/DT other/JJ side/NN ./.\n",
            "The/DT further/JJR off/RP from/IN England/NNP the/DT nearer/NN is/VBZ to/TO France/NNP --/: Then/RB turn/IN not/RB pale/JJ ,/, beloved/JJ snail/NN ,/, but/CC come/VBP and/CC join/VBP the/DT dance/NN ./.\n",
            "Will/MD you/PRP ,/, wo/MD n't/RB you/PRP ,/, will/MD you/PRP ,/, wo/MD n't/RB you/PRP ,/, will/MD you/PRP join/VB the/DT dance/NN ?/.\n",
            "Will/MD you/PRP ,/, wo/MD n't/RB you/PRP ,/, will/MD you/PRP ,/, wo/MD n't/RB you/PRP ,/, wo/MD n't/RB you/PRP join/VB the/DT dance/NN ?/. ''/'' '/''\n",
            "'Thank/NN you/PRP ,/, it/PRP 's/VBZ a/DT very/RB interesting/JJ dance/NN to/TO watch/VB ,/, '/'' said/VBD Alice/NNP ,/, feeling/VBG very/RB glad/JJ that/IN it/PRP was/VBD over/RB at/IN last/JJ :/: 'and/NN I/PRP do/VBP so/RB like/IN that/DT curious/JJ song/NN about/IN the/DT whiting/NN !/. '/''\n",
            "'Oh/RB ,/, as/IN to/TO the/DT whiting/NN ,/, '/'' said/VBD the/DT Mock/NNP Turtle/NNP ,/, 'they/NNP --/: you/PRP 've/VBP seen/VBN them/PRP ,/, of/IN course/NN ?/. '/''\n",
            "'Yes/CD ,/, '/'' said/VBD Alice/NNP ,/, '/'' I/PRP 've/VBP often/RB seen/VBN them/PRP at/IN dinn/NN --/: '/POS she/PRP checked/VBD herself/PRP hastily/RB ./.\n",
            "'/POS I/PRP do/VBP n't/RB know/VB where/WRB Dinn/NNP may/MD be/VB ,/, '/'' said/VBD the/DT Mock/NNP Turtle/NNP ,/, 'but/'' if/IN you've/NNS seen/VBN them/PRP so/RB often/RB ,/, of/IN course/NN you/PRP know/VBP what/WP they/PRP 're/VBP like/IN ./. '/''\n",
            "'/POS I/PRP believe/VBP so/RB ,/, '/'' Alice/NNP replied/VBD thoughtfully/RB ./.\n",
            "'They/NNS have/VBP their/PRP$ tails/NNS in/IN their/PRP$ mouths/NNS --/: and/CC they/PRP 're/VBP all/DT over/IN crumbs/NNS ./. '/''\n",
            "'You/CD 're/VBP wrong/JJ about/IN the/DT crumbs/NN ,/, '/'' said/VBD the/DT Mock/NNP Turtle/NNP :/: 'crumbs/NNS would/MD all/DT wash/VB off/RP in/IN the/DT sea/NN ./.\n",
            "But/CC they/PRP HAVE/VBP their/PRP$ tails/NNS in/IN their/PRP$ mouths/NNS ;/: and/CC the/DT reason/NN is/VBZ --/: '/'' here/RB the/DT Mock/NNP Turtle/NNP yawned/VBD and/CC shut/VBD his/PRP$ eyes./NN --/: 'Tell/VB her/PRP about/IN the/DT reason/NN and/CC all/DT that/IN ,/, '/'' he/PRP said/VBD to/TO the/DT Gryphon/NNP ./.\n",
            "'The/CD reason/NN is/VBZ ,/, '/'' said/VBD the/DT Gryphon/NNP ,/, 'that/IN they/PRP WOULD/VBP go/VB with/IN the/DT lobsters/NNS to/TO the/DT dance/NN ./.\n",
            "So/IN they/PRP got/VBD thrown/VBN out/RP to/TO sea/NN ./.\n",
            "So/IN they/PRP had/VBD to/TO fall/VB a/DT long/JJ way/NN ./.\n",
            "So/IN they/PRP got/VBD their/PRP$ tails/NNS fast/RB in/IN their/PRP$ mouths/NNS ./.\n",
            "So/IN they/PRP could/MD n't/RB get/VB them/PRP out/RP again/RB ./.\n",
            "That/DT 's/VBZ all/DT ./. '/''\n",
            "'Thank/NN you/PRP ,/, '/'' said/VBD Alice/NNP ,/, 'it/NNP 's/POS very/RB interesting/JJ ./.\n",
            "I/PRP never/RB knew/VBD so/RB much/JJ about/IN a/DT whiting/NN before/IN ./. '/''\n",
            "'/POS I/PRP can/MD tell/VB you/PRP more/JJR than/IN that/DT ,/, if/IN you/PRP like/VBP ,/, '/'' said/VBD the/DT Gryphon/NNP ./.\n",
            "'Do/IN you/PRP know/VBP why/WRB it/PRP 's/VBZ called/VBN a/DT whiting/NN ?/. '/''\n",
            "'/POS I/PRP never/RB thought/VBD about/IN it/PRP ,/, '/'' said/VBD Alice/NNP ./.\n",
            "'Why/RB ?/. '/''\n",
            "'IT/NN DOES/VBZ THE/NNP BOOTS/NNP AND/NNP SHOES/NNP ./. '/''\n",
            "the/DT Gryphon/NNP replied/VBD very/RB solemnly/RB ./.\n",
            "Alice/NNP was/VBD thoroughly/RB puzzled/VBN ./.\n",
            "'Does/VBZ the/DT boots/NNS and/CC shoes/NNS !/. '/''\n",
            "she/PRP repeated/VBD in/IN a/DT wondering/VBG tone/NN ./.\n",
            "'Why/NN ,/, what/WP are/VBP YOUR/JJ shoes/NNS done/VBN with/IN ?/. '/''\n",
            "said/VBD the/DT Gryphon/NNP ./.\n",
            "'/POS I/PRP mean/VBP ,/, what/WP makes/VBZ them/PRP so/RB shiny/RB ?/. '/''\n",
            "Alice/NNP looked/VBD down/RB at/IN them/PRP ,/, and/CC considered/VBD a/DT little/JJ before/IN she/PRP gave/VBD her/PRP answer/NN ./.\n",
            "'They/POS 're/VBP done/VBN with/IN blacking/NN ,/, I/PRP believe/VBP ./. '/''\n",
            "'Boots/NNS and/CC shoes/NNS under/IN the/DT sea/NN ,/, '/'' the/DT Gryphon/NNP went/VBD on/IN in/IN a/DT deep/JJ voice/NN ,/, 'are/'' done/VBN with/IN a/DT whiting/NN ./.\n",
            "Now/RB you/PRP know/VBP ./. '/''\n",
            "'And/VB what/WP are/VBP they/PRP made/VBD of/IN ?/. '/''\n",
            "Alice/NNP asked/VBD in/IN a/DT tone/NN of/IN great/JJ curiosity/NN ./.\n",
            "'Soles/NNS and/CC eels/NNS ,/, of/IN course/NN ,/, '/'' the/DT Gryphon/NNP replied/VBD rather/RB impatiently/RB :/: 'any/JJ shrimp/NN could/MD have/VB told/VBN you/PRP that/IN ./. '/''\n",
            "'If/NN I/PRP 'd/MD been/VBN the/DT whiting/NN ,/, '/'' said/VBD Alice/NNP ,/, whose/WP$ thoughts/NNS were/VBD still/RB running/VBG on/IN the/DT song/NN ,/, '/'' I/PRP 'd/MD have/VB said/VBD to/TO the/DT porpoise/NN ,/, ``/`` Keep/NNP back/NN ,/, please/NN :/: we/PRP do/VBP n't/RB want/VB YOU/NN with/IN us/PRP !/. ''/'' '/''\n",
            "'They/NNS were/VBD obliged/VBN to/TO have/VB him/PRP with/IN them/PRP ,/, '/'' the/DT Mock/NNP Turtle/NNP said/VBD :/: 'no/CD wise/NN fish/NN would/MD go/VB anywhere/RB without/IN a/DT porpoise/NN ./. '/''\n",
            "'Would/MD n't/RB it/PRP really/RB ?/. '/''\n",
            "said/VBD Alice/NNP in/IN a/DT tone/NN of/IN great/JJ surprise/NN ./.\n",
            "'Of/'' course/NN not/RB ,/, '/'' said/VBD the/DT Mock/NNP Turtle/NNP :/: 'why/CD ,/, if/IN a/DT fish/NN came/VBD to/TO ME/NNP ,/, and/CC told/VBD me/PRP he/PRP was/VBD going/VBG a/DT journey/NN ,/, I/PRP should/MD say/VB ``/`` With/IN what/WP porpoise/NN ?/. ''/'' '/''\n",
            "'Do/MD n't/RB you/PRP mean/VB ``/`` purpose/VB ''/'' ?/. '/''\n",
            "said/VBD Alice/NNP ./.\n",
            "'/POS I/PRP mean/VBP what/WP I/PRP say/VBP ,/, '/'' the/DT Mock/NNP Turtle/NNP replied/VBD in/IN an/DT offended/JJ tone/NN ./.\n",
            "And/CC the/DT Gryphon/NNP added/VBD 'Come/CD ,/, let/NN 's/POS hear/VB some/DT of/IN YOUR/JJ adventures/NNS ./. '/''\n",
            "'/POS I/PRP could/MD tell/VB you/PRP my/PRP$ adventures/NNS --/: beginning/VBG from/IN this/DT morning/NN ,/, '/'' said/VBD Alice/NNP a/DT little/JJ timidly/RB :/: 'but/VB it/PRP 's/VBZ no/DT use/NN going/VBG back/RB to/TO yesterday/NN ,/, because/IN I/PRP was/VBD a/DT different/JJ person/NN then/RB ./. '/''\n",
            "'Explain/VB all/DT that/IN ,/, '/'' said/VBD the/DT Mock/NNP Turtle/NNP ./.\n",
            "'No/CD ,/, no/DT !/.\n",
            "The/DT adventures/NNS first/RB ,/, '/'' said/VBD the/DT Gryphon/NNP in/IN an/DT impatient/JJ tone/NN :/: 'explanations/NNS take/VBP such/PDT a/DT dreadful/JJ time/NN ./. '/''\n",
            "So/RB Alice/NNP began/VBD telling/VBG them/PRP her/PRP$ adventures/NNS from/IN the/DT time/NN when/WRB she/PRP first/RB saw/VBD the/DT White/NNP Rabbit/NNP ./.\n",
            "She/PRP was/VBD a/DT little/JJ nervous/JJ about/IN it/PRP just/RB at/IN first/JJ ,/, the/DT two/CD creatures/NNS got/VBD so/RB close/JJ to/TO her/PRP$ ,/, one/CD on/IN each/DT side/NN ,/, and/CC opened/VBD their/PRP$ eyes/NNS and/CC mouths/NNS so/RB VERY/NNP wide/JJ ,/, but/CC she/PRP gained/VBD courage/NN as/IN she/PRP went/VBD on/IN ./.\n",
            "Her/PRP$ listeners/NNS were/VBD perfectly/RB quiet/JJ till/NN she/PRP got/VBD to/TO the/DT part/NN about/IN her/PRP$ repeating/NN 'YOU/NN ARE/NNP OLD/NNP ,/, FATHER/NNP WILLIAM/NNP ,/, '/'' to/TO the/DT Caterpillar/NNP ,/, and/CC the/DT words/NNS all/DT coming/VBG different/JJ ,/, and/CC then/RB the/DT Mock/NNP Turtle/NNP drew/VBD a/DT long/JJ breath/NN ,/, and/CC said/VBD 'That/WP 's/VBZ very/RB curious/JJ ./. '/''\n",
            "'It/NN 's/POS all/DT about/IN as/RB curious/JJ as/IN it/PRP can/MD be/VB ,/, '/'' said/VBD the/DT Gryphon/NNP ./.\n",
            "'It/CD all/DT came/VBD different/JJ !/. '/''\n",
            "the/DT Mock/NNP Turtle/NNP repeated/VBD thoughtfully/RB ./.\n",
            "'/POS I/PRP should/MD like/VB to/TO hear/VB her/PRP$ try/NN and/CC repeat/VB something/NN now/RB ./.\n",
            "Tell/VB her/PRP$ to/TO begin/VB ./. '/''\n",
            "He/PRP looked/VBD at/IN the/DT Gryphon/NNP as/IN if/IN he/PRP thought/VBD it/PRP had/VBD some/DT kind/NN of/IN authority/NN over/IN Alice/NNP ./.\n",
            "'Stand/VB up/RP and/CC repeat/VB ``/`` 'T/CD IS/VBZ THE/DT VOICE/NNP OF/IN THE/NNP SLUGGARD/NNP ,/, ''/'' '/'' said/VBD the/DT Gryphon/NNP ./.\n",
            "'How/'' the/DT creatures/NNS order/NN one/CD about/NN ,/, and/CC make/VB one/CD repeat/NN lessons/NNS !/. '/''\n",
            "thought/JJ Alice/NNP ;/: '/POS I/PRP might/MD as/RB well/RB be/VB at/IN school/NN at/IN once/RB ./. '/''\n",
            "However/RB ,/, she/PRP got/VBD up/RB ,/, and/CC began/VBD to/TO repeat/VB it/PRP ,/, but/CC her/PRP$ head/NN was/VBD so/RB full/JJ of/IN the/DT Lobster/NNP Quadrille/NNP ,/, that/IN she/PRP hardly/RB knew/VBD what/WP she/PRP was/VBD saying/VBG ,/, and/CC the/DT words/NNS came/VBD very/RB queer/JJ indeed/RB :/: --/: ``/`` Tis/IN the/DT voice/NN of/IN the/DT Lobster/NNP ;/: I/PRP heard/VBD him/PRP declare/VB ,/, ``/`` You/PRP have/VBP baked/VBN me/PRP too/RB brown/JJ ,/, I/PRP must/MD sugar/VB my/PRP$ hair/NN ./. ''/''\n",
            "As/IN a/DT duck/NN with/IN its/PRP$ eyelids/NNS ,/, so/IN he/PRP with/IN his/PRP$ nose/NN Trims/NNP his/PRP$ belt/NN and/CC his/PRP$ buttons/NNS ,/, and/CC turns/VBZ out/RP his/PRP$ toes/NNS ./. '/''\n",
            "[/NN later/RBR editions/NNS continued/VBD as/IN follows/VBZ When/WRB the/DT sands/NNS are/VBP all/DT dry/JJ ,/, he/PRP is/VBZ gay/JJ as/IN a/DT lark/NN ,/, And/CC will/MD talk/VB in/IN contemptuous/JJ tones/NNS of/IN the/DT Shark/NNP ,/, But/CC ,/, when/WRB the/DT tide/NN rises/VBZ and/CC sharks/NNS are/VBP around/RB ,/, His/PRP$ voice/NN has/VBZ a/DT timid/NN and/CC tremulous/JJ sound/NN ./. ]/NN\n",
            "'That/DT 's/POS different/JJ from/IN what/WP I/PRP used/VBD to/TO say/VB when/WRB I/PRP was/VBD a/DT child/NN ,/, '/'' said/VBD the/DT Gryphon/NNP ./.\n",
            "'Well/UH ,/, I/PRP never/RB heard/VBD it/PRP before/IN ,/, '/'' said/VBD the/DT Mock/NNP Turtle/NNP ;/: 'but/VBZ it/PRP sounds/VBZ uncommon/JJ nonsense/NN ./. '/''\n",
            "Alice/NNP said/VBD nothing/NN ;/: she/PRP had/VBD sat/VBN down/RP with/IN her/PRP$ face/NN in/IN her/PRP$ hands/NNS ,/, wondering/VBG if/IN anything/NN would/MD EVER/VB happen/VB in/IN a/DT natural/JJ way/NN again/RB ./.\n",
            "'/POS I/PRP should/MD like/VB to/TO have/VB it/PRP explained/VBN ,/, '/'' said/VBD the/DT Mock/NNP Turtle/NNP ./.\n",
            "'She/NNS ca/MD n't/RB explain/VB it/PRP ,/, '/'' said/VBD the/DT Gryphon/NNP hastily/RB ./.\n",
            "'Go/NNS on/IN with/IN the/DT next/JJ verse/NN ./. '/''\n",
            "'But/NNS about/IN his/PRP$ toes/NNS ?/. '/''\n",
            "the/DT Mock/NNP Turtle/NNP persisted/VBD ./.\n",
            "'How/NNS COULD/NNP he/PRP turn/VB them/PRP out/RP with/IN his/PRP$ nose/NN ,/, you/PRP know/VBP ?/. '/''\n",
            "'It/NN 's/POS the/DT first/JJ position/NN in/IN dancing/VBG ./. '/''\n",
            "Alice/NNP said/VBD ;/: but/CC was/VBD dreadfully/RB puzzled/VBN by/IN the/DT whole/JJ thing/NN ,/, and/CC longed/VBD to/TO change/VB the/DT subject/NN ./.\n",
            "'Go/NNS on/IN with/IN the/DT next/JJ verse/NN ,/, '/'' the/DT Gryphon/NNP repeated/VBD impatiently/RB :/: 'it/CD begins/VBZ ``/`` I/PRP passed/VBN by/IN his/PRP$ garden/NN ./. ''/'' '/''\n",
            "Alice/NNP did/VBD not/RB dare/VB to/TO disobey/VB ,/, though/IN she/PRP felt/VBD sure/JJ it/PRP would/MD all/DT come/VB wrong/JJ ,/, and/CC she/PRP went/VBD on/IN in/IN a/DT trembling/JJ voice/NN :/: --/: '/POS I/PRP passed/VBN by/IN his/PRP$ garden/NN ,/, and/CC marked/VBD ,/, with/IN one/CD eye/NN ,/, How/WRB the/DT Owl/NNP and/CC the/DT Panther/NNP were/VBD sharing/VBG a/DT pie/NN --/: '/POS [/NN later/RBR editions/NNS continued/VBD as/IN follows/VBZ The/DT Panther/NNP took/VBD pie-crust/NN ,/, and/CC gravy/NN ,/, and/CC meat/NN ,/, While/IN the/DT Owl/NNP had/VBD the/DT dish/NN as/IN its/PRP$ share/NN of/IN the/DT treat/NN ./.\n",
            "When/WRB the/DT pie/NN was/VBD all/DT finished/VBN ,/, the/DT Owl/NNP ,/, as/IN a/DT boon/NN ,/, Was/NNP kindly/RB permitted/VBD to/TO pocket/VB the/DT spoon/NN :/: While/IN the/DT Panther/NNP received/VBD knife/NN and/CC fork/NN with/IN a/DT growl/NN ,/, And/CC concluded/VBD the/DT banquet/NN --/: ]/VB 'What/WP IS/VBZ the/DT use/NN of/IN repeating/VBG all/PDT that/DT stuff/NN ,/, '/'' the/DT Mock/NNP Turtle/NNP interrupted/VBD ,/, 'if/'' you/PRP do/VBP n't/RB explain/VB it/PRP as/IN you/PRP go/VBP on/IN ?/.\n",
            "It/PRP 's/VBZ by/IN far/RB the/DT most/RBS confusing/JJ thing/NN I/PRP ever/RB heard/VBD !/. '/''\n",
            "'Yes/CD ,/, I/PRP think/VBP you/PRP 'd/MD better/VB leave/VB off/RP ,/, '/'' said/VBD the/DT Gryphon/NNP :/: and/CC Alice/NNP was/VBD only/RB too/RB glad/JJ to/TO do/VB so/RB ./.\n",
            "'Shall/DT we/PRP try/VBP another/DT figure/NN of/IN the/DT Lobster/NNP Quadrille/NNP ?/. '/''\n",
            "the/DT Gryphon/NNP went/VBD on/IN ./.\n",
            "'Or/NNS would/MD you/PRP like/IN the/DT Mock/NNP Turtle/NNP to/TO sing/VB you/PRP a/DT song/NN ?/. '/''\n",
            "'Oh/NNS ,/, a/DT song/NN ,/, please/NN ,/, if/IN the/DT Mock/NNP Turtle/NNP would/MD be/VB so/RB kind/NN ,/, '/'' Alice/NNP replied/VBD ,/, so/RB eagerly/RB that/IN the/DT Gryphon/NNP said/VBD ,/, in/IN a/DT rather/RB offended/JJ tone/NN ,/, 'Hm/'' !/.\n",
            "No/DT accounting/NN for/IN tastes/NNS !/.\n",
            "Sing/VBG her/PRP$ ``/`` Turtle/NNP Soup/NNP ,/, ''/'' will/MD you/PRP ,/, old/JJ fellow/NN ?/. '/''\n",
            "The/DT Mock/NNP Turtle/NNP sighed/VBD deeply/RB ,/, and/CC began/VBD ,/, in/IN a/DT voice/NN sometimes/RB choked/VBD with/IN sobs/NN ,/, to/TO sing/VBG this/DT :/: --/: 'Beautiful/JJ Soup/NNP ,/, so/IN rich/JJ and/CC green/JJ ,/, Waiting/VBG in/IN a/DT hot/JJ tureen/NN !/.\n",
            "Who/WP for/IN such/JJ dainties/NNS would/MD not/RB stoop/VB ?/.\n",
            "Soup/NNP of/IN the/DT evening/NN ,/, beautiful/JJ Soup/NN !/.\n",
            "Soup/NNP of/IN the/DT evening/NN ,/, beautiful/JJ Soup/NN !/.\n",
            "Beau/NNP --/: ootiful/JJ Soo/NNP --/: oop/NN !/.\n",
            "Beau/NNP --/: ootiful/JJ Soo/NNP --/: oop/NN !/.\n",
            "Soo/NNP --/: oop/NN of/IN the/DT e/NN --/: e/NN --/: evening/NN ,/, Beautiful/NNP ,/, beautiful/JJ Soup/NN !/.\n",
            "'Beautiful/JJ Soup/NN !/.\n",
            "Who/WP cares/VBZ for/IN fish/NN ,/, Game/NNP ,/, or/CC any/DT other/JJ dish/NN ?/.\n",
            "Who/WP would/MD not/RB give/VB all/DT else/RB for/IN two/CD Pennyworth/NNP only/RB of/IN beautiful/JJ Soup/NNP ?/.\n",
            "Pennyworth/NNP only/RB of/IN beautiful/JJ Soup/NNP ?/.\n",
            "Beau/NNP --/: ootiful/JJ Soo/NNP --/: oop/NN !/.\n",
            "Beau/NNP --/: ootiful/JJ Soo/NNP --/: oop/NN !/.\n",
            "Soo/NNP --/: oop/NN of/IN the/DT e/NN --/: e/NN --/: evening/NN ,/, Beautiful/NNP ,/, beauti/NN --/: FUL/NNP SOUP/NNP !/. '/''\n",
            "'Chorus/NN again/RB !/. '/''\n",
            "cried/VBD the/DT Gryphon/NNP ,/, and/CC the/DT Mock/NNP Turtle/NNP had/VBD just/RB begun/VBN to/TO repeat/VB it/PRP ,/, when/WRB a/DT cry/NN of/IN 'The/NNP trial/NN 's/POS beginning/NN !/. '/''\n",
            "was/VBD heard/VBN in/IN the/DT distance/NN ./.\n",
            "'Come/VBN on/IN !/. '/''\n",
            "cried/VBD the/DT Gryphon/NNP ,/, and/CC ,/, taking/VBG Alice/NNP by/IN the/DT hand/NN ,/, it/PRP hurried/VBD off/RP ,/, without/IN waiting/VBG for/IN the/DT end/NN of/IN the/DT song/NN ./.\n",
            "'What/DT trial/NN is/VBZ it/PRP ?/. '/''\n",
            "Alice/RB panted/VBN as/IN she/PRP ran/VBD ;/: but/CC the/DT Gryphon/NNP only/RB answered/VBD 'Come/VBN on/IN !/. '/''\n",
            "and/CC ran/VBD the/DT faster/NN ,/, while/IN more/JJR and/CC more/RBR faintly/RB came/VBD ,/, carried/VBD on/IN the/DT breeze/NN that/WDT followed/VBD them/PRP ,/, the/DT melancholy/JJ words/NNS :/: --/: 'Soo/CD --/: oop/NN of/IN the/DT e/NN --/: e/NN --/: evening/NN ,/, Beautiful/NNP ,/, beautiful/JJ Soup/NNP !/. '/''\n",
            "CHAPTER/NN XI/NN ./.\n",
            "Who/WP Stole/VBD the/DT Tarts/NNS ?/.\n",
            "The/DT King/NNP and/CC Queen/NNP of/IN Hearts/NNP were/VBD seated/VBN on/IN their/PRP$ throne/NN when/WRB they/PRP arrived/VBD ,/, with/IN a/DT great/JJ crowd/NN assembled/VBD about/IN them/PRP --/: all/DT sorts/NNS of/IN little/JJ birds/NNS and/CC beasts/NNS ,/, as/RB well/RB as/IN the/DT whole/JJ pack/NN of/IN cards/NNS :/: the/DT Knave/NNP was/VBD standing/VBG before/IN them/PRP ,/, in/IN chains/NNS ,/, with/IN a/DT soldier/NN on/IN each/DT side/NN to/TO guard/VB him/PRP ;/: and/CC near/IN the/DT King/NNP was/VBD the/DT White/NNP Rabbit/NNP ,/, with/IN a/DT trumpet/NN in/IN one/CD hand/NN ,/, and/CC a/DT scroll/NN of/IN parchment/NN in/IN the/DT other/JJ ./.\n",
            "In/IN the/DT very/RB middle/JJ of/IN the/DT court/NN was/VBD a/DT table/NN ,/, with/IN a/DT large/JJ dish/NN of/IN tarts/NNS upon/IN it/PRP :/: they/PRP looked/VBD so/RB good/JJ ,/, that/IN it/PRP made/VBD Alice/NNP quite/RB hungry/JJ to/TO look/VB at/IN them/PRP --/: '/'' I/PRP wish/VBP they/PRP 'd/MD get/VB the/DT trial/NN done/VBN ,/, '/'' she/PRP thought/VBD ,/, 'and/CD hand/NN round/VBD the/DT refreshments/NNS !/. '/''\n",
            "But/CC there/EX seemed/VBD to/TO be/VB no/DT chance/NN of/IN this/DT ,/, so/IN she/PRP began/VBD looking/VBG at/IN everything/NN about/IN her/PRP$ ,/, to/TO pass/VB away/RP the/DT time/NN ./.\n",
            "Alice/NNP had/VBD never/RB been/VBN in/IN a/DT court/NN of/IN justice/NN before/IN ,/, but/CC she/PRP had/VBD read/VBN about/IN them/PRP in/IN books/NNS ,/, and/CC she/PRP was/VBD quite/RB pleased/JJ to/TO find/VB that/IN she/PRP knew/VBD the/DT name/NN of/IN nearly/RB everything/NN there/RB ./.\n",
            "'That/WDT 's/VBZ the/DT judge/NN ,/, '/'' she/PRP said/VBD to/TO herself/VB ,/, 'because/CD of/IN his/PRP$ great/JJ wig/NN ./. '/''\n",
            "The/DT judge/NN ,/, by/IN the/DT way/NN ,/, was/VBD the/DT King/NNP ;/: and/CC as/IN he/PRP wore/VBD his/PRP$ crown/NN over/IN the/DT wig/NN ,/, (/( look/NN at/IN the/DT frontispiece/NN if/IN you/PRP want/VBP to/TO see/VB how/WRB he/PRP did/VBD it/PRP ,/, )/) he/PRP did/VBD not/RB look/VB at/IN all/DT comfortable/JJ ,/, and/CC it/PRP was/VBD certainly/RB not/RB becoming/VBG ./.\n",
            "'And/MD that/WDT 's/VBZ the/DT jury-box/NN ,/, '/'' thought/JJ Alice/NNP ,/, 'and/NNP those/DT twelve/JJ creatures/NNS ,/, '/'' (/( she/PRP was/VBD obliged/VBN to/TO say/VB 'creatures/NNS ,/, '/'' you/PRP see/VBP ,/, because/IN some/DT of/IN them/PRP were/VBD animals/NNS ,/, and/CC some/DT were/VBD birds/NNS ,/, )/) '/POS I/PRP suppose/VBP they/PRP are/VBP the/DT jurors/NNS ./. '/''\n",
            "She/PRP said/VBD this/DT last/JJ word/NN two/CD or/CC three/CD times/NNS over/IN to/TO herself/VB ,/, being/VBG rather/RB proud/NN of/IN it/PRP :/: for/IN she/PRP thought/VBD ,/, and/CC rightly/RB too/RB ,/, that/DT very/RB few/JJ little/JJ girls/NNS of/IN her/PRP$ age/NN knew/VBD the/DT meaning/NN of/IN it/PRP at/IN all/DT ./.\n",
            "However/RB ,/, 'jury-men/NNS '/POS would/MD have/VB done/VBN just/RB as/RB well/RB ./.\n",
            "The/DT twelve/NN jurors/NNS were/VBD all/DT writing/VBG very/RB busily/RB on/IN slates/NNS ./.\n",
            "'What/WDT are/VBP they/PRP doing/VBG ?/. '/''\n",
            "Alice/RB whispered/VBN to/TO the/DT Gryphon/NNP ./.\n",
            "'They/NNS ca/MD n't/RB have/VB anything/NN to/TO put/VB down/RP yet/RB ,/, before/IN the/DT trial/NN 's/POS begun/VBN ./. '/''\n",
            "'They/CD 're/VBP putting/VBG down/RP their/PRP$ names/NNS ,/, '/'' the/DT Gryphon/NNP whispered/VBD in/IN reply/NN ,/, 'for/'' fear/VBP they/PRP should/MD forget/VB them/PRP before/IN the/DT end/NN of/IN the/DT trial/NN ./. '/''\n",
            "'Stupid/JJ things/NNS !/. '/''\n",
            "Alice/NNP began/VBD in/IN a/DT loud/NN ,/, indignant/JJ voice/NN ,/, but/CC she/PRP stopped/VBD hastily/RB ,/, for/IN the/DT White/NNP Rabbit/NNP cried/VBD out/RP ,/, 'Silence/NN in/IN the/DT court/NN !/. '/''\n",
            "and/CC the/DT King/NNP put/NN on/IN his/PRP$ spectacles/NNS and/CC looked/VBD anxiously/RB round/VBN ,/, to/TO make/VB out/RP who/WP was/VBD talking/VBG ./.\n",
            "Alice/NNP could/MD see/VB ,/, as/RB well/RB as/IN if/IN she/PRP were/VBD looking/VBG over/IN their/PRP$ shoulders/NNS ,/, that/IN all/PDT the/DT jurors/NNS were/VBD writing/VBG down/RP 'stupid/JJ things/NNS !/. '/''\n",
            "on/IN their/PRP$ slates/NNS ,/, and/CC she/PRP could/MD even/RB make/VB out/RP that/IN one/CD of/IN them/PRP did/VBD n't/RB know/VB how/WRB to/TO spell/VB 'stupid/CD ,/, '/'' and/CC that/IN he/PRP had/VBD to/TO ask/VB his/PRP$ neighbour/NN to/TO tell/VB him/PRP ./.\n",
            "'/'' A/DT nice/JJ muddle/FW their/PRP$ slates/NNS 'll/MD be/VB in/IN before/IN the/DT trial/NN 's/POS over/IN !/. '/''\n",
            "thought/JJ Alice/NNP ./.\n",
            "One/CD of/IN the/DT jurors/NNS had/VBD a/DT pencil/NN that/IN squeaked/VBD ./.\n",
            "This/DT of/IN course/NN ,/, Alice/NNP could/MD not/RB stand/VB ,/, and/CC she/PRP went/VBD round/IN the/DT court/NN and/CC got/VBD behind/IN him/PRP ,/, and/CC very/RB soon/RB found/VBD an/DT opportunity/NN of/IN taking/VBG it/PRP away/RB ./.\n",
            "She/PRP did/VBD it/PRP so/RB quickly/RB that/IN the/DT poor/JJ little/JJ juror/NN (/( it/PRP was/VBD Bill/NNP ,/, the/DT Lizard/NNP )/) could/MD not/RB make/VB out/RP at/IN all/DT what/WP had/VBD become/VBN of/IN it/PRP ;/: so/RB ,/, after/IN hunting/VBG all/DT about/IN for/IN it/PRP ,/, he/PRP was/VBD obliged/VBN to/TO write/VB with/IN one/CD finger/NN for/IN the/DT rest/NN of/IN the/DT day/NN ;/: and/CC this/DT was/VBD of/IN very/RB little/JJ use/NN ,/, as/IN it/PRP left/VBD no/DT mark/NN on/IN the/DT slate/NN ./.\n",
            "'Herald/CD ,/, read/VBD the/DT accusation/NN !/. '/''\n",
            "said/VBD the/DT King/NNP ./.\n",
            "On/IN this/DT the/DT White/NNP Rabbit/NNP blew/VBD three/CD blasts/NNS on/IN the/DT trumpet/NN ,/, and/CC then/RB unrolled/VBD the/DT parchment/NN scroll/NN ,/, and/CC read/VBD as/IN follows/VBZ :/: --/: 'The/POS Queen/NNP of/IN Hearts/NNP ,/, she/PRP made/VBD some/DT tarts/NNS ,/, All/DT on/IN a/DT summer/NN day/NN :/: The/DT Knave/NNP of/IN Hearts/NNP ,/, he/PRP stole/VBD those/DT tarts/NNS ,/, And/CC took/VBD them/PRP quite/VB away/RB !/. '/''\n",
            "'Consider/VB your/PRP$ verdict/NN ,/, '/'' the/DT King/NNP said/VBD to/TO the/DT jury/NN ./.\n",
            "'Not/CD yet/RB ,/, not/RB yet/RB !/. '/''\n",
            "the/DT Rabbit/NNP hastily/RB interrupted/VBD ./.\n",
            "'There/EX 's/VBZ a/DT great/JJ deal/NN to/TO come/VB before/IN that/DT !/. '/''\n",
            "'Call/VB the/DT first/JJ witness/NN ,/, '/'' said/VBD the/DT King/NNP ;/: and/CC the/DT White/NNP Rabbit/NNP blew/VBD three/CD blasts/NNS on/IN the/DT trumpet/NN ,/, and/CC called/VBD out/RP ,/, 'First/'' witness/NN !/. '/''\n",
            "The/DT first/JJ witness/NN was/VBD the/DT Hatter/NNP ./.\n",
            "He/PRP came/VBD in/IN with/IN a/DT teacup/NN in/IN one/CD hand/NN and/CC a/DT piece/NN of/IN bread-and-butter/NN in/IN the/DT other/JJ ./.\n",
            "'/POS I/PRP beg/VBP pardon/RB ,/, your/PRP$ Majesty/NNP ,/, '/'' he/PRP began/VBD ,/, 'for/CD bringing/VBG these/DT in/IN :/: but/CC I/PRP had/VBD n't/RB quite/RB finished/VBN my/PRP$ tea/NN when/WRB I/PRP was/VBD sent/VBN for/IN ./. '/''\n",
            "'You/NNS ought/MD to/TO have/VB finished/VBN ,/, '/'' said/VBD the/DT King/NNP ./.\n",
            "'When/POS did/VBD you/PRP begin/VB ?/. '/''\n",
            "The/DT Hatter/NNP looked/VBD at/IN the/DT March/NNP Hare/NNP ,/, who/WP had/VBD followed/VBN him/PRP into/IN the/DT court/NN ,/, arm-in-arm/NN with/IN the/DT Dormouse/NNP ./.\n",
            "'Fourteenth/CD of/IN March/NNP ,/, I/PRP think/VBP it/PRP was/VBD ,/, '/'' he/PRP said/VBD ./.\n",
            "'Fifteenth/CD ,/, '/'' said/VBD the/DT March/NNP Hare/NNP ./.\n",
            "'Sixteenth/CD ,/, '/'' added/VBD the/DT Dormouse/NNP ./.\n",
            "'Write/NN that/WDT down/RB ,/, '/'' the/DT King/NNP said/VBD to/TO the/DT jury/NN ,/, and/CC the/DT jury/NN eagerly/RB wrote/VBD down/IN all/DT three/CD dates/NNS on/IN their/PRP$ slates/NNS ,/, and/CC then/RB added/VBD them/PRP up/RP ,/, and/CC reduced/VBD the/DT answer/NN to/TO shillings/NNS and/CC pence/NN ./.\n",
            "'Take/VB off/RP your/PRP$ hat/NN ,/, '/'' the/DT King/NNP said/VBD to/TO the/DT Hatter/NNP ./.\n",
            "'It/NN is/VBZ n't/RB mine/JJ ,/, '/'' said/VBD the/DT Hatter/NNP ./.\n",
            "'Stolen/CD !/. '/''\n",
            "the/DT King/NNP exclaimed/VBD ,/, turning/VBG to/TO the/DT jury/NN ,/, who/WP instantly/RB made/VBD a/DT memorandum/NN of/IN the/DT fact/NN ./.\n",
            "'/POS I/PRP keep/VBP them/PRP to/TO sell/VB ,/, '/'' the/DT Hatter/NNP added/VBD as/IN an/DT explanation/NN ;/: '/POS I/PRP 've/VBP none/NN of/IN my/PRP$ own/JJ ./.\n",
            "I/PRP 'm/VBP a/DT hatter/NN ./. '/''\n",
            "Here/RB the/DT Queen/NNP put/NN on/IN her/PRP$ spectacles/NNS ,/, and/CC began/VBD staring/VBG at/IN the/DT Hatter/NNP ,/, who/WP turned/VBD pale/JJ and/CC fidgeted/VBN ./.\n",
            "'Give/CD your/PRP$ evidence/NN ,/, '/'' said/VBD the/DT King/NNP ;/: 'and/CD do/VBP n't/RB be/VB nervous/JJ ,/, or/CC I/PRP 'll/MD have/VB you/PRP executed/VBN on/IN the/DT spot/NN ./. '/''\n",
            "This/DT did/VBD not/RB seem/VB to/TO encourage/VB the/DT witness/NN at/IN all/DT :/: he/PRP kept/VBD shifting/VBG from/IN one/CD foot/NN to/TO the/DT other/JJ ,/, looking/VBG uneasily/RB at/IN the/DT Queen/NNP ,/, and/CC in/IN his/PRP$ confusion/NN he/PRP bit/VBZ a/DT large/JJ piece/NN out/IN of/IN his/PRP$ teacup/NN instead/RB of/IN the/DT bread-and-butter/NN ./.\n",
            "Just/RB at/IN this/DT moment/NN Alice/NNP felt/VBD a/DT very/RB curious/JJ sensation/NN ,/, which/WDT puzzled/VBD her/PRP a/DT good/JJ deal/NN until/IN she/PRP made/VBD out/RP what/WP it/PRP was/VBD :/: she/PRP was/VBD beginning/VBG to/TO grow/VB larger/JJR again/RB ,/, and/CC she/PRP thought/VBD at/IN first/JJ she/PRP would/MD get/VB up/RP and/CC leave/VB the/DT court/NN ;/: but/CC on/IN second/JJ thoughts/NNS she/PRP decided/VBD to/TO remain/VB where/WRB she/PRP was/VBD as/RB long/RB as/IN there/EX was/VBD room/NN for/IN her/PRP$ ./.\n",
            "'/POS I/PRP wish/VBP you/PRP would/MD n't/RB squeeze/VB so/RB ./. '/''\n",
            "said/VBD the/DT Dormouse/NNP ,/, who/WP was/VBD sitting/VBG next/JJ to/TO her/PRP$ ./.\n",
            "'/POS I/PRP can/MD hardly/RB breathe/VB ./. '/''\n",
            "'/POS I/PRP ca/MD n't/RB help/VB it/PRP ,/, '/'' said/VBD Alice/NNP very/RB meekly/RB :/: '/'' I/PRP 'm/VBP growing/VBG ./. '/''\n",
            "'You/POS 've/VBP no/DT right/NN to/TO grow/VB here/RB ,/, '/'' said/VBD the/DT Dormouse/NNP ./.\n",
            "'Do/MD n't/RB talk/VB nonsense/NN ,/, '/'' said/VBD Alice/NNP more/RBR boldly/RB :/: 'you/CD know/VBP you/PRP 're/VBP growing/VBG too/RB ./. '/''\n",
            "'Yes/CD ,/, but/CC I/PRP grow/VBP at/IN a/DT reasonable/JJ pace/NN ,/, '/'' said/VBD the/DT Dormouse/NNP :/: 'not/NN in/IN that/DT ridiculous/JJ fashion/NN ./. '/''\n",
            "And/CC he/PRP got/VBD up/RB very/RB sulkily/RB and/CC crossed/VBD over/IN to/TO the/DT other/JJ side/NN of/IN the/DT court/NN ./.\n",
            "All/PDT this/DT time/NN the/DT Queen/NNP had/VBD never/RB left/VBN off/RP staring/VBG at/IN the/DT Hatter/NNP ,/, and/CC ,/, just/RB as/IN the/DT Dormouse/NNP crossed/VBD the/DT court/NN ,/, she/PRP said/VBD to/TO one/CD of/IN the/DT officers/NNS of/IN the/DT court/NN ,/, 'Bring/VBG me/PRP the/DT list/NN of/IN the/DT singers/NNS in/IN the/DT last/JJ concert/NN !/. '/''\n",
            "on/IN which/WDT the/DT wretched/NN Hatter/NNP trembled/VBD so/RB ,/, that/IN he/PRP shook/VBD both/DT his/PRP$ shoes/NNS off/RP ./.\n",
            "'Give/CD your/PRP$ evidence/NN ,/, '/'' the/DT King/NNP repeated/VBD angrily/RB ,/, 'or/'' I/PRP 'll/MD have/VB you/PRP executed/VBN ,/, whether/IN you/PRP 're/VBP nervous/JJ or/CC not/RB ./. '/''\n",
            "'/POS I/PRP 'm/VBP a/DT poor/JJ man/NN ,/, your/PRP$ Majesty/NNP ,/, '/'' the/DT Hatter/NNP began/VBD ,/, in/IN a/DT trembling/JJ voice/NN ,/, '/'' --/: and/CC I/PRP had/VBD n't/RB begun/VBN my/PRP$ tea/NN --/: not/RB above/IN a/DT week/NN or/CC so/RB --/: and/CC what/WP with/IN the/DT bread-and-butter/NN getting/VBG so/RB thin/JJ --/: and/CC the/DT twinkling/NN of/IN the/DT tea/NN --/: '/'' 'The/JJ twinkling/NN of/IN the/DT what/WP ?/. '/''\n",
            "said/VBD the/DT King/NNP ./.\n",
            "'It/NNS began/VBD with/IN the/DT tea/NN ,/, '/'' the/DT Hatter/NNP replied/VBD ./.\n",
            "'Of/JJ course/NN twinkling/VBG begins/NNS with/IN a/DT T/NN !/. '/''\n",
            "said/VBD the/DT King/NNP sharply/RB ./.\n",
            "'Do/IN you/PRP take/VBP me/PRP for/IN a/DT dunce/NN ?/.\n",
            "Go/VB on/IN !/. '/''\n",
            "'/POS I/PRP 'm/VBP a/DT poor/JJ man/NN ,/, '/'' the/DT Hatter/NNP went/VBD on/IN ,/, 'and/PRP most/JJS things/NNS twinkled/VBD after/IN that/DT --/: only/RB the/DT March/NNP Hare/NNP said/VBD --/: '/'' '/POS I/PRP did/VBD n't/RB !/. '/''\n",
            "the/DT March/NNP Hare/NNP interrupted/VBN in/IN a/DT great/JJ hurry/NN ./.\n",
            "'You/NNS did/VBD !/. '/''\n",
            "said/VBD the/DT Hatter/NNP ./.\n",
            "'/POS I/PRP deny/VBP it/PRP !/. '/''\n",
            "said/VBD the/DT March/NNP Hare/NNP ./.\n",
            "'He/MD denies/VBZ it/PRP ,/, '/'' said/VBD the/DT King/NNP :/: 'leave/VB out/RP that/IN part/NN ./. '/''\n",
            "'Well/RB ,/, at/IN any/DT rate/NN ,/, the/DT Dormouse/NNP said/VBD --/: '/'' the/DT Hatter/NNP went/VBD on/IN ,/, looking/VBG anxiously/RB round/VBN to/TO see/VB if/IN he/PRP would/MD deny/VB it/PRP too/RB :/: but/CC the/DT Dormouse/NNP denied/VBD nothing/NN ,/, being/VBG fast/JJ asleep/NN ./.\n",
            "'After/NN that/IN ,/, '/'' continued/VBD the/DT Hatter/NNP ,/, '/'' I/PRP cut/VBD some/DT more/RBR bread-and-butter/JJ --/: '/POS 'But/MD what/WP did/VBD the/DT Dormouse/NNP say/VB ?/. '/''\n",
            "one/CD of/IN the/DT jury/NN asked/VBD ./.\n",
            "'That/IN I/PRP ca/MD n't/RB remember/VB ,/, '/'' said/VBD the/DT Hatter/NNP ./.\n",
            "'You/NNS MUST/NNP remember/VB ,/, '/'' remarked/VBD the/DT King/NNP ,/, 'or/'' I/PRP 'll/MD have/VB you/PRP executed/VBN ./. '/''\n",
            "The/DT miserable/JJ Hatter/NNP dropped/VBD his/PRP$ teacup/NN and/CC bread-and-butter/NN ,/, and/CC went/VBD down/RB on/IN one/CD knee/NN ./.\n",
            "'/POS I/PRP 'm/VBP a/DT poor/JJ man/NN ,/, your/PRP$ Majesty/NNP ,/, '/'' he/PRP began/VBD ./.\n",
            "'You/MD 're/VBP a/DT very/RB poor/JJ speaker/NN ,/, '/'' said/VBD the/DT King/NNP ./.\n",
            "Here/RB one/CD of/IN the/DT guinea-pigs/NNS cheered/VBN ,/, and/CC was/VBD immediately/RB suppressed/VBN by/IN the/DT officers/NNS of/IN the/DT court/NN ./.\n",
            "(/( As/IN that/DT is/VBZ rather/RB a/DT hard/JJ word/NN ,/, I/PRP will/MD just/RB explain/VB to/TO you/PRP how/WRB it/PRP was/VBD done/VBN ./.\n",
            "They/PRP had/VBD a/DT large/JJ canvas/NN bag/NN ,/, which/WDT tied/VBD up/RP at/IN the/DT mouth/NN with/IN strings/NNS :/: into/IN this/DT they/PRP slipped/VBD the/DT guinea-pig/NN ,/, head/NN first/RB ,/, and/CC then/RB sat/VBD upon/IN it/PRP ./. )/)\n",
            "'/POS I/PRP 'm/VBP glad/JJ I/PRP 've/VBP seen/VBN that/IN done/VBN ,/, '/'' thought/JJ Alice/NNP ./.\n",
            "'/POS I/PRP 've/VBP so/RB often/RB read/VBN in/IN the/DT newspapers/NNS ,/, at/IN the/DT end/NN of/IN trials/NNS ,/, ``/`` There/EX was/VBD some/DT attempts/NNS at/IN applause/NN ,/, which/WDT was/VBD immediately/RB suppressed/VBN by/IN the/DT officers/NNS of/IN the/DT court/NN ,/, ''/'' and/CC I/PRP never/RB understood/VBD what/WP it/PRP meant/VBD till/NN now/RB ./. '/''\n",
            "'If/MD that/DT 's/VBZ all/DT you/PRP know/VBP about/IN it/PRP ,/, you/PRP may/MD stand/VB down/RP ,/, '/'' continued/VBD the/DT King/NNP ./.\n",
            "'/POS I/PRP ca/MD n't/RB go/VB no/DT lower/JJR ,/, '/'' said/VBD the/DT Hatter/NNP :/: '/POS I/PRP 'm/VBP on/IN the/DT floor/NN ,/, as/IN it/PRP is/VBZ ./. '/''\n",
            "'Then/IN you/PRP may/MD SIT/VB down/RP ,/, '/'' the/DT King/NNP replied/VBD ./.\n",
            "Here/RB the/DT other/JJ guinea-pig/NN cheered/VBN ,/, and/CC was/VBD suppressed/VBN ./.\n",
            "'Come/CD ,/, that/WDT finished/VBD the/DT guinea-pigs/JJ !/. '/''\n",
            "thought/JJ Alice/NNP ./.\n",
            "'Now/IN we/PRP shall/MD get/VB on/IN better/JJR ./. '/''\n",
            "'/POS I/PRP 'd/MD rather/RB finish/VB my/PRP$ tea/NN ,/, '/'' said/VBD the/DT Hatter/NNP ,/, with/IN an/DT anxious/JJ look/NN at/IN the/DT Queen/NNP ,/, who/WP was/VBD reading/VBG the/DT list/NN of/IN singers/NNS ./.\n",
            "'You/NN may/MD go/VB ,/, '/'' said/VBD the/DT King/NNP ,/, and/CC the/DT Hatter/NNP hurriedly/RB left/VBD the/DT court/NN ,/, without/IN even/RB waiting/VBG to/TO put/VB his/PRP$ shoes/NNS on./VBP '/''\n",
            "--/: and/CC just/RB take/VB his/PRP$ head/NN off/IN outside/JJ ,/, '/'' the/DT Queen/NNP added/VBD to/TO one/CD of/IN the/DT officers/NNS :/: but/CC the/DT Hatter/NNP was/VBD out/IN of/IN sight/NN before/IN the/DT officer/NN could/MD get/VB to/TO the/DT door/NN ./.\n",
            "'Call/PDT the/DT next/JJ witness/NN !/. '/''\n",
            "said/VBD the/DT King/NNP ./.\n",
            "The/DT next/JJ witness/NN was/VBD the/DT Duchess/NNP 's/POS cook/NN ./.\n",
            "She/PRP carried/VBD the/DT pepper-box/NN in/IN her/PRP$ hand/NN ,/, and/CC Alice/NNP guessed/VBD who/WP it/PRP was/VBD ,/, even/RB before/IN she/PRP got/VBD into/IN the/DT court/NN ,/, by/IN the/DT way/NN the/DT people/NNS near/IN the/DT door/NN began/VBD sneezing/VBG all/DT at/IN once/RB ./.\n",
            "'Give/CD your/PRP$ evidence/NN ,/, '/'' said/VBD the/DT King/NNP ./.\n",
            "'Sha/MD n't/RB ,/, '/'' said/VBD the/DT cook/NN ./.\n",
            "The/DT King/NNP looked/VBD anxiously/RB at/IN the/DT White/NNP Rabbit/NNP ,/, who/WP said/VBD in/IN a/DT low/JJ voice/NN ,/, 'Your/CD Majesty/NNP must/MD cross-examine/VB THIS/NNP witness/NN ./. '/''\n",
            "'Well/RB ,/, if/IN I/PRP must/MD ,/, I/PRP must/MD ,/, '/'' the/DT King/NNP said/VBD ,/, with/IN a/DT melancholy/JJ air/NN ,/, and/CC ,/, after/IN folding/VBG his/PRP$ arms/NNS and/CC frowning/VBG at/IN the/DT cook/NN till/VB his/PRP$ eyes/NNS were/VBD nearly/RB out/RB of/IN sight/NN ,/, he/PRP said/VBD in/IN a/DT deep/JJ voice/NN ,/, 'What/WDT are/VBP tarts/NNS made/VBN of/IN ?/. '/''\n",
            "'Pepper/CD ,/, mostly/RB ,/, '/'' said/VBD the/DT cook/NN ./.\n",
            "'Treacle/NN ,/, '/'' said/VBD a/DT sleepy/JJ voice/NN behind/IN her/PRP ./.\n",
            "'Collar/JJ that/IN Dormouse/NNP ,/, '/'' the/DT Queen/NNP shrieked/VBD out/RP ./.\n",
            "'Behead/POS that/DT Dormouse/NN !/.\n",
            "Turn/NN that/WDT Dormouse/VBZ out/IN of/IN court/NN !/.\n",
            "Suppress/NNP him/PRP !/.\n",
            "Pinch/NN him/PRP !/.\n",
            "Off/IN with/IN his/PRP$ whiskers/NNS !/. '/''\n",
            "For/IN some/DT minutes/NNS the/DT whole/JJ court/NN was/VBD in/IN confusion/NN ,/, getting/VBG the/DT Dormouse/NNP turned/VBD out/RP ,/, and/CC ,/, by/IN the/DT time/NN they/PRP had/VBD settled/VBN down/RB again/RB ,/, the/DT cook/NN had/VBD disappeared/VBN ./.\n",
            "'Never/RB mind/NN !/. '/''\n",
            "said/VBD the/DT King/NNP ,/, with/IN an/DT air/NN of/IN great/JJ relief/NN ./.\n",
            "'Call/PDT the/DT next/JJ witness/NN ./. '/''\n",
            "And/CC he/PRP added/VBD in/IN an/DT undertone/NN to/TO the/DT Queen/NNP ,/, 'Really/RB ,/, my/PRP$ dear/NN ,/, YOU/PRP must/MD cross-examine/VB the/DT next/JJ witness/NN ./.\n",
            "It/PRP quite/RB makes/VBZ my/PRP$ forehead/JJ ache/NN !/. '/''\n",
            "Alice/NNP watched/VBD the/DT White/NNP Rabbit/NNPS as/IN he/PRP fumbled/VBD over/RP the/DT list/NN ,/, feeling/VBG very/RB curious/JJ to/TO see/VB what/WP the/DT next/JJ witness/NN would/MD be/VB like/IN ,/, '/'' --/: for/IN they/PRP haven't/VBP got/VBD much/JJ evidence/NN YET/RB ,/, '/'' she/PRP said/VBD to/TO herself/PRP ./.\n",
            "Imagine/NNP her/PRP surprise/NN ,/, when/WRB the/DT White/NNP Rabbit/NNP read/VBD out/RP ,/, at/IN the/DT top/NN of/IN his/PRP$ shrill/NN little/JJ voice/NN ,/, the/DT name/NN 'Alice/POS !/. '/''\n",
            "CHAPTER/NN XII/NN ./.\n",
            "Alice/NNP 's/POS Evidence/NNP 'Here/RB !/. '/''\n",
            "cried/JJ Alice/NNP ,/, quite/RB forgetting/VBG in/IN the/DT flurry/NN of/IN the/DT moment/NN how/WRB large/JJ she/PRP had/VBD grown/VBN in/IN the/DT last/JJ few/JJ minutes/NNS ,/, and/CC she/PRP jumped/VBD up/RB in/IN such/JJ a/DT hurry/NN that/IN she/PRP tipped/VBD over/IN the/DT jury-box/NN with/IN the/DT edge/NN of/IN her/PRP$ skirt/NN ,/, upsetting/VBG all/PDT the/DT jurymen/NNS on/IN to/TO the/DT heads/NNS of/IN the/DT crowd/NN below/IN ,/, and/CC there/RB they/PRP lay/VBD sprawling/VBG about/RB ,/, reminding/VBG her/PRP$ very/RB much/JJ of/IN a/DT globe/NN of/IN goldfish/JJ she/PRP had/VBD accidentally/RB upset/VBN the/DT week/NN before/IN ./.\n",
            "'Oh/CD ,/, I/PRP BEG/VBP your/PRP$ pardon/NN !/. '/''\n",
            "she/PRP exclaimed/VBD in/IN a/DT tone/NN of/IN great/JJ dismay/NN ,/, and/CC began/VBD picking/VBG them/PRP up/RP again/RB as/RB quickly/RB as/IN she/PRP could/MD ,/, for/IN the/DT accident/NN of/IN the/DT goldfish/JJ kept/NN running/VBG in/IN her/PRP$ head/NN ,/, and/CC she/PRP had/VBD a/DT vague/JJ sort/NN of/IN idea/NN that/IN they/PRP must/MD be/VB collected/VBN at/IN once/RB and/CC put/VB back/RB into/IN the/DT jury-box/NN ,/, or/CC they/PRP would/MD die/VB ./.\n",
            "'The/POS trial/NN can/MD not/RB proceed/VB ,/, '/'' said/VBD the/DT King/NNP in/IN a/DT very/RB grave/JJ voice/NN ,/, 'until/'' all/PDT the/DT jurymen/NNS are/VBP back/RB in/IN their/PRP$ proper/JJ places/NNS --/: ALL/NNP ,/, '/'' he/PRP repeated/VBD with/IN great/JJ emphasis/NN ,/, looking/VBG hard/RB at/IN Alice/NNP as/IN he/PRP said/VBD do/NN ./.\n",
            "Alice/NNP looked/VBD at/IN the/DT jury-box/NN ,/, and/CC saw/VBD that/IN ,/, in/IN her/PRP$ haste/NN ,/, she/PRP had/VBD put/VBN the/DT Lizard/NNP in/IN head/NN downwards/NNS ,/, and/CC the/DT poor/JJ little/JJ thing/NN was/VBD waving/VBG its/PRP$ tail/NN about/IN in/IN a/DT melancholy/JJ way/NN ,/, being/VBG quite/RB unable/JJ to/TO move/VB ./.\n",
            "She/PRP soon/RB got/VBD it/PRP out/RP again/RB ,/, and/CC put/VBD it/PRP right/RB ;/: 'not/CC that/IN it/PRP signifies/VBZ much/RB ,/, '/'' she/PRP said/VBD to/TO herself/PRP ;/: '/'' I/PRP should/MD think/VB it/PRP would/MD be/VB QUITE/RB as/RB much/JJ use/NN in/IN the/DT trial/NN one/CD way/NN up/RB as/IN the/DT other/JJ ./. '/''\n",
            "As/RB soon/RB as/IN the/DT jury/NN had/VBD a/DT little/JJ recovered/JJ from/IN the/DT shock/NN of/IN being/VBG upset/VBN ,/, and/CC their/PRP$ slates/NNS and/CC pencils/NNS had/VBD been/VBN found/VBN and/CC handed/VBN back/RP to/TO them/PRP ,/, they/PRP set/VBP to/TO work/VB very/RB diligently/RB to/TO write/VB out/RP a/DT history/NN of/IN the/DT accident/NN ,/, all/DT except/IN the/DT Lizard/NNP ,/, who/WP seemed/VBD too/RB much/JJ overcome/NN to/TO do/VB anything/NN but/CC sit/NN with/IN its/PRP$ mouth/NN open/JJ ,/, gazing/VBG up/RP into/IN the/DT roof/NN of/IN the/DT court/NN ./.\n",
            "'What/WDT do/VBP you/PRP know/VB about/IN this/DT business/NN ?/. '/''\n",
            "the/DT King/NNP said/VBD to/TO Alice/NNP ./.\n",
            "'Nothing/VBG ,/, '/'' said/VBD Alice/NNP ./.\n",
            "'Nothing/VBG WHATEVER/NNP ?/. '/''\n",
            "persisted/VBN the/DT King/NNP ./.\n",
            "'Nothing/VBG whatever/NN ,/, '/'' said/VBD Alice/NNP ./.\n",
            "'That/WP 's/VBZ very/RB important/JJ ,/, '/'' the/DT King/NNP said/VBD ,/, turning/VBG to/TO the/DT jury/NN ./.\n",
            "They/PRP were/VBD just/RB beginning/VBG to/TO write/VB this/DT down/RP on/IN their/PRP$ slates/NNS ,/, when/WRB the/DT White/NNP Rabbit/NNP interrupted/VBD :/: 'UNimportant/NN ,/, your/PRP$ Majesty/NNP means/NNPS ,/, of/IN course/NN ,/, '/'' he/PRP said/VBD in/IN a/DT very/RB respectful/JJ tone/NN ,/, but/CC frowning/VBG and/CC making/VBG faces/VBZ at/IN him/PRP as/IN he/PRP spoke/VBD ./.\n",
            "'UNimportant/JJ ,/, of/IN course/NN ,/, I/PRP meant/VBP ,/, '/'' the/DT King/NNP hastily/NN said/VBD ,/, and/CC went/VBD on/IN to/TO himself/PRP in/IN an/DT undertone/NN ,/, 'important/CD --/: unimportant/JJ --/: unimportant/JJ --/: important/JJ --/: '/POS as/IN if/IN he/PRP were/VBD trying/VBG which/WDT word/NN sounded/VBD best/RBS ./.\n",
            "Some/DT of/IN the/DT jury/NN wrote/VBD it/PRP down/RP 'important/JJ ,/, '/'' and/CC some/DT 'unimportant/JJ ./. '/''\n",
            "Alice/NNP could/MD see/VB this/DT ,/, as/IN she/PRP was/VBD near/RB enough/JJ to/TO look/VB over/RP their/PRP$ slates/NNS ;/: 'but/VBZ it/PRP does/VBZ n't/RB matter/VB a/DT bit/NN ,/, '/'' she/PRP thought/VBD to/TO herself/VB ./.\n",
            "At/IN this/DT moment/NN the/DT King/NNP ,/, who/WP had/VBD been/VBN for/IN some/DT time/NN busily/RB writing/VBG in/IN his/PRP$ note-book/NN ,/, cackled/VBD out/RP 'Silence/NN !/. '/''\n",
            "and/CC read/VB out/RP from/IN his/PRP$ book/NN ,/, 'Rule/'' Forty-two/NNP ./.\n",
            "ALL/DT PERSONS/NNP MORE/NNP THAN/NNP A/NNP MILE/NNP HIGH/NNP TO/NNP LEAVE/NNP THE/NNP COURT/NNP ./. '/''\n",
            "Everybody/NN looked/VBD at/IN Alice/NNP ./.\n",
            "'/POS I/PRP 'M/MD not/RB a/DT mile/NN high/JJ ,/, '/'' said/VBD Alice/NNP ./.\n",
            "'You/NNS are/VBP ,/, '/'' said/VBD the/DT King/NNP ./.\n",
            "'Nearly/RB two/CD miles/NNS high/RB ,/, '/'' added/VBD the/DT Queen/NNP ./.\n",
            "'Well/UH ,/, I/PRP sha/VBP n't/RB go/VB ,/, at/IN any/DT rate/NN ,/, '/'' said/VBD Alice/NNP :/: 'besides/NNS ,/, that/DT 's/VBZ not/RB a/DT regular/JJ rule/NN :/: you/PRP invented/VBD it/PRP just/RB now/RB ./. '/''\n",
            "'It/NN 's/POS the/DT oldest/JJS rule/NN in/IN the/DT book/NN ,/, '/'' said/VBD the/DT King/NNP ./.\n",
            "'Then/VB it/PRP ought/MD to/TO be/VB Number/NNP One/NNP ,/, '/'' said/VBD Alice/NNP ./.\n",
            "The/DT King/NNP turned/VBD pale/JJ ,/, and/CC shut/VB his/PRP$ note-book/JJ hastily/NN ./.\n",
            "'Consider/VB your/PRP$ verdict/NN ,/, '/'' he/PRP said/VBD to/TO the/DT jury/NN ,/, in/IN a/DT low/JJ ,/, trembling/JJ voice/NN ./.\n",
            "'There/EX 's/VBZ more/JJR evidence/NN to/TO come/VB yet/RB ,/, please/VB your/PRP$ Majesty/NNP ,/, '/'' said/VBD the/DT White/NNP Rabbit/NNP ,/, jumping/VBG up/RP in/IN a/DT great/JJ hurry/NN ;/: 'this/CC paper/NN has/VBZ just/RB been/VBN picked/VBN up/RP ./. '/''\n",
            "'What/DT 's/VBZ in/IN it/PRP ?/. '/''\n",
            "said/VBD the/DT Queen/NNP ./.\n",
            "'/POS I/PRP have/VBP n't/RB opened/VBN it/PRP yet/RB ,/, '/'' said/VBD the/DT White/NNP Rabbit/NNP ,/, 'but/VBZ it/PRP seems/VBZ to/TO be/VB a/DT letter/NN ,/, written/VBN by/IN the/DT prisoner/NN to/TO --/: to/TO somebody/NN ./. '/''\n",
            "'It/NNS must/MD have/VB been/VBN that/IN ,/, '/'' said/VBD the/DT King/NNP ,/, 'unless/VBD it/PRP was/VBD written/VBN to/TO nobody/NN ,/, which/WDT is/VBZ n't/RB usual/JJ ,/, you/PRP know/VBP ./. '/''\n",
            "'Who/'' is/VBZ it/PRP directed/VBD to/TO ?/. '/''\n",
            "said/VBD one/CD of/IN the/DT jurymen/NNS ./.\n",
            "'It/NN is/VBZ n't/RB directed/VBN at/IN all/DT ,/, '/'' said/VBD the/DT White/NNP Rabbit/NNP ;/: 'in/CD fact/NN ,/, there's/JJ nothing/NN written/VBN on/IN the/DT OUTSIDE/NNP ./. '/''\n",
            "He/PRP unfolded/VBD the/DT paper/NN as/IN he/PRP spoke/VBD ,/, and/CC added/VBD 'It/NNP is/VBZ n't/RB a/DT letter/NN ,/, after/IN all/DT :/: it/PRP 's/VBZ a/DT set/NN of/IN verses/NNS ./. '/''\n",
            "'Are/NNS they/PRP in/IN the/DT prisoner/NN 's/POS handwriting/NN ?/. '/''\n",
            "asked/VBN another/DT of/IN the/DT jurymen/NNS ./.\n",
            "'No/LS ,/, they/PRP 're/VBP not/RB ,/, '/'' said/VBD the/DT White/NNP Rabbit/NNP ,/, 'and/VBZ that/WDT 's/VBZ the/DT queerest/JJS thing/NN about/IN it/PRP ./. '/''\n",
            "(/( The/DT jury/NN all/DT looked/VBD puzzled/VBN ./. )/)\n",
            "'He/NNS must/MD have/VB imitated/VBN somebody/NN else/RB 's/POS hand/NN ,/, '/'' said/VBD the/DT King/NNP ./.\n",
            "(/( The/DT jury/NN all/DT brightened/VBD up/RP again/RB ./. )/)\n",
            "'Please/VB your/PRP$ Majesty/NNP ,/, '/'' said/VBD the/DT Knave/NNP ,/, '/'' I/PRP did/VBD n't/RB write/VB it/PRP ,/, and/CC they/PRP ca/MD n't/RB prove/VB I/PRP did/VBD :/: there/EX 's/VBZ no/DT name/NN signed/VBD at/IN the/DT end/NN ./. '/''\n",
            "'If/IN you/PRP did/VBD n't/RB sign/VB it/PRP ,/, '/'' said/VBD the/DT King/NNP ,/, 'that/IN only/RB makes/VBZ the/DT matter/NN worse/NN ./.\n",
            "You/PRP MUST/VBP have/VB meant/VBN some/DT mischief/NN ,/, or/CC else/RB you/PRP 'd/MD have/VB signed/VBN your/PRP$ name/NN like/IN an/DT honest/NN man/NN ./. '/''\n",
            "There/EX was/VBD a/DT general/JJ clapping/NN of/IN hands/NNS at/IN this/DT :/: it/PRP was/VBD the/DT first/JJ really/RB clever/JJ thing/NN the/DT King/NNP had/VBD said/VBD that/IN day/NN ./.\n",
            "'That/WDT PROVES/NNP his/PRP$ guilt/NN ,/, '/'' said/VBD the/DT Queen/NNP ./.\n",
            "'It/POS proves/NNS nothing/NN of/IN the/DT sort/NN !/. '/''\n",
            "said/VBD Alice/NNP ./.\n",
            "'Why/CD ,/, you/PRP do/VBP n't/RB even/RB know/VB what/WP they/PRP 're/VBP about/IN !/. '/''\n",
            "'Read/VB them/PRP ,/, '/'' said/VBD the/DT King/NNP ./.\n",
            "The/DT White/NNP Rabbit/NNP put/VBD on/IN his/PRP$ spectacles/NNS ./.\n",
            "'Where/RB shall/MD I/PRP begin/VB ,/, please/VB your/PRP$ Majesty/NNP ?/. '/''\n",
            "he/PRP asked/VBD ./.\n",
            "'Begin/NN at/IN the/DT beginning/NN ,/, '/'' the/DT King/NNP said/VBD gravely/RB ,/, 'and/PRP go/VBP on/IN till/NN you/PRP come/VBP to/TO the/DT end/NN :/: then/RB stop/VB ./. '/''\n",
            "These/DT were/VBD the/DT verses/NNS the/DT White/NNP Rabbit/NNP read/NN :/: --/: 'They/MD told/VB me/PRP you/PRP had/VBD been/VBN to/TO her/PRP$ ,/, And/CC mentioned/VBD me/PRP to/TO him/PRP :/: She/PRP gave/VBD me/PRP a/DT good/JJ character/NN ,/, But/CC said/VBD I/PRP could/MD not/RB swim/VB ./.\n",
            "He/PRP sent/VBD them/PRP word/NN I/PRP had/VBD not/RB gone/VBN (/( We/PRP know/VBP it/PRP to/TO be/VB true/JJ )/) :/: If/IN she/PRP should/MD push/VB the/DT matter/NN on/IN ,/, What/WP would/MD become/VB of/IN you/PRP ?/.\n",
            "I/PRP gave/VBD her/PRP one/NN ,/, they/PRP gave/VBD him/PRP two/CD ,/, You/PRP gave/VBD us/PRP three/CD or/CC more/JJR ;/: They/PRP all/DT returned/VBN from/IN him/PRP to/TO you/PRP ,/, Though/IN they/PRP were/VBD mine/JJ before/RB ./.\n",
            "If/IN I/PRP or/CC she/PRP should/MD chance/NN to/TO be/VB Involved/VBN in/IN this/DT affair/NN ,/, He/PRP trusts/VBZ to/TO you/PRP to/TO set/VB them/PRP free/JJ ,/, Exactly/RB as/IN we/PRP were/VBD ./.\n",
            "My/PRP$ notion/NN was/VBD that/IN you/PRP had/VBD been/VBN (/( Before/IN she/PRP had/VBD this/DT fit/NN )/) An/DT obstacle/NN that/WDT came/VBD between/IN Him/NNP ,/, and/CC ourselves/PRP ,/, and/CC it/PRP ./.\n",
            "Do/VBP n't/RB let/VB him/PRP know/VB she/PRP liked/VBD them/PRP best/JJS ,/, For/IN this/DT must/MD ever/RB be/VB A/NNP secret/JJ ,/, kept/VBD from/IN all/PDT the/DT rest/NN ,/, Between/NNP yourself/PRP and/CC me/PRP ./. '/''\n",
            "'That/WDT 's/VBZ the/DT most/RBS important/JJ piece/NN of/IN evidence/NN we/PRP 've/VBP heard/VBN yet/RB ,/, '/'' said/VBD the/DT King/NNP ,/, rubbing/VBG his/PRP$ hands/NNS ;/: 'so/CC now/RB let/VB the/DT jury/NN --/: '/POS 'If/MD any/DT one/CD of/IN them/PRP can/MD explain/VB it/PRP ,/, '/'' said/VBD Alice/NNP ,/, (/( she/PRP had/VBD grown/VBN so/RB large/JJ in/IN the/DT last/JJ few/JJ minutes/NNS that/IN she/PRP was/VBD n't/RB a/DT bit/NN afraid/JJ of/IN interrupting/VBG him/PRP ,/, )/) '/POS I/PRP 'll/MD give/VB him/PRP sixpence/NN ./.\n",
            "_I_/NNS do/VBP n't/RB believe/VB there/EX 's/VBZ an/DT atom/NN of/IN meaning/NN in/IN it/PRP ./. '/''\n",
            "The/DT jury/NN all/DT wrote/VBD down/RB on/IN their/PRP$ slates/NNS ,/, 'SHE/NN does/VBZ n't/RB believe/VB there/EX 's/VBZ an/DT atom/NN of/IN meaning/NN in/IN it/PRP ,/, '/'' but/CC none/NN of/IN them/PRP attempted/VBD to/TO explain/VB the/DT paper/NN ./.\n",
            "'If/IN there/EX 's/VBZ no/DT meaning/NN in/IN it/PRP ,/, '/'' said/VBD the/DT King/NNP ,/, 'that/WDT saves/VBZ a/DT world/NN of/IN trouble/NN ,/, you/PRP know/VBP ,/, as/IN we/PRP need/VBP n't/RB try/VB to/TO find/VB any/DT ./.\n",
            "And/CC yet/RB I/PRP do/VBP n't/RB know/VB ,/, '/'' he/PRP went/VBD on/IN ,/, spreading/VBG out/RP the/DT verses/NNS on/IN his/PRP$ knee/NN ,/, and/CC looking/VBG at/IN them/PRP with/IN one/CD eye/NN ;/: '/POS I/PRP seem/VBP to/TO see/VB some/DT meaning/NN in/IN them/PRP ,/, after/IN all./NN ``/``\n",
            "--/: SAID/NN I/PRP COULD/NNP NOT/NNP SWIM/NNP --/: ''/'' you/PRP ca/MD n't/RB swim/VB ,/, can/MD you/PRP ?/. '/''\n",
            "he/PRP added/VBD ,/, turning/VBG to/TO the/DT Knave/NNP ./.\n",
            "The/DT Knave/NNP shook/VBD his/PRP$ head/NN sadly/RB ./.\n",
            "'Do/POS I/PRP look/VBP like/IN it/PRP ?/. '/''\n",
            "he/PRP said/VBD ./.\n",
            "(/( Which/MD he/PRP certainly/RB did/VBD NOT/NNP ,/, being/VBG made/VBN entirely/RB of/IN cardboard/NN ./. )/)\n",
            "'All/RB right/RB ,/, so/RB far/RB ,/, '/'' said/VBD the/DT King/NNP ,/, and/CC he/PRP went/VBD on/IN muttering/NN over/IN the/DT verses/NNS to/TO himself/PRP :/: '/'' ''/'' WE/NNP KNOW/NNP IT/NNP TO/NNP BE/NNP TRUE/NNP --/: ''/'' that/WDT 's/VBZ the/DT jury/NN ,/, of/IN course/NN --/: ''/'' I/PRP GAVE/VBD HER/NNP ONE/NNP ,/, THEY/NNP GAVE/NNP HIM/NNP TWO/NNP --/: ''/'' why/WRB ,/, that/DT must/MD be/VB what/WP he/PRP did/VBD with/IN the/DT tarts/NNS ,/, you/PRP know/VBP --/: '/'' 'But/CD ,/, it/PRP goes/VBZ on/IN ``/`` THEY/NNP ALL/NNP RETURNED/NNP FROM/NNP HIM/NNP TO/NNP YOU/NNP ,/, ''/'' '/POS said/VBD Alice/NNP ./.\n",
            "'Why/CD ,/, there/EX they/PRP are/VBP !/. '/''\n",
            "said/VBD the/DT King/NNP triumphantly/RB ,/, pointing/VBG to/TO the/DT tarts/NNS on/IN the/DT table/NN ./.\n",
            "'Nothing/VBG can/MD be/VB clearer/JJR than/IN THAT/DT ./.\n",
            "Then/RB again/RB --/: ''/'' BEFORE/IN SHE/NNP HAD/VBD THIS/NNP FIT/NNP --/: ''/'' you/PRP never/RB had/VBD fits/NNS ,/, my/PRP$ dear/JJ ,/, I/PRP think/VBP ?/. '/''\n",
            "he/PRP said/VBD to/TO the/DT Queen/NNP ./.\n",
            "'Never/RB !/. '/''\n",
            "said/VBD the/DT Queen/NNP furiously/RB ,/, throwing/VBG an/DT inkstand/NN at/IN the/DT Lizard/NNP as/IN she/PRP spoke/VBD ./.\n",
            "(/( The/DT unfortunate/NN little/JJ Bill/NNP had/VBD left/VBN off/RP writing/VBG on/IN his/PRP$ slate/NN with/IN one/CD finger/NN ,/, as/IN he/PRP found/VBD it/PRP made/VBD no/DT mark/NN ;/: but/CC he/PRP now/RB hastily/RB began/VBD again/RB ,/, using/VBG the/DT ink/NN ,/, that/WDT was/VBD trickling/VBG down/RP his/PRP$ face/NN ,/, as/RB long/RB as/IN it/PRP lasted/VBD ./. )/)\n",
            "'Then/IN the/DT words/NNS do/VBP n't/RB FIT/NNP you/PRP ,/, '/'' said/VBD the/DT King/NNP ,/, looking/VBG round/RP the/DT court/NN with/IN a/DT smile/NN ./.\n",
            "There/EX was/VBD a/DT dead/JJ silence/NN ./.\n",
            "'It/NN 's/POS a/DT pun/NN !/. '/''\n",
            "the/DT King/NNP added/VBD in/IN an/DT offended/JJ tone/NN ,/, and/CC everybody/NN laughed/VBD ,/, 'Let/'' the/DT jury/NN consider/VB their/PRP$ verdict/NN ,/, '/'' the/DT King/NNP said/VBD ,/, for/IN about/IN the/DT twentieth/JJ time/NN that/DT day/NN ./.\n",
            "'No/CD ,/, no/DT !/. '/''\n",
            "said/VBD the/DT Queen/NNP ./.\n",
            "'Sentence/NN first/RB --/: verdict/NN afterwards/NNS ./. '/''\n",
            "'Stuff/CD and/CC nonsense/JJ !/. '/''\n",
            "said/VBD Alice/NNP loudly/RB ./.\n",
            "'The/POS idea/NN of/IN having/VBG the/DT sentence/NN first/RB !/. '/''\n",
            "'Hold/VB your/PRP$ tongue/NN !/. '/''\n",
            "said/VBD the/DT Queen/NNP ,/, turning/VBG purple/NN ./.\n",
            "'/POS I/PRP wo/MD n't/RB !/. '/''\n",
            "said/VBD Alice/NNP ./.\n",
            "'Off/NN with/IN her/PRP$ head/NN !/. '/''\n",
            "the/DT Queen/NNP shouted/VBD at/IN the/DT top/NN of/IN her/PRP$ voice/NN ./.\n",
            "Nobody/NN moved/VBD ./.\n",
            "'Who/POS cares/NNS for/IN you/PRP ?/. '/''\n",
            "said/VBD Alice/NNP ,/, (/( she/PRP had/VBD grown/VBN to/TO her/PRP$ full/JJ size/NN by/IN this/DT time/NN ./. )/)\n",
            "'You/POS 're/VBP nothing/NN but/CC a/DT pack/NN of/IN cards/NNS !/. '/''\n",
            "At/IN this/DT the/DT whole/JJ pack/NN rose/VBD up/RP into/IN the/DT air/NN ,/, and/CC came/VBD flying/VBG down/RP upon/IN her/PRP$ :/: she/PRP gave/VBD a/DT little/JJ scream/NN ,/, half/NN of/IN fright/NN and/CC half/NN of/IN anger/NN ,/, and/CC tried/VBD to/TO beat/VB them/PRP off/RP ,/, and/CC found/VBD herself/PRP lying/VBG on/IN the/DT bank/NN ,/, with/IN her/PRP$ head/NN in/IN the/DT lap/NN of/IN her/PRP$ sister/NN ,/, who/WP was/VBD gently/RB brushing/VBG away/RB some/DT dead/JJ leaves/NNS that/WDT had/VBD fluttered/VBN down/RP from/IN the/DT trees/NNS upon/IN her/PRP$ face/NN ./.\n",
            "'Wake/VB up/RP ,/, Alice/NNP dear/RB !/. '/''\n",
            "said/VBD her/PRP$ sister/NN ;/: 'Why/CC ,/, what/WP a/DT long/JJ sleep/NN you've/NN had/VBD !/. '/''\n",
            "'Oh/CD ,/, I/PRP 've/VBP had/VBD such/PDT a/DT curious/JJ dream/NN !/. '/''\n",
            "said/VBD Alice/NNP ,/, and/CC she/PRP told/VBD her/PRP sister/NN ,/, as/RB well/RB as/IN she/PRP could/MD remember/VB them/PRP ,/, all/PDT these/DT strange/JJ Adventures/NNS of/IN hers/NNS that/IN you/PRP have/VBP just/RB been/VBN reading/VBG about/IN ;/: and/CC when/WRB she/PRP had/VBD finished/VBN ,/, her/PRP$ sister/NN kissed/VBD her/PRP ,/, and/CC said/VBD ,/, 'It/NNP WAS/NNP a/DT curious/JJ dream/NN ,/, dear/NN ,/, certainly/RB :/: but/CC now/RB run/VBP in/IN to/TO your/PRP$ tea/NN ;/: it/PRP 's/VBZ getting/VBG late/RB ./. '/''\n",
            "So/RB Alice/NNP got/VBD up/RB and/CC ran/VBD off/RP ,/, thinking/VBG while/IN she/PRP ran/VBD ,/, as/IN well/RB she/PRP might/MD ,/, what/WP a/DT wonderful/JJ dream/NN it/PRP had/VBD been/VBN ./.\n",
            "But/CC her/PRP$ sister/NN sat/VBD still/RB just/RB as/IN she/PRP left/VBD her/PRP ,/, leaning/VBG her/PRP$ head/NN on/IN her/PRP$ hand/NN ,/, watching/VBG the/DT setting/NN sun/NN ,/, and/CC thinking/NN of/IN little/JJ Alice/NNP and/CC all/DT her/PRP$ wonderful/JJ Adventures/NNPS ,/, till/VB she/PRP too/RB began/VBD dreaming/VBG after/IN a/DT fashion/NN ,/, and/CC this/DT was/VBD her/PRP$ dream/NN :/: --/: First/NNP ,/, she/PRP dreamed/VBD of/IN little/JJ Alice/NNP herself/PRP ,/, and/CC once/RB again/RB the/DT tiny/JJ hands/NNS were/VBD clasped/VBN upon/IN her/PRP$ knee/NN ,/, and/CC the/DT bright/JJ eager/JJ eyes/NNS were/VBD looking/VBG up/RP into/IN hers/NNS --/: she/PRP could/MD hear/VB the/DT very/RB tones/NNS of/IN her/PRP$ voice/NN ,/, and/CC see/VBP that/IN queer/NN little/JJ toss/NN of/IN her/PRP$ head/NN to/TO keep/VB back/RP the/DT wandering/NN hair/NN that/WDT WOULD/NNP always/RB get/VB into/IN her/PRP$ eyes/NNS --/: and/CC still/RB as/IN she/PRP listened/VBD ,/, or/CC seemed/VBD to/TO listen/VB ,/, the/DT whole/JJ place/NN around/IN her/PRP$ became/VBD alive/JJ with/IN the/DT strange/JJ creatures/NNS of/IN her/PRP$ little/JJ sister/NN 's/POS dream/NN ./.\n",
            "The/DT long/JJ grass/NN rustled/VBD at/IN her/PRP$ feet/NNS as/IN the/DT White/NNP Rabbit/NNP hurried/VBN by/IN --/: the/DT frightened/JJ Mouse/NNP splashed/VBD his/PRP$ way/NN through/IN the/DT neighbouring/JJ pool/NN --/: she/PRP could/MD hear/VB the/DT rattle/NN of/IN the/DT teacups/NNS as/IN the/DT March/NNP Hare/NNP and/CC his/PRP$ friends/NNS shared/VBN their/PRP$ never-ending/JJ meal/NN ,/, and/CC the/DT shrill/JJ voice/NN of/IN the/DT Queen/NNP ordering/VBG off/RP her/PRP$ unfortunate/JJ guests/NNS to/TO execution/NN --/: once/RB more/JJR the/DT pig-baby/NN was/VBD sneezing/VBG on/IN the/DT Duchess/NNP 's/POS knee/NN ,/, while/IN plates/NNS and/CC dishes/NNS crashed/VBN around/IN it/PRP --/: once/RB more/JJR the/DT shriek/NN of/IN the/DT Gryphon/NNP ,/, the/DT squeaking/NN of/IN the/DT Lizard/NNP 's/POS slate-pencil/NN ,/, and/CC the/DT choking/NN of/IN the/DT suppressed/JJ guinea-pigs/NNS ,/, filled/VBD the/DT air/NN ,/, mixed/VBD up/RP with/IN the/DT distant/JJ sobs/NN of/IN the/DT miserable/JJ Mock/NNP Turtle/NNP ./.\n",
            "So/IN she/PRP sat/VBD on/IN ,/, with/IN closed/JJ eyes/NNS ,/, and/CC half/NN believed/VBN herself/PRP in/IN Wonderland/NNP ,/, though/IN she/PRP knew/VBD she/PRP had/VBD but/CC to/TO open/VB them/PRP again/RB ,/, and/CC all/DT would/MD change/VB to/TO dull/VB reality/NN --/: the/DT grass/NN would/MD be/VB only/RB rustling/VBG in/IN the/DT wind/NN ,/, and/CC the/DT pool/NN rippling/VBG to/TO the/DT waving/NN of/IN the/DT reeds/NNS --/: the/DT rattling/NN teacups/NNS would/MD change/VB to/TO tinkling/VBG sheep-bells/NNS ,/, and/CC the/DT Queen/NNP 's/POS shrill/NN cries/NNS to/TO the/DT voice/NN of/IN the/DT shepherd/NN boy/NN --/: and/CC the/DT sneeze/NN of/IN the/DT baby/NN ,/, the/DT shriek/NN of/IN the/DT Gryphon/NNP ,/, and/CC all/PDT the/DT other/JJ queer/NN noises/NNS ,/, would/MD change/VB (/( she/PRP knew/VBD )/) to/TO the/DT confused/JJ clamour/NN of/IN the/DT busy/JJ farm-yard/NN --/: while/IN the/DT lowing/NN of/IN the/DT cattle/NNS in/IN the/DT distance/NN would/MD take/VB the/DT place/NN of/IN the/DT Mock/NNP Turtle's/NNP heavy/JJ sobs/NN ./.\n",
            "Lastly/RB ,/, she/PRP pictured/VBD to/TO herself/VB how/WRB this/DT same/JJ little/JJ sister/NN of/IN hers/NNS would/MD ,/, in/IN the/DT after-time/JJ ,/, be/VB herself/PRP a/DT grown/JJ woman/NN ;/: and/CC how/WRB she/PRP would/MD keep/VB ,/, through/IN all/DT her/PRP$ riper/NN years/NNS ,/, the/DT simple/NN and/CC loving/VBG heart/NN of/IN her/PRP$ childhood/NN :/: and/CC how/WRB she/PRP would/MD gather/VB about/IN her/PRP$ other/JJ little/JJ children/NNS ,/, and/CC make/VB THEIR/NNP eyes/NNS bright/VBD and/CC eager/JJ with/IN many/JJ a/DT strange/JJ tale/NN ,/, perhaps/RB even/RB with/IN the/DT dream/NN of/IN Wonderland/NNP of/IN long/RB ago/IN :/: and/CC how/WRB she/PRP would/MD feel/VB with/IN all/DT their/PRP$ simple/NN sorrows/NNS ,/, and/CC find/VB a/DT pleasure/NN in/IN all/DT their/PRP$ simple/NN joys/NNS ,/, remembering/VBG her/PRP$ own/JJ child-life/NN ,/, and/CC the/DT happy/JJ summer/NN days/NNS ./.\n",
            "THE/DT END/NN\n",
            "\n"
          ]
        }
      ]
    }
  ]
}